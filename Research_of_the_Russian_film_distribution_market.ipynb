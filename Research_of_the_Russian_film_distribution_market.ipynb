{
 "cells": [
  {
   "cell_type": "markdown",
   "metadata": {
    "id": "sIfNaMOxgFyK"
   },
   "source": [
    "## Исследование данных о российском кинопрокате\n",
    "\n"
   ]
  },
  {
   "cell_type": "markdown",
   "metadata": {},
   "source": [
    "Нам нужно изучить рынок российского кинопроката и выявить текущие тренды. Уделим внимание фильмам, которые получили государственную поддержку. Попробуем ответить на вопрос, насколько такие фильмы интересны зрителю. \n",
    "Мы будем работать с данными, опубликованными на портале открытых данных Министерства культуры. Набор данных содержит информацию о прокатных удостоверениях, сборах и государственной поддержке фильмов, а также информацию с сайта КиноПоиск. \n",
    "\n",
    "_В ходе исследования будем следовать следующим шагам:_\n",
    "\n",
    "\n",
    "**Шаг 1. Откроем файлы с данными и объединим их в один датафрейм**\n",
    "\n",
    "Объединим данные таким образом, чтобы все объекты из датасета mkrf_movies обязательно вошли в получившийся датафрейм. \n",
    "\n",
    "\n",
    "mkrf_movies.csv — данные о прокатных удостоверениях. \n",
    "\n",
    "\n",
    "mkrf_shows.csv — данные о прокате в российских кинотеатрах. \n",
    "\n",
    "\n",
    "\n",
    "**Шаг 2. Предобработка данных**\n",
    "- Проверим типы данных в датафрейме и преобразуем там, где это необходимо.\n",
    "- Изучим пропуски в датафрейме. Объясним, почему заполнили пропуски определённым образом или почему не стали это делать.\n",
    "- Проверим, есть ли в данных дубликаты. Опишим причины, которые могли повлиять на появление дублей.\n",
    "- Изучим столбцы, которые содержат категориальные значения:\n",
    "- Посмотрим, какая общая проблема встречается почти во всех категориальных столбцах;\n",
    "- Исправьте проблемные значения.\n",
    "- Изучим столбцы, которые хранят количественные значения. Проверим, обнаружились ли в таких столбцах подозрительные данные. Выясним как с такими данными лучше поступить.\n",
    "\n",
    "\n",
    "_Добавим новые столбцы:_\n",
    "- Создадим столбец с информацией о годе проката. Выделим год из даты премьеры фильма;\n",
    "- Создадим два столбца: с именем и фамилией главного режиссёра и основным жанром фильма. В столбцы войдут первые значения из списка режиссёров и жанров соответственно;\n",
    "- Посчитаем, какую долю от общего бюджета фильма составляет государственная поддержка.\n",
    "\n",
    "\n",
    "**Шаг 3. Проведем исследовательский анализ данных**\n",
    "- Посмотрим, сколько фильмов выходило в прокат каждый год. Обратим внимание, что данные о прокате в кинотеатрах известны не для всех фильмов. Посчитаем, какую долю составляют фильмы с указанной информацией о прокате в кинотеатрах. Проанализируем, как эта доля менялась по годам. Сделаем вывод о том, какой период полнее всего представлен в данных.\n",
    "- Изучим, как менялась динамика проката по годам. В каком году сумма сборов была минимальной? А максимальной?\n",
    "- С помощью сводной таблицы посчитаем среднюю и медианную сумму сборов для каждого года. Сравним значения и сделаем выводы.\n",
    "- Определим, влияет ли возрастное ограничение аудитории («6+», «12+», «16+», «18+» и т. д.) на сборы фильма в прокате в период с 2015 по 2019 год? Фильмы с каким возрастным ограничением собрали больше всего денег в прокате? Меняется ли картина в зависимости от года? Если да, предположим, с чем это может быть связано.\n",
    "\n",
    "\n",
    "\n",
    "**Шаг 4. Исследуем фильмы, которые получили государственную поддержку**\n",
    "- Поищем интересные закономерности в данных. Посмотрим, сколько выделяют средств на поддержку кино. Проверим, хорошо ли окупаются такие фильмы, какой у них рейтинг. \n",
    "\n",
    "\n",
    "\n",
    "**Шаг 5. Напишем общий вывод**"
   ]
  },
  {
   "cell_type": "markdown",
   "metadata": {
    "id": "3bSlkCsbgFyL"
   },
   "source": [
    "### Шаг 1. Откройте файлы с данными и объедините их в один датафрейм. \n",
    "\n",
    "Объединим данные таким образом, чтобы все объекты из датасета `mkrf_movies` обязательно вошли в получившийся датафрейм. \n"
   ]
  },
  {
   "cell_type": "code",
   "execution_count": 1,
   "metadata": {},
   "outputs": [],
   "source": [
    "import pandas as pd \n",
    "import matplotlib.pyplot as plt\n",
    "import seaborn as sns"
   ]
  },
  {
   "cell_type": "markdown",
   "metadata": {
    "id": "dw87FlzMgFyM"
   },
   "source": [
    "**Объединим данные таким образом, чтобы все объекты из датасета mkrf_movies обязательно вошли в получившийся датафрейм.** \n",
    "- Пути к файлам: \n",
    " - /datasets/mkrf_movies.csv — данные о прокатных удостоверениях. \n",
    " - /datasets/mkrf_shows.csv — данные о прокате в российских кинотеатрах."
   ]
  },
  {
   "cell_type": "markdown",
   "metadata": {},
   "source": [
    "**Для начала изучим общую информацию о наших датасетах:** "
   ]
  },
  {
   "cell_type": "code",
   "execution_count": 2,
   "metadata": {},
   "outputs": [
    {
     "data": {
      "text/html": [
       "<div>\n",
       "<style scoped>\n",
       "    .dataframe tbody tr th:only-of-type {\n",
       "        vertical-align: middle;\n",
       "    }\n",
       "\n",
       "    .dataframe tbody tr th {\n",
       "        vertical-align: top;\n",
       "    }\n",
       "\n",
       "    .dataframe thead th {\n",
       "        text-align: right;\n",
       "    }\n",
       "</style>\n",
       "<table border=\"1\" class=\"dataframe\">\n",
       "  <thead>\n",
       "    <tr style=\"text-align: right;\">\n",
       "      <th></th>\n",
       "      <th>title</th>\n",
       "      <th>puNumber</th>\n",
       "      <th>show_start_date</th>\n",
       "      <th>type</th>\n",
       "      <th>film_studio</th>\n",
       "      <th>production_country</th>\n",
       "      <th>director</th>\n",
       "      <th>producer</th>\n",
       "      <th>age_restriction</th>\n",
       "      <th>refundable_support</th>\n",
       "      <th>nonrefundable_support</th>\n",
       "      <th>budget</th>\n",
       "      <th>financing_source</th>\n",
       "      <th>ratings</th>\n",
       "      <th>genres</th>\n",
       "    </tr>\n",
       "  </thead>\n",
       "  <tbody>\n",
       "    <tr>\n",
       "      <th>0</th>\n",
       "      <td>Открытый простор</td>\n",
       "      <td>221048915</td>\n",
       "      <td>2015-11-27T12:00:00.000Z</td>\n",
       "      <td>Художественный</td>\n",
       "      <td>Тачстоун Пикчерз, Кобальт Пикчерз, Бикон Пикче...</td>\n",
       "      <td>США</td>\n",
       "      <td>Кевин Костнер</td>\n",
       "      <td>Дэвид Валдес, Кевин Костнер, Джейк Эбертс</td>\n",
       "      <td>«18+» - запрещено для детей</td>\n",
       "      <td>NaN</td>\n",
       "      <td>NaN</td>\n",
       "      <td>NaN</td>\n",
       "      <td>NaN</td>\n",
       "      <td>7.2</td>\n",
       "      <td>боевик,драма,мелодрама</td>\n",
       "    </tr>\n",
       "    <tr>\n",
       "      <th>1</th>\n",
       "      <td>Особо важное задание</td>\n",
       "      <td>111013716</td>\n",
       "      <td>2016-09-13T12:00:00.000Z</td>\n",
       "      <td>Художественный</td>\n",
       "      <td>Киностудия \"Мосфильм\"</td>\n",
       "      <td>СССР</td>\n",
       "      <td>Е.Матвеев</td>\n",
       "      <td>NaN</td>\n",
       "      <td>«6+» - для детей старше 6 лет</td>\n",
       "      <td>NaN</td>\n",
       "      <td>NaN</td>\n",
       "      <td>NaN</td>\n",
       "      <td>NaN</td>\n",
       "      <td>6.6</td>\n",
       "      <td>драма,военный</td>\n",
       "    </tr>\n",
       "    <tr>\n",
       "      <th>2</th>\n",
       "      <td>Особо опасен</td>\n",
       "      <td>221038416</td>\n",
       "      <td>2016-10-10T12:00:00.000Z</td>\n",
       "      <td>Художественный</td>\n",
       "      <td>Юниверсал Пикчерз, Кикстарт Продакшнз, Марк Пл...</td>\n",
       "      <td>США</td>\n",
       "      <td>Тимур Бекмамбетов</td>\n",
       "      <td>Джим Лемли, Джейсон Нетер, Марк Е.Платт, Яйн Смит</td>\n",
       "      <td>«18+» - запрещено для детей</td>\n",
       "      <td>NaN</td>\n",
       "      <td>NaN</td>\n",
       "      <td>NaN</td>\n",
       "      <td>NaN</td>\n",
       "      <td>6.8</td>\n",
       "      <td>фантастика,боевик,триллер</td>\n",
       "    </tr>\n",
       "    <tr>\n",
       "      <th>3</th>\n",
       "      <td>Особо опасен</td>\n",
       "      <td>221026916</td>\n",
       "      <td>2016-06-10T12:00:00.000Z</td>\n",
       "      <td>Художественный</td>\n",
       "      <td>Юниверсал Пикчерз, Кикстарт Продакшнз, Марк Пл...</td>\n",
       "      <td>США</td>\n",
       "      <td>Тимур Бекмамбетов</td>\n",
       "      <td>Джим Лемли, Джейсон Нетер, Марк Е.Платт, Яйн Смит</td>\n",
       "      <td>«18+» - запрещено для детей</td>\n",
       "      <td>NaN</td>\n",
       "      <td>NaN</td>\n",
       "      <td>NaN</td>\n",
       "      <td>NaN</td>\n",
       "      <td>6.8</td>\n",
       "      <td>фантастика,боевик,триллер</td>\n",
       "    </tr>\n",
       "    <tr>\n",
       "      <th>4</th>\n",
       "      <td>Особо опасен</td>\n",
       "      <td>221030815</td>\n",
       "      <td>2015-07-29T12:00:00.000Z</td>\n",
       "      <td>Художественный</td>\n",
       "      <td>Юниверсал Пикчерз, Кикстарт Продакшнз, Марк Пл...</td>\n",
       "      <td>США</td>\n",
       "      <td>Тимур Бекмамбетов</td>\n",
       "      <td>Джим Лемли, Джейсон Нетер, Марк Е.Платт, Яйн Смит</td>\n",
       "      <td>«18+» - запрещено для детей</td>\n",
       "      <td>NaN</td>\n",
       "      <td>NaN</td>\n",
       "      <td>NaN</td>\n",
       "      <td>NaN</td>\n",
       "      <td>6.8</td>\n",
       "      <td>фантастика,боевик,триллер</td>\n",
       "    </tr>\n",
       "  </tbody>\n",
       "</table>\n",
       "</div>"
      ],
      "text/plain": [
       "                  title   puNumber           show_start_date            type  \\\n",
       "0      Открытый простор  221048915  2015-11-27T12:00:00.000Z  Художественный   \n",
       "1  Особо важное задание  111013716  2016-09-13T12:00:00.000Z  Художественный   \n",
       "2          Особо опасен  221038416  2016-10-10T12:00:00.000Z  Художественный   \n",
       "3          Особо опасен  221026916  2016-06-10T12:00:00.000Z  Художественный   \n",
       "4          Особо опасен  221030815  2015-07-29T12:00:00.000Z  Художественный   \n",
       "\n",
       "                                         film_studio production_country  \\\n",
       "0  Тачстоун Пикчерз, Кобальт Пикчерз, Бикон Пикче...                США   \n",
       "1                              Киностудия \"Мосфильм\"               СССР   \n",
       "2  Юниверсал Пикчерз, Кикстарт Продакшнз, Марк Пл...                США   \n",
       "3  Юниверсал Пикчерз, Кикстарт Продакшнз, Марк Пл...                США   \n",
       "4  Юниверсал Пикчерз, Кикстарт Продакшнз, Марк Пл...                США   \n",
       "\n",
       "            director                                           producer  \\\n",
       "0      Кевин Костнер          Дэвид Валдес, Кевин Костнер, Джейк Эбертс   \n",
       "1          Е.Матвеев                                                NaN   \n",
       "2  Тимур Бекмамбетов  Джим Лемли, Джейсон Нетер, Марк Е.Платт, Яйн Смит   \n",
       "3  Тимур Бекмамбетов  Джим Лемли, Джейсон Нетер, Марк Е.Платт, Яйн Смит   \n",
       "4  Тимур Бекмамбетов  Джим Лемли, Джейсон Нетер, Марк Е.Платт, Яйн Смит   \n",
       "\n",
       "                 age_restriction  refundable_support  nonrefundable_support  \\\n",
       "0    «18+» - запрещено для детей                 NaN                    NaN   \n",
       "1  «6+» - для детей старше 6 лет                 NaN                    NaN   \n",
       "2    «18+» - запрещено для детей                 NaN                    NaN   \n",
       "3    «18+» - запрещено для детей                 NaN                    NaN   \n",
       "4    «18+» - запрещено для детей                 NaN                    NaN   \n",
       "\n",
       "   budget financing_source ratings                     genres  \n",
       "0     NaN              NaN     7.2     боевик,драма,мелодрама  \n",
       "1     NaN              NaN     6.6              драма,военный  \n",
       "2     NaN              NaN     6.8  фантастика,боевик,триллер  \n",
       "3     NaN              NaN     6.8  фантастика,боевик,триллер  \n",
       "4     NaN              NaN     6.8  фантастика,боевик,триллер  "
      ]
     },
     "metadata": {},
     "output_type": "display_data"
    },
    {
     "name": "stdout",
     "output_type": "stream",
     "text": [
      "<class 'pandas.core.frame.DataFrame'>\n",
      "RangeIndex: 7486 entries, 0 to 7485\n",
      "Data columns (total 15 columns):\n",
      " #   Column                 Non-Null Count  Dtype  \n",
      "---  ------                 --------------  -----  \n",
      " 0   title                  7486 non-null   object \n",
      " 1   puNumber               7486 non-null   object \n",
      " 2   show_start_date        7486 non-null   object \n",
      " 3   type                   7486 non-null   object \n",
      " 4   film_studio            7468 non-null   object \n",
      " 5   production_country     7484 non-null   object \n",
      " 6   director               7477 non-null   object \n",
      " 7   producer               6918 non-null   object \n",
      " 8   age_restriction        7486 non-null   object \n",
      " 9   refundable_support     332 non-null    float64\n",
      " 10  nonrefundable_support  332 non-null    float64\n",
      " 11  budget                 332 non-null    float64\n",
      " 12  financing_source       332 non-null    object \n",
      " 13  ratings                6519 non-null   object \n",
      " 14  genres                 6510 non-null   object \n",
      "dtypes: float64(3), object(12)\n",
      "memory usage: 877.4+ KB\n"
     ]
    },
    {
     "data": {
      "text/plain": [
       "None"
      ]
     },
     "metadata": {},
     "output_type": "display_data"
    }
   ],
   "source": [
    "mkrf_movies = pd.read_csv('/datasets/mkrf_movies.csv')\n",
    "display(mkrf_movies.head())\n",
    "display(mkrf_movies.info())"
   ]
  },
  {
   "cell_type": "code",
   "execution_count": 3,
   "metadata": {},
   "outputs": [
    {
     "data": {
      "text/html": [
       "<div>\n",
       "<style scoped>\n",
       "    .dataframe tbody tr th:only-of-type {\n",
       "        vertical-align: middle;\n",
       "    }\n",
       "\n",
       "    .dataframe tbody tr th {\n",
       "        vertical-align: top;\n",
       "    }\n",
       "\n",
       "    .dataframe thead th {\n",
       "        text-align: right;\n",
       "    }\n",
       "</style>\n",
       "<table border=\"1\" class=\"dataframe\">\n",
       "  <thead>\n",
       "    <tr style=\"text-align: right;\">\n",
       "      <th></th>\n",
       "      <th>puNumber</th>\n",
       "      <th>box_office</th>\n",
       "    </tr>\n",
       "  </thead>\n",
       "  <tbody>\n",
       "    <tr>\n",
       "      <th>0</th>\n",
       "      <td>111000113</td>\n",
       "      <td>2.450000e+03</td>\n",
       "    </tr>\n",
       "    <tr>\n",
       "      <th>1</th>\n",
       "      <td>111000115</td>\n",
       "      <td>6.104000e+04</td>\n",
       "    </tr>\n",
       "    <tr>\n",
       "      <th>2</th>\n",
       "      <td>111000116</td>\n",
       "      <td>1.530300e+08</td>\n",
       "    </tr>\n",
       "    <tr>\n",
       "      <th>3</th>\n",
       "      <td>111000117</td>\n",
       "      <td>1.226096e+07</td>\n",
       "    </tr>\n",
       "    <tr>\n",
       "      <th>4</th>\n",
       "      <td>111000118</td>\n",
       "      <td>1.636841e+08</td>\n",
       "    </tr>\n",
       "  </tbody>\n",
       "</table>\n",
       "</div>"
      ],
      "text/plain": [
       "    puNumber    box_office\n",
       "0  111000113  2.450000e+03\n",
       "1  111000115  6.104000e+04\n",
       "2  111000116  1.530300e+08\n",
       "3  111000117  1.226096e+07\n",
       "4  111000118  1.636841e+08"
      ]
     },
     "metadata": {},
     "output_type": "display_data"
    },
    {
     "name": "stdout",
     "output_type": "stream",
     "text": [
      "<class 'pandas.core.frame.DataFrame'>\n",
      "RangeIndex: 3158 entries, 0 to 3157\n",
      "Data columns (total 2 columns):\n",
      " #   Column      Non-Null Count  Dtype  \n",
      "---  ------      --------------  -----  \n",
      " 0   puNumber    3158 non-null   int64  \n",
      " 1   box_office  3158 non-null   float64\n",
      "dtypes: float64(1), int64(1)\n",
      "memory usage: 49.5 KB\n"
     ]
    },
    {
     "data": {
      "text/plain": [
       "None"
      ]
     },
     "metadata": {},
     "output_type": "display_data"
    }
   ],
   "source": [
    "mkrf_shows = pd.read_csv('/datasets/mkrf_shows.csv')\n",
    "display(mkrf_shows.head())\n",
    "display(mkrf_shows.info())"
   ]
  },
  {
   "cell_type": "markdown",
   "metadata": {},
   "source": [
    "_**puNumber в датасете mkrf_movies имеет тип - object, а в датасете mkrf_shows - int64. Приведем их к одному типу, чтобы получилось выполнить объединение данных:**_"
   ]
  },
  {
   "cell_type": "code",
   "execution_count": 4,
   "metadata": {},
   "outputs": [],
   "source": [
    "mkrf_movies['puNumber'] = pd.to_numeric(mkrf_movies['puNumber'], errors='coerce')\n",
    "# если errors='coerce', то некорректные значения принудительно заменяются на NaN;"
   ]
  },
  {
   "cell_type": "markdown",
   "metadata": {},
   "source": [
    "**Теперь мы можем добавить в датафрейм с фильмами сведения о показах.**"
   ]
  },
  {
   "cell_type": "code",
   "execution_count": 5,
   "metadata": {},
   "outputs": [
    {
     "data": {
      "text/html": [
       "<div>\n",
       "<style scoped>\n",
       "    .dataframe tbody tr th:only-of-type {\n",
       "        vertical-align: middle;\n",
       "    }\n",
       "\n",
       "    .dataframe tbody tr th {\n",
       "        vertical-align: top;\n",
       "    }\n",
       "\n",
       "    .dataframe thead th {\n",
       "        text-align: right;\n",
       "    }\n",
       "</style>\n",
       "<table border=\"1\" class=\"dataframe\">\n",
       "  <thead>\n",
       "    <tr style=\"text-align: right;\">\n",
       "      <th></th>\n",
       "      <th>title</th>\n",
       "      <th>puNumber</th>\n",
       "      <th>show_start_date</th>\n",
       "      <th>type</th>\n",
       "      <th>film_studio</th>\n",
       "      <th>production_country</th>\n",
       "      <th>director</th>\n",
       "      <th>producer</th>\n",
       "      <th>age_restriction</th>\n",
       "      <th>refundable_support</th>\n",
       "      <th>nonrefundable_support</th>\n",
       "      <th>budget</th>\n",
       "      <th>financing_source</th>\n",
       "      <th>ratings</th>\n",
       "      <th>genres</th>\n",
       "      <th>box_office</th>\n",
       "    </tr>\n",
       "  </thead>\n",
       "  <tbody>\n",
       "    <tr>\n",
       "      <th>0</th>\n",
       "      <td>Открытый простор</td>\n",
       "      <td>221048915.0</td>\n",
       "      <td>2015-11-27T12:00:00.000Z</td>\n",
       "      <td>Художественный</td>\n",
       "      <td>Тачстоун Пикчерз, Кобальт Пикчерз, Бикон Пикче...</td>\n",
       "      <td>США</td>\n",
       "      <td>Кевин Костнер</td>\n",
       "      <td>Дэвид Валдес, Кевин Костнер, Джейк Эбертс</td>\n",
       "      <td>«18+» - запрещено для детей</td>\n",
       "      <td>NaN</td>\n",
       "      <td>NaN</td>\n",
       "      <td>NaN</td>\n",
       "      <td>NaN</td>\n",
       "      <td>7.2</td>\n",
       "      <td>боевик,драма,мелодрама</td>\n",
       "      <td>NaN</td>\n",
       "    </tr>\n",
       "    <tr>\n",
       "      <th>1</th>\n",
       "      <td>Особо важное задание</td>\n",
       "      <td>111013716.0</td>\n",
       "      <td>2016-09-13T12:00:00.000Z</td>\n",
       "      <td>Художественный</td>\n",
       "      <td>Киностудия \"Мосфильм\"</td>\n",
       "      <td>СССР</td>\n",
       "      <td>Е.Матвеев</td>\n",
       "      <td>NaN</td>\n",
       "      <td>«6+» - для детей старше 6 лет</td>\n",
       "      <td>NaN</td>\n",
       "      <td>NaN</td>\n",
       "      <td>NaN</td>\n",
       "      <td>NaN</td>\n",
       "      <td>6.6</td>\n",
       "      <td>драма,военный</td>\n",
       "      <td>NaN</td>\n",
       "    </tr>\n",
       "    <tr>\n",
       "      <th>2</th>\n",
       "      <td>Особо опасен</td>\n",
       "      <td>221038416.0</td>\n",
       "      <td>2016-10-10T12:00:00.000Z</td>\n",
       "      <td>Художественный</td>\n",
       "      <td>Юниверсал Пикчерз, Кикстарт Продакшнз, Марк Пл...</td>\n",
       "      <td>США</td>\n",
       "      <td>Тимур Бекмамбетов</td>\n",
       "      <td>Джим Лемли, Джейсон Нетер, Марк Е.Платт, Яйн Смит</td>\n",
       "      <td>«18+» - запрещено для детей</td>\n",
       "      <td>NaN</td>\n",
       "      <td>NaN</td>\n",
       "      <td>NaN</td>\n",
       "      <td>NaN</td>\n",
       "      <td>6.8</td>\n",
       "      <td>фантастика,боевик,триллер</td>\n",
       "      <td>NaN</td>\n",
       "    </tr>\n",
       "    <tr>\n",
       "      <th>3</th>\n",
       "      <td>Особо опасен</td>\n",
       "      <td>221026916.0</td>\n",
       "      <td>2016-06-10T12:00:00.000Z</td>\n",
       "      <td>Художественный</td>\n",
       "      <td>Юниверсал Пикчерз, Кикстарт Продакшнз, Марк Пл...</td>\n",
       "      <td>США</td>\n",
       "      <td>Тимур Бекмамбетов</td>\n",
       "      <td>Джим Лемли, Джейсон Нетер, Марк Е.Платт, Яйн Смит</td>\n",
       "      <td>«18+» - запрещено для детей</td>\n",
       "      <td>NaN</td>\n",
       "      <td>NaN</td>\n",
       "      <td>NaN</td>\n",
       "      <td>NaN</td>\n",
       "      <td>6.8</td>\n",
       "      <td>фантастика,боевик,триллер</td>\n",
       "      <td>NaN</td>\n",
       "    </tr>\n",
       "    <tr>\n",
       "      <th>4</th>\n",
       "      <td>Особо опасен</td>\n",
       "      <td>221030815.0</td>\n",
       "      <td>2015-07-29T12:00:00.000Z</td>\n",
       "      <td>Художественный</td>\n",
       "      <td>Юниверсал Пикчерз, Кикстарт Продакшнз, Марк Пл...</td>\n",
       "      <td>США</td>\n",
       "      <td>Тимур Бекмамбетов</td>\n",
       "      <td>Джим Лемли, Джейсон Нетер, Марк Е.Платт, Яйн Смит</td>\n",
       "      <td>«18+» - запрещено для детей</td>\n",
       "      <td>NaN</td>\n",
       "      <td>NaN</td>\n",
       "      <td>NaN</td>\n",
       "      <td>NaN</td>\n",
       "      <td>6.8</td>\n",
       "      <td>фантастика,боевик,триллер</td>\n",
       "      <td>NaN</td>\n",
       "    </tr>\n",
       "  </tbody>\n",
       "</table>\n",
       "</div>"
      ],
      "text/plain": [
       "                  title     puNumber           show_start_date  \\\n",
       "0      Открытый простор  221048915.0  2015-11-27T12:00:00.000Z   \n",
       "1  Особо важное задание  111013716.0  2016-09-13T12:00:00.000Z   \n",
       "2          Особо опасен  221038416.0  2016-10-10T12:00:00.000Z   \n",
       "3          Особо опасен  221026916.0  2016-06-10T12:00:00.000Z   \n",
       "4          Особо опасен  221030815.0  2015-07-29T12:00:00.000Z   \n",
       "\n",
       "             type                                        film_studio  \\\n",
       "0  Художественный  Тачстоун Пикчерз, Кобальт Пикчерз, Бикон Пикче...   \n",
       "1  Художественный                              Киностудия \"Мосфильм\"   \n",
       "2  Художественный  Юниверсал Пикчерз, Кикстарт Продакшнз, Марк Пл...   \n",
       "3  Художественный  Юниверсал Пикчерз, Кикстарт Продакшнз, Марк Пл...   \n",
       "4  Художественный  Юниверсал Пикчерз, Кикстарт Продакшнз, Марк Пл...   \n",
       "\n",
       "  production_country           director  \\\n",
       "0                США      Кевин Костнер   \n",
       "1               СССР          Е.Матвеев   \n",
       "2                США  Тимур Бекмамбетов   \n",
       "3                США  Тимур Бекмамбетов   \n",
       "4                США  Тимур Бекмамбетов   \n",
       "\n",
       "                                            producer  \\\n",
       "0          Дэвид Валдес, Кевин Костнер, Джейк Эбертс   \n",
       "1                                                NaN   \n",
       "2  Джим Лемли, Джейсон Нетер, Марк Е.Платт, Яйн Смит   \n",
       "3  Джим Лемли, Джейсон Нетер, Марк Е.Платт, Яйн Смит   \n",
       "4  Джим Лемли, Джейсон Нетер, Марк Е.Платт, Яйн Смит   \n",
       "\n",
       "                 age_restriction  refundable_support  nonrefundable_support  \\\n",
       "0    «18+» - запрещено для детей                 NaN                    NaN   \n",
       "1  «6+» - для детей старше 6 лет                 NaN                    NaN   \n",
       "2    «18+» - запрещено для детей                 NaN                    NaN   \n",
       "3    «18+» - запрещено для детей                 NaN                    NaN   \n",
       "4    «18+» - запрещено для детей                 NaN                    NaN   \n",
       "\n",
       "   budget financing_source ratings                     genres  box_office  \n",
       "0     NaN              NaN     7.2     боевик,драма,мелодрама         NaN  \n",
       "1     NaN              NaN     6.6              драма,военный         NaN  \n",
       "2     NaN              NaN     6.8  фантастика,боевик,триллер         NaN  \n",
       "3     NaN              NaN     6.8  фантастика,боевик,триллер         NaN  \n",
       "4     NaN              NaN     6.8  фантастика,боевик,триллер         NaN  "
      ]
     },
     "metadata": {},
     "output_type": "display_data"
    },
    {
     "name": "stdout",
     "output_type": "stream",
     "text": [
      "<class 'pandas.core.frame.DataFrame'>\n",
      "Int64Index: 7486 entries, 0 to 7485\n",
      "Data columns (total 16 columns):\n",
      " #   Column                 Non-Null Count  Dtype  \n",
      "---  ------                 --------------  -----  \n",
      " 0   title                  7486 non-null   object \n",
      " 1   puNumber               7485 non-null   float64\n",
      " 2   show_start_date        7486 non-null   object \n",
      " 3   type                   7486 non-null   object \n",
      " 4   film_studio            7468 non-null   object \n",
      " 5   production_country     7484 non-null   object \n",
      " 6   director               7477 non-null   object \n",
      " 7   producer               6918 non-null   object \n",
      " 8   age_restriction        7486 non-null   object \n",
      " 9   refundable_support     332 non-null    float64\n",
      " 10  nonrefundable_support  332 non-null    float64\n",
      " 11  budget                 332 non-null    float64\n",
      " 12  financing_source       332 non-null    object \n",
      " 13  ratings                6519 non-null   object \n",
      " 14  genres                 6510 non-null   object \n",
      " 15  box_office             3158 non-null   float64\n",
      "dtypes: float64(5), object(11)\n",
      "memory usage: 994.2+ KB\n"
     ]
    },
    {
     "data": {
      "text/plain": [
       "None"
      ]
     },
     "metadata": {},
     "output_type": "display_data"
    }
   ],
   "source": [
    "mkrf_movies = mkrf_movies.merge(mkrf_shows, how='left')\n",
    "display(mkrf_movies.head())\n",
    "display(mkrf_movies.info())"
   ]
  },
  {
   "cell_type": "markdown",
   "metadata": {},
   "source": [
    "Отлично! Все 3158 значений присоединены без потерь."
   ]
  },
  {
   "cell_type": "markdown",
   "metadata": {
    "id": "KLDGpPG0gFyM"
   },
   "source": [
    "### Шаг 2. Предобработка данных"
   ]
  },
  {
   "cell_type": "markdown",
   "metadata": {
    "id": "ssWwKXsxgFyO"
   },
   "source": [
    "#### Шаг 2.1. Проверим типы данных\n",
    "\n",
    "- Проверим типы данных в датафрейме и преобразуем их там, где это необходимо."
   ]
  },
  {
   "cell_type": "code",
   "execution_count": 6,
   "metadata": {
    "id": "kVGSplJOgFyO",
    "scrolled": false
   },
   "outputs": [
    {
     "name": "stdout",
     "output_type": "stream",
     "text": [
      "<class 'pandas.core.frame.DataFrame'>\n",
      "Int64Index: 7486 entries, 0 to 7485\n",
      "Data columns (total 16 columns):\n",
      " #   Column                 Non-Null Count  Dtype  \n",
      "---  ------                 --------------  -----  \n",
      " 0   title                  7486 non-null   object \n",
      " 1   puNumber               7485 non-null   float64\n",
      " 2   show_start_date        7486 non-null   object \n",
      " 3   type                   7486 non-null   object \n",
      " 4   film_studio            7468 non-null   object \n",
      " 5   production_country     7484 non-null   object \n",
      " 6   director               7477 non-null   object \n",
      " 7   producer               6918 non-null   object \n",
      " 8   age_restriction        7486 non-null   object \n",
      " 9   refundable_support     332 non-null    float64\n",
      " 10  nonrefundable_support  332 non-null    float64\n",
      " 11  budget                 332 non-null    float64\n",
      " 12  financing_source       332 non-null    object \n",
      " 13  ratings                6519 non-null   object \n",
      " 14  genres                 6510 non-null   object \n",
      " 15  box_office             3158 non-null   float64\n",
      "dtypes: float64(5), object(11)\n",
      "memory usage: 994.2+ KB\n"
     ]
    }
   ],
   "source": [
    "mkrf_movies.info()"
   ]
  },
  {
   "cell_type": "markdown",
   "metadata": {},
   "source": [
    "_**Столбец show_start_date у нас типа object, исправим это и преобразуем его к типу - datetime.**_"
   ]
  },
  {
   "cell_type": "code",
   "execution_count": 7,
   "metadata": {},
   "outputs": [],
   "source": [
    "mkrf_movies['show_start_date']=pd.to_datetime(mkrf_movies['show_start_date'], format='%Y-%m-%dT%H:%M:%S.%fZ')"
   ]
  },
  {
   "cell_type": "markdown",
   "metadata": {},
   "source": [
    "_**Столбец ratings у нас типа object, исправим это и преобразуем его к типу - float64. Ведь рейтинг фильма на КиноПоиске меняется у нас от 1 до 10.**_"
   ]
  },
  {
   "cell_type": "code",
   "execution_count": 8,
   "metadata": {},
   "outputs": [
    {
     "data": {
      "text/plain": [
       "array(['7.2', '6.6', '6.8', '7.7', '8.3', '8.0', '7.8', '8.1', '7.1',\n",
       "       '6.0', '7.4', '5.8', '8.7', '6.3', '6.9', '5.0', '4.3', '7.3',\n",
       "       '7.0', '6.4', nan, '8.2', '7.5', '6.7', '7.9', '5.9', '6.2', '5.6',\n",
       "       '6.5', '2.4', '7.6', '6.1', '8.6', '8.5', '8.8', '5.5', '5.1',\n",
       "       '5.7', '5.4', '99%', '4.4', '4.5', '5.3', '4.1', '8.4', '2.6',\n",
       "       '3.8', '4.6', '4.8', '4.0', '3.0', '1.6', '4.2', '5.2', '4.7',\n",
       "       '4.9', '3.9', '2.7', '3.3', '2.9', '28%', '3.7', '1.4', '3.1',\n",
       "       '97%', '3.5', '3.2', '2.8', '1.5', '2.1', '2.5', '9.2', '3.4',\n",
       "       '1.1', '3.6', '83%', '64%', '91%', '94%', '62%', '79%', '90%',\n",
       "       '19%', '88%', '1.0', '89%', '1.3', '1.9', '1.8', '1.2', '1.7',\n",
       "       '9.0', '98%', '8.9', '9.1'], dtype=object)"
      ]
     },
     "execution_count": 8,
     "metadata": {},
     "output_type": "execute_result"
    }
   ],
   "source": [
    "mkrf_movies['ratings'].unique()"
   ]
  },
  {
   "cell_type": "markdown",
   "metadata": {},
   "source": [
    "**Видим, что у нас есть рейтинг в процентах, преобразуем их в числовой формат.**"
   ]
  },
  {
   "cell_type": "code",
   "execution_count": 9,
   "metadata": {},
   "outputs": [],
   "source": [
    "#mkrf_movies['ratings'] = mkrf_movies['ratings'].replace(['99%', '28%', '97%', '83%', '64%', '91%', '94%', '62%', '79%', '90%',\n",
    "       #'19%', '88%', '89%', '98%'],[9.9, 2.8, 9.7, 8.3, 6.4, 9.1, 9.4, 6.2, 7.9, 9.0, 1.9, 8.8, 8.9, 9.8])"
   ]
  },
  {
   "cell_type": "code",
   "execution_count": 10,
   "metadata": {},
   "outputs": [],
   "source": [
    "mkrf_movies['ratings'] = mkrf_movies['ratings'].str.replace('%', '').astype(float)"
   ]
  },
  {
   "cell_type": "code",
   "execution_count": 11,
   "metadata": {},
   "outputs": [
    {
     "data": {
      "text/plain": [
       "array([ 7.2,  6.6,  6.8,  7.7,  8.3,  8. ,  7.8,  8.1,  7.1,  6. ,  7.4,\n",
       "        5.8,  8.7,  6.3,  6.9,  5. ,  4.3,  7.3,  7. ,  6.4,  nan,  8.2,\n",
       "        7.5,  6.7,  7.9,  5.9,  6.2,  5.6,  6.5,  2.4,  7.6,  6.1,  8.6,\n",
       "        8.5,  8.8,  5.5,  5.1,  5.7,  5.4, 99. ,  4.4,  4.5,  5.3,  4.1,\n",
       "        8.4,  2.6,  3.8,  4.6,  4.8,  4. ,  3. ,  1.6,  4.2,  5.2,  4.7,\n",
       "        4.9,  3.9,  2.7,  3.3,  2.9, 28. ,  3.7,  1.4,  3.1, 97. ,  3.5,\n",
       "        3.2,  2.8,  1.5,  2.1,  2.5,  9.2,  3.4,  1.1,  3.6, 83. , 64. ,\n",
       "       91. , 94. , 62. , 79. , 90. , 19. , 88. ,  1. , 89. ,  1.3,  1.9,\n",
       "        1.8,  1.2,  1.7,  9. , 98. ,  8.9,  9.1])"
      ]
     },
     "execution_count": 11,
     "metadata": {},
     "output_type": "execute_result"
    }
   ],
   "source": [
    "mkrf_movies['ratings'] = pd.to_numeric(mkrf_movies['ratings'])\n",
    "mkrf_movies['ratings'].unique()"
   ]
  },
  {
   "cell_type": "code",
   "execution_count": 12,
   "metadata": {},
   "outputs": [],
   "source": [
    "mkrf_movies['ratings'] = mkrf_movies['ratings'].apply(lambda rating: rating / 10 if 10 <= rating <= 100 else rating)"
   ]
  },
  {
   "cell_type": "code",
   "execution_count": 13,
   "metadata": {},
   "outputs": [
    {
     "data": {
      "text/plain": [
       "min    1.0\n",
       "max    9.9\n",
       "Name: ratings, dtype: float64"
      ]
     },
     "execution_count": 13,
     "metadata": {},
     "output_type": "execute_result"
    }
   ],
   "source": [
    "mkrf_movies['ratings'].describe()[['min', 'max']]"
   ]
  },
  {
   "cell_type": "code",
   "execution_count": 14,
   "metadata": {},
   "outputs": [
    {
     "data": {
      "text/plain": [
       "dtype('float64')"
      ]
     },
     "execution_count": 14,
     "metadata": {},
     "output_type": "execute_result"
    }
   ],
   "source": [
    "mkrf_movies['ratings'].dtypes"
   ]
  },
  {
   "cell_type": "markdown",
   "metadata": {
    "id": "i0MOLbF-gFyP"
   },
   "source": [
    "#### Шаг 2.2. Изучим пропуски в датафрейме\n",
    "\n",
    "- Объясним, почему заполнили пропуски определённым образом или почему не стали этого делать."
   ]
  },
  {
   "cell_type": "markdown",
   "metadata": {},
   "source": [
    "_**Посчитаем процент и количество пропущенных значений по каждому столбцу**_"
   ]
  },
  {
   "cell_type": "code",
   "execution_count": 15,
   "metadata": {
    "id": "8MJD_lkngFyP"
   },
   "outputs": [
    {
     "data": {
      "text/plain": [
       "title                     0.0\n",
       "puNumber                  0.0\n",
       "show_start_date           0.0\n",
       "type                      0.0\n",
       "film_studio               0.0\n",
       "production_country        0.0\n",
       "director                  0.0\n",
       "producer                  8.0\n",
       "age_restriction           0.0\n",
       "refundable_support       96.0\n",
       "nonrefundable_support    96.0\n",
       "budget                   96.0\n",
       "financing_source         96.0\n",
       "ratings                  13.0\n",
       "genres                   13.0\n",
       "box_office               58.0\n",
       "dtype: float64"
      ]
     },
     "execution_count": 15,
     "metadata": {},
     "output_type": "execute_result"
    }
   ],
   "source": [
    "(mkrf_movies.isnull().mean() * 100).round()"
   ]
  },
  {
   "cell_type": "code",
   "execution_count": 16,
   "metadata": {},
   "outputs": [
    {
     "data": {
      "text/plain": [
       "title                       0\n",
       "puNumber                    1\n",
       "show_start_date             0\n",
       "type                        0\n",
       "film_studio                18\n",
       "production_country          2\n",
       "director                    9\n",
       "producer                  568\n",
       "age_restriction             0\n",
       "refundable_support       7154\n",
       "nonrefundable_support    7154\n",
       "budget                   7154\n",
       "financing_source         7154\n",
       "ratings                   967\n",
       "genres                    976\n",
       "box_office               4328\n",
       "dtype: int64"
      ]
     },
     "execution_count": 16,
     "metadata": {},
     "output_type": "execute_result"
    }
   ],
   "source": [
    "mkrf_movies.isnull().sum()"
   ]
  },
  {
   "cell_type": "markdown",
   "metadata": {},
   "source": [
    "Больше всего пропущенных значений у нас в столбцах:  \n",
    "- refundable_support \n",
    "- nonrefundable_support\n",
    "- budget\n",
    "- financing_source\n",
    "\n",
    "refundable_support — объём возвратных средств государственной поддержки;\n",
    "nonrefundable_support — объём невозвратных средств государственной поддержки;\n",
    "financing_source — источник государственного финансирования;\n",
    "budget — общий бюджет фильма.\n",
    "\n",
    "Обратим внимание, что столбец budget уже включает в себя полный объём государственной поддержки. Данные в этом столбце указаны только для тех фильмов, которые получили государственную поддержку. \n",
    "\n",
    "Можно сказать, что пропуски в этих столбцах связаны с тем, что эти данные указаны только для тех фильмов, которые получили государственную поддержку. Заменить их чем-то у нас не получится. "
   ]
  },
  {
   "cell_type": "markdown",
   "metadata": {},
   "source": [
    "_**Разберемся с остальными пропусками:**_"
   ]
  },
  {
   "cell_type": "markdown",
   "metadata": {},
   "source": [
    "**Столбец film_studio** - студия-производитель:"
   ]
  },
  {
   "cell_type": "code",
   "execution_count": 17,
   "metadata": {},
   "outputs": [
    {
     "data": {
      "text/html": [
       "<div>\n",
       "<style scoped>\n",
       "    .dataframe tbody tr th:only-of-type {\n",
       "        vertical-align: middle;\n",
       "    }\n",
       "\n",
       "    .dataframe tbody tr th {\n",
       "        vertical-align: top;\n",
       "    }\n",
       "\n",
       "    .dataframe thead th {\n",
       "        text-align: right;\n",
       "    }\n",
       "</style>\n",
       "<table border=\"1\" class=\"dataframe\">\n",
       "  <thead>\n",
       "    <tr style=\"text-align: right;\">\n",
       "      <th></th>\n",
       "      <th>title</th>\n",
       "      <th>puNumber</th>\n",
       "      <th>show_start_date</th>\n",
       "      <th>type</th>\n",
       "      <th>film_studio</th>\n",
       "      <th>production_country</th>\n",
       "      <th>director</th>\n",
       "      <th>producer</th>\n",
       "      <th>age_restriction</th>\n",
       "      <th>refundable_support</th>\n",
       "      <th>nonrefundable_support</th>\n",
       "      <th>budget</th>\n",
       "      <th>financing_source</th>\n",
       "      <th>ratings</th>\n",
       "      <th>genres</th>\n",
       "      <th>box_office</th>\n",
       "    </tr>\n",
       "  </thead>\n",
       "  <tbody>\n",
       "    <tr>\n",
       "      <th>1293</th>\n",
       "      <td>Stars in Shorts</td>\n",
       "      <td>121011114.0</td>\n",
       "      <td>2014-06-03 12:00:00</td>\n",
       "      <td>Художественный</td>\n",
       "      <td>NaN</td>\n",
       "      <td>США, Великобритания</td>\n",
       "      <td>Роберт Фестингер, Руперт Френд, Джей Камен, Ни...</td>\n",
       "      <td>Татьяна Келли, Роберта Мунро, Руперт Френд, До...</td>\n",
       "      <td>«16+» - для детей старше 16 лет</td>\n",
       "      <td>NaN</td>\n",
       "      <td>NaN</td>\n",
       "      <td>NaN</td>\n",
       "      <td>NaN</td>\n",
       "      <td>7.3</td>\n",
       "      <td>комедия</td>\n",
       "      <td>NaN</td>\n",
       "    </tr>\n",
       "    <tr>\n",
       "      <th>4441</th>\n",
       "      <td>Мульт личности. Выпуск 5</td>\n",
       "      <td>214000410.0</td>\n",
       "      <td>2010-01-25 12:00:00</td>\n",
       "      <td>Художественный</td>\n",
       "      <td>NaN</td>\n",
       "      <td>NaN</td>\n",
       "      <td>NaN</td>\n",
       "      <td>NaN</td>\n",
       "      <td>«0+» - для любой зрительской аудитории</td>\n",
       "      <td>NaN</td>\n",
       "      <td>NaN</td>\n",
       "      <td>NaN</td>\n",
       "      <td>NaN</td>\n",
       "      <td>4.0</td>\n",
       "      <td>мультфильм,комедия</td>\n",
       "      <td>NaN</td>\n",
       "    </tr>\n",
       "    <tr>\n",
       "      <th>6105</th>\n",
       "      <td>Значит любит</td>\n",
       "      <td>111013818.0</td>\n",
       "      <td>2018-08-10 12:00:00</td>\n",
       "      <td>Художественный</td>\n",
       "      <td>NaN</td>\n",
       "      <td>Россия</td>\n",
       "      <td>А.Краевский</td>\n",
       "      <td>Е.Щербакова</td>\n",
       "      <td>«18+» - запрещено для детей</td>\n",
       "      <td>NaN</td>\n",
       "      <td>NaN</td>\n",
       "      <td>NaN</td>\n",
       "      <td>NaN</td>\n",
       "      <td>NaN</td>\n",
       "      <td>NaN</td>\n",
       "      <td>NaN</td>\n",
       "    </tr>\n",
       "    <tr>\n",
       "      <th>6181</th>\n",
       "      <td>Несейка. Младшая дочь</td>\n",
       "      <td>112007018.0</td>\n",
       "      <td>2018-09-01 12:00:00</td>\n",
       "      <td>Документальный</td>\n",
       "      <td>NaN</td>\n",
       "      <td>Россия</td>\n",
       "      <td>В.Марин</td>\n",
       "      <td>Д.Якунин, Ф.Абрютин, О.Филонова</td>\n",
       "      <td>«6+» - для детей старше 6 лет</td>\n",
       "      <td>NaN</td>\n",
       "      <td>NaN</td>\n",
       "      <td>NaN</td>\n",
       "      <td>NaN</td>\n",
       "      <td>NaN</td>\n",
       "      <td>NaN</td>\n",
       "      <td>NaN</td>\n",
       "    </tr>\n",
       "    <tr>\n",
       "      <th>6379</th>\n",
       "      <td>Ян Антонышев</td>\n",
       "      <td>112011818.0</td>\n",
       "      <td>2018-11-15 12:00:00</td>\n",
       "      <td>Документальный</td>\n",
       "      <td>NaN</td>\n",
       "      <td>Россия</td>\n",
       "      <td>Е.Окопная</td>\n",
       "      <td>Е.Герасимов</td>\n",
       "      <td>«12+» - для детей старше 12 лет</td>\n",
       "      <td>NaN</td>\n",
       "      <td>NaN</td>\n",
       "      <td>NaN</td>\n",
       "      <td>NaN</td>\n",
       "      <td>NaN</td>\n",
       "      <td>NaN</td>\n",
       "      <td>NaN</td>\n",
       "    </tr>\n",
       "    <tr>\n",
       "      <th>6380</th>\n",
       "      <td>Ян Антонышев</td>\n",
       "      <td>112011918.0</td>\n",
       "      <td>2018-11-15 12:00:00</td>\n",
       "      <td>Документальный</td>\n",
       "      <td>NaN</td>\n",
       "      <td>Россия</td>\n",
       "      <td>Е.Окопная</td>\n",
       "      <td>Е.Герасимов</td>\n",
       "      <td>«12+» - для детей старше 12 лет</td>\n",
       "      <td>NaN</td>\n",
       "      <td>NaN</td>\n",
       "      <td>NaN</td>\n",
       "      <td>NaN</td>\n",
       "      <td>NaN</td>\n",
       "      <td>NaN</td>\n",
       "      <td>NaN</td>\n",
       "    </tr>\n",
       "    <tr>\n",
       "      <th>6399</th>\n",
       "      <td>Доживем до каникул?..</td>\n",
       "      <td>111021918.0</td>\n",
       "      <td>2018-11-15 12:00:00</td>\n",
       "      <td>Художественный</td>\n",
       "      <td>NaN</td>\n",
       "      <td>Россия</td>\n",
       "      <td>Я.Хальпукова (псевдоним Яна Мартынец)</td>\n",
       "      <td>Я.Хальпукова (псевдоним Яна Мартынец)</td>\n",
       "      <td>«12+» - для детей старше 12 лет</td>\n",
       "      <td>NaN</td>\n",
       "      <td>NaN</td>\n",
       "      <td>NaN</td>\n",
       "      <td>NaN</td>\n",
       "      <td>NaN</td>\n",
       "      <td>NaN</td>\n",
       "      <td>41225.0</td>\n",
       "    </tr>\n",
       "    <tr>\n",
       "      <th>6485</th>\n",
       "      <td>До и После</td>\n",
       "      <td>112014418.0</td>\n",
       "      <td>2018-12-05 12:00:00</td>\n",
       "      <td>Документальный</td>\n",
       "      <td>NaN</td>\n",
       "      <td>Россия</td>\n",
       "      <td>А.Новокреповская</td>\n",
       "      <td>А.Новокреповская</td>\n",
       "      <td>«6+» - для детей старше 6 лет</td>\n",
       "      <td>NaN</td>\n",
       "      <td>NaN</td>\n",
       "      <td>NaN</td>\n",
       "      <td>NaN</td>\n",
       "      <td>6.9</td>\n",
       "      <td>драма,криминал,детектив</td>\n",
       "      <td>NaN</td>\n",
       "    </tr>\n",
       "    <tr>\n",
       "      <th>6494</th>\n",
       "      <td>Калмыцкий геше Нгаванг Вангьял</td>\n",
       "      <td>113002018.0</td>\n",
       "      <td>2018-12-05 12:00:00</td>\n",
       "      <td>Научно-популярный</td>\n",
       "      <td>NaN</td>\n",
       "      <td>Россия</td>\n",
       "      <td>И.Долгина</td>\n",
       "      <td>И.Долгина</td>\n",
       "      <td>«12+» - для детей старше 12 лет</td>\n",
       "      <td>NaN</td>\n",
       "      <td>NaN</td>\n",
       "      <td>NaN</td>\n",
       "      <td>NaN</td>\n",
       "      <td>NaN</td>\n",
       "      <td>NaN</td>\n",
       "      <td>NaN</td>\n",
       "    </tr>\n",
       "    <tr>\n",
       "      <th>6497</th>\n",
       "      <td>Мой папа Чингисхан</td>\n",
       "      <td>112014918.0</td>\n",
       "      <td>2018-12-06 12:00:00</td>\n",
       "      <td>Документальный</td>\n",
       "      <td>NaN</td>\n",
       "      <td>Россия</td>\n",
       "      <td>А.Сайфуллина</td>\n",
       "      <td>А.Сайфуллина</td>\n",
       "      <td>«12+» - для детей старше 12 лет</td>\n",
       "      <td>NaN</td>\n",
       "      <td>NaN</td>\n",
       "      <td>NaN</td>\n",
       "      <td>NaN</td>\n",
       "      <td>NaN</td>\n",
       "      <td>NaN</td>\n",
       "      <td>NaN</td>\n",
       "    </tr>\n",
       "    <tr>\n",
       "      <th>6498</th>\n",
       "      <td>В плену города грёз</td>\n",
       "      <td>112014818.0</td>\n",
       "      <td>2018-12-06 12:00:00</td>\n",
       "      <td>Документальный</td>\n",
       "      <td>NaN</td>\n",
       "      <td>Россия</td>\n",
       "      <td>В.Витовцев</td>\n",
       "      <td>О.Мичи</td>\n",
       "      <td>«18+» - запрещено для детей</td>\n",
       "      <td>NaN</td>\n",
       "      <td>NaN</td>\n",
       "      <td>NaN</td>\n",
       "      <td>NaN</td>\n",
       "      <td>7.9</td>\n",
       "      <td>фантастика,боевик,триллер</td>\n",
       "      <td>NaN</td>\n",
       "    </tr>\n",
       "    <tr>\n",
       "      <th>6499</th>\n",
       "      <td>Последнее фото</td>\n",
       "      <td>112014518.0</td>\n",
       "      <td>2018-12-06 12:00:00</td>\n",
       "      <td>Документальный</td>\n",
       "      <td>NaN</td>\n",
       "      <td>Россия</td>\n",
       "      <td>Е.Севастьянов</td>\n",
       "      <td>Е.Севастьянов</td>\n",
       "      <td>«18+» - запрещено для детей</td>\n",
       "      <td>NaN</td>\n",
       "      <td>NaN</td>\n",
       "      <td>NaN</td>\n",
       "      <td>NaN</td>\n",
       "      <td>NaN</td>\n",
       "      <td>NaN</td>\n",
       "      <td>NaN</td>\n",
       "    </tr>\n",
       "    <tr>\n",
       "      <th>6507</th>\n",
       "      <td>Мой селфхарм</td>\n",
       "      <td>113001918.0</td>\n",
       "      <td>2018-12-06 12:00:00</td>\n",
       "      <td>Научно-популярный</td>\n",
       "      <td>NaN</td>\n",
       "      <td>Россия</td>\n",
       "      <td>Я.Лаптев (псевдоним Яков Раскалов)</td>\n",
       "      <td>Я.Лаптев (псевдоним Яков Раскалов)</td>\n",
       "      <td>«18+» - запрещено для детей</td>\n",
       "      <td>NaN</td>\n",
       "      <td>NaN</td>\n",
       "      <td>NaN</td>\n",
       "      <td>NaN</td>\n",
       "      <td>NaN</td>\n",
       "      <td>NaN</td>\n",
       "      <td>NaN</td>\n",
       "    </tr>\n",
       "    <tr>\n",
       "      <th>6511</th>\n",
       "      <td>Обстоятельства места и времени</td>\n",
       "      <td>112015018.0</td>\n",
       "      <td>2018-12-12 12:00:00</td>\n",
       "      <td>Документальный</td>\n",
       "      <td>NaN</td>\n",
       "      <td>Россия</td>\n",
       "      <td>Д.Кабаков</td>\n",
       "      <td>Д.Кабаков</td>\n",
       "      <td>«12+» - для детей старше 12 лет</td>\n",
       "      <td>NaN</td>\n",
       "      <td>NaN</td>\n",
       "      <td>NaN</td>\n",
       "      <td>NaN</td>\n",
       "      <td>NaN</td>\n",
       "      <td>NaN</td>\n",
       "      <td>NaN</td>\n",
       "    </tr>\n",
       "    <tr>\n",
       "      <th>6638</th>\n",
       "      <td>Эрик Булатов. Моя Третьяковка, серии 1-2</td>\n",
       "      <td>113000319.0</td>\n",
       "      <td>2019-01-28 12:00:00</td>\n",
       "      <td>Научно-популярный</td>\n",
       "      <td>NaN</td>\n",
       "      <td>Россия</td>\n",
       "      <td>С.Гарькавый</td>\n",
       "      <td>Т.Пинская</td>\n",
       "      <td>«6+» - для детей старше 6 лет</td>\n",
       "      <td>NaN</td>\n",
       "      <td>NaN</td>\n",
       "      <td>NaN</td>\n",
       "      <td>NaN</td>\n",
       "      <td>NaN</td>\n",
       "      <td>NaN</td>\n",
       "      <td>NaN</td>\n",
       "    </tr>\n",
       "    <tr>\n",
       "      <th>6639</th>\n",
       "      <td>Брови</td>\n",
       "      <td>111000719.0</td>\n",
       "      <td>2019-03-01 12:00:00</td>\n",
       "      <td>Художественный</td>\n",
       "      <td>NaN</td>\n",
       "      <td>Россия</td>\n",
       "      <td>О.Штром</td>\n",
       "      <td>В.Максимов, В.Степанов, Г.Киракосян, О.Штром</td>\n",
       "      <td>«16+» - для детей старше 16 лет</td>\n",
       "      <td>NaN</td>\n",
       "      <td>NaN</td>\n",
       "      <td>NaN</td>\n",
       "      <td>NaN</td>\n",
       "      <td>NaN</td>\n",
       "      <td>NaN</td>\n",
       "      <td>NaN</td>\n",
       "    </tr>\n",
       "    <tr>\n",
       "      <th>6662</th>\n",
       "      <td>Топливо</td>\n",
       "      <td>111001419.0</td>\n",
       "      <td>2019-02-12 12:00:00</td>\n",
       "      <td>Художественный</td>\n",
       "      <td>NaN</td>\n",
       "      <td>Россия</td>\n",
       "      <td>М.Архипов</td>\n",
       "      <td>М.Архипов</td>\n",
       "      <td>«12+» - для детей старше 12 лет</td>\n",
       "      <td>NaN</td>\n",
       "      <td>NaN</td>\n",
       "      <td>NaN</td>\n",
       "      <td>NaN</td>\n",
       "      <td>6.1</td>\n",
       "      <td>короткометражка,фантастика</td>\n",
       "      <td>NaN</td>\n",
       "    </tr>\n",
       "    <tr>\n",
       "      <th>6722</th>\n",
       "      <td>Путешествие в Париж</td>\n",
       "      <td>111002919.0</td>\n",
       "      <td>2019-03-01 12:00:00</td>\n",
       "      <td>Художественный</td>\n",
       "      <td>NaN</td>\n",
       "      <td>Россия</td>\n",
       "      <td>М.Олейник (псевдоним - Мария Полякова)</td>\n",
       "      <td>Н.Савко</td>\n",
       "      <td>«16+» - для детей старше 16 лет</td>\n",
       "      <td>NaN</td>\n",
       "      <td>NaN</td>\n",
       "      <td>NaN</td>\n",
       "      <td>NaN</td>\n",
       "      <td>NaN</td>\n",
       "      <td>NaN</td>\n",
       "      <td>NaN</td>\n",
       "    </tr>\n",
       "  </tbody>\n",
       "</table>\n",
       "</div>"
      ],
      "text/plain": [
       "                                         title     puNumber  \\\n",
       "1293                           Stars in Shorts  121011114.0   \n",
       "4441                  Мульт личности. Выпуск 5  214000410.0   \n",
       "6105                              Значит любит  111013818.0   \n",
       "6181                     Несейка. Младшая дочь  112007018.0   \n",
       "6379                              Ян Антонышев  112011818.0   \n",
       "6380                              Ян Антонышев  112011918.0   \n",
       "6399                     Доживем до каникул?..  111021918.0   \n",
       "6485                                До и После  112014418.0   \n",
       "6494            Калмыцкий геше Нгаванг Вангьял  113002018.0   \n",
       "6497                        Мой папа Чингисхан  112014918.0   \n",
       "6498                       В плену города грёз  112014818.0   \n",
       "6499                            Последнее фото  112014518.0   \n",
       "6507                              Мой селфхарм  113001918.0   \n",
       "6511            Обстоятельства места и времени  112015018.0   \n",
       "6638  Эрик Булатов. Моя Третьяковка, серии 1-2  113000319.0   \n",
       "6639                                     Брови  111000719.0   \n",
       "6662                                   Топливо  111001419.0   \n",
       "6722                       Путешествие в Париж  111002919.0   \n",
       "\n",
       "         show_start_date               type film_studio   production_country  \\\n",
       "1293 2014-06-03 12:00:00     Художественный         NaN  США, Великобритания   \n",
       "4441 2010-01-25 12:00:00     Художественный         NaN                  NaN   \n",
       "6105 2018-08-10 12:00:00     Художественный         NaN               Россия   \n",
       "6181 2018-09-01 12:00:00     Документальный         NaN               Россия   \n",
       "6379 2018-11-15 12:00:00     Документальный         NaN               Россия   \n",
       "6380 2018-11-15 12:00:00     Документальный         NaN               Россия   \n",
       "6399 2018-11-15 12:00:00     Художественный         NaN               Россия   \n",
       "6485 2018-12-05 12:00:00     Документальный         NaN               Россия   \n",
       "6494 2018-12-05 12:00:00  Научно-популярный         NaN               Россия   \n",
       "6497 2018-12-06 12:00:00     Документальный         NaN               Россия   \n",
       "6498 2018-12-06 12:00:00     Документальный         NaN               Россия   \n",
       "6499 2018-12-06 12:00:00     Документальный         NaN               Россия   \n",
       "6507 2018-12-06 12:00:00  Научно-популярный         NaN               Россия   \n",
       "6511 2018-12-12 12:00:00     Документальный         NaN               Россия   \n",
       "6638 2019-01-28 12:00:00  Научно-популярный         NaN               Россия   \n",
       "6639 2019-03-01 12:00:00     Художественный         NaN               Россия   \n",
       "6662 2019-02-12 12:00:00     Художественный         NaN               Россия   \n",
       "6722 2019-03-01 12:00:00     Художественный         NaN               Россия   \n",
       "\n",
       "                                               director  \\\n",
       "1293  Роберт Фестингер, Руперт Френд, Джей Камен, Ни...   \n",
       "4441                                                NaN   \n",
       "6105                                        А.Краевский   \n",
       "6181                                            В.Марин   \n",
       "6379                                          Е.Окопная   \n",
       "6380                                          Е.Окопная   \n",
       "6399              Я.Хальпукова (псевдоним Яна Мартынец)   \n",
       "6485                                   А.Новокреповская   \n",
       "6494                                          И.Долгина   \n",
       "6497                                       А.Сайфуллина   \n",
       "6498                                         В.Витовцев   \n",
       "6499                                      Е.Севастьянов   \n",
       "6507                 Я.Лаптев (псевдоним Яков Раскалов)   \n",
       "6511                                          Д.Кабаков   \n",
       "6638                                        С.Гарькавый   \n",
       "6639                                            О.Штром   \n",
       "6662                                          М.Архипов   \n",
       "6722             М.Олейник (псевдоним - Мария Полякова)   \n",
       "\n",
       "                                               producer  \\\n",
       "1293  Татьяна Келли, Роберта Мунро, Руперт Френд, До...   \n",
       "4441                                                NaN   \n",
       "6105                                        Е.Щербакова   \n",
       "6181                    Д.Якунин, Ф.Абрютин, О.Филонова   \n",
       "6379                                        Е.Герасимов   \n",
       "6380                                        Е.Герасимов   \n",
       "6399              Я.Хальпукова (псевдоним Яна Мартынец)   \n",
       "6485                                   А.Новокреповская   \n",
       "6494                                          И.Долгина   \n",
       "6497                                       А.Сайфуллина   \n",
       "6498                                             О.Мичи   \n",
       "6499                                      Е.Севастьянов   \n",
       "6507                 Я.Лаптев (псевдоним Яков Раскалов)   \n",
       "6511                                          Д.Кабаков   \n",
       "6638                                          Т.Пинская   \n",
       "6639       В.Максимов, В.Степанов, Г.Киракосян, О.Штром   \n",
       "6662                                          М.Архипов   \n",
       "6722                                            Н.Савко   \n",
       "\n",
       "                             age_restriction  refundable_support  \\\n",
       "1293         «16+» - для детей старше 16 лет                 NaN   \n",
       "4441  «0+» - для любой зрительской аудитории                 NaN   \n",
       "6105             «18+» - запрещено для детей                 NaN   \n",
       "6181           «6+» - для детей старше 6 лет                 NaN   \n",
       "6379         «12+» - для детей старше 12 лет                 NaN   \n",
       "6380         «12+» - для детей старше 12 лет                 NaN   \n",
       "6399         «12+» - для детей старше 12 лет                 NaN   \n",
       "6485           «6+» - для детей старше 6 лет                 NaN   \n",
       "6494         «12+» - для детей старше 12 лет                 NaN   \n",
       "6497         «12+» - для детей старше 12 лет                 NaN   \n",
       "6498             «18+» - запрещено для детей                 NaN   \n",
       "6499             «18+» - запрещено для детей                 NaN   \n",
       "6507             «18+» - запрещено для детей                 NaN   \n",
       "6511         «12+» - для детей старше 12 лет                 NaN   \n",
       "6638           «6+» - для детей старше 6 лет                 NaN   \n",
       "6639         «16+» - для детей старше 16 лет                 NaN   \n",
       "6662         «12+» - для детей старше 12 лет                 NaN   \n",
       "6722         «16+» - для детей старше 16 лет                 NaN   \n",
       "\n",
       "      nonrefundable_support  budget financing_source  ratings  \\\n",
       "1293                    NaN     NaN              NaN      7.3   \n",
       "4441                    NaN     NaN              NaN      4.0   \n",
       "6105                    NaN     NaN              NaN      NaN   \n",
       "6181                    NaN     NaN              NaN      NaN   \n",
       "6379                    NaN     NaN              NaN      NaN   \n",
       "6380                    NaN     NaN              NaN      NaN   \n",
       "6399                    NaN     NaN              NaN      NaN   \n",
       "6485                    NaN     NaN              NaN      6.9   \n",
       "6494                    NaN     NaN              NaN      NaN   \n",
       "6497                    NaN     NaN              NaN      NaN   \n",
       "6498                    NaN     NaN              NaN      7.9   \n",
       "6499                    NaN     NaN              NaN      NaN   \n",
       "6507                    NaN     NaN              NaN      NaN   \n",
       "6511                    NaN     NaN              NaN      NaN   \n",
       "6638                    NaN     NaN              NaN      NaN   \n",
       "6639                    NaN     NaN              NaN      NaN   \n",
       "6662                    NaN     NaN              NaN      6.1   \n",
       "6722                    NaN     NaN              NaN      NaN   \n",
       "\n",
       "                          genres  box_office  \n",
       "1293                     комедия         NaN  \n",
       "4441          мультфильм,комедия         NaN  \n",
       "6105                         NaN         NaN  \n",
       "6181                         NaN         NaN  \n",
       "6379                         NaN         NaN  \n",
       "6380                         NaN         NaN  \n",
       "6399                         NaN     41225.0  \n",
       "6485     драма,криминал,детектив         NaN  \n",
       "6494                         NaN         NaN  \n",
       "6497                         NaN         NaN  \n",
       "6498   фантастика,боевик,триллер         NaN  \n",
       "6499                         NaN         NaN  \n",
       "6507                         NaN         NaN  \n",
       "6511                         NaN         NaN  \n",
       "6638                         NaN         NaN  \n",
       "6639                         NaN         NaN  \n",
       "6662  короткометражка,фантастика         NaN  \n",
       "6722                         NaN         NaN  "
      ]
     },
     "metadata": {},
     "output_type": "display_data"
    }
   ],
   "source": [
    "display(mkrf_movies[mkrf_movies['film_studio'].isna() == True])"
   ]
  },
  {
   "cell_type": "markdown",
   "metadata": {},
   "source": [
    "*Здесь так же оставим пропуски, вероятнее всего, что эти фильмы финансировались авторами, а не студиями.*"
   ]
  },
  {
   "cell_type": "markdown",
   "metadata": {},
   "source": [
    "**Столбец production_country** - страна-производитель:"
   ]
  },
  {
   "cell_type": "code",
   "execution_count": 18,
   "metadata": {},
   "outputs": [
    {
     "data": {
      "text/html": [
       "<div>\n",
       "<style scoped>\n",
       "    .dataframe tbody tr th:only-of-type {\n",
       "        vertical-align: middle;\n",
       "    }\n",
       "\n",
       "    .dataframe tbody tr th {\n",
       "        vertical-align: top;\n",
       "    }\n",
       "\n",
       "    .dataframe thead th {\n",
       "        text-align: right;\n",
       "    }\n",
       "</style>\n",
       "<table border=\"1\" class=\"dataframe\">\n",
       "  <thead>\n",
       "    <tr style=\"text-align: right;\">\n",
       "      <th></th>\n",
       "      <th>title</th>\n",
       "      <th>puNumber</th>\n",
       "      <th>show_start_date</th>\n",
       "      <th>type</th>\n",
       "      <th>film_studio</th>\n",
       "      <th>production_country</th>\n",
       "      <th>director</th>\n",
       "      <th>producer</th>\n",
       "      <th>age_restriction</th>\n",
       "      <th>refundable_support</th>\n",
       "      <th>nonrefundable_support</th>\n",
       "      <th>budget</th>\n",
       "      <th>financing_source</th>\n",
       "      <th>ratings</th>\n",
       "      <th>genres</th>\n",
       "      <th>box_office</th>\n",
       "    </tr>\n",
       "  </thead>\n",
       "  <tbody>\n",
       "    <tr>\n",
       "      <th>3186</th>\n",
       "      <td>Детский юмористический киножурнал \"Ералаш. Ну ...</td>\n",
       "      <td>111001216.0</td>\n",
       "      <td>2016-02-09 12:00:00</td>\n",
       "      <td>Художественный</td>\n",
       "      <td>ООО \"Продюсерский центр ЕРАЛАШ\"</td>\n",
       "      <td>NaN</td>\n",
       "      <td>Р.Светлов, И.Магитон, А.Арутюнян, Л.Мирский, А...</td>\n",
       "      <td>ООО \"Продюсерский центр ЕРАЛАШ\"</td>\n",
       "      <td>«0+» - для любой зрительской аудитории</td>\n",
       "      <td>NaN</td>\n",
       "      <td>NaN</td>\n",
       "      <td>NaN</td>\n",
       "      <td>NaN</td>\n",
       "      <td>7.2</td>\n",
       "      <td>детский,комедия</td>\n",
       "      <td>194527.0</td>\n",
       "    </tr>\n",
       "    <tr>\n",
       "      <th>4441</th>\n",
       "      <td>Мульт личности. Выпуск 5</td>\n",
       "      <td>214000410.0</td>\n",
       "      <td>2010-01-25 12:00:00</td>\n",
       "      <td>Художественный</td>\n",
       "      <td>NaN</td>\n",
       "      <td>NaN</td>\n",
       "      <td>NaN</td>\n",
       "      <td>NaN</td>\n",
       "      <td>«0+» - для любой зрительской аудитории</td>\n",
       "      <td>NaN</td>\n",
       "      <td>NaN</td>\n",
       "      <td>NaN</td>\n",
       "      <td>NaN</td>\n",
       "      <td>4.0</td>\n",
       "      <td>мультфильм,комедия</td>\n",
       "      <td>NaN</td>\n",
       "    </tr>\n",
       "  </tbody>\n",
       "</table>\n",
       "</div>"
      ],
      "text/plain": [
       "                                                  title     puNumber  \\\n",
       "3186  Детский юмористический киножурнал \"Ералаш. Ну ...  111001216.0   \n",
       "4441                           Мульт личности. Выпуск 5  214000410.0   \n",
       "\n",
       "         show_start_date            type                      film_studio  \\\n",
       "3186 2016-02-09 12:00:00  Художественный  ООО \"Продюсерский центр ЕРАЛАШ\"   \n",
       "4441 2010-01-25 12:00:00  Художественный                              NaN   \n",
       "\n",
       "     production_country                                           director  \\\n",
       "3186                NaN  Р.Светлов, И.Магитон, А.Арутюнян, Л.Мирский, А...   \n",
       "4441                NaN                                                NaN   \n",
       "\n",
       "                             producer                         age_restriction  \\\n",
       "3186  ООО \"Продюсерский центр ЕРАЛАШ\"  «0+» - для любой зрительской аудитории   \n",
       "4441                              NaN  «0+» - для любой зрительской аудитории   \n",
       "\n",
       "      refundable_support  nonrefundable_support  budget financing_source  \\\n",
       "3186                 NaN                    NaN     NaN              NaN   \n",
       "4441                 NaN                    NaN     NaN              NaN   \n",
       "\n",
       "      ratings              genres  box_office  \n",
       "3186      7.2     детский,комедия    194527.0  \n",
       "4441      4.0  мультфильм,комедия         NaN  "
      ]
     },
     "metadata": {},
     "output_type": "display_data"
    }
   ],
   "source": [
    "display(mkrf_movies[mkrf_movies['production_country'].isna() == True])"
   ]
  },
  {
   "cell_type": "markdown",
   "metadata": {},
   "source": [
    "*Здесь у нас всего лишь два пропуска. Очевидно, что страна производитель этих кинофильмов - Россия. Исправим это.*"
   ]
  },
  {
   "cell_type": "code",
   "execution_count": 19,
   "metadata": {},
   "outputs": [],
   "source": [
    "mkrf_movies.loc[mkrf_movies['production_country'].isna() == True, 'production_country'] = 'Россия'"
   ]
  },
  {
   "cell_type": "markdown",
   "metadata": {},
   "source": [
    "**Остальные пропуски оставим без изменений, в процентном соотношении их не так много, на исследование они сильно не повлияют, заменить их мы ничем не сможем, как и удалить.**"
   ]
  },
  {
   "cell_type": "code",
   "execution_count": 20,
   "metadata": {},
   "outputs": [
    {
     "data": {
      "text/plain": [
       "title                       0\n",
       "puNumber                    1\n",
       "show_start_date             0\n",
       "type                        0\n",
       "film_studio                18\n",
       "production_country          0\n",
       "director                    9\n",
       "producer                  568\n",
       "age_restriction             0\n",
       "refundable_support       7154\n",
       "nonrefundable_support    7154\n",
       "budget                   7154\n",
       "financing_source         7154\n",
       "ratings                   967\n",
       "genres                    976\n",
       "box_office               4328\n",
       "dtype: int64"
      ]
     },
     "execution_count": 20,
     "metadata": {},
     "output_type": "execute_result"
    }
   ],
   "source": [
    "# Код ревьюера\n",
    "mkrf_movies.isna().sum()"
   ]
  },
  {
   "cell_type": "markdown",
   "metadata": {
    "id": "4c6k1t9ygFyQ"
   },
   "source": [
    "#### Шаг 2.3. Изучите дубликаты в датафрейме\n",
    "- Проверьте, есть ли в данных дубликаты. Опишите причины, которые могли повлиять на появление дублей."
   ]
  },
  {
   "cell_type": "markdown",
   "metadata": {
    "id": "aKck8RIdgFyQ"
   },
   "source": [
    "**Проверим на наличие явных дубликатов:**"
   ]
  },
  {
   "cell_type": "code",
   "execution_count": 21,
   "metadata": {},
   "outputs": [
    {
     "data": {
      "text/plain": [
       "0"
      ]
     },
     "execution_count": 21,
     "metadata": {},
     "output_type": "execute_result"
    }
   ],
   "source": [
    "mkrf_movies.duplicated().sum()"
   ]
  },
  {
   "cell_type": "markdown",
   "metadata": {},
   "source": [
    "Таких в нашем наборе данных не нашлось."
   ]
  },
  {
   "cell_type": "markdown",
   "metadata": {},
   "source": [
    "**Изучим количество дубликатов в каждом столбце:**"
   ]
  },
  {
   "cell_type": "code",
   "execution_count": 22,
   "metadata": {},
   "outputs": [
    {
     "name": "stdout",
     "output_type": "stream",
     "text": [
      "Количество дубликатов в столбце 'title': 714\n",
      "Количество дубликатов в столбце 'puNumber': 2\n",
      "Количество дубликатов в столбце 'show_start_date': 5521\n",
      "Количество дубликатов в столбце 'type': 7478\n",
      "Количество дубликатов в столбце 'film_studio': 1995\n",
      "Количество дубликатов в столбце 'production_country': 6536\n",
      "Количество дубликатов в столбце 'director': 2674\n",
      "Количество дубликатов в столбце 'producer': 2136\n",
      "Количество дубликатов в столбце 'age_restriction': 7481\n",
      "Количество дубликатов в столбце 'refundable_support': 7451\n",
      "Количество дубликатов в столбце 'nonrefundable_support': 7410\n",
      "Количество дубликатов в столбце 'budget': 7195\n",
      "Количество дубликатов в столбце 'financing_source': 7482\n",
      "Количество дубликатов в столбце 'ratings': 7401\n",
      "Количество дубликатов в столбце 'genres': 6743\n",
      "Количество дубликатов в столбце 'box_office': 4547\n"
     ]
    }
   ],
   "source": [
    "for column in mkrf_movies.columns:\n",
    "    duplicates_count = mkrf_movies[column].duplicated().sum()\n",
    "    print(f\"Количество дубликатов в столбце '{column}': {duplicates_count}\")"
   ]
  },
  {
   "cell_type": "markdown",
   "metadata": {},
   "source": [
    "Нас интересуют отсюда только столбцы title — название фильма; и puNumber — номер прокатного удостоверения. В остальных столбцах наличие дубликатов нормальное условие. "
   ]
  },
  {
   "cell_type": "code",
   "execution_count": 23,
   "metadata": {},
   "outputs": [
    {
     "data": {
      "text/html": [
       "<div>\n",
       "<style scoped>\n",
       "    .dataframe tbody tr th:only-of-type {\n",
       "        vertical-align: middle;\n",
       "    }\n",
       "\n",
       "    .dataframe tbody tr th {\n",
       "        vertical-align: top;\n",
       "    }\n",
       "\n",
       "    .dataframe thead th {\n",
       "        text-align: right;\n",
       "    }\n",
       "</style>\n",
       "<table border=\"1\" class=\"dataframe\">\n",
       "  <thead>\n",
       "    <tr style=\"text-align: right;\">\n",
       "      <th></th>\n",
       "      <th>title</th>\n",
       "      <th>puNumber</th>\n",
       "      <th>show_start_date</th>\n",
       "      <th>type</th>\n",
       "      <th>film_studio</th>\n",
       "      <th>production_country</th>\n",
       "      <th>director</th>\n",
       "      <th>producer</th>\n",
       "      <th>age_restriction</th>\n",
       "      <th>refundable_support</th>\n",
       "      <th>nonrefundable_support</th>\n",
       "      <th>budget</th>\n",
       "      <th>financing_source</th>\n",
       "      <th>ratings</th>\n",
       "      <th>genres</th>\n",
       "      <th>box_office</th>\n",
       "    </tr>\n",
       "  </thead>\n",
       "  <tbody>\n",
       "    <tr>\n",
       "      <th>2</th>\n",
       "      <td>Особо опасен</td>\n",
       "      <td>221038416.0</td>\n",
       "      <td>2016-10-10 12:00:00</td>\n",
       "      <td>Художественный</td>\n",
       "      <td>Юниверсал Пикчерз, Кикстарт Продакшнз, Марк Пл...</td>\n",
       "      <td>США</td>\n",
       "      <td>Тимур Бекмамбетов</td>\n",
       "      <td>Джим Лемли, Джейсон Нетер, Марк Е.Платт, Яйн Смит</td>\n",
       "      <td>«18+» - запрещено для детей</td>\n",
       "      <td>NaN</td>\n",
       "      <td>NaN</td>\n",
       "      <td>NaN</td>\n",
       "      <td>NaN</td>\n",
       "      <td>6.8</td>\n",
       "      <td>фантастика,боевик,триллер</td>\n",
       "      <td>NaN</td>\n",
       "    </tr>\n",
       "    <tr>\n",
       "      <th>3</th>\n",
       "      <td>Особо опасен</td>\n",
       "      <td>221026916.0</td>\n",
       "      <td>2016-06-10 12:00:00</td>\n",
       "      <td>Художественный</td>\n",
       "      <td>Юниверсал Пикчерз, Кикстарт Продакшнз, Марк Пл...</td>\n",
       "      <td>США</td>\n",
       "      <td>Тимур Бекмамбетов</td>\n",
       "      <td>Джим Лемли, Джейсон Нетер, Марк Е.Платт, Яйн Смит</td>\n",
       "      <td>«18+» - запрещено для детей</td>\n",
       "      <td>NaN</td>\n",
       "      <td>NaN</td>\n",
       "      <td>NaN</td>\n",
       "      <td>NaN</td>\n",
       "      <td>6.8</td>\n",
       "      <td>фантастика,боевик,триллер</td>\n",
       "      <td>NaN</td>\n",
       "    </tr>\n",
       "    <tr>\n",
       "      <th>4</th>\n",
       "      <td>Особо опасен</td>\n",
       "      <td>221030815.0</td>\n",
       "      <td>2015-07-29 12:00:00</td>\n",
       "      <td>Художественный</td>\n",
       "      <td>Юниверсал Пикчерз, Кикстарт Продакшнз, Марк Пл...</td>\n",
       "      <td>США</td>\n",
       "      <td>Тимур Бекмамбетов</td>\n",
       "      <td>Джим Лемли, Джейсон Нетер, Марк Е.Платт, Яйн Смит</td>\n",
       "      <td>«18+» - запрещено для детей</td>\n",
       "      <td>NaN</td>\n",
       "      <td>NaN</td>\n",
       "      <td>NaN</td>\n",
       "      <td>NaN</td>\n",
       "      <td>6.8</td>\n",
       "      <td>фантастика,боевик,триллер</td>\n",
       "      <td>NaN</td>\n",
       "    </tr>\n",
       "    <tr>\n",
       "      <th>12</th>\n",
       "      <td>Малышка на миллион /По мотивам рассказов Ф.Х.Т...</td>\n",
       "      <td>221011415.0</td>\n",
       "      <td>2015-04-03 12:00:00</td>\n",
       "      <td>Художественный</td>\n",
       "      <td>Уорнер Бразерс, Лейкшор Интертейнмент, Малпасо...</td>\n",
       "      <td>США</td>\n",
       "      <td>Клинт Иствуд</td>\n",
       "      <td>Клинт Иствуд, Том Розенберг, Альберт С.Рудди, ...</td>\n",
       "      <td>«16+» - для детей старше 16 лет</td>\n",
       "      <td>NaN</td>\n",
       "      <td>NaN</td>\n",
       "      <td>NaN</td>\n",
       "      <td>NaN</td>\n",
       "      <td>8.1</td>\n",
       "      <td>драма,спорт</td>\n",
       "      <td>NaN</td>\n",
       "    </tr>\n",
       "    <tr>\n",
       "      <th>26</th>\n",
       "      <td>Оружейный барон</td>\n",
       "      <td>221012515.0</td>\n",
       "      <td>2015-04-03 12:00:00</td>\n",
       "      <td>Художественный</td>\n",
       "      <td>Вэ И Пэ Медиенфондс 3, Асендант Пикчерз, Сатур...</td>\n",
       "      <td>США - Франция - Турция</td>\n",
       "      <td>Эндрю Никкол</td>\n",
       "      <td>Норман Голуайтли, Энди Грош, Николас Кейдж, Эн...</td>\n",
       "      <td>«18+» - запрещено для детей</td>\n",
       "      <td>NaN</td>\n",
       "      <td>NaN</td>\n",
       "      <td>NaN</td>\n",
       "      <td>NaN</td>\n",
       "      <td>7.7</td>\n",
       "      <td>боевик,драма,криминал</td>\n",
       "      <td>NaN</td>\n",
       "    </tr>\n",
       "    <tr>\n",
       "      <th>...</th>\n",
       "      <td>...</td>\n",
       "      <td>...</td>\n",
       "      <td>...</td>\n",
       "      <td>...</td>\n",
       "      <td>...</td>\n",
       "      <td>...</td>\n",
       "      <td>...</td>\n",
       "      <td>...</td>\n",
       "      <td>...</td>\n",
       "      <td>...</td>\n",
       "      <td>...</td>\n",
       "      <td>...</td>\n",
       "      <td>...</td>\n",
       "      <td>...</td>\n",
       "      <td>...</td>\n",
       "      <td>...</td>\n",
       "    </tr>\n",
       "    <tr>\n",
       "      <th>7369</th>\n",
       "      <td>Невиновен</td>\n",
       "      <td>111019319.0</td>\n",
       "      <td>2019-11-07 12:00:00</td>\n",
       "      <td>Художественный</td>\n",
       "      <td>ООО \"Кавказфильм\"</td>\n",
       "      <td>Россия</td>\n",
       "      <td>А.Емкужев</td>\n",
       "      <td>А.Емкужев, А.Хуажева, ООО \"Корпорация Русская ...</td>\n",
       "      <td>«16+» - для детей старше 16 лет</td>\n",
       "      <td>NaN</td>\n",
       "      <td>NaN</td>\n",
       "      <td>NaN</td>\n",
       "      <td>NaN</td>\n",
       "      <td>7.5</td>\n",
       "      <td>триллер,детектив,криминал</td>\n",
       "      <td>NaN</td>\n",
       "    </tr>\n",
       "    <tr>\n",
       "      <th>7416</th>\n",
       "      <td>Отель \"Гранд Будапешт\"</td>\n",
       "      <td>121035119.0</td>\n",
       "      <td>2019-12-13 12:00:00</td>\n",
       "      <td>Художественный</td>\n",
       "      <td>Американ Эмпирикал, Индиан Пэинтбраш, Скотт Ру...</td>\n",
       "      <td>Германия, США</td>\n",
       "      <td>Уэс Андерсен</td>\n",
       "      <td>Уэс Андерсон, Джереми Доусон, Стивен Рейлс</td>\n",
       "      <td>«16+» - для детей старше 16 лет</td>\n",
       "      <td>NaN</td>\n",
       "      <td>NaN</td>\n",
       "      <td>NaN</td>\n",
       "      <td>NaN</td>\n",
       "      <td>7.9</td>\n",
       "      <td>комедия,приключения,детектив</td>\n",
       "      <td>NaN</td>\n",
       "    </tr>\n",
       "    <tr>\n",
       "      <th>7438</th>\n",
       "      <td>Зверь</td>\n",
       "      <td>121035919.0</td>\n",
       "      <td>2019-12-05 12:00:00</td>\n",
       "      <td>Художественный</td>\n",
       "      <td>Студио энд Нью</td>\n",
       "      <td>Южная Корея</td>\n",
       "      <td>Ли Джон-хо</td>\n",
       "      <td>Чан Гён-ик, Чон Джи-хун, Пэк Кён сук</td>\n",
       "      <td>«18+» - запрещено для детей</td>\n",
       "      <td>NaN</td>\n",
       "      <td>NaN</td>\n",
       "      <td>NaN</td>\n",
       "      <td>NaN</td>\n",
       "      <td>6.5</td>\n",
       "      <td>триллер,драма</td>\n",
       "      <td>175003.51</td>\n",
       "    </tr>\n",
       "    <tr>\n",
       "      <th>7450</th>\n",
       "      <td>В тихом омуте</td>\n",
       "      <td>121036919.0</td>\n",
       "      <td>2019-12-09 12:00:00</td>\n",
       "      <td>Художественный</td>\n",
       "      <td>Хэд Гир Филмз, Крео Филмз, Локал Хироу, Метрол...</td>\n",
       "      <td>США</td>\n",
       "      <td>Адам Рэндолл</td>\n",
       "      <td>Мэтт Уолдек</td>\n",
       "      <td>«18+» - запрещено для детей</td>\n",
       "      <td>NaN</td>\n",
       "      <td>NaN</td>\n",
       "      <td>NaN</td>\n",
       "      <td>NaN</td>\n",
       "      <td>6.8</td>\n",
       "      <td>триллер,криминал,детектив</td>\n",
       "      <td>NaN</td>\n",
       "    </tr>\n",
       "    <tr>\n",
       "      <th>7474</th>\n",
       "      <td>Вторжение</td>\n",
       "      <td>111022519.0</td>\n",
       "      <td>2019-12-23 12:00:00</td>\n",
       "      <td>Художественный</td>\n",
       "      <td>ООО \"Арт Пикчерс Студия\", ООО \"Водород 2011\"</td>\n",
       "      <td>Россия</td>\n",
       "      <td>Ф.Бондарчук</td>\n",
       "      <td>Ф.Бондарчук, М.Врубель, А.Андрющенко, Д.Рудовский</td>\n",
       "      <td>«12+» - для детей старше 12 лет</td>\n",
       "      <td>100000000.0</td>\n",
       "      <td>400000000.0</td>\n",
       "      <td>944000000.0</td>\n",
       "      <td>Фонд кино</td>\n",
       "      <td>5.7</td>\n",
       "      <td>фантастика,боевик</td>\n",
       "      <td>NaN</td>\n",
       "    </tr>\n",
       "  </tbody>\n",
       "</table>\n",
       "<p>1272 rows × 16 columns</p>\n",
       "</div>"
      ],
      "text/plain": [
       "                                                  title     puNumber  \\\n",
       "2                                          Особо опасен  221038416.0   \n",
       "3                                          Особо опасен  221026916.0   \n",
       "4                                          Особо опасен  221030815.0   \n",
       "12    Малышка на миллион /По мотивам рассказов Ф.Х.Т...  221011415.0   \n",
       "26                                      Оружейный барон  221012515.0   \n",
       "...                                                 ...          ...   \n",
       "7369                                          Невиновен  111019319.0   \n",
       "7416                             Отель \"Гранд Будапешт\"  121035119.0   \n",
       "7438                                              Зверь  121035919.0   \n",
       "7450                                      В тихом омуте  121036919.0   \n",
       "7474                                          Вторжение  111022519.0   \n",
       "\n",
       "         show_start_date             type  \\\n",
       "2    2016-10-10 12:00:00   Художественный   \n",
       "3    2016-06-10 12:00:00   Художественный   \n",
       "4    2015-07-29 12:00:00   Художественный   \n",
       "12   2015-04-03 12:00:00   Художественный   \n",
       "26   2015-04-03 12:00:00   Художественный   \n",
       "...                  ...              ...   \n",
       "7369 2019-11-07 12:00:00   Художественный   \n",
       "7416 2019-12-13 12:00:00   Художественный   \n",
       "7438 2019-12-05 12:00:00   Художественный   \n",
       "7450 2019-12-09 12:00:00   Художественный   \n",
       "7474 2019-12-23 12:00:00   Художественный   \n",
       "\n",
       "                                            film_studio  \\\n",
       "2     Юниверсал Пикчерз, Кикстарт Продакшнз, Марк Пл...   \n",
       "3     Юниверсал Пикчерз, Кикстарт Продакшнз, Марк Пл...   \n",
       "4     Юниверсал Пикчерз, Кикстарт Продакшнз, Марк Пл...   \n",
       "12    Уорнер Бразерс, Лейкшор Интертейнмент, Малпасо...   \n",
       "26    Вэ И Пэ Медиенфондс 3, Асендант Пикчерз, Сатур...   \n",
       "...                                                 ...   \n",
       "7369                                  ООО \"Кавказфильм\"   \n",
       "7416  Американ Эмпирикал, Индиан Пэинтбраш, Скотт Ру...   \n",
       "7438                                     Студио энд Нью   \n",
       "7450  Хэд Гир Филмз, Крео Филмз, Локал Хироу, Метрол...   \n",
       "7474       ООО \"Арт Пикчерс Студия\", ООО \"Водород 2011\"   \n",
       "\n",
       "          production_country           director  \\\n",
       "2                        США  Тимур Бекмамбетов   \n",
       "3                        США  Тимур Бекмамбетов   \n",
       "4                        США  Тимур Бекмамбетов   \n",
       "12                       США       Клинт Иствуд   \n",
       "26    США - Франция - Турция       Эндрю Никкол   \n",
       "...                      ...                ...   \n",
       "7369                  Россия          А.Емкужев   \n",
       "7416           Германия, США       Уэс Андерсен   \n",
       "7438             Южная Корея         Ли Джон-хо   \n",
       "7450                     США       Адам Рэндолл   \n",
       "7474                  Россия        Ф.Бондарчук   \n",
       "\n",
       "                                               producer  \\\n",
       "2     Джим Лемли, Джейсон Нетер, Марк Е.Платт, Яйн Смит   \n",
       "3     Джим Лемли, Джейсон Нетер, Марк Е.Платт, Яйн Смит   \n",
       "4     Джим Лемли, Джейсон Нетер, Марк Е.Платт, Яйн Смит   \n",
       "12    Клинт Иствуд, Том Розенберг, Альберт С.Рудди, ...   \n",
       "26    Норман Голуайтли, Энди Грош, Николас Кейдж, Эн...   \n",
       "...                                                 ...   \n",
       "7369  А.Емкужев, А.Хуажева, ООО \"Корпорация Русская ...   \n",
       "7416         Уэс Андерсон, Джереми Доусон, Стивен Рейлс   \n",
       "7438               Чан Гён-ик, Чон Джи-хун, Пэк Кён сук   \n",
       "7450                                        Мэтт Уолдек   \n",
       "7474  Ф.Бондарчук, М.Врубель, А.Андрющенко, Д.Рудовский   \n",
       "\n",
       "                      age_restriction  refundable_support  \\\n",
       "2         «18+» - запрещено для детей                 NaN   \n",
       "3         «18+» - запрещено для детей                 NaN   \n",
       "4         «18+» - запрещено для детей                 NaN   \n",
       "12    «16+» - для детей старше 16 лет                 NaN   \n",
       "26        «18+» - запрещено для детей                 NaN   \n",
       "...                               ...                 ...   \n",
       "7369  «16+» - для детей старше 16 лет                 NaN   \n",
       "7416  «16+» - для детей старше 16 лет                 NaN   \n",
       "7438      «18+» - запрещено для детей                 NaN   \n",
       "7450      «18+» - запрещено для детей                 NaN   \n",
       "7474  «12+» - для детей старше 12 лет         100000000.0   \n",
       "\n",
       "      nonrefundable_support       budget financing_source  ratings  \\\n",
       "2                       NaN          NaN              NaN      6.8   \n",
       "3                       NaN          NaN              NaN      6.8   \n",
       "4                       NaN          NaN              NaN      6.8   \n",
       "12                      NaN          NaN              NaN      8.1   \n",
       "26                      NaN          NaN              NaN      7.7   \n",
       "...                     ...          ...              ...      ...   \n",
       "7369                    NaN          NaN              NaN      7.5   \n",
       "7416                    NaN          NaN              NaN      7.9   \n",
       "7438                    NaN          NaN              NaN      6.5   \n",
       "7450                    NaN          NaN              NaN      6.8   \n",
       "7474            400000000.0  944000000.0        Фонд кино      5.7   \n",
       "\n",
       "                            genres  box_office  \n",
       "2        фантастика,боевик,триллер         NaN  \n",
       "3        фантастика,боевик,триллер         NaN  \n",
       "4        фантастика,боевик,триллер         NaN  \n",
       "12                     драма,спорт         NaN  \n",
       "26           боевик,драма,криминал         NaN  \n",
       "...                            ...         ...  \n",
       "7369     триллер,детектив,криминал         NaN  \n",
       "7416  комедия,приключения,детектив         NaN  \n",
       "7438                 триллер,драма   175003.51  \n",
       "7450     триллер,криминал,детектив         NaN  \n",
       "7474             фантастика,боевик         NaN  \n",
       "\n",
       "[1272 rows x 16 columns]"
      ]
     },
     "execution_count": 23,
     "metadata": {},
     "output_type": "execute_result"
    }
   ],
   "source": [
    "mkrf_movies[mkrf_movies['title'].duplicated(keep=False)]"
   ]
  },
  {
   "cell_type": "code",
   "execution_count": 24,
   "metadata": {},
   "outputs": [
    {
     "data": {
      "text/html": [
       "<div>\n",
       "<style scoped>\n",
       "    .dataframe tbody tr th:only-of-type {\n",
       "        vertical-align: middle;\n",
       "    }\n",
       "\n",
       "    .dataframe tbody tr th {\n",
       "        vertical-align: top;\n",
       "    }\n",
       "\n",
       "    .dataframe thead th {\n",
       "        text-align: right;\n",
       "    }\n",
       "</style>\n",
       "<table border=\"1\" class=\"dataframe\">\n",
       "  <thead>\n",
       "    <tr style=\"text-align: right;\">\n",
       "      <th></th>\n",
       "      <th>title</th>\n",
       "      <th>puNumber</th>\n",
       "      <th>show_start_date</th>\n",
       "      <th>type</th>\n",
       "      <th>film_studio</th>\n",
       "      <th>production_country</th>\n",
       "      <th>director</th>\n",
       "      <th>producer</th>\n",
       "      <th>age_restriction</th>\n",
       "      <th>refundable_support</th>\n",
       "      <th>nonrefundable_support</th>\n",
       "      <th>budget</th>\n",
       "      <th>financing_source</th>\n",
       "      <th>ratings</th>\n",
       "      <th>genres</th>\n",
       "      <th>box_office</th>\n",
       "    </tr>\n",
       "  </thead>\n",
       "  <tbody>\n",
       "    <tr>\n",
       "      <th>4638</th>\n",
       "      <td>Как жениться и остаться холостым</td>\n",
       "      <td>221154310.0</td>\n",
       "      <td>2010-12-17 12:00:00</td>\n",
       "      <td>Художественный</td>\n",
       "      <td>Ше Вам, Скрипт Ассосье, Тэ Фэ 1 Фильм Продюксь...</td>\n",
       "      <td>Франция</td>\n",
       "      <td>Эрик Лартиго</td>\n",
       "      <td>Амандин Било, Алан Шаба</td>\n",
       "      <td>«16+» - для детей старше 16 лет</td>\n",
       "      <td>NaN</td>\n",
       "      <td>NaN</td>\n",
       "      <td>NaN</td>\n",
       "      <td>NaN</td>\n",
       "      <td>7.0</td>\n",
       "      <td>мелодрама,комедия</td>\n",
       "      <td>NaN</td>\n",
       "    </tr>\n",
       "    <tr>\n",
       "      <th>4639</th>\n",
       "      <td>Иоанна - женщина на папском престоле /По роман...</td>\n",
       "      <td>221154310.0</td>\n",
       "      <td>2010-12-17 12:00:00</td>\n",
       "      <td>Художественный</td>\n",
       "      <td>Константин Фильм, А Эр Ди Дегето Фильм, Дюне ...</td>\n",
       "      <td>Германия - Великобритания - Италия - Испания</td>\n",
       "      <td>Зенке Вортманн</td>\n",
       "      <td>Оливер Бербен, Дорис Д.Хайнце, Фарук Элтан</td>\n",
       "      <td>«16+» - для детей старше 16 лет</td>\n",
       "      <td>NaN</td>\n",
       "      <td>NaN</td>\n",
       "      <td>NaN</td>\n",
       "      <td>NaN</td>\n",
       "      <td>7.6</td>\n",
       "      <td>драма,мелодрама,история</td>\n",
       "      <td>NaN</td>\n",
       "    </tr>\n",
       "    <tr>\n",
       "      <th>5067</th>\n",
       "      <td>Анализируй это!</td>\n",
       "      <td>221054410.0</td>\n",
       "      <td>2010-05-25 12:00:00</td>\n",
       "      <td>Художественный</td>\n",
       "      <td>Уорнер Бразерс, Вилладж Роудшоу Филмз ЛТД</td>\n",
       "      <td>США-Австралия</td>\n",
       "      <td>ХЭрольд Рэмис</td>\n",
       "      <td>Джейн Розенталь, Пола Уейнстейн</td>\n",
       "      <td>«16+» - для детей старше 16 лет</td>\n",
       "      <td>NaN</td>\n",
       "      <td>NaN</td>\n",
       "      <td>NaN</td>\n",
       "      <td>NaN</td>\n",
       "      <td>7.4</td>\n",
       "      <td>комедия,криминал</td>\n",
       "      <td>NaN</td>\n",
       "    </tr>\n",
       "    <tr>\n",
       "      <th>5068</th>\n",
       "      <td>Анализируй то!</td>\n",
       "      <td>221054410.0</td>\n",
       "      <td>2010-05-25 12:00:00</td>\n",
       "      <td>Художественный</td>\n",
       "      <td>Уорнер Бразерс, Виллидж Роадшоу Пикчерз, Эн-Пи...</td>\n",
       "      <td>США</td>\n",
       "      <td>Гарольд Реймис</td>\n",
       "      <td>Джейн Розенталь, Паул Уэйнстейн</td>\n",
       "      <td>«12+» - для детей старше 12 лет</td>\n",
       "      <td>NaN</td>\n",
       "      <td>NaN</td>\n",
       "      <td>NaN</td>\n",
       "      <td>NaN</td>\n",
       "      <td>6.8</td>\n",
       "      <td>комедия,криминал</td>\n",
       "      <td>NaN</td>\n",
       "    </tr>\n",
       "  </tbody>\n",
       "</table>\n",
       "</div>"
      ],
      "text/plain": [
       "                                                  title     puNumber  \\\n",
       "4638                   Как жениться и остаться холостым  221154310.0   \n",
       "4639  Иоанна - женщина на папском престоле /По роман...  221154310.0   \n",
       "5067                                    Анализируй это!  221054410.0   \n",
       "5068                                     Анализируй то!  221054410.0   \n",
       "\n",
       "         show_start_date            type  \\\n",
       "4638 2010-12-17 12:00:00  Художественный   \n",
       "4639 2010-12-17 12:00:00  Художественный   \n",
       "5067 2010-05-25 12:00:00  Художественный   \n",
       "5068 2010-05-25 12:00:00  Художественный   \n",
       "\n",
       "                                            film_studio  \\\n",
       "4638  Ше Вам, Скрипт Ассосье, Тэ Фэ 1 Фильм Продюксь...   \n",
       "4639   Константин Фильм, А Эр Ди Дегето Фильм, Дюне ...   \n",
       "5067          Уорнер Бразерс, Вилладж Роудшоу Филмз ЛТД   \n",
       "5068  Уорнер Бразерс, Виллидж Роадшоу Пикчерз, Эн-Пи...   \n",
       "\n",
       "                                production_country        director  \\\n",
       "4638                                       Франция    Эрик Лартиго   \n",
       "4639  Германия - Великобритания - Италия - Испания  Зенке Вортманн   \n",
       "5067                                 США-Австралия   ХЭрольд Рэмис   \n",
       "5068                                           США  Гарольд Реймис   \n",
       "\n",
       "                                        producer  \\\n",
       "4638                     Амандин Било, Алан Шаба   \n",
       "4639  Оливер Бербен, Дорис Д.Хайнце, Фарук Элтан   \n",
       "5067             Джейн Розенталь, Пола Уейнстейн   \n",
       "5068             Джейн Розенталь, Паул Уэйнстейн   \n",
       "\n",
       "                      age_restriction  refundable_support  \\\n",
       "4638  «16+» - для детей старше 16 лет                 NaN   \n",
       "4639  «16+» - для детей старше 16 лет                 NaN   \n",
       "5067  «16+» - для детей старше 16 лет                 NaN   \n",
       "5068  «12+» - для детей старше 12 лет                 NaN   \n",
       "\n",
       "      nonrefundable_support  budget financing_source  ratings  \\\n",
       "4638                    NaN     NaN              NaN      7.0   \n",
       "4639                    NaN     NaN              NaN      7.6   \n",
       "5067                    NaN     NaN              NaN      7.4   \n",
       "5068                    NaN     NaN              NaN      6.8   \n",
       "\n",
       "                       genres  box_office  \n",
       "4638        мелодрама,комедия         NaN  \n",
       "4639  драма,мелодрама,история         NaN  \n",
       "5067         комедия,криминал         NaN  \n",
       "5068         комедия,криминал         NaN  "
      ]
     },
     "execution_count": 24,
     "metadata": {},
     "output_type": "execute_result"
    }
   ],
   "source": [
    "mkrf_movies[mkrf_movies['puNumber'].duplicated(keep=False)]"
   ]
  },
  {
   "cell_type": "code",
   "execution_count": 25,
   "metadata": {},
   "outputs": [
    {
     "data": {
      "text/html": [
       "<div>\n",
       "<style scoped>\n",
       "    .dataframe tbody tr th:only-of-type {\n",
       "        vertical-align: middle;\n",
       "    }\n",
       "\n",
       "    .dataframe tbody tr th {\n",
       "        vertical-align: top;\n",
       "    }\n",
       "\n",
       "    .dataframe thead th {\n",
       "        text-align: right;\n",
       "    }\n",
       "</style>\n",
       "<table border=\"1\" class=\"dataframe\">\n",
       "  <thead>\n",
       "    <tr style=\"text-align: right;\">\n",
       "      <th></th>\n",
       "      <th>title</th>\n",
       "      <th>puNumber</th>\n",
       "      <th>show_start_date</th>\n",
       "      <th>type</th>\n",
       "      <th>film_studio</th>\n",
       "      <th>production_country</th>\n",
       "      <th>director</th>\n",
       "      <th>producer</th>\n",
       "      <th>age_restriction</th>\n",
       "      <th>refundable_support</th>\n",
       "      <th>nonrefundable_support</th>\n",
       "      <th>budget</th>\n",
       "      <th>financing_source</th>\n",
       "      <th>ratings</th>\n",
       "      <th>genres</th>\n",
       "      <th>box_office</th>\n",
       "    </tr>\n",
       "  </thead>\n",
       "  <tbody>\n",
       "    <tr>\n",
       "      <th>4520</th>\n",
       "      <td>Как жениться и остаться холостым</td>\n",
       "      <td>221142510.0</td>\n",
       "      <td>2010-12-03 12:00:00</td>\n",
       "      <td>Художественный</td>\n",
       "      <td>Ше Вам, Скрипт Ассосье, Тэ Фэ 1 Фильм Продюксь...</td>\n",
       "      <td>Франция</td>\n",
       "      <td>Эрик Лартиго</td>\n",
       "      <td>Амандин Било, Алан Шаба</td>\n",
       "      <td>«16+» - для детей старше 16 лет</td>\n",
       "      <td>NaN</td>\n",
       "      <td>NaN</td>\n",
       "      <td>NaN</td>\n",
       "      <td>NaN</td>\n",
       "      <td>7.0</td>\n",
       "      <td>мелодрама,комедия</td>\n",
       "      <td>NaN</td>\n",
       "    </tr>\n",
       "    <tr>\n",
       "      <th>4638</th>\n",
       "      <td>Как жениться и остаться холостым</td>\n",
       "      <td>221154310.0</td>\n",
       "      <td>2010-12-17 12:00:00</td>\n",
       "      <td>Художественный</td>\n",
       "      <td>Ше Вам, Скрипт Ассосье, Тэ Фэ 1 Фильм Продюксь...</td>\n",
       "      <td>Франция</td>\n",
       "      <td>Эрик Лартиго</td>\n",
       "      <td>Амандин Било, Алан Шаба</td>\n",
       "      <td>«16+» - для детей старше 16 лет</td>\n",
       "      <td>NaN</td>\n",
       "      <td>NaN</td>\n",
       "      <td>NaN</td>\n",
       "      <td>NaN</td>\n",
       "      <td>7.0</td>\n",
       "      <td>мелодрама,комедия</td>\n",
       "      <td>NaN</td>\n",
       "    </tr>\n",
       "  </tbody>\n",
       "</table>\n",
       "</div>"
      ],
      "text/plain": [
       "                                 title     puNumber     show_start_date  \\\n",
       "4520  Как жениться и остаться холостым  221142510.0 2010-12-03 12:00:00   \n",
       "4638  Как жениться и остаться холостым  221154310.0 2010-12-17 12:00:00   \n",
       "\n",
       "                type                                        film_studio  \\\n",
       "4520  Художественный  Ше Вам, Скрипт Ассосье, Тэ Фэ 1 Фильм Продюксь...   \n",
       "4638  Художественный  Ше Вам, Скрипт Ассосье, Тэ Фэ 1 Фильм Продюксь...   \n",
       "\n",
       "     production_country      director                 producer  \\\n",
       "4520            Франция  Эрик Лартиго  Амандин Било, Алан Шаба   \n",
       "4638            Франция  Эрик Лартиго  Амандин Било, Алан Шаба   \n",
       "\n",
       "                      age_restriction  refundable_support  \\\n",
       "4520  «16+» - для детей старше 16 лет                 NaN   \n",
       "4638  «16+» - для детей старше 16 лет                 NaN   \n",
       "\n",
       "      nonrefundable_support  budget financing_source  ratings  \\\n",
       "4520                    NaN     NaN              NaN      7.0   \n",
       "4638                    NaN     NaN              NaN      7.0   \n",
       "\n",
       "                 genres  box_office  \n",
       "4520  мелодрама,комедия         NaN  \n",
       "4638  мелодрама,комедия         NaN  "
      ]
     },
     "execution_count": 25,
     "metadata": {},
     "output_type": "execute_result"
    }
   ],
   "source": [
    "mkrf_movies[mkrf_movies['title'] == mkrf_movies.loc[4638, 'title']]"
   ]
  },
  {
   "cell_type": "code",
   "execution_count": 26,
   "metadata": {},
   "outputs": [
    {
     "data": {
      "text/html": [
       "<div>\n",
       "<style scoped>\n",
       "    .dataframe tbody tr th:only-of-type {\n",
       "        vertical-align: middle;\n",
       "    }\n",
       "\n",
       "    .dataframe tbody tr th {\n",
       "        vertical-align: top;\n",
       "    }\n",
       "\n",
       "    .dataframe thead th {\n",
       "        text-align: right;\n",
       "    }\n",
       "</style>\n",
       "<table border=\"1\" class=\"dataframe\">\n",
       "  <thead>\n",
       "    <tr style=\"text-align: right;\">\n",
       "      <th></th>\n",
       "      <th>title</th>\n",
       "      <th>puNumber</th>\n",
       "      <th>show_start_date</th>\n",
       "      <th>type</th>\n",
       "      <th>film_studio</th>\n",
       "      <th>production_country</th>\n",
       "      <th>director</th>\n",
       "      <th>producer</th>\n",
       "      <th>age_restriction</th>\n",
       "      <th>refundable_support</th>\n",
       "      <th>nonrefundable_support</th>\n",
       "      <th>budget</th>\n",
       "      <th>financing_source</th>\n",
       "      <th>ratings</th>\n",
       "      <th>genres</th>\n",
       "      <th>box_office</th>\n",
       "    </tr>\n",
       "  </thead>\n",
       "  <tbody>\n",
       "    <tr>\n",
       "      <th>4520</th>\n",
       "      <td>Как жениться и остаться холостым</td>\n",
       "      <td>221142510.0</td>\n",
       "      <td>2010-12-03 12:00:00</td>\n",
       "      <td>Художественный</td>\n",
       "      <td>Ше Вам, Скрипт Ассосье, Тэ Фэ 1 Фильм Продюксь...</td>\n",
       "      <td>Франция</td>\n",
       "      <td>Эрик Лартиго</td>\n",
       "      <td>Амандин Било, Алан Шаба</td>\n",
       "      <td>«16+» - для детей старше 16 лет</td>\n",
       "      <td>NaN</td>\n",
       "      <td>NaN</td>\n",
       "      <td>NaN</td>\n",
       "      <td>NaN</td>\n",
       "      <td>7.0</td>\n",
       "      <td>мелодрама,комедия</td>\n",
       "      <td>NaN</td>\n",
       "    </tr>\n",
       "    <tr>\n",
       "      <th>4638</th>\n",
       "      <td>Как жениться и остаться холостым</td>\n",
       "      <td>221154310.0</td>\n",
       "      <td>2010-12-17 12:00:00</td>\n",
       "      <td>Художественный</td>\n",
       "      <td>Ше Вам, Скрипт Ассосье, Тэ Фэ 1 Фильм Продюксь...</td>\n",
       "      <td>Франция</td>\n",
       "      <td>Эрик Лартиго</td>\n",
       "      <td>Амандин Било, Алан Шаба</td>\n",
       "      <td>«16+» - для детей старше 16 лет</td>\n",
       "      <td>NaN</td>\n",
       "      <td>NaN</td>\n",
       "      <td>NaN</td>\n",
       "      <td>NaN</td>\n",
       "      <td>7.0</td>\n",
       "      <td>мелодрама,комедия</td>\n",
       "      <td>NaN</td>\n",
       "    </tr>\n",
       "  </tbody>\n",
       "</table>\n",
       "</div>"
      ],
      "text/plain": [
       "                                 title     puNumber     show_start_date  \\\n",
       "4520  Как жениться и остаться холостым  221142510.0 2010-12-03 12:00:00   \n",
       "4638  Как жениться и остаться холостым  221154310.0 2010-12-17 12:00:00   \n",
       "\n",
       "                type                                        film_studio  \\\n",
       "4520  Художественный  Ше Вам, Скрипт Ассосье, Тэ Фэ 1 Фильм Продюксь...   \n",
       "4638  Художественный  Ше Вам, Скрипт Ассосье, Тэ Фэ 1 Фильм Продюксь...   \n",
       "\n",
       "     production_country      director                 producer  \\\n",
       "4520            Франция  Эрик Лартиго  Амандин Било, Алан Шаба   \n",
       "4638            Франция  Эрик Лартиго  Амандин Било, Алан Шаба   \n",
       "\n",
       "                      age_restriction  refundable_support  \\\n",
       "4520  «16+» - для детей старше 16 лет                 NaN   \n",
       "4638  «16+» - для детей старше 16 лет                 NaN   \n",
       "\n",
       "      nonrefundable_support  budget financing_source  ratings  \\\n",
       "4520                    NaN     NaN              NaN      7.0   \n",
       "4638                    NaN     NaN              NaN      7.0   \n",
       "\n",
       "                 genres  box_office  \n",
       "4520  мелодрама,комедия         NaN  \n",
       "4638  мелодрама,комедия         NaN  "
      ]
     },
     "execution_count": 26,
     "metadata": {},
     "output_type": "execute_result"
    }
   ],
   "source": [
    "mkrf_movies[mkrf_movies['title'] == mkrf_movies.loc[4638, 'title']]"
   ]
  },
  {
   "cell_type": "code",
   "execution_count": 27,
   "metadata": {},
   "outputs": [
    {
     "data": {
      "text/html": [
       "<div>\n",
       "<style scoped>\n",
       "    .dataframe tbody tr th:only-of-type {\n",
       "        vertical-align: middle;\n",
       "    }\n",
       "\n",
       "    .dataframe tbody tr th {\n",
       "        vertical-align: top;\n",
       "    }\n",
       "\n",
       "    .dataframe thead th {\n",
       "        text-align: right;\n",
       "    }\n",
       "</style>\n",
       "<table border=\"1\" class=\"dataframe\">\n",
       "  <thead>\n",
       "    <tr style=\"text-align: right;\">\n",
       "      <th></th>\n",
       "      <th>title</th>\n",
       "      <th>puNumber</th>\n",
       "      <th>show_start_date</th>\n",
       "      <th>type</th>\n",
       "      <th>film_studio</th>\n",
       "      <th>production_country</th>\n",
       "      <th>director</th>\n",
       "      <th>producer</th>\n",
       "      <th>age_restriction</th>\n",
       "      <th>refundable_support</th>\n",
       "      <th>nonrefundable_support</th>\n",
       "      <th>budget</th>\n",
       "      <th>financing_source</th>\n",
       "      <th>ratings</th>\n",
       "      <th>genres</th>\n",
       "      <th>box_office</th>\n",
       "    </tr>\n",
       "  </thead>\n",
       "  <tbody>\n",
       "    <tr>\n",
       "      <th>4553</th>\n",
       "      <td>Анализируй это!</td>\n",
       "      <td>221147310.0</td>\n",
       "      <td>2010-12-15 12:00:00</td>\n",
       "      <td>Художественный</td>\n",
       "      <td>Уорнер Бразерс, Вилладж Роудшоу Филмз ЛТД</td>\n",
       "      <td>США-Австралия</td>\n",
       "      <td>ХЭрольд Рэмис</td>\n",
       "      <td>Джейн Розенталь, Пола Уейнстейн</td>\n",
       "      <td>«16+» - для детей старше 16 лет</td>\n",
       "      <td>NaN</td>\n",
       "      <td>NaN</td>\n",
       "      <td>NaN</td>\n",
       "      <td>NaN</td>\n",
       "      <td>7.4</td>\n",
       "      <td>комедия,криминал</td>\n",
       "      <td>NaN</td>\n",
       "    </tr>\n",
       "    <tr>\n",
       "      <th>5067</th>\n",
       "      <td>Анализируй это!</td>\n",
       "      <td>221054410.0</td>\n",
       "      <td>2010-05-25 12:00:00</td>\n",
       "      <td>Художественный</td>\n",
       "      <td>Уорнер Бразерс, Вилладж Роудшоу Филмз ЛТД</td>\n",
       "      <td>США-Австралия</td>\n",
       "      <td>ХЭрольд Рэмис</td>\n",
       "      <td>Джейн Розенталь, Пола Уейнстейн</td>\n",
       "      <td>«16+» - для детей старше 16 лет</td>\n",
       "      <td>NaN</td>\n",
       "      <td>NaN</td>\n",
       "      <td>NaN</td>\n",
       "      <td>NaN</td>\n",
       "      <td>7.4</td>\n",
       "      <td>комедия,криминал</td>\n",
       "      <td>NaN</td>\n",
       "    </tr>\n",
       "  </tbody>\n",
       "</table>\n",
       "</div>"
      ],
      "text/plain": [
       "                title     puNumber     show_start_date            type  \\\n",
       "4553  Анализируй это!  221147310.0 2010-12-15 12:00:00  Художественный   \n",
       "5067  Анализируй это!  221054410.0 2010-05-25 12:00:00  Художественный   \n",
       "\n",
       "                                    film_studio production_country  \\\n",
       "4553  Уорнер Бразерс, Вилладж Роудшоу Филмз ЛТД      США-Австралия   \n",
       "5067  Уорнер Бразерс, Вилладж Роудшоу Филмз ЛТД      США-Австралия   \n",
       "\n",
       "           director                         producer  \\\n",
       "4553  ХЭрольд Рэмис  Джейн Розенталь, Пола Уейнстейн   \n",
       "5067  ХЭрольд Рэмис  Джейн Розенталь, Пола Уейнстейн   \n",
       "\n",
       "                      age_restriction  refundable_support  \\\n",
       "4553  «16+» - для детей старше 16 лет                 NaN   \n",
       "5067  «16+» - для детей старше 16 лет                 NaN   \n",
       "\n",
       "      nonrefundable_support  budget financing_source  ratings  \\\n",
       "4553                    NaN     NaN              NaN      7.4   \n",
       "5067                    NaN     NaN              NaN      7.4   \n",
       "\n",
       "                genres  box_office  \n",
       "4553  комедия,криминал         NaN  \n",
       "5067  комедия,криминал         NaN  "
      ]
     },
     "execution_count": 27,
     "metadata": {},
     "output_type": "execute_result"
    }
   ],
   "source": [
    "mkrf_movies[mkrf_movies['title'] == mkrf_movies.loc[5067, 'title']]"
   ]
  },
  {
   "cell_type": "code",
   "execution_count": 28,
   "metadata": {},
   "outputs": [
    {
     "data": {
      "text/html": [
       "<div>\n",
       "<style scoped>\n",
       "    .dataframe tbody tr th:only-of-type {\n",
       "        vertical-align: middle;\n",
       "    }\n",
       "\n",
       "    .dataframe tbody tr th {\n",
       "        vertical-align: top;\n",
       "    }\n",
       "\n",
       "    .dataframe thead th {\n",
       "        text-align: right;\n",
       "    }\n",
       "</style>\n",
       "<table border=\"1\" class=\"dataframe\">\n",
       "  <thead>\n",
       "    <tr style=\"text-align: right;\">\n",
       "      <th></th>\n",
       "      <th>title</th>\n",
       "      <th>puNumber</th>\n",
       "      <th>show_start_date</th>\n",
       "      <th>type</th>\n",
       "      <th>film_studio</th>\n",
       "      <th>production_country</th>\n",
       "      <th>director</th>\n",
       "      <th>producer</th>\n",
       "      <th>age_restriction</th>\n",
       "      <th>refundable_support</th>\n",
       "      <th>nonrefundable_support</th>\n",
       "      <th>budget</th>\n",
       "      <th>financing_source</th>\n",
       "      <th>ratings</th>\n",
       "      <th>genres</th>\n",
       "      <th>box_office</th>\n",
       "    </tr>\n",
       "  </thead>\n",
       "  <tbody>\n",
       "    <tr>\n",
       "      <th>5068</th>\n",
       "      <td>Анализируй то!</td>\n",
       "      <td>221054410.0</td>\n",
       "      <td>2010-05-25 12:00:00</td>\n",
       "      <td>Художественный</td>\n",
       "      <td>Уорнер Бразерс, Виллидж Роадшоу Пикчерз, Эн-Пи...</td>\n",
       "      <td>США</td>\n",
       "      <td>Гарольд Реймис</td>\n",
       "      <td>Джейн Розенталь, Паул Уэйнстейн</td>\n",
       "      <td>«12+» - для детей старше 12 лет</td>\n",
       "      <td>NaN</td>\n",
       "      <td>NaN</td>\n",
       "      <td>NaN</td>\n",
       "      <td>NaN</td>\n",
       "      <td>6.8</td>\n",
       "      <td>комедия,криминал</td>\n",
       "      <td>NaN</td>\n",
       "    </tr>\n",
       "  </tbody>\n",
       "</table>\n",
       "</div>"
      ],
      "text/plain": [
       "               title     puNumber     show_start_date            type  \\\n",
       "5068  Анализируй то!  221054410.0 2010-05-25 12:00:00  Художественный   \n",
       "\n",
       "                                            film_studio production_country  \\\n",
       "5068  Уорнер Бразерс, Виллидж Роадшоу Пикчерз, Эн-Пи...                США   \n",
       "\n",
       "            director                         producer  \\\n",
       "5068  Гарольд Реймис  Джейн Розенталь, Паул Уэйнстейн   \n",
       "\n",
       "                      age_restriction  refundable_support  \\\n",
       "5068  «12+» - для детей старше 12 лет                 NaN   \n",
       "\n",
       "      nonrefundable_support  budget financing_source  ratings  \\\n",
       "5068                    NaN     NaN              NaN      6.8   \n",
       "\n",
       "                genres  box_office  \n",
       "5068  комедия,криминал         NaN  "
      ]
     },
     "execution_count": 28,
     "metadata": {},
     "output_type": "execute_result"
    }
   ],
   "source": [
    "mkrf_movies[mkrf_movies['title'] == mkrf_movies.loc[5068, 'title']]"
   ]
  },
  {
   "cell_type": "markdown",
   "metadata": {},
   "source": [
    "**Вывод:**\n",
    "\n",
    "Явных дубликатов у нас нет. Есть повторяющиеся значения в названиях фильмов, это связано с тем, что одному и тому же фильму выдавали разные прокатные удостоверения. Также есть повторы и в номерах прокатных удостоверений, это скорее всего связано с тем, что под одним удостоверением выходило в прокат несколько фильмов, такое возможно из-за незначительного разного перевода названия фильма, как вариант. Но в описании данных у нас говорится, что у одного фильма может быть несколько прокатных удостоверений."
   ]
  },
  {
   "cell_type": "markdown",
   "metadata": {
    "id": "52fOPrEBgFyQ"
   },
   "source": [
    "#### Шаг 2.4. Изучим категориальные значения\n",
    "\n",
    "- Посмотрим, какая общая проблема встречается почти во всех категориальных столбцах;\n",
    "- Исправим проблемные значения в поле `type`.\n"
   ]
  },
  {
   "cell_type": "markdown",
   "metadata": {
    "id": "PnXKIVdFgFyR"
   },
   "source": [
    "**У нас есть 3 категориальных столбца: type, age_restriction, genres.\n",
    "Изучим каждый из них.**"
   ]
  },
  {
   "cell_type": "code",
   "execution_count": 29,
   "metadata": {},
   "outputs": [
    {
     "data": {
      "text/plain": [
       "array(['Художественный', 'Анимационный', 'Прочие', 'Документальный',\n",
       "       'Научно-популярный', ' Художественный', ' Анимационный',\n",
       "       'Музыкально-развлекательный'], dtype=object)"
      ]
     },
     "execution_count": 29,
     "metadata": {},
     "output_type": "execute_result"
    }
   ],
   "source": [
    "mkrf_movies['type'].unique()"
   ]
  },
  {
   "cell_type": "markdown",
   "metadata": {},
   "source": [
    "Заметим, что в столбце type есть несколько значений, у которых есть пробел в начале строки. Исправим это."
   ]
  },
  {
   "cell_type": "code",
   "execution_count": 30,
   "metadata": {},
   "outputs": [],
   "source": [
    "mkrf_movies['type'] = mkrf_movies['type'].str.strip()"
   ]
  },
  {
   "cell_type": "code",
   "execution_count": 31,
   "metadata": {},
   "outputs": [
    {
     "data": {
      "text/plain": [
       "Художественный                5909\n",
       "Анимационный                   829\n",
       "Прочие                         406\n",
       "Документальный                 288\n",
       "Научно-популярный               53\n",
       "Музыкально-развлекательный       1\n",
       "Name: type, dtype: int64"
      ]
     },
     "execution_count": 31,
     "metadata": {},
     "output_type": "execute_result"
    }
   ],
   "source": [
    "mkrf_movies['type'].value_counts()"
   ]
  },
  {
   "cell_type": "markdown",
   "metadata": {},
   "source": [
    "Столбец age_restriction:"
   ]
  },
  {
   "cell_type": "code",
   "execution_count": 32,
   "metadata": {},
   "outputs": [
    {
     "data": {
      "text/plain": [
       "array(['«18+» - запрещено для детей', '«6+» - для детей старше 6 лет',\n",
       "       '«12+» - для детей старше 12 лет',\n",
       "       '«16+» - для детей старше 16 лет',\n",
       "       '«0+» - для любой зрительской аудитории'], dtype=object)"
      ]
     },
     "execution_count": 32,
     "metadata": {},
     "output_type": "execute_result"
    }
   ],
   "source": [
    "mkrf_movies['age_restriction'].unique()"
   ]
  },
  {
   "cell_type": "markdown",
   "metadata": {},
   "source": [
    "Здесь все в порядке"
   ]
  },
  {
   "cell_type": "markdown",
   "metadata": {},
   "source": [
    "Столбец genres:"
   ]
  },
  {
   "cell_type": "code",
   "execution_count": 33,
   "metadata": {},
   "outputs": [
    {
     "data": {
      "text/plain": [
       "array(['боевик,драма,мелодрама', 'драма,военный',\n",
       "       'фантастика,боевик,триллер', 'драма', 'мелодрама,комедия',\n",
       "       'мюзикл,мелодрама,комедия', 'комедия,криминал',\n",
       "       'боевик,триллер,детектив', 'боевик,драма,приключения',\n",
       "       'драма,спорт', 'триллер,драма,мелодрама', 'комедия,мелодрама',\n",
       "       'драма,мелодрама,комедия', 'драма,мелодрама', 'драма,история',\n",
       "       'драма,мелодрама,семейный', 'комедия,мелодрама,криминал',\n",
       "       'комедия', 'боевик,драма,криминал', 'драма,комедия',\n",
       "       'ужасы,фантастика,комедия', 'мультфильм,короткометражка,мелодрама',\n",
       "       'драма,криминал', 'мультфильм,фантастика,фэнтези',\n",
       "       'триллер,драма,криминал', 'драма,мелодрама,биография',\n",
       "       'драма,комедия,военный', 'фантастика,драма,детектив',\n",
       "       'мюзикл,семейный', nan, 'военный,приключения,драма',\n",
       "       'документальный,драма', 'драма,биография,история',\n",
       "       'боевик,триллер,драма', 'фэнтези,боевик',\n",
       "       'боевик,комедия,криминал', 'мюзикл,комедия,детский',\n",
       "       'комедия,мелодрама,драма', 'мультфильм,фэнтези,комедия',\n",
       "       'комедия,история', 'мелодрама', 'драма,биография,музыка',\n",
       "       'фэнтези,драма,мелодрама', 'триллер,военный',\n",
       "       'драма,мелодрама,военный', 'мюзикл,драма,мелодрама',\n",
       "       'мюзикл,комедия', 'мультфильм,приключения,семейный',\n",
       "       'ужасы,триллер', 'боевик,драма,военный', 'драма,боевик',\n",
       "       'мультфильм,драма,комедия', 'триллер,криминал',\n",
       "       'военный,биография,драма', 'комедия,семейный', 'военный',\n",
       "       'драма,семейный,биография', 'фэнтези,приключения,семейный',\n",
       "       'драма,криминал,биография', 'ужасы,триллер,детектив',\n",
       "       'боевик,история,драма', 'ужасы,триллер,драма',\n",
       "       'драма,криминал,спорт', 'документальный,короткометражка',\n",
       "       'триллер,драма', 'криминал,детектив,приключения',\n",
       "       'драма,комедия,криминал', 'драма,комедия,вестерн',\n",
       "       'драма,мелодрама,детектив', 'мелодрама,биография',\n",
       "       'фэнтези,мелодрама,драма', 'драма,мелодрама,история',\n",
       "       'комедия,приключения,история', 'приключения', 'драма,семейный',\n",
       "       'криминал,детектив', 'мультфильм,короткометражка,ужасы',\n",
       "       'фантастика,триллер,драма', 'фэнтези,мелодрама,комедия',\n",
       "       'драма,биография', 'комедия,криминал,история',\n",
       "       'триллер,драма,детектив', 'фантастика,комедия,приключения',\n",
       "       'фэнтези,семейный', 'ужасы,фантастика,боевик',\n",
       "       'мелодрама,криминал', 'комедия,приключения,мелодрама',\n",
       "       'боевик,триллер,приключения', 'боевик,приключения',\n",
       "       'боевик,триллер,криминал', 'документальный,военный,история',\n",
       "       'драма,музыка', 'боевик,драма', 'приключения,боевик',\n",
       "       'драма,военный,биография', 'триллер,драма,приключения',\n",
       "       'аниме,мультфильм,фэнтези', 'триллер,детектив,драма',\n",
       "       'боевик,триллер,мелодрама', 'боевик,история',\n",
       "       'приключения,история', 'драма,комедия,приключения',\n",
       "       'фэнтези,комедия,приключения', 'драма,вестерн',\n",
       "       'документальный,музыка', 'мелодрама,драма',\n",
       "       'триллер,криминал,детектив', 'ужасы', 'боевик,комедия,приключения',\n",
       "       'мультфильм,фэнтези,боевик', 'боевик,фэнтези,драма',\n",
       "       'фэнтези,драма', 'фэнтези,боевик,комедия',\n",
       "       'приключения,детский,комедия', 'документальный',\n",
       "       'боевик,триллер,комедия', 'мелодрама,комедия,криминал',\n",
       "       'драма,детектив', 'мюзикл,ужасы,триллер', 'детектив,триллер,ужасы',\n",
       "       'ужасы,фэнтези', 'ужасы,фэнтези,триллер', 'мультфильм,драма',\n",
       "       'ужасы,боевик,фантастика', 'боевик', 'фантастика,боевик',\n",
       "       'мелодрама,комедия,приключения', 'триллер,детектив',\n",
       "       'мюзикл,мелодрама,фэнтези', 'криминал', 'триллер,комедия,криминал',\n",
       "       'боевик,приключения,триллер', 'триллер,драма,военный',\n",
       "       'комедия,семейный,музыка', 'комедия,фантастика,мелодрама',\n",
       "       'фантастика,триллер,криминал', 'комедия,драма', 'боевик,военный',\n",
       "       'ужасы,фантастика,триллер', 'фантастика,драма,мелодрама',\n",
       "       'фэнтези,драма,детектив', 'боевик,триллер', 'боевик,драма,история',\n",
       "       'мультфильм,мюзикл,фэнтези', 'для взрослых,драма,мелодрама',\n",
       "       'мультфильм,боевик,детектив', 'фантастика,мелодрама,боевик',\n",
       "       'ужасы,фантастика,детектив', 'фантастика,боевик,приключения',\n",
       "       'мелодрама,комедия,спорт', 'комедия,боевик,приключения',\n",
       "       'документальный,приключения', 'мультфильм,короткометражка,детский',\n",
       "       'комедия,приключения', 'ужасы,драма', 'ужасы,фэнтези,боевик',\n",
       "       'мультфильм,фэнтези,детский', 'мюзикл,боевик,драма',\n",
       "       'семейный,комедия,драма', 'концерт,музыка', 'фэнтези,боевик,драма',\n",
       "       'драма,комедия,музыка', 'фантастика,фэнтези,боевик',\n",
       "       'фэнтези,комедия,семейный', 'фэнтези,драма,комедия',\n",
       "       'мультфильм,мюзикл,драма', 'триллер', 'боевик,криминал,триллер',\n",
       "       'мультфильм,приключения,драма', 'мелодрама,музыка',\n",
       "       'документальный,музыка,концерт', 'мультфильм,семейный',\n",
       "       'мультфильм,комедия,приключения', 'мультфильм,комедия,семейный',\n",
       "       'фантастика,драма', 'фэнтези,боевик,приключения',\n",
       "       'мультфильм,приключения', 'драма,военный,история', 'история',\n",
       "       'драма,приключения,военный',\n",
       "       'документальный,короткометражка,семейный',\n",
       "       'мелодрама,история,триллер', 'ужасы,детектив',\n",
       "       'мюзикл,комедия,приключения', 'драма,спорт,биография',\n",
       "       'фантастика,боевик,комедия', 'фантастика,приключения,детектив',\n",
       "       'короткометражка,драма,военный', 'драма,мультфильм',\n",
       "       'приключения,семейный', 'детектив', 'триллер,приключения',\n",
       "       'аниме,мультфильм,боевик', 'драма,комедия,биография',\n",
       "       'драма,комедия,спорт', 'боевик,мелодрама,комедия',\n",
       "       'семейный,комедия', 'фэнтези,боевик,триллер',\n",
       "       'документальный,фэнтези,семейный', 'фантастика,фэнтези,драма',\n",
       "       'ужасы,комедия,фэнтези', 'документальный,биография,музыка',\n",
       "       'фантастика,боевик,фэнтези', 'ужасы,боевик,триллер',\n",
       "       'комедия,криминал,семейный', 'приключения,драма',\n",
       "       'криминал,драма,триллер', 'драма,детектив,криминал',\n",
       "       'фэнтези,приключения,комедия', 'комедия,спорт',\n",
       "       'мюзикл,фэнтези,мелодрама', 'мультфильм,фэнтези,приключения',\n",
       "       'фантастика,фэнтези,приключения', 'фэнтези',\n",
       "       'фэнтези,приключения,боевик', 'фантастика,боевик,драма',\n",
       "       'криминал,драма', 'криминал,триллер,драма',\n",
       "       'драма,мелодрама,приключения', 'детский,комедия',\n",
       "       'фантастика,драма,боевик', 'мультфильм,семейный,фэнтези',\n",
       "       'концерт,музыка,документальный', 'ужасы,комедия,приключения',\n",
       "       'драма,мелодрама,криминал', 'ужасы,фантастика,фэнтези',\n",
       "       'боевик,комедия', 'мультфильм,фантастика,комедия', 'триллер,ужасы',\n",
       "       'мультфильм,мюзикл,комедия', 'мелодрама,фэнтези,триллер',\n",
       "       'детский,приключения,комедия', 'комедия,детектив',\n",
       "       'аниме,мультфильм,мелодрама', 'документальный,драма,семейный',\n",
       "       'документальный,биография,история', 'военный,боевик,драма',\n",
       "       'ужасы,комедия', 'комедия,приключения,семейный',\n",
       "       'приключения,биография,история', 'детский,приключения,семейный',\n",
       "       'спорт,драма,биография', 'аниме,мультфильм,ужасы',\n",
       "       'фантастика,боевик,криминал', 'мюзикл,драма',\n",
       "       'драма,криминал,детектив', 'аниме,мультфильм,драма',\n",
       "       'драма,триллер,приключения', 'триллер,криминал,драма',\n",
       "       'фэнтези,комедия,драма', 'мультфильм,комедия',\n",
       "       'драма,комедия,история', 'комедия,биография,история',\n",
       "       'мультфильм,фантастика,приключения', 'аниме,мультфильм,фантастика',\n",
       "       'мультфильм,фэнтези,семейный', 'мультфильм,боевик,комедия',\n",
       "       'комедия,криминал,спорт', 'документальный,мюзикл',\n",
       "       'мелодрама,комедия,музыка', 'биография',\n",
       "       'триллер,криминал,комедия', 'фантастика,драма,комедия',\n",
       "       'комедия,драма,мелодрама', 'фантастика,приключения,боевик',\n",
       "       'мультфильм,фэнтези,драма', 'триллер,комедия',\n",
       "       'драма,приключения,биография', 'фантастика,комедия',\n",
       "       'мелодрама,драма,комедия', 'боевик,криминал',\n",
       "       'драма,криминал,боевик', 'мультфильм,мюзикл,детский',\n",
       "       'драма,фэнтези', 'документальный,семейный',\n",
       "       'фэнтези,драма,приключения', 'ужасы,комедия,фантастика',\n",
       "       'драма,мелодрама,музыка', 'фэнтези,драма,семейный',\n",
       "       'триллер,мелодрама,драма', 'вестерн,боевик,драма',\n",
       "       'мультфильм,короткометражка,комедия', 'триллер,драма,история',\n",
       "       'ужасы,фантастика', 'ужасы,мелодрама,комедия',\n",
       "       'фэнтези,приключения', 'фантастика,триллер',\n",
       "       'ужасы,боевик,фэнтези', 'мультфильм,комедия,детский',\n",
       "       'триллер,драма,биография', 'мультфильм,ужасы,фэнтези',\n",
       "       'мультфильм,ужасы,фантастика', 'ужасы,боевик,комедия',\n",
       "       'драма,биография,спорт', 'мультфильм', 'мелодрама,комедия,драма',\n",
       "       'приключения,фантастика,семейный', 'комедия,криминал,детектив',\n",
       "       'ужасы,триллер,комедия', 'криминал,комедия,триллер',\n",
       "       'семейный,приключения,комедия', 'мультфильм,драма,приключения',\n",
       "       'ужасы,драма,детектив', 'драма,приключения,фэнтези',\n",
       "       'фантастика,мультфильм,драма', 'драма,триллер,детектив',\n",
       "       'драма,история,музыка', 'детский', 'триллер,боевик,криминал',\n",
       "       'драма,фантастика', 'комедия,драма,семейный',\n",
       "       'боевик,драма,комедия', 'комедия,ужасы',\n",
       "       'драма,фантастика,триллер', 'фантастика,драма,триллер',\n",
       "       'история,спорт,драма', 'документальный,биография',\n",
       "       'биография,история', 'спорт,драма', 'боевик,фэнтези',\n",
       "       'мультфильм,фэнтези', 'документальный,комедия,история',\n",
       "       'криминал,комедия,боевик', 'фэнтези,приключения,драма',\n",
       "       'музыка,концерт', 'триллер,драма,боевик',\n",
       "       'комедия,криминал,боевик', 'комедия,фантастика,боевик',\n",
       "       'вестерн,приключения,боевик', 'аниме,мультфильм,комедия',\n",
       "       'детектив,криминал,триллер', 'мультфильм,комедия,криминал',\n",
       "       'комедия,приключения,детектив', 'мелодрама,фантастика,драма',\n",
       "       'драма,комедия,семейный', 'приключения,фантастика',\n",
       "       'триллер,детектив,ужасы', 'комедия,приключения,фэнтези',\n",
       "       'фэнтези,триллер,драма', 'мелодрама,приключения,боевик',\n",
       "       'детектив,триллер,криминал', 'фэнтези,семейный,мелодрама',\n",
       "       'военный,драма', 'документальный,приключения,семейный',\n",
       "       'криминал,комедия,драма', 'комедия,фантастика',\n",
       "       'история,биография,драма', 'мелодрама,драма,музыка',\n",
       "       'боевик,мелодрама', 'комедия,криминал,триллер',\n",
       "       'детектив,триллер,боевик', 'комедия,боевик,криминал',\n",
       "       'комедия,вестерн', 'детский,мелодрама,семейный',\n",
       "       'короткометражка,мультфильм', 'комедия,фэнтези',\n",
       "       'фантастика,драма,ужасы', 'триллер,драма,ужасы',\n",
       "       'драма,фэнтези,история', 'комедия,драма,короткометражка',\n",
       "       'фэнтези,триллер,приключения', 'семейный',\n",
       "       'комедия,криминал,драма', 'комедия,фэнтези,ужасы',\n",
       "       'короткометражка,комедия,криминал', 'фантастика',\n",
       "       'триллер,ужасы,драма', 'мелодрама,драма,фэнтези',\n",
       "       'фантастика,приключения,драма', 'боевик,детектив',\n",
       "       'военный,драма,боевик', 'комедия,мелодрама,фэнтези',\n",
       "       'вестерн,криминал,триллер', 'драма,история,триллер',\n",
       "       'мультфильм,фантастика,боевик', 'детектив,драма,криминал',\n",
       "       'приключения,история,драма', 'мультфильм,семейный,детский',\n",
       "       'биография,драма,история', 'триллер,криминал,боевик',\n",
       "       'история,мелодрама', 'приключения,детский',\n",
       "       'музыка,приключения,концерт', 'военный,драма,комедия',\n",
       "       'фэнтези,боевик,военный', 'фантастика,детектив,боевик',\n",
       "       'мультфильм,фэнтези,история', 'биография,мелодрама,драма',\n",
       "       'документальный,биография,спорт', 'фантастика,комедия,детектив',\n",
       "       'музыка,концерт,документальный', 'триллер,боевик,приключения',\n",
       "       'триллер,драма,комедия', 'детектив,криминал',\n",
       "       'мультфильм,приключения,фэнтези', 'мелодрама,приключения',\n",
       "       'комедия,музыка', 'мелодрама,комедия,ужасы',\n",
       "       'драма,криминал,приключения', 'приключения,детектив,мелодрама',\n",
       "       'драма,криминал,фантастика', 'фэнтези,драма,биография',\n",
       "       'детектив,фантастика,криминал', 'триллер,драма,фантастика',\n",
       "       'ужасы,комедия,боевик', 'мелодрама,история', 'триллер,боевик',\n",
       "       'фильм-нуар,триллер,детектив', 'комедия,криминал,приключения',\n",
       "       'ужасы,триллер,мелодрама', 'военный,драма,история',\n",
       "       'драма,спорт,история', 'документальный,драма,история',\n",
       "       'триллер,мелодрама,детектив', 'детский,семейный',\n",
       "       'мюзикл,семейный,драма', 'биография,военный,драма',\n",
       "       'мультфильм,детский', 'боевик,криминал,драма',\n",
       "       'детектив,фэнтези,триллер', 'драма,боевик,приключения',\n",
       "       'драма,мелодрама,фэнтези', 'детектив,история,драма',\n",
       "       'фэнтези,боевик,ужасы', 'ужасы,фэнтези,мелодрама',\n",
       "       'ужасы,приключения', 'боевик,фантастика',\n",
       "       'ужасы,мелодрама,детектив', 'фантастика,триллер,приключения',\n",
       "       'боевик,приключения,история', 'приключения,боевик,триллер',\n",
       "       'детектив,ужасы,криминал', 'семейный,фэнтези', 'мюзикл,мелодрама',\n",
       "       'драма,военный,приключения', 'фантастика,драма,приключения',\n",
       "       'приключения,семейный,драма', 'история,драма,боевик',\n",
       "       'мультфильм,приключения,комедия', 'криминал,драма,комедия',\n",
       "       'ужасы,комедия,драма', 'комедия,семейный,приключения',\n",
       "       'мюзикл,фэнтези,драма', 'драма,вестерн,боевик',\n",
       "       'фантастика,триллер,детектив', 'драма,история,детектив',\n",
       "       'короткометражка,биография', 'мультфильм,приключения,фантастика',\n",
       "       'комедия,триллер', 'мультфильм,приключения,детектив',\n",
       "       'драма,триллер', 'ужасы,триллер,криминал',\n",
       "       'документальный,криминал,военный', 'ужасы,фэнтези,драма',\n",
       "       'фэнтези,комедия', 'ужасы,фэнтези,комедия', 'комедия,музыка,драма',\n",
       "       'мультфильм,приключения,военный', 'мюзикл,фэнтези,комедия',\n",
       "       'боевик,фантастика,приключения', 'триллер,ужасы,криминал',\n",
       "       'ужасы,фантастика,драма', 'фантастика,приключения,семейный',\n",
       "       'короткометражка,музыка', 'мелодрама,детектив,комедия',\n",
       "       'документальный,триллер,биография', 'боевик,фантастика,триллер',\n",
       "       'спорт,драма,комедия', 'фэнтези,мелодрама,приключения',\n",
       "       'триллер,детектив,криминал', 'короткометражка,мелодрама',\n",
       "       'мультфильм,семейный,спорт', 'комедия,фэнтези,мелодрама',\n",
       "       'драма,спорт,комедия', 'история,драма,мелодрама',\n",
       "       'драма,боевик,криминал', 'драма,комедия,триллер',\n",
       "       'аниме,мультфильм', 'документальный,ужасы',\n",
       "       'мультфильм,короткометражка', 'драма,история,военный',\n",
       "       'мультфильм,короткометражка,фэнтези', 'комедия,военный,музыка',\n",
       "       'биография,история,драма', 'ужасы,драма,мелодрама',\n",
       "       'драма,комедия,детектив', 'комедия,семейный,фантастика',\n",
       "       'мультфильм,семейный,комедия', 'история,детектив',\n",
       "       'приключения,мелодрама,детектив', 'мюзикл,комедия,мелодрама',\n",
       "       'драма,фантастика,ужасы', 'мультфильм,ужасы,комедия',\n",
       "       'для взрослых,драма,комедия', 'ужасы,комедия,музыка',\n",
       "       'комедия,история,драма', 'семейный,детектив,детский',\n",
       "       'короткометражка,драма', 'документальный,новости,драма',\n",
       "       'триллер,мелодрама', 'ужасы,драма,вестерн',\n",
       "       'мюзикл,фэнтези,семейный', 'вестерн,драма,триллер',\n",
       "       'приключения,вестерн,боевик', 'семейный,комедия,музыка',\n",
       "       'боевик,драма,вестерн', 'ужасы,драма,триллер',\n",
       "       'фантастика,мелодрама', 'комедия,криминал,биография',\n",
       "       'семейный,мультфильм,комедия', 'комедия,драма,криминал',\n",
       "       'фантастика,боевик,военный', 'приключения,биография,драма',\n",
       "       'приключения,триллер,биография', 'криминал,боевик,триллер',\n",
       "       'боевик,вестерн,приключения', 'история,драма',\n",
       "       'фантастика,фэнтези,комедия', 'мультфильм,детский,комедия',\n",
       "       'мелодрама,комедия,триллер', 'документальный,боевик,приключения',\n",
       "       'драма,приключения', 'мелодрама,военный,драма', 'триллер,фэнтези',\n",
       "       'драма,триллер,биография', 'фэнтези,боевик,семейный',\n",
       "       'фантастика,триллер,комедия', 'документальный,фэнтези',\n",
       "       'комедия,мультфильм,фантастика', 'криминал,биография,комедия',\n",
       "       'биография,спорт,драма', 'приключения,военный',\n",
       "       'мультфильм,семейный,драма', 'документальный,фэнтези,драма',\n",
       "       'комедия,боевик,фантастика', 'семейный,приключения,военный',\n",
       "       'триллер,ужасы,детектив', 'короткометражка',\n",
       "       'мелодрама,триллер,история', 'документальный,история',\n",
       "       'мультфильм,приключения,детский', 'драма,комедия,мультфильм',\n",
       "       'военный,детектив', 'семейный,приключения,документальный',\n",
       "       'детский,фэнтези', 'документальный,комедия', 'комедия,биография',\n",
       "       'криминал,комедия', 'спорт,мелодрама,криминал',\n",
       "       'фантастика,комедия,боевик', 'боевик,приключения,детектив',\n",
       "       'детектив,триллер,драма', 'документальный,фантастика',\n",
       "       'мелодрама,комедия,семейный', 'мультфильм,мелодрама,комедия',\n",
       "       'драма,спорт,семейный', 'фантастика,мелодрама,фэнтези',\n",
       "       'мюзикл,комедия,музыка', 'фантастика,триллер,мелодрама',\n",
       "       'приключения,комедия,фэнтези', 'фэнтези,боевик,детектив',\n",
       "       'фэнтези,боевик,мелодрама', 'комедия,военный',\n",
       "       'драма,спорт,боевик', 'мультфильм,боевик,триллер',\n",
       "       'мелодрама,семейный', 'фантастика,боевик,детектив',\n",
       "       'драма,приключения,история', 'документальный,драма,музыка',\n",
       "       'фантастика,триллер,боевик', 'фэнтези,боевик,вестерн',\n",
       "       'драма,комедия,мелодрама', 'ужасы,фэнтези,приключения',\n",
       "       'триллер,фэнтези,драма', 'мультфильм,мюзикл,мелодрама',\n",
       "       'ужасы,триллер,фантастика', 'триллер,мелодрама,комедия',\n",
       "       'ужасы,комедия,семейный', 'комедия,приключения,музыка',\n",
       "       'документальный,комедия,криминал', 'мелодрама,детектив',\n",
       "       'детский,приключения,фантастика', 'короткометражка,боевик,драма',\n",
       "       'боевик,комедия,семейный', 'фантастика,боевик,мелодрама',\n",
       "       'фэнтези,триллер,мелодрама', 'драма,детектив,история',\n",
       "       'боевик,криминал,детектив', 'мультфильм,фэнтези,мелодрама',\n",
       "       'мелодрама,драма,боевик', 'драма,вестерн,приключения',\n",
       "       'драма,приключения,мелодрама', 'фэнтези,боевик,криминал',\n",
       "       'фантастика,комедия,семейный', 'детский,фэнтези,приключения',\n",
       "       'ужасы,боевик', 'фантастика,мелодрама,комедия',\n",
       "       'семейный,спорт,боевик', 'триллер,биография,драма',\n",
       "       'ужасы,драма,комедия', 'мультфильм,фэнтези,триллер', 'мюзикл',\n",
       "       'боевик,спорт,драма', 'комедия,приключения,вестерн',\n",
       "       'документальный,ужасы,боевик', 'фантастика,боевик,семейный',\n",
       "       'военный,история', 'ужасы,боевик,криминал', 'детектив,триллер',\n",
       "       'драма,семейный,комедия', 'драма,детектив,приключения',\n",
       "       'драма,криминал,история', 'приключения,триллер',\n",
       "       'боевик,драма,биография', 'драма,приключения,триллер',\n",
       "       'комедия,фэнтези,приключения', 'фантастика,боевик,ужасы',\n",
       "       'драма,комедия,фантастика', 'детектив,криминал,драма',\n",
       "       'боевик,триллер,фэнтези', 'приключения,детектив,семейный',\n",
       "       'ужасы,комедия,криминал', 'мультфильм,биография,драма',\n",
       "       'история,боевик,фэнтези', 'детектив,криминал,боевик',\n",
       "       'приключения,фэнтези', 'комедия,приключения,спорт',\n",
       "       'драма,биография,мюзикл', 'комедия,семейный,фэнтези',\n",
       "       'детектив,драма,триллер', 'боевик,приключения,семейный',\n",
       "       'биография,спорт,комедия', 'фантастика,приключения,военный',\n",
       "       'документальный,драма,биография', 'детектив,приключения,драма',\n",
       "       'аниме,мультфильм,приключения', 'семейный,приключения',\n",
       "       'ужасы,фэнтези,детектив', 'семейный,документальный',\n",
       "       'драма,приключения,семейный', 'приключения,история,военный',\n",
       "       'фэнтези,мелодрама', 'фэнтези,триллер,детектив',\n",
       "       'документальный,спорт,биография', 'комедия,триллер,драма',\n",
       "       'драма,ужасы', 'биография,музыка,драма', 'фэнтези,ужасы',\n",
       "       'детектив,мелодрама,фэнтези', 'боевик,военный,история',\n",
       "       'биография,драма,криминал', 'триллер,мелодрама,криминал',\n",
       "       'семейный,мелодрама', 'биография,драма', 'военный,история,драма',\n",
       "       'фантастика,детектив,фэнтези', 'детектив,приключения,триллер',\n",
       "       'фантастика,приключения', 'мультфильм,короткометражка,мюзикл',\n",
       "       'мультфильм,детский,семейный', 'документальный,драма,комедия',\n",
       "       'комедия,приключения,криминал', 'документальный,семейный,музыка',\n",
       "       'мелодрама,музыка,драма', 'детектив,фантастика,триллер',\n",
       "       'драма,мелодрама,триллер', 'биография,драма,военный',\n",
       "       'приключения,фантастика,драма', 'детектив,фильм-нуар,комедия',\n",
       "       'документальный,спорт', 'триллер,фантастика,драма',\n",
       "       'биография,документальный', 'ужасы,фантастика,мелодрама',\n",
       "       'детектив,комедия', 'история,биография,военный',\n",
       "       'криминал,мелодрама', 'драма,криминал,вестерн',\n",
       "       'мелодрама,семейный,приключения', 'триллер,ужасы,мелодрама',\n",
       "       'фэнтези,драма,фильм-нуар', 'детектив,мелодрама',\n",
       "       'комедия,драма,биография', 'драма,военный,боевик',\n",
       "       'драма,комедия,ужасы', 'фантастика,драма,криминал',\n",
       "       'документальный,музыка,биография', 'мультфильм,боевик,приключения',\n",
       "       'короткометражка,фантастика', 'мультфильм,мелодрама,драма',\n",
       "       'боевик,военный,драма', 'фэнтези,семейный,приключения',\n",
       "       'детский,мультфильм,приключения', 'семейный,фэнтези,комедия',\n",
       "       'фэнтези,ужасы,триллер', 'ужасы,триллер,приключения',\n",
       "       'драма,боевик,история', 'фэнтези,комедия,детектив',\n",
       "       'история,приключения', 'аниме,мультфильм,короткометражка',\n",
       "       'драма,военный,триллер', 'биография,криминал,триллер',\n",
       "       'фантастика,фэнтези,детектив', 'вестерн,биография,драма',\n",
       "       'биография,музыка,мюзикл', 'драма,история,биография',\n",
       "       'приключения,драма,фантастика', 'комедия,фэнтези,криминал',\n",
       "       'биография,спорт,история', 'драма,криминал,семейный',\n",
       "       'детектив,боевик,история', 'ужасы,комедия,детектив',\n",
       "       'триллер,приключения,драма', 'фэнтези,комедия,криминал',\n",
       "       'триллер,криминал,приключения', 'комедия,детектив,приключения',\n",
       "       'фэнтези,драма,ужасы', 'ужасы,драма,военный', 'реальное ТВ',\n",
       "       'аниме,мультфильм,детектив', 'приключения,фэнтези,семейный',\n",
       "       'драма,биография,комедия', 'триллер,комедия,ужасы',\n",
       "       'музыка,мелодрама,фэнтези', 'мультфильм,история',\n",
       "       'мультфильм,комедия,фантастика', 'биография,криминал,драма',\n",
       "       'комедия,мелодрама,фантастика', 'криминал,боевик,комедия',\n",
       "       'история,криминал', 'детектив,комедия,драма',\n",
       "       'триллер,фантастика,боевик', 'криминал,боевик',\n",
       "       'комедия,драма,военный', 'драма,триллер,криминал',\n",
       "       'мультфильм,мелодрама,приключения', 'фантастика,фэнтези,триллер',\n",
       "       'короткометражка,драма,триллер', 'военный,боевик,история',\n",
       "       'боевик,драма,триллер', 'документальный,военный,драма',\n",
       "       'драма,криминал,фильм-нуар', 'мультфильм,детский,приключения',\n",
       "       'мелодрама,история,драма'], dtype=object)"
      ]
     },
     "execution_count": 33,
     "metadata": {},
     "output_type": "execute_result"
    }
   ],
   "source": [
    "mkrf_movies['genres'].unique()"
   ]
  },
  {
   "cell_type": "markdown",
   "metadata": {},
   "source": [
    "**Вывод:**\n",
    "\n",
    "\n",
    "В столбце type были лишние пробелы в начале, исправили это. А общая проблема, которая встречается почти во всех категориальных столбцах - это то, что категории зачастую используются совместно друг с другом. К примеру, 'драма'; 'драма,ужасы'. "
   ]
  },
  {
   "cell_type": "markdown",
   "metadata": {
    "id": "XFSN5lrEgFyR"
   },
   "source": [
    "#### Шаг 2.5. Проверим количественные значения\n",
    "\n",
    "- Проверим, обнаружились ли в таких столбцах подозрительные данные.\n",
    "\n"
   ]
  },
  {
   "cell_type": "markdown",
   "metadata": {
    "id": "YbzClBxagFyS"
   },
   "source": [
    "**Обратим внимание на описание столбца budget — общий бюджет фильма и на то, как этот столбец соотносится с двумя другими: refundable_support — объём возвратных средств государственной поддержки и nonrefundable_support — объём невозвратных средств государственной поддержки.**"
   ]
  },
  {
   "cell_type": "markdown",
   "metadata": {},
   "source": [
    "Столбец \"budget\" (общий бюджет фильма) должен быть равен сумме столбцов \"refundable_support\" (объём возвратных средств государственной поддержки) и \"nonrefundable_support\" (объём невозвратных средств государственной поддержки).\n",
    "\n",
    "То есть, соотношение между этими столбцами должно быть следующим:\n",
    "\n",
    "budget = refundable_support + nonrefundable_support\n",
    "\n",
    "Это означает, что общий бюджет фильма состоит из двух частей: возвратных и невозвратных средств государственной поддержки. "
   ]
  },
  {
   "cell_type": "markdown",
   "metadata": {},
   "source": [
    "_**Проверим фильмы, у которых бюджет меньше суммы возвратных и невозвратных средств государственной поддержки.**_"
   ]
  },
  {
   "cell_type": "code",
   "execution_count": 34,
   "metadata": {},
   "outputs": [
    {
     "data": {
      "text/html": [
       "<div>\n",
       "<style scoped>\n",
       "    .dataframe tbody tr th:only-of-type {\n",
       "        vertical-align: middle;\n",
       "    }\n",
       "\n",
       "    .dataframe tbody tr th {\n",
       "        vertical-align: top;\n",
       "    }\n",
       "\n",
       "    .dataframe thead th {\n",
       "        text-align: right;\n",
       "    }\n",
       "</style>\n",
       "<table border=\"1\" class=\"dataframe\">\n",
       "  <thead>\n",
       "    <tr style=\"text-align: right;\">\n",
       "      <th></th>\n",
       "      <th>title</th>\n",
       "      <th>puNumber</th>\n",
       "      <th>show_start_date</th>\n",
       "      <th>type</th>\n",
       "      <th>film_studio</th>\n",
       "      <th>production_country</th>\n",
       "      <th>director</th>\n",
       "      <th>producer</th>\n",
       "      <th>age_restriction</th>\n",
       "      <th>refundable_support</th>\n",
       "      <th>nonrefundable_support</th>\n",
       "      <th>budget</th>\n",
       "      <th>financing_source</th>\n",
       "      <th>ratings</th>\n",
       "      <th>genres</th>\n",
       "      <th>box_office</th>\n",
       "    </tr>\n",
       "  </thead>\n",
       "  <tbody>\n",
       "    <tr>\n",
       "      <th>2053</th>\n",
       "      <td>14+</td>\n",
       "      <td>111023614.0</td>\n",
       "      <td>2014-12-19 12:00:00</td>\n",
       "      <td>Художественный</td>\n",
       "      <td>ООО Киностудия  \"Сентябрь\"</td>\n",
       "      <td>Россия</td>\n",
       "      <td>А.Зайцев</td>\n",
       "      <td>О.Гранина, А.Зайцев</td>\n",
       "      <td>«16+» - для детей старше 16 лет</td>\n",
       "      <td>0.0</td>\n",
       "      <td>23000000.0</td>\n",
       "      <td>0.0</td>\n",
       "      <td>Министерство культуры, Фонд кино</td>\n",
       "      <td>6.6</td>\n",
       "      <td>мелодрама</td>\n",
       "      <td>1.023402e+07</td>\n",
       "    </tr>\n",
       "    <tr>\n",
       "      <th>2058</th>\n",
       "      <td>Дуxless 2</td>\n",
       "      <td>111000415.0</td>\n",
       "      <td>2015-01-26 12:00:00</td>\n",
       "      <td>Художественный</td>\n",
       "      <td>ООО \"Киностудия \"Слово\", ООО \"Арт Пикчерс Студия\"</td>\n",
       "      <td>Россия</td>\n",
       "      <td>Р.Прыгунов</td>\n",
       "      <td>П.Ануров, Ф.Бондарчук, Д.Рудовский</td>\n",
       "      <td>«16+» - для детей старше 16 лет</td>\n",
       "      <td>0.0</td>\n",
       "      <td>75000000.0</td>\n",
       "      <td>0.0</td>\n",
       "      <td>Фонд кино</td>\n",
       "      <td>6.6</td>\n",
       "      <td>драма</td>\n",
       "      <td>4.461635e+08</td>\n",
       "    </tr>\n",
       "    <tr>\n",
       "      <th>2472</th>\n",
       "      <td>Воин (2015)</td>\n",
       "      <td>111017315.0</td>\n",
       "      <td>2015-09-28 12:00:00</td>\n",
       "      <td>Художественный</td>\n",
       "      <td>ООО \"Форпост Продакшн\", ООО \"Арт Пикчерс Студия\"</td>\n",
       "      <td>Россия</td>\n",
       "      <td>А.Андрианов</td>\n",
       "      <td>ООО \"Арт Пикчерс Студия\"</td>\n",
       "      <td>«12+» - для детей старше 12 лет</td>\n",
       "      <td>10000000.0</td>\n",
       "      <td>70000000.0</td>\n",
       "      <td>0.0</td>\n",
       "      <td>Фонд кино</td>\n",
       "      <td>7.8</td>\n",
       "      <td>боевик,драма,криминал</td>\n",
       "      <td>1.965724e+08</td>\n",
       "    </tr>\n",
       "    <tr>\n",
       "      <th>2532</th>\n",
       "      <td>Бармен.</td>\n",
       "      <td>111009615.0</td>\n",
       "      <td>2015-05-26 12:00:00</td>\n",
       "      <td>Художественный</td>\n",
       "      <td>АО \"ВайТ Медиа\", ООО \"Арт Пикчерс Студия\"</td>\n",
       "      <td>Россия</td>\n",
       "      <td>Д.Штурманова</td>\n",
       "      <td>Т.Вайнштейн</td>\n",
       "      <td>«16+» - для детей старше 16 лет</td>\n",
       "      <td>20000000.0</td>\n",
       "      <td>0.0</td>\n",
       "      <td>0.0</td>\n",
       "      <td>Фонд кино</td>\n",
       "      <td>6.2</td>\n",
       "      <td>комедия,фэнтези</td>\n",
       "      <td>6.741897e+07</td>\n",
       "    </tr>\n",
       "    <tr>\n",
       "      <th>2615</th>\n",
       "      <td>Савва. Сердце воина</td>\n",
       "      <td>114001715.0</td>\n",
       "      <td>2015-07-21 12:00:00</td>\n",
       "      <td>Анимационный</td>\n",
       "      <td>ООО \"Глюкоза Продакшн\", ООО \"Арт Пикчерс Студия\"</td>\n",
       "      <td>Россия</td>\n",
       "      <td>М.Фадеев</td>\n",
       "      <td>А.Чистяков</td>\n",
       "      <td>«6+» - для детей старше 6 лет</td>\n",
       "      <td>60000000.0</td>\n",
       "      <td>100000000.0</td>\n",
       "      <td>0.0</td>\n",
       "      <td>Фонд кино</td>\n",
       "      <td>4.6</td>\n",
       "      <td>мультфильм,приключения,фэнтези</td>\n",
       "      <td>1.844876e+08</td>\n",
       "    </tr>\n",
       "    <tr>\n",
       "      <th>2684</th>\n",
       "      <td>Тряпичный союз</td>\n",
       "      <td>111010215.0</td>\n",
       "      <td>2015-06-08 12:00:00</td>\n",
       "      <td>Художественный</td>\n",
       "      <td>ООО \"Кинокомпания \"КОКТЕБЕЛЬ\"</td>\n",
       "      <td>Россия</td>\n",
       "      <td>М.Местецкий</td>\n",
       "      <td>Р.Борисевич, А.Кушаев</td>\n",
       "      <td>«18+» - запрещено для детей</td>\n",
       "      <td>0.0</td>\n",
       "      <td>59000000.0</td>\n",
       "      <td>0.0</td>\n",
       "      <td>Фонд кино</td>\n",
       "      <td>6.3</td>\n",
       "      <td>комедия,драма</td>\n",
       "      <td>1.957739e+06</td>\n",
       "    </tr>\n",
       "    <tr>\n",
       "      <th>2788</th>\n",
       "      <td>Срочно выйду замуж</td>\n",
       "      <td>111017115.0</td>\n",
       "      <td>2015-09-30 12:00:00</td>\n",
       "      <td>Художественный</td>\n",
       "      <td>АО \"ВайТ Медиа\", ООО \"Арт Пикчерс Студия\"</td>\n",
       "      <td>Россия</td>\n",
       "      <td>С Чекалов</td>\n",
       "      <td>Ф.Бондарчук, Т.Вайнштейн, Д.Рудовский</td>\n",
       "      <td>«16+» - для детей старше 16 лет</td>\n",
       "      <td>0.0</td>\n",
       "      <td>35000000.0</td>\n",
       "      <td>0.0</td>\n",
       "      <td>Фонд кино</td>\n",
       "      <td>5.1</td>\n",
       "      <td>комедия,мелодрама</td>\n",
       "      <td>7.293778e+07</td>\n",
       "    </tr>\n",
       "    <tr>\n",
       "      <th>2874</th>\n",
       "      <td>Помню - не помню!</td>\n",
       "      <td>111004916.0</td>\n",
       "      <td>2016-03-01 12:00:00</td>\n",
       "      <td>Художественный</td>\n",
       "      <td>ООО \"КиноФирма\"</td>\n",
       "      <td>Россия</td>\n",
       "      <td>В.Ровенский</td>\n",
       "      <td>ООО \"КиноФирма\"</td>\n",
       "      <td>«12+» - для детей старше 12 лет</td>\n",
       "      <td>0.0</td>\n",
       "      <td>6000000.0</td>\n",
       "      <td>0.0</td>\n",
       "      <td>Министерство культуры</td>\n",
       "      <td>4.3</td>\n",
       "      <td>комедия</td>\n",
       "      <td>1.536293e+07</td>\n",
       "    </tr>\n",
       "    <tr>\n",
       "      <th>3047</th>\n",
       "      <td>Любовь с ограничениями</td>\n",
       "      <td>111008216.0</td>\n",
       "      <td>2016-04-29 12:00:00</td>\n",
       "      <td>Художественный</td>\n",
       "      <td>АО \"ВайТ Медиа\", ООО \"Арт Пикчерс Студия\"</td>\n",
       "      <td>Россия</td>\n",
       "      <td>Д.Тюрин</td>\n",
       "      <td>Ф.Бондарчук, Т.Вайнштейн, Д.Рудовский</td>\n",
       "      <td>«16+» - для детей старше 16 лет</td>\n",
       "      <td>19000000.0</td>\n",
       "      <td>51000000.0</td>\n",
       "      <td>0.0</td>\n",
       "      <td>Фонд кино</td>\n",
       "      <td>6.3</td>\n",
       "      <td>комедия,мелодрама</td>\n",
       "      <td>7.029905e+07</td>\n",
       "    </tr>\n",
       "    <tr>\n",
       "      <th>3565</th>\n",
       "      <td>Притяжение (2016)</td>\n",
       "      <td>111018116.0</td>\n",
       "      <td>2016-12-16 12:00:00</td>\n",
       "      <td>Художественный</td>\n",
       "      <td>ООО \"Водород 2011\",  ООО \"Арт Пикчерс Студия\"</td>\n",
       "      <td>Россия</td>\n",
       "      <td>Ф.Бондарчук</td>\n",
       "      <td>ООО \"Арт Пикчерс Студия\"</td>\n",
       "      <td>«12+» - для детей старше 12 лет</td>\n",
       "      <td>0.0</td>\n",
       "      <td>250000000.0</td>\n",
       "      <td>0.0</td>\n",
       "      <td>Фонд кино</td>\n",
       "      <td>5.6</td>\n",
       "      <td>фантастика</td>\n",
       "      <td>1.038321e+09</td>\n",
       "    </tr>\n",
       "    <tr>\n",
       "      <th>3675</th>\n",
       "      <td>Чудо-юдо</td>\n",
       "      <td>114001817.0</td>\n",
       "      <td>2017-06-27 12:00:00</td>\n",
       "      <td>Анимационный</td>\n",
       "      <td>ООО \"КиноФирма\"</td>\n",
       "      <td>Россия</td>\n",
       "      <td>А.Лукичев</td>\n",
       "      <td>ООО \"КиноФирма\"</td>\n",
       "      <td>«6+» - для детей старше 6 лет</td>\n",
       "      <td>20000000.0</td>\n",
       "      <td>20000000.0</td>\n",
       "      <td>0.0</td>\n",
       "      <td>Фонд кино</td>\n",
       "      <td>5.2</td>\n",
       "      <td>мультфильм,фэнтези,семейный</td>\n",
       "      <td>5.510801e+07</td>\n",
       "    </tr>\n",
       "    <tr>\n",
       "      <th>3739</th>\n",
       "      <td>Мифы</td>\n",
       "      <td>111004317.0</td>\n",
       "      <td>2017-06-07 12:00:00</td>\n",
       "      <td>Художественный</td>\n",
       "      <td>ООО \"ХАЙПФИЛМ\", ООО \"Арт Пикчерс Студия\"</td>\n",
       "      <td>Россия</td>\n",
       "      <td>А.Молочников</td>\n",
       "      <td>Ф.Бондарчук, Д.Рудовский, И.Стюарт, М.Османн, ...</td>\n",
       "      <td>«16+» - для детей старше 16 лет</td>\n",
       "      <td>25000000.0</td>\n",
       "      <td>20000000.0</td>\n",
       "      <td>0.0</td>\n",
       "      <td>Фонд кино</td>\n",
       "      <td>4.8</td>\n",
       "      <td>комедия</td>\n",
       "      <td>5.045195e+07</td>\n",
       "    </tr>\n",
       "    <tr>\n",
       "      <th>5673</th>\n",
       "      <td>Селфи</td>\n",
       "      <td>111012117.0</td>\n",
       "      <td>2018-02-01 12:00:00</td>\n",
       "      <td>Художественный</td>\n",
       "      <td>ООО \"Киностудия \"Слово\", ООО \"Арт Пикчерс Студия\"</td>\n",
       "      <td>Россия</td>\n",
       "      <td>Н.Хомерики</td>\n",
       "      <td>П.Ануров, Ф.Бондарчук, Д.Рудовский</td>\n",
       "      <td>«16+» - для детей старше 16 лет</td>\n",
       "      <td>20000000.0</td>\n",
       "      <td>40000000.0</td>\n",
       "      <td>0.0</td>\n",
       "      <td>Фонд кино</td>\n",
       "      <td>5.8</td>\n",
       "      <td>триллер,драма</td>\n",
       "      <td>2.251964e+08</td>\n",
       "    </tr>\n",
       "    <tr>\n",
       "      <th>5806</th>\n",
       "      <td>Два хвоста</td>\n",
       "      <td>114001018.0</td>\n",
       "      <td>2018-05-31 12:00:00</td>\n",
       "      <td>Анимационный</td>\n",
       "      <td>ООО \"ЛИЦЕНЗИОННЫЕ БРЕНДЫ\"</td>\n",
       "      <td>Россия</td>\n",
       "      <td>В.Ровенский, Н.Лопато, В.Азеев</td>\n",
       "      <td>ООО \"ЛИЦЕНЗИОННЫЕ БРЕНДЫ\"</td>\n",
       "      <td>«6+» - для детей старше 6 лет</td>\n",
       "      <td>10000000.0</td>\n",
       "      <td>60000000.0</td>\n",
       "      <td>0.0</td>\n",
       "      <td>Фонд кино</td>\n",
       "      <td>5.0</td>\n",
       "      <td>мультфильм,детский</td>\n",
       "      <td>1.065143e+08</td>\n",
       "    </tr>\n",
       "    <tr>\n",
       "      <th>6008</th>\n",
       "      <td>Принцесса и дракон</td>\n",
       "      <td>114003018.0</td>\n",
       "      <td>2018-08-23 12:00:00</td>\n",
       "      <td>Анимационный</td>\n",
       "      <td>ООО \"ЛИЦЕНЗИОННЫЕ БРЕНДЫ\"</td>\n",
       "      <td>Россия</td>\n",
       "      <td>М.Нефедова</td>\n",
       "      <td>ООО \"ЛИЦЕНЗИОННЫЕ БРЕНДЫ\"</td>\n",
       "      <td>«6+» - для детей старше 6 лет</td>\n",
       "      <td>40000000.0</td>\n",
       "      <td>40000000.0</td>\n",
       "      <td>0.0</td>\n",
       "      <td>Фонд кино</td>\n",
       "      <td>5.2</td>\n",
       "      <td>мультфильм,фэнтези,детский</td>\n",
       "      <td>8.336633e+07</td>\n",
       "    </tr>\n",
       "    <tr>\n",
       "      <th>6323</th>\n",
       "      <td>Баба Яга</td>\n",
       "      <td>114006518.0</td>\n",
       "      <td>2018-11-08 12:00:00</td>\n",
       "      <td>Анимационный</td>\n",
       "      <td>ООО \"Арт Пикчерс Студия\"</td>\n",
       "      <td>Россия</td>\n",
       "      <td>В.Саков</td>\n",
       "      <td>ООО \"Арт Пикчерс Студия\", ООО \"КРИЭЙТИВ АНИМЭЙ...</td>\n",
       "      <td>«6+» - для детей старше 6 лет</td>\n",
       "      <td>0.0</td>\n",
       "      <td>138969465.0</td>\n",
       "      <td>0.0</td>\n",
       "      <td>Фонд кино</td>\n",
       "      <td>NaN</td>\n",
       "      <td>NaN</td>\n",
       "      <td>1.334699e+06</td>\n",
       "    </tr>\n",
       "    <tr>\n",
       "      <th>6823</th>\n",
       "      <td>Большое путешествие</td>\n",
       "      <td>114002419.0</td>\n",
       "      <td>2019-04-20 12:00:00</td>\n",
       "      <td>Анимационный</td>\n",
       "      <td>ООО \"ЛИЦЕНЗИОННЫЕ БРЕНДЫ\"</td>\n",
       "      <td>Россия</td>\n",
       "      <td>Н.Лопато, В.Ровенский</td>\n",
       "      <td>ООО \"ЛИЦЕНЗИОННЫЕ БРЕНДЫ\"</td>\n",
       "      <td>«6+» - для детей старше 6 лет</td>\n",
       "      <td>60000000.0</td>\n",
       "      <td>120000000.0</td>\n",
       "      <td>0.0</td>\n",
       "      <td>Фонд кино</td>\n",
       "      <td>6.2</td>\n",
       "      <td>мультфильм,комедия,приключения</td>\n",
       "      <td>1.476068e+08</td>\n",
       "    </tr>\n",
       "  </tbody>\n",
       "</table>\n",
       "</div>"
      ],
      "text/plain": [
       "                       title     puNumber     show_start_date            type  \\\n",
       "2053                     14+  111023614.0 2014-12-19 12:00:00  Художественный   \n",
       "2058               Дуxless 2  111000415.0 2015-01-26 12:00:00  Художественный   \n",
       "2472             Воин (2015)  111017315.0 2015-09-28 12:00:00  Художественный   \n",
       "2532                 Бармен.  111009615.0 2015-05-26 12:00:00  Художественный   \n",
       "2615     Савва. Сердце воина  114001715.0 2015-07-21 12:00:00    Анимационный   \n",
       "2684          Тряпичный союз  111010215.0 2015-06-08 12:00:00  Художественный   \n",
       "2788      Срочно выйду замуж  111017115.0 2015-09-30 12:00:00  Художественный   \n",
       "2874       Помню - не помню!  111004916.0 2016-03-01 12:00:00  Художественный   \n",
       "3047  Любовь с ограничениями  111008216.0 2016-04-29 12:00:00  Художественный   \n",
       "3565       Притяжение (2016)  111018116.0 2016-12-16 12:00:00  Художественный   \n",
       "3675                Чудо-юдо  114001817.0 2017-06-27 12:00:00    Анимационный   \n",
       "3739                    Мифы  111004317.0 2017-06-07 12:00:00  Художественный   \n",
       "5673                   Селфи  111012117.0 2018-02-01 12:00:00  Художественный   \n",
       "5806              Два хвоста  114001018.0 2018-05-31 12:00:00    Анимационный   \n",
       "6008      Принцесса и дракон  114003018.0 2018-08-23 12:00:00    Анимационный   \n",
       "6323                Баба Яга  114006518.0 2018-11-08 12:00:00    Анимационный   \n",
       "6823     Большое путешествие  114002419.0 2019-04-20 12:00:00    Анимационный   \n",
       "\n",
       "                                            film_studio production_country  \\\n",
       "2053                         ООО Киностудия  \"Сентябрь\"             Россия   \n",
       "2058  ООО \"Киностудия \"Слово\", ООО \"Арт Пикчерс Студия\"             Россия   \n",
       "2472   ООО \"Форпост Продакшн\", ООО \"Арт Пикчерс Студия\"             Россия   \n",
       "2532          АО \"ВайТ Медиа\", ООО \"Арт Пикчерс Студия\"             Россия   \n",
       "2615   ООО \"Глюкоза Продакшн\", ООО \"Арт Пикчерс Студия\"             Россия   \n",
       "2684                      ООО \"Кинокомпания \"КОКТЕБЕЛЬ\"             Россия   \n",
       "2788          АО \"ВайТ Медиа\", ООО \"Арт Пикчерс Студия\"             Россия   \n",
       "2874                                    ООО \"КиноФирма\"             Россия   \n",
       "3047          АО \"ВайТ Медиа\", ООО \"Арт Пикчерс Студия\"             Россия   \n",
       "3565      ООО \"Водород 2011\",  ООО \"Арт Пикчерс Студия\"             Россия   \n",
       "3675                                    ООО \"КиноФирма\"             Россия   \n",
       "3739           ООО \"ХАЙПФИЛМ\", ООО \"Арт Пикчерс Студия\"             Россия   \n",
       "5673  ООО \"Киностудия \"Слово\", ООО \"Арт Пикчерс Студия\"             Россия   \n",
       "5806                          ООО \"ЛИЦЕНЗИОННЫЕ БРЕНДЫ\"             Россия   \n",
       "6008                          ООО \"ЛИЦЕНЗИОННЫЕ БРЕНДЫ\"             Россия   \n",
       "6323                           ООО \"Арт Пикчерс Студия\"             Россия   \n",
       "6823                          ООО \"ЛИЦЕНЗИОННЫЕ БРЕНДЫ\"             Россия   \n",
       "\n",
       "                            director  \\\n",
       "2053                        А.Зайцев   \n",
       "2058                      Р.Прыгунов   \n",
       "2472                     А.Андрианов   \n",
       "2532                    Д.Штурманова   \n",
       "2615                        М.Фадеев   \n",
       "2684                     М.Местецкий   \n",
       "2788                       С Чекалов   \n",
       "2874                     В.Ровенский   \n",
       "3047                         Д.Тюрин   \n",
       "3565                     Ф.Бондарчук   \n",
       "3675                       А.Лукичев   \n",
       "3739                    А.Молочников   \n",
       "5673                      Н.Хомерики   \n",
       "5806  В.Ровенский, Н.Лопато, В.Азеев   \n",
       "6008                      М.Нефедова   \n",
       "6323                         В.Саков   \n",
       "6823           Н.Лопато, В.Ровенский   \n",
       "\n",
       "                                               producer  \\\n",
       "2053                                О.Гранина, А.Зайцев   \n",
       "2058                 П.Ануров, Ф.Бондарчук, Д.Рудовский   \n",
       "2472                           ООО \"Арт Пикчерс Студия\"   \n",
       "2532                                        Т.Вайнштейн   \n",
       "2615                                         А.Чистяков   \n",
       "2684                              Р.Борисевич, А.Кушаев   \n",
       "2788              Ф.Бондарчук, Т.Вайнштейн, Д.Рудовский   \n",
       "2874                                    ООО \"КиноФирма\"   \n",
       "3047              Ф.Бондарчук, Т.Вайнштейн, Д.Рудовский   \n",
       "3565                           ООО \"Арт Пикчерс Студия\"   \n",
       "3675                                    ООО \"КиноФирма\"   \n",
       "3739  Ф.Бондарчук, Д.Рудовский, И.Стюарт, М.Османн, ...   \n",
       "5673                 П.Ануров, Ф.Бондарчук, Д.Рудовский   \n",
       "5806                          ООО \"ЛИЦЕНЗИОННЫЕ БРЕНДЫ\"   \n",
       "6008                          ООО \"ЛИЦЕНЗИОННЫЕ БРЕНДЫ\"   \n",
       "6323  ООО \"Арт Пикчерс Студия\", ООО \"КРИЭЙТИВ АНИМЭЙ...   \n",
       "6823                          ООО \"ЛИЦЕНЗИОННЫЕ БРЕНДЫ\"   \n",
       "\n",
       "                      age_restriction  refundable_support  \\\n",
       "2053  «16+» - для детей старше 16 лет                 0.0   \n",
       "2058  «16+» - для детей старше 16 лет                 0.0   \n",
       "2472  «12+» - для детей старше 12 лет          10000000.0   \n",
       "2532  «16+» - для детей старше 16 лет          20000000.0   \n",
       "2615    «6+» - для детей старше 6 лет          60000000.0   \n",
       "2684      «18+» - запрещено для детей                 0.0   \n",
       "2788  «16+» - для детей старше 16 лет                 0.0   \n",
       "2874  «12+» - для детей старше 12 лет                 0.0   \n",
       "3047  «16+» - для детей старше 16 лет          19000000.0   \n",
       "3565  «12+» - для детей старше 12 лет                 0.0   \n",
       "3675    «6+» - для детей старше 6 лет          20000000.0   \n",
       "3739  «16+» - для детей старше 16 лет          25000000.0   \n",
       "5673  «16+» - для детей старше 16 лет          20000000.0   \n",
       "5806    «6+» - для детей старше 6 лет          10000000.0   \n",
       "6008    «6+» - для детей старше 6 лет          40000000.0   \n",
       "6323    «6+» - для детей старше 6 лет                 0.0   \n",
       "6823    «6+» - для детей старше 6 лет          60000000.0   \n",
       "\n",
       "      nonrefundable_support  budget                  financing_source  \\\n",
       "2053             23000000.0     0.0  Министерство культуры, Фонд кино   \n",
       "2058             75000000.0     0.0                         Фонд кино   \n",
       "2472             70000000.0     0.0                         Фонд кино   \n",
       "2532                    0.0     0.0                         Фонд кино   \n",
       "2615            100000000.0     0.0                         Фонд кино   \n",
       "2684             59000000.0     0.0                         Фонд кино   \n",
       "2788             35000000.0     0.0                         Фонд кино   \n",
       "2874              6000000.0     0.0             Министерство культуры   \n",
       "3047             51000000.0     0.0                         Фонд кино   \n",
       "3565            250000000.0     0.0                         Фонд кино   \n",
       "3675             20000000.0     0.0                         Фонд кино   \n",
       "3739             20000000.0     0.0                         Фонд кино   \n",
       "5673             40000000.0     0.0                         Фонд кино   \n",
       "5806             60000000.0     0.0                         Фонд кино   \n",
       "6008             40000000.0     0.0                         Фонд кино   \n",
       "6323            138969465.0     0.0                         Фонд кино   \n",
       "6823            120000000.0     0.0                         Фонд кино   \n",
       "\n",
       "      ratings                          genres    box_office  \n",
       "2053      6.6                       мелодрама  1.023402e+07  \n",
       "2058      6.6                           драма  4.461635e+08  \n",
       "2472      7.8           боевик,драма,криминал  1.965724e+08  \n",
       "2532      6.2                 комедия,фэнтези  6.741897e+07  \n",
       "2615      4.6  мультфильм,приключения,фэнтези  1.844876e+08  \n",
       "2684      6.3                   комедия,драма  1.957739e+06  \n",
       "2788      5.1               комедия,мелодрама  7.293778e+07  \n",
       "2874      4.3                         комедия  1.536293e+07  \n",
       "3047      6.3               комедия,мелодрама  7.029905e+07  \n",
       "3565      5.6                      фантастика  1.038321e+09  \n",
       "3675      5.2     мультфильм,фэнтези,семейный  5.510801e+07  \n",
       "3739      4.8                         комедия  5.045195e+07  \n",
       "5673      5.8                   триллер,драма  2.251964e+08  \n",
       "5806      5.0              мультфильм,детский  1.065143e+08  \n",
       "6008      5.2      мультфильм,фэнтези,детский  8.336633e+07  \n",
       "6323      NaN                             NaN  1.334699e+06  \n",
       "6823      6.2  мультфильм,комедия,приключения  1.476068e+08  "
      ]
     },
     "execution_count": 34,
     "metadata": {},
     "output_type": "execute_result"
    }
   ],
   "source": [
    "mkrf_movies[(mkrf_movies['refundable_support'] + mkrf_movies['nonrefundable_support']) > mkrf_movies['budget']]"
   ]
  },
  {
   "cell_type": "markdown",
   "metadata": {},
   "source": [
    "Исправим бюджет этих фильмов так, чтобы соотношение было следующим:\n",
    "\n",
    "budget = refundable_support + nonrefundable_support"
   ]
  },
  {
   "cell_type": "code",
   "execution_count": 35,
   "metadata": {},
   "outputs": [],
   "source": [
    "def correct_budget(row):\n",
    "    if row['budget'] < (row['refundable_support'] + row['nonrefundable_support']):\n",
    "        row['budget'] = (row['refundable_support'] + row['nonrefundable_support'])\n",
    "    return row['budget']"
   ]
  },
  {
   "cell_type": "code",
   "execution_count": 36,
   "metadata": {},
   "outputs": [],
   "source": [
    "mkrf_movies['budget'] = mkrf_movies.apply(correct_budget, axis=1)"
   ]
  },
  {
   "cell_type": "markdown",
   "metadata": {},
   "source": [
    "Проверим применились ли изменения:"
   ]
  },
  {
   "cell_type": "code",
   "execution_count": 37,
   "metadata": {},
   "outputs": [
    {
     "data": {
      "text/plain": [
       "0"
      ]
     },
     "execution_count": 37,
     "metadata": {},
     "output_type": "execute_result"
    }
   ],
   "source": [
    "len(mkrf_movies[(mkrf_movies['refundable_support'] + mkrf_movies['nonrefundable_support']) > mkrf_movies['budget']])"
   ]
  },
  {
   "cell_type": "markdown",
   "metadata": {},
   "source": [
    "**Изменения применились, исправили фильмы с нулевым общим бюджетом так, чтобы он состоял из двух частей: возвратных и невозвратных средств государственной поддержки.**"
   ]
  },
  {
   "cell_type": "markdown",
   "metadata": {
    "id": "Eu6oWp2CgFyS"
   },
   "source": [
    "#### Шаг 2.6. Добавим новые столбцы\n",
    "\n",
    "\n",
    "\n"
   ]
  },
  {
   "cell_type": "markdown",
   "metadata": {
    "id": "7GgW-UpAgFyS"
   },
   "source": [
    "- Создадим столбец с информацией о годе проката. Выделим год из даты премьеры фильма."
   ]
  },
  {
   "cell_type": "code",
   "execution_count": 38,
   "metadata": {
    "id": "I-yd1DkWgFyT"
   },
   "outputs": [
    {
     "data": {
      "text/html": [
       "<div>\n",
       "<style scoped>\n",
       "    .dataframe tbody tr th:only-of-type {\n",
       "        vertical-align: middle;\n",
       "    }\n",
       "\n",
       "    .dataframe tbody tr th {\n",
       "        vertical-align: top;\n",
       "    }\n",
       "\n",
       "    .dataframe thead th {\n",
       "        text-align: right;\n",
       "    }\n",
       "</style>\n",
       "<table border=\"1\" class=\"dataframe\">\n",
       "  <thead>\n",
       "    <tr style=\"text-align: right;\">\n",
       "      <th></th>\n",
       "      <th>title</th>\n",
       "      <th>puNumber</th>\n",
       "      <th>show_start_date</th>\n",
       "      <th>type</th>\n",
       "      <th>film_studio</th>\n",
       "      <th>production_country</th>\n",
       "      <th>director</th>\n",
       "      <th>producer</th>\n",
       "      <th>age_restriction</th>\n",
       "      <th>refundable_support</th>\n",
       "      <th>nonrefundable_support</th>\n",
       "      <th>budget</th>\n",
       "      <th>financing_source</th>\n",
       "      <th>ratings</th>\n",
       "      <th>genres</th>\n",
       "      <th>box_office</th>\n",
       "      <th>film_release_year</th>\n",
       "    </tr>\n",
       "  </thead>\n",
       "  <tbody>\n",
       "    <tr>\n",
       "      <th>0</th>\n",
       "      <td>Открытый простор</td>\n",
       "      <td>221048915.0</td>\n",
       "      <td>2015-11-27 12:00:00</td>\n",
       "      <td>Художественный</td>\n",
       "      <td>Тачстоун Пикчерз, Кобальт Пикчерз, Бикон Пикче...</td>\n",
       "      <td>США</td>\n",
       "      <td>Кевин Костнер</td>\n",
       "      <td>Дэвид Валдес, Кевин Костнер, Джейк Эбертс</td>\n",
       "      <td>«18+» - запрещено для детей</td>\n",
       "      <td>NaN</td>\n",
       "      <td>NaN</td>\n",
       "      <td>NaN</td>\n",
       "      <td>NaN</td>\n",
       "      <td>7.2</td>\n",
       "      <td>боевик,драма,мелодрама</td>\n",
       "      <td>NaN</td>\n",
       "      <td>2015</td>\n",
       "    </tr>\n",
       "    <tr>\n",
       "      <th>1</th>\n",
       "      <td>Особо важное задание</td>\n",
       "      <td>111013716.0</td>\n",
       "      <td>2016-09-13 12:00:00</td>\n",
       "      <td>Художественный</td>\n",
       "      <td>Киностудия \"Мосфильм\"</td>\n",
       "      <td>СССР</td>\n",
       "      <td>Е.Матвеев</td>\n",
       "      <td>NaN</td>\n",
       "      <td>«6+» - для детей старше 6 лет</td>\n",
       "      <td>NaN</td>\n",
       "      <td>NaN</td>\n",
       "      <td>NaN</td>\n",
       "      <td>NaN</td>\n",
       "      <td>6.6</td>\n",
       "      <td>драма,военный</td>\n",
       "      <td>NaN</td>\n",
       "      <td>2016</td>\n",
       "    </tr>\n",
       "    <tr>\n",
       "      <th>2</th>\n",
       "      <td>Особо опасен</td>\n",
       "      <td>221038416.0</td>\n",
       "      <td>2016-10-10 12:00:00</td>\n",
       "      <td>Художественный</td>\n",
       "      <td>Юниверсал Пикчерз, Кикстарт Продакшнз, Марк Пл...</td>\n",
       "      <td>США</td>\n",
       "      <td>Тимур Бекмамбетов</td>\n",
       "      <td>Джим Лемли, Джейсон Нетер, Марк Е.Платт, Яйн Смит</td>\n",
       "      <td>«18+» - запрещено для детей</td>\n",
       "      <td>NaN</td>\n",
       "      <td>NaN</td>\n",
       "      <td>NaN</td>\n",
       "      <td>NaN</td>\n",
       "      <td>6.8</td>\n",
       "      <td>фантастика,боевик,триллер</td>\n",
       "      <td>NaN</td>\n",
       "      <td>2016</td>\n",
       "    </tr>\n",
       "    <tr>\n",
       "      <th>3</th>\n",
       "      <td>Особо опасен</td>\n",
       "      <td>221026916.0</td>\n",
       "      <td>2016-06-10 12:00:00</td>\n",
       "      <td>Художественный</td>\n",
       "      <td>Юниверсал Пикчерз, Кикстарт Продакшнз, Марк Пл...</td>\n",
       "      <td>США</td>\n",
       "      <td>Тимур Бекмамбетов</td>\n",
       "      <td>Джим Лемли, Джейсон Нетер, Марк Е.Платт, Яйн Смит</td>\n",
       "      <td>«18+» - запрещено для детей</td>\n",
       "      <td>NaN</td>\n",
       "      <td>NaN</td>\n",
       "      <td>NaN</td>\n",
       "      <td>NaN</td>\n",
       "      <td>6.8</td>\n",
       "      <td>фантастика,боевик,триллер</td>\n",
       "      <td>NaN</td>\n",
       "      <td>2016</td>\n",
       "    </tr>\n",
       "    <tr>\n",
       "      <th>4</th>\n",
       "      <td>Особо опасен</td>\n",
       "      <td>221030815.0</td>\n",
       "      <td>2015-07-29 12:00:00</td>\n",
       "      <td>Художественный</td>\n",
       "      <td>Юниверсал Пикчерз, Кикстарт Продакшнз, Марк Пл...</td>\n",
       "      <td>США</td>\n",
       "      <td>Тимур Бекмамбетов</td>\n",
       "      <td>Джим Лемли, Джейсон Нетер, Марк Е.Платт, Яйн Смит</td>\n",
       "      <td>«18+» - запрещено для детей</td>\n",
       "      <td>NaN</td>\n",
       "      <td>NaN</td>\n",
       "      <td>NaN</td>\n",
       "      <td>NaN</td>\n",
       "      <td>6.8</td>\n",
       "      <td>фантастика,боевик,триллер</td>\n",
       "      <td>NaN</td>\n",
       "      <td>2015</td>\n",
       "    </tr>\n",
       "  </tbody>\n",
       "</table>\n",
       "</div>"
      ],
      "text/plain": [
       "                  title     puNumber     show_start_date            type  \\\n",
       "0      Открытый простор  221048915.0 2015-11-27 12:00:00  Художественный   \n",
       "1  Особо важное задание  111013716.0 2016-09-13 12:00:00  Художественный   \n",
       "2          Особо опасен  221038416.0 2016-10-10 12:00:00  Художественный   \n",
       "3          Особо опасен  221026916.0 2016-06-10 12:00:00  Художественный   \n",
       "4          Особо опасен  221030815.0 2015-07-29 12:00:00  Художественный   \n",
       "\n",
       "                                         film_studio production_country  \\\n",
       "0  Тачстоун Пикчерз, Кобальт Пикчерз, Бикон Пикче...                США   \n",
       "1                              Киностудия \"Мосфильм\"               СССР   \n",
       "2  Юниверсал Пикчерз, Кикстарт Продакшнз, Марк Пл...                США   \n",
       "3  Юниверсал Пикчерз, Кикстарт Продакшнз, Марк Пл...                США   \n",
       "4  Юниверсал Пикчерз, Кикстарт Продакшнз, Марк Пл...                США   \n",
       "\n",
       "            director                                           producer  \\\n",
       "0      Кевин Костнер          Дэвид Валдес, Кевин Костнер, Джейк Эбертс   \n",
       "1          Е.Матвеев                                                NaN   \n",
       "2  Тимур Бекмамбетов  Джим Лемли, Джейсон Нетер, Марк Е.Платт, Яйн Смит   \n",
       "3  Тимур Бекмамбетов  Джим Лемли, Джейсон Нетер, Марк Е.Платт, Яйн Смит   \n",
       "4  Тимур Бекмамбетов  Джим Лемли, Джейсон Нетер, Марк Е.Платт, Яйн Смит   \n",
       "\n",
       "                 age_restriction  refundable_support  nonrefundable_support  \\\n",
       "0    «18+» - запрещено для детей                 NaN                    NaN   \n",
       "1  «6+» - для детей старше 6 лет                 NaN                    NaN   \n",
       "2    «18+» - запрещено для детей                 NaN                    NaN   \n",
       "3    «18+» - запрещено для детей                 NaN                    NaN   \n",
       "4    «18+» - запрещено для детей                 NaN                    NaN   \n",
       "\n",
       "   budget financing_source  ratings                     genres  box_office  \\\n",
       "0     NaN              NaN      7.2     боевик,драма,мелодрама         NaN   \n",
       "1     NaN              NaN      6.6              драма,военный         NaN   \n",
       "2     NaN              NaN      6.8  фантастика,боевик,триллер         NaN   \n",
       "3     NaN              NaN      6.8  фантастика,боевик,триллер         NaN   \n",
       "4     NaN              NaN      6.8  фантастика,боевик,триллер         NaN   \n",
       "\n",
       "   film_release_year  \n",
       "0               2015  \n",
       "1               2016  \n",
       "2               2016  \n",
       "3               2016  \n",
       "4               2015  "
      ]
     },
     "metadata": {},
     "output_type": "display_data"
    }
   ],
   "source": [
    "mkrf_movies['film_release_year'] = mkrf_movies['show_start_date'].dt.year\n",
    "display(mkrf_movies.head())"
   ]
  },
  {
   "cell_type": "markdown",
   "metadata": {
    "id": "nFTDLDYOgFyT"
   },
   "source": [
    "- Создадим два столбца: с именем и фамилией главного режиссёра и основным жанром фильма. В столбцы войдут первые значения из списка режиссёров и жанров соответственно.\n",
    "\n"
   ]
  },
  {
   "cell_type": "code",
   "execution_count": 39,
   "metadata": {
    "id": "LSbRZKbMgFyU"
   },
   "outputs": [],
   "source": [
    "mkrf_movies['general_director'] = mkrf_movies['director'].str.split(',', n = 1, expand = True)[0]\n",
    "mkrf_movies['general_genres'] = mkrf_movies['genres'].str.split(',', n = 1, expand = True)[0]"
   ]
  },
  {
   "cell_type": "code",
   "execution_count": 40,
   "metadata": {},
   "outputs": [
    {
     "data": {
      "text/html": [
       "<div>\n",
       "<style scoped>\n",
       "    .dataframe tbody tr th:only-of-type {\n",
       "        vertical-align: middle;\n",
       "    }\n",
       "\n",
       "    .dataframe tbody tr th {\n",
       "        vertical-align: top;\n",
       "    }\n",
       "\n",
       "    .dataframe thead th {\n",
       "        text-align: right;\n",
       "    }\n",
       "</style>\n",
       "<table border=\"1\" class=\"dataframe\">\n",
       "  <thead>\n",
       "    <tr style=\"text-align: right;\">\n",
       "      <th></th>\n",
       "      <th>title</th>\n",
       "      <th>puNumber</th>\n",
       "      <th>show_start_date</th>\n",
       "      <th>type</th>\n",
       "      <th>film_studio</th>\n",
       "      <th>production_country</th>\n",
       "      <th>director</th>\n",
       "      <th>producer</th>\n",
       "      <th>age_restriction</th>\n",
       "      <th>refundable_support</th>\n",
       "      <th>nonrefundable_support</th>\n",
       "      <th>budget</th>\n",
       "      <th>financing_source</th>\n",
       "      <th>ratings</th>\n",
       "      <th>genres</th>\n",
       "      <th>box_office</th>\n",
       "      <th>film_release_year</th>\n",
       "      <th>general_director</th>\n",
       "      <th>general_genres</th>\n",
       "    </tr>\n",
       "  </thead>\n",
       "  <tbody>\n",
       "    <tr>\n",
       "      <th>0</th>\n",
       "      <td>Открытый простор</td>\n",
       "      <td>221048915.0</td>\n",
       "      <td>2015-11-27 12:00:00</td>\n",
       "      <td>Художественный</td>\n",
       "      <td>Тачстоун Пикчерз, Кобальт Пикчерз, Бикон Пикче...</td>\n",
       "      <td>США</td>\n",
       "      <td>Кевин Костнер</td>\n",
       "      <td>Дэвид Валдес, Кевин Костнер, Джейк Эбертс</td>\n",
       "      <td>«18+» - запрещено для детей</td>\n",
       "      <td>NaN</td>\n",
       "      <td>NaN</td>\n",
       "      <td>NaN</td>\n",
       "      <td>NaN</td>\n",
       "      <td>7.2</td>\n",
       "      <td>боевик,драма,мелодрама</td>\n",
       "      <td>NaN</td>\n",
       "      <td>2015</td>\n",
       "      <td>Кевин Костнер</td>\n",
       "      <td>боевик</td>\n",
       "    </tr>\n",
       "    <tr>\n",
       "      <th>1</th>\n",
       "      <td>Особо важное задание</td>\n",
       "      <td>111013716.0</td>\n",
       "      <td>2016-09-13 12:00:00</td>\n",
       "      <td>Художественный</td>\n",
       "      <td>Киностудия \"Мосфильм\"</td>\n",
       "      <td>СССР</td>\n",
       "      <td>Е.Матвеев</td>\n",
       "      <td>NaN</td>\n",
       "      <td>«6+» - для детей старше 6 лет</td>\n",
       "      <td>NaN</td>\n",
       "      <td>NaN</td>\n",
       "      <td>NaN</td>\n",
       "      <td>NaN</td>\n",
       "      <td>6.6</td>\n",
       "      <td>драма,военный</td>\n",
       "      <td>NaN</td>\n",
       "      <td>2016</td>\n",
       "      <td>Е.Матвеев</td>\n",
       "      <td>драма</td>\n",
       "    </tr>\n",
       "    <tr>\n",
       "      <th>2</th>\n",
       "      <td>Особо опасен</td>\n",
       "      <td>221038416.0</td>\n",
       "      <td>2016-10-10 12:00:00</td>\n",
       "      <td>Художественный</td>\n",
       "      <td>Юниверсал Пикчерз, Кикстарт Продакшнз, Марк Пл...</td>\n",
       "      <td>США</td>\n",
       "      <td>Тимур Бекмамбетов</td>\n",
       "      <td>Джим Лемли, Джейсон Нетер, Марк Е.Платт, Яйн Смит</td>\n",
       "      <td>«18+» - запрещено для детей</td>\n",
       "      <td>NaN</td>\n",
       "      <td>NaN</td>\n",
       "      <td>NaN</td>\n",
       "      <td>NaN</td>\n",
       "      <td>6.8</td>\n",
       "      <td>фантастика,боевик,триллер</td>\n",
       "      <td>NaN</td>\n",
       "      <td>2016</td>\n",
       "      <td>Тимур Бекмамбетов</td>\n",
       "      <td>фантастика</td>\n",
       "    </tr>\n",
       "    <tr>\n",
       "      <th>3</th>\n",
       "      <td>Особо опасен</td>\n",
       "      <td>221026916.0</td>\n",
       "      <td>2016-06-10 12:00:00</td>\n",
       "      <td>Художественный</td>\n",
       "      <td>Юниверсал Пикчерз, Кикстарт Продакшнз, Марк Пл...</td>\n",
       "      <td>США</td>\n",
       "      <td>Тимур Бекмамбетов</td>\n",
       "      <td>Джим Лемли, Джейсон Нетер, Марк Е.Платт, Яйн Смит</td>\n",
       "      <td>«18+» - запрещено для детей</td>\n",
       "      <td>NaN</td>\n",
       "      <td>NaN</td>\n",
       "      <td>NaN</td>\n",
       "      <td>NaN</td>\n",
       "      <td>6.8</td>\n",
       "      <td>фантастика,боевик,триллер</td>\n",
       "      <td>NaN</td>\n",
       "      <td>2016</td>\n",
       "      <td>Тимур Бекмамбетов</td>\n",
       "      <td>фантастика</td>\n",
       "    </tr>\n",
       "    <tr>\n",
       "      <th>4</th>\n",
       "      <td>Особо опасен</td>\n",
       "      <td>221030815.0</td>\n",
       "      <td>2015-07-29 12:00:00</td>\n",
       "      <td>Художественный</td>\n",
       "      <td>Юниверсал Пикчерз, Кикстарт Продакшнз, Марк Пл...</td>\n",
       "      <td>США</td>\n",
       "      <td>Тимур Бекмамбетов</td>\n",
       "      <td>Джим Лемли, Джейсон Нетер, Марк Е.Платт, Яйн Смит</td>\n",
       "      <td>«18+» - запрещено для детей</td>\n",
       "      <td>NaN</td>\n",
       "      <td>NaN</td>\n",
       "      <td>NaN</td>\n",
       "      <td>NaN</td>\n",
       "      <td>6.8</td>\n",
       "      <td>фантастика,боевик,триллер</td>\n",
       "      <td>NaN</td>\n",
       "      <td>2015</td>\n",
       "      <td>Тимур Бекмамбетов</td>\n",
       "      <td>фантастика</td>\n",
       "    </tr>\n",
       "  </tbody>\n",
       "</table>\n",
       "</div>"
      ],
      "text/plain": [
       "                  title     puNumber     show_start_date            type  \\\n",
       "0      Открытый простор  221048915.0 2015-11-27 12:00:00  Художественный   \n",
       "1  Особо важное задание  111013716.0 2016-09-13 12:00:00  Художественный   \n",
       "2          Особо опасен  221038416.0 2016-10-10 12:00:00  Художественный   \n",
       "3          Особо опасен  221026916.0 2016-06-10 12:00:00  Художественный   \n",
       "4          Особо опасен  221030815.0 2015-07-29 12:00:00  Художественный   \n",
       "\n",
       "                                         film_studio production_country  \\\n",
       "0  Тачстоун Пикчерз, Кобальт Пикчерз, Бикон Пикче...                США   \n",
       "1                              Киностудия \"Мосфильм\"               СССР   \n",
       "2  Юниверсал Пикчерз, Кикстарт Продакшнз, Марк Пл...                США   \n",
       "3  Юниверсал Пикчерз, Кикстарт Продакшнз, Марк Пл...                США   \n",
       "4  Юниверсал Пикчерз, Кикстарт Продакшнз, Марк Пл...                США   \n",
       "\n",
       "            director                                           producer  \\\n",
       "0      Кевин Костнер          Дэвид Валдес, Кевин Костнер, Джейк Эбертс   \n",
       "1          Е.Матвеев                                                NaN   \n",
       "2  Тимур Бекмамбетов  Джим Лемли, Джейсон Нетер, Марк Е.Платт, Яйн Смит   \n",
       "3  Тимур Бекмамбетов  Джим Лемли, Джейсон Нетер, Марк Е.Платт, Яйн Смит   \n",
       "4  Тимур Бекмамбетов  Джим Лемли, Джейсон Нетер, Марк Е.Платт, Яйн Смит   \n",
       "\n",
       "                 age_restriction  refundable_support  nonrefundable_support  \\\n",
       "0    «18+» - запрещено для детей                 NaN                    NaN   \n",
       "1  «6+» - для детей старше 6 лет                 NaN                    NaN   \n",
       "2    «18+» - запрещено для детей                 NaN                    NaN   \n",
       "3    «18+» - запрещено для детей                 NaN                    NaN   \n",
       "4    «18+» - запрещено для детей                 NaN                    NaN   \n",
       "\n",
       "   budget financing_source  ratings                     genres  box_office  \\\n",
       "0     NaN              NaN      7.2     боевик,драма,мелодрама         NaN   \n",
       "1     NaN              NaN      6.6              драма,военный         NaN   \n",
       "2     NaN              NaN      6.8  фантастика,боевик,триллер         NaN   \n",
       "3     NaN              NaN      6.8  фантастика,боевик,триллер         NaN   \n",
       "4     NaN              NaN      6.8  фантастика,боевик,триллер         NaN   \n",
       "\n",
       "   film_release_year   general_director general_genres  \n",
       "0               2015      Кевин Костнер         боевик  \n",
       "1               2016          Е.Матвеев          драма  \n",
       "2               2016  Тимур Бекмамбетов     фантастика  \n",
       "3               2016  Тимур Бекмамбетов     фантастика  \n",
       "4               2015  Тимур Бекмамбетов     фантастика  "
      ]
     },
     "metadata": {},
     "output_type": "display_data"
    }
   ],
   "source": [
    "display(mkrf_movies.head())"
   ]
  },
  {
   "cell_type": "markdown",
   "metadata": {
    "id": "1FsCXHwdgFyU"
   },
   "source": [
    "- Посчитайте, какую долю от общего бюджета фильма составляет государственная поддержка."
   ]
  },
  {
   "cell_type": "code",
   "execution_count": 41,
   "metadata": {
    "id": "LV6qFuZLgFyV"
   },
   "outputs": [],
   "source": [
    "mkrf_movies['share_total_budget'] = (mkrf_movies['refundable_support'] + mkrf_movies['nonrefundable_support']) / mkrf_movies['budget']"
   ]
  },
  {
   "cell_type": "code",
   "execution_count": 42,
   "metadata": {},
   "outputs": [
    {
     "data": {
      "text/plain": [
       "count    332.000000\n",
       "mean       0.542098\n",
       "std        0.196925\n",
       "min        0.044043\n",
       "25%        0.384615\n",
       "50%        0.614038\n",
       "75%        0.661412\n",
       "max        1.000000\n",
       "Name: share_total_budget, dtype: float64"
      ]
     },
     "execution_count": 42,
     "metadata": {},
     "output_type": "execute_result"
    }
   ],
   "source": [
    "mkrf_movies['share_total_budget'].describe()"
   ]
  },
  {
   "cell_type": "markdown",
   "metadata": {},
   "source": [
    "*Если судить по медианному значению, то от общего бюджета фильма  государственная поддержка составляет около 61%.*"
   ]
  },
  {
   "cell_type": "markdown",
   "metadata": {},
   "source": [
    "**Вывод:**\n",
    "- Создали столбец с информацией о годе проката. Выделили год из даты премьеры фильма.\n",
    "- Создали два столбца: с именем и фамилией главного режиссёра и основным жанром фильма. В столбцы вошли первые значения из списка режиссёров и жанров соответственно.\n",
    "- Посчитали, какую долю от общего бюджета фильма составляет государственная поддержка."
   ]
  },
  {
   "cell_type": "code",
   "execution_count": 43,
   "metadata": {},
   "outputs": [
    {
     "data": {
      "text/html": [
       "<div>\n",
       "<style scoped>\n",
       "    .dataframe tbody tr th:only-of-type {\n",
       "        vertical-align: middle;\n",
       "    }\n",
       "\n",
       "    .dataframe tbody tr th {\n",
       "        vertical-align: top;\n",
       "    }\n",
       "\n",
       "    .dataframe thead th {\n",
       "        text-align: right;\n",
       "    }\n",
       "</style>\n",
       "<table border=\"1\" class=\"dataframe\">\n",
       "  <thead>\n",
       "    <tr style=\"text-align: right;\">\n",
       "      <th></th>\n",
       "      <th>title</th>\n",
       "      <th>puNumber</th>\n",
       "      <th>show_start_date</th>\n",
       "      <th>type</th>\n",
       "      <th>film_studio</th>\n",
       "      <th>production_country</th>\n",
       "      <th>director</th>\n",
       "      <th>producer</th>\n",
       "      <th>age_restriction</th>\n",
       "      <th>refundable_support</th>\n",
       "      <th>nonrefundable_support</th>\n",
       "      <th>budget</th>\n",
       "      <th>financing_source</th>\n",
       "      <th>ratings</th>\n",
       "      <th>genres</th>\n",
       "      <th>box_office</th>\n",
       "      <th>film_release_year</th>\n",
       "      <th>general_director</th>\n",
       "      <th>general_genres</th>\n",
       "      <th>share_total_budget</th>\n",
       "    </tr>\n",
       "  </thead>\n",
       "  <tbody>\n",
       "    <tr>\n",
       "      <th>0</th>\n",
       "      <td>Открытый простор</td>\n",
       "      <td>221048915.0</td>\n",
       "      <td>2015-11-27 12:00:00</td>\n",
       "      <td>Художественный</td>\n",
       "      <td>Тачстоун Пикчерз, Кобальт Пикчерз, Бикон Пикче...</td>\n",
       "      <td>США</td>\n",
       "      <td>Кевин Костнер</td>\n",
       "      <td>Дэвид Валдес, Кевин Костнер, Джейк Эбертс</td>\n",
       "      <td>«18+» - запрещено для детей</td>\n",
       "      <td>NaN</td>\n",
       "      <td>NaN</td>\n",
       "      <td>NaN</td>\n",
       "      <td>NaN</td>\n",
       "      <td>7.2</td>\n",
       "      <td>боевик,драма,мелодрама</td>\n",
       "      <td>NaN</td>\n",
       "      <td>2015</td>\n",
       "      <td>Кевин Костнер</td>\n",
       "      <td>боевик</td>\n",
       "      <td>NaN</td>\n",
       "    </tr>\n",
       "    <tr>\n",
       "      <th>1</th>\n",
       "      <td>Особо важное задание</td>\n",
       "      <td>111013716.0</td>\n",
       "      <td>2016-09-13 12:00:00</td>\n",
       "      <td>Художественный</td>\n",
       "      <td>Киностудия \"Мосфильм\"</td>\n",
       "      <td>СССР</td>\n",
       "      <td>Е.Матвеев</td>\n",
       "      <td>NaN</td>\n",
       "      <td>«6+» - для детей старше 6 лет</td>\n",
       "      <td>NaN</td>\n",
       "      <td>NaN</td>\n",
       "      <td>NaN</td>\n",
       "      <td>NaN</td>\n",
       "      <td>6.6</td>\n",
       "      <td>драма,военный</td>\n",
       "      <td>NaN</td>\n",
       "      <td>2016</td>\n",
       "      <td>Е.Матвеев</td>\n",
       "      <td>драма</td>\n",
       "      <td>NaN</td>\n",
       "    </tr>\n",
       "    <tr>\n",
       "      <th>2</th>\n",
       "      <td>Особо опасен</td>\n",
       "      <td>221038416.0</td>\n",
       "      <td>2016-10-10 12:00:00</td>\n",
       "      <td>Художественный</td>\n",
       "      <td>Юниверсал Пикчерз, Кикстарт Продакшнз, Марк Пл...</td>\n",
       "      <td>США</td>\n",
       "      <td>Тимур Бекмамбетов</td>\n",
       "      <td>Джим Лемли, Джейсон Нетер, Марк Е.Платт, Яйн Смит</td>\n",
       "      <td>«18+» - запрещено для детей</td>\n",
       "      <td>NaN</td>\n",
       "      <td>NaN</td>\n",
       "      <td>NaN</td>\n",
       "      <td>NaN</td>\n",
       "      <td>6.8</td>\n",
       "      <td>фантастика,боевик,триллер</td>\n",
       "      <td>NaN</td>\n",
       "      <td>2016</td>\n",
       "      <td>Тимур Бекмамбетов</td>\n",
       "      <td>фантастика</td>\n",
       "      <td>NaN</td>\n",
       "    </tr>\n",
       "  </tbody>\n",
       "</table>\n",
       "</div>"
      ],
      "text/plain": [
       "                  title     puNumber     show_start_date            type  \\\n",
       "0      Открытый простор  221048915.0 2015-11-27 12:00:00  Художественный   \n",
       "1  Особо важное задание  111013716.0 2016-09-13 12:00:00  Художественный   \n",
       "2          Особо опасен  221038416.0 2016-10-10 12:00:00  Художественный   \n",
       "\n",
       "                                         film_studio production_country  \\\n",
       "0  Тачстоун Пикчерз, Кобальт Пикчерз, Бикон Пикче...                США   \n",
       "1                              Киностудия \"Мосфильм\"               СССР   \n",
       "2  Юниверсал Пикчерз, Кикстарт Продакшнз, Марк Пл...                США   \n",
       "\n",
       "            director                                           producer  \\\n",
       "0      Кевин Костнер          Дэвид Валдес, Кевин Костнер, Джейк Эбертс   \n",
       "1          Е.Матвеев                                                NaN   \n",
       "2  Тимур Бекмамбетов  Джим Лемли, Джейсон Нетер, Марк Е.Платт, Яйн Смит   \n",
       "\n",
       "                 age_restriction  refundable_support  nonrefundable_support  \\\n",
       "0    «18+» - запрещено для детей                 NaN                    NaN   \n",
       "1  «6+» - для детей старше 6 лет                 NaN                    NaN   \n",
       "2    «18+» - запрещено для детей                 NaN                    NaN   \n",
       "\n",
       "   budget financing_source  ratings                     genres  box_office  \\\n",
       "0     NaN              NaN      7.2     боевик,драма,мелодрама         NaN   \n",
       "1     NaN              NaN      6.6              драма,военный         NaN   \n",
       "2     NaN              NaN      6.8  фантастика,боевик,триллер         NaN   \n",
       "\n",
       "   film_release_year   general_director general_genres  share_total_budget  \n",
       "0               2015      Кевин Костнер         боевик                 NaN  \n",
       "1               2016          Е.Матвеев          драма                 NaN  \n",
       "2               2016  Тимур Бекмамбетов     фантастика                 NaN  "
      ]
     },
     "execution_count": 43,
     "metadata": {},
     "output_type": "execute_result"
    }
   ],
   "source": [
    "# Код ревьюера\n",
    "mkrf_movies.head(3)"
   ]
  },
  {
   "cell_type": "markdown",
   "metadata": {
    "id": "6t4EukPLgFyV"
   },
   "source": [
    "### Шаг 3. Проведем исследовательский анализ данных\n"
   ]
  },
  {
   "cell_type": "markdown",
   "metadata": {
    "id": "vAH8WCzugFyV"
   },
   "source": [
    "- Посмотрим, сколько фильмов выходило в прокат каждый год. Обратим внимание, что данные о прокате в кинотеатрах известны не для всех фильмов. Посчитаем, какую долю составляют фильмы с указанной информацией о прокате в кинотеатрах."
   ]
  },
  {
   "cell_type": "markdown",
   "metadata": {
    "id": "ABeV47y7gFyW"
   },
   "source": [
    "**Посмотрим, сколько фильмов выходило в прокат каждый год:**"
   ]
  },
  {
   "cell_type": "code",
   "execution_count": 44,
   "metadata": {},
   "outputs": [
    {
     "data": {
      "text/plain": [
       "2017    505\n",
       "2012    593\n",
       "2011    622\n",
       "2013    630\n",
       "2015    705\n",
       "2014    807\n",
       "2016    818\n",
       "2018    891\n",
       "2019    930\n",
       "2010    985\n",
       "Name: film_release_year, dtype: int64"
      ]
     },
     "execution_count": 44,
     "metadata": {},
     "output_type": "execute_result"
    }
   ],
   "source": [
    "mkrf_movies['film_release_year'].value_counts().sort_values(ascending=True)"
   ]
  },
  {
   "cell_type": "code",
   "execution_count": 45,
   "metadata": {},
   "outputs": [
    {
     "data": {
      "image/png": "[encoded data removed]",
      "text/plain": [
       "<Figure size 432x288 with 1 Axes>"
      ]
     },
     "metadata": {
      "needs_background": "light"
     },
     "output_type": "display_data"
    }
   ],
   "source": [
    "# Получение количества фильмов для каждого года выпуска\n",
    "counts = mkrf_movies['film_release_year'].value_counts()\n",
    "\n",
    "# Создание столбчатой диаграммы\n",
    "plt.bar(counts.index, counts.values)\n",
    "\n",
    "# Настройка осей и заголовка диаграммы\n",
    "plt.xlabel('Год выпуска')\n",
    "plt.ylabel('Количество фильмов')\n",
    "plt.title('Столбчатая диаграмма количества фильмов по годам выпуска')\n",
    "\n",
    "# Показать диаграмму\n",
    "plt.show()"
   ]
  },
  {
   "cell_type": "markdown",
   "metadata": {},
   "source": [
    "- Года 2014, 2016, 2018 и 2019 имеют наибольшее количество выпущенных фильмов среди представленных данных. Это может свидетельствовать о пике активности в кинематографической индустрии в этих годах или о наличии факторов, стимулирующих выпуск фильмов.\n",
    "\n",
    "- 2010 год  имеет самое высокое количество выпущенных фильмов среди всех представленных данных (985 фильмов)."
   ]
  },
  {
   "cell_type": "markdown",
   "metadata": {},
   "source": [
    "**Посчитаем, какую долю составляют фильмы с указанной информацией о прокате в кинотеатрах.**"
   ]
  },
  {
   "cell_type": "code",
   "execution_count": 46,
   "metadata": {},
   "outputs": [],
   "source": [
    "# Шаг 1: Расчет общей суммы сборов всех фильмов\n",
    "#total_box_office = mkrf_movies[\"box_office\"].sum()\n",
    "\n",
    "# Шаг 2: Расчет суммы сборов для фильмов с указанной информацией о прокате\n",
    "#films_with_box_office = mkrf_movies[mkrf_movies[\"box_office\"].notnull()]\n",
    "#box_office_with_info = films_with_box_office[\"box_office\"].sum()\n",
    "\n",
    "# Шаг 3: Расчет доли фильмов с указанной информацией о прокате\n",
    "#share_with_info = box_office_with_info / total_box_office\n",
    "\n",
    "#print(f\"Доля фильмов с указанной информацией о прокате в кинотеатрах: {share_with_info:.2%}\")"
   ]
  },
  {
   "cell_type": "code",
   "execution_count": 47,
   "metadata": {},
   "outputs": [
    {
     "data": {
      "text/html": [
       "<div>\n",
       "<style scoped>\n",
       "    .dataframe tbody tr th:only-of-type {\n",
       "        vertical-align: middle;\n",
       "    }\n",
       "\n",
       "    .dataframe tbody tr th {\n",
       "        vertical-align: top;\n",
       "    }\n",
       "\n",
       "    .dataframe thead th {\n",
       "        text-align: right;\n",
       "    }\n",
       "</style>\n",
       "<table border=\"1\" class=\"dataframe\">\n",
       "  <thead>\n",
       "    <tr style=\"text-align: right;\">\n",
       "      <th></th>\n",
       "      <th>cinema_box_office</th>\n",
       "      <th>total_cinema</th>\n",
       "      <th>procent</th>\n",
       "    </tr>\n",
       "    <tr>\n",
       "      <th>film_release_year</th>\n",
       "      <th></th>\n",
       "      <th></th>\n",
       "      <th></th>\n",
       "    </tr>\n",
       "  </thead>\n",
       "  <tbody>\n",
       "    <tr>\n",
       "      <th>2010</th>\n",
       "      <td>105</td>\n",
       "      <td>985</td>\n",
       "      <td>10.659898</td>\n",
       "    </tr>\n",
       "    <tr>\n",
       "      <th>2011</th>\n",
       "      <td>109</td>\n",
       "      <td>622</td>\n",
       "      <td>17.524116</td>\n",
       "    </tr>\n",
       "    <tr>\n",
       "      <th>2012</th>\n",
       "      <td>128</td>\n",
       "      <td>593</td>\n",
       "      <td>21.585160</td>\n",
       "    </tr>\n",
       "    <tr>\n",
       "      <th>2013</th>\n",
       "      <td>184</td>\n",
       "      <td>630</td>\n",
       "      <td>29.206349</td>\n",
       "    </tr>\n",
       "    <tr>\n",
       "      <th>2014</th>\n",
       "      <td>279</td>\n",
       "      <td>806</td>\n",
       "      <td>34.615385</td>\n",
       "    </tr>\n",
       "    <tr>\n",
       "      <th>2015</th>\n",
       "      <td>465</td>\n",
       "      <td>705</td>\n",
       "      <td>65.957447</td>\n",
       "    </tr>\n",
       "    <tr>\n",
       "      <th>2016</th>\n",
       "      <td>526</td>\n",
       "      <td>818</td>\n",
       "      <td>64.303178</td>\n",
       "    </tr>\n",
       "    <tr>\n",
       "      <th>2017</th>\n",
       "      <td>357</td>\n",
       "      <td>505</td>\n",
       "      <td>70.693069</td>\n",
       "    </tr>\n",
       "    <tr>\n",
       "      <th>2018</th>\n",
       "      <td>475</td>\n",
       "      <td>891</td>\n",
       "      <td>53.310887</td>\n",
       "    </tr>\n",
       "    <tr>\n",
       "      <th>2019</th>\n",
       "      <td>530</td>\n",
       "      <td>930</td>\n",
       "      <td>56.989247</td>\n",
       "    </tr>\n",
       "  </tbody>\n",
       "</table>\n",
       "</div>"
      ],
      "text/plain": [
       "                   cinema_box_office  total_cinema    procent\n",
       "film_release_year                                            \n",
       "2010                             105           985  10.659898\n",
       "2011                             109           622  17.524116\n",
       "2012                             128           593  21.585160\n",
       "2013                             184           630  29.206349\n",
       "2014                             279           806  34.615385\n",
       "2015                             465           705  65.957447\n",
       "2016                             526           818  64.303178\n",
       "2017                             357           505  70.693069\n",
       "2018                             475           891  53.310887\n",
       "2019                             530           930  56.989247"
      ]
     },
     "metadata": {},
     "output_type": "display_data"
    }
   ],
   "source": [
    "share = pd.pivot_table(mkrf_movies, \n",
    "               index=[\"film_release_year\"], \n",
    "               values=[\"puNumber\", \"box_office\"], \n",
    "               aggfunc='count')\n",
    "share['procent'] = share['box_office'] / share['puNumber'] * 100\n",
    "share.rename(columns = {'puNumber':'total_cinema', 'box_office':'cinema_box_office'}, inplace = True )\n",
    "display(share)"
   ]
  },
  {
   "cell_type": "code",
   "execution_count": 48,
   "metadata": {},
   "outputs": [
    {
     "data": {
      "image/png": "[encoded data removed]",
      "text/plain": [
       "<Figure size 864x432 with 1 Axes>"
      ]
     },
     "metadata": {
      "needs_background": "light"
     },
     "output_type": "display_data"
    }
   ],
   "source": [
    "# Построение графика\n",
    "plt.figure(figsize=(12, 6))\n",
    "plt.plot(share.index, share['procent'], marker='o', linestyle='-', color='b')\n",
    "plt.xlabel('Год выпуска фильма')\n",
    "plt.ylabel('Доля фильмов с информацией о прокате (%)')\n",
    "plt.title('Доля фильмов с информацией о прокате по годам')\n",
    "plt.grid(True)\n",
    "plt.xticks(share.index, rotation=45)\n",
    "plt.show()"
   ]
  },
  {
   "cell_type": "markdown",
   "metadata": {},
   "source": [
    "**В данной выборке мы наблюдаем неоднородность данных. Отмечается, что с 2010 по 2014 годы было показано меньше всего фильмов в кинотеатрах. Однако доля таких фильмов колеблется от 10% до 34%, что говорит о том, что их наличие не пропорционально низкому количеству показов. Например, в 2019 году замечается самое большое количество кинопоказов в кинотеатрах, несмотря на то, что доля таких фильмов за этот год не является самой высокой по сравнению с другими годами. Таким образом, нельзя сделать однозначные выводы о количестве кинопоказов и их динамике.**"
   ]
  },
  {
   "cell_type": "markdown",
   "metadata": {
    "id": "BEOdcIrIgFyW"
   },
   "source": [
    "- Изучите, как менялась динамика проката по годам. В каком году сумма сборов была минимальной? А максимальной?"
   ]
  },
  {
   "cell_type": "code",
   "execution_count": 49,
   "metadata": {
    "id": "tfEhofYvgFyX"
   },
   "outputs": [
    {
     "data": {
      "text/html": [
       "<div>\n",
       "<style scoped>\n",
       "    .dataframe tbody tr th:only-of-type {\n",
       "        vertical-align: middle;\n",
       "    }\n",
       "\n",
       "    .dataframe tbody tr th {\n",
       "        vertical-align: top;\n",
       "    }\n",
       "\n",
       "    .dataframe thead th {\n",
       "        text-align: right;\n",
       "    }\n",
       "</style>\n",
       "<table border=\"1\" class=\"dataframe\">\n",
       "  <thead>\n",
       "    <tr style=\"text-align: right;\">\n",
       "      <th></th>\n",
       "      <th>box_office</th>\n",
       "    </tr>\n",
       "    <tr>\n",
       "      <th>film_release_year</th>\n",
       "      <th></th>\n",
       "    </tr>\n",
       "  </thead>\n",
       "  <tbody>\n",
       "    <tr>\n",
       "      <th>2010</th>\n",
       "      <td>2.428654e+06</td>\n",
       "    </tr>\n",
       "    <tr>\n",
       "      <th>2011</th>\n",
       "      <td>1.410276e+07</td>\n",
       "    </tr>\n",
       "    <tr>\n",
       "      <th>2012</th>\n",
       "      <td>6.955423e+06</td>\n",
       "    </tr>\n",
       "    <tr>\n",
       "      <th>2013</th>\n",
       "      <td>2.979971e+07</td>\n",
       "    </tr>\n",
       "    <tr>\n",
       "      <th>2014</th>\n",
       "      <td>7.444952e+09</td>\n",
       "    </tr>\n",
       "    <tr>\n",
       "      <th>2015</th>\n",
       "      <td>3.949737e+10</td>\n",
       "    </tr>\n",
       "    <tr>\n",
       "      <th>2016</th>\n",
       "      <td>4.786630e+10</td>\n",
       "    </tr>\n",
       "    <tr>\n",
       "      <th>2017</th>\n",
       "      <td>4.856371e+10</td>\n",
       "    </tr>\n",
       "    <tr>\n",
       "      <th>2018</th>\n",
       "      <td>4.966840e+10</td>\n",
       "    </tr>\n",
       "    <tr>\n",
       "      <th>2019</th>\n",
       "      <td>4.842571e+10</td>\n",
       "    </tr>\n",
       "  </tbody>\n",
       "</table>\n",
       "</div>"
      ],
      "text/plain": [
       "                     box_office\n",
       "film_release_year              \n",
       "2010               2.428654e+06\n",
       "2011               1.410276e+07\n",
       "2012               6.955423e+06\n",
       "2013               2.979971e+07\n",
       "2014               7.444952e+09\n",
       "2015               3.949737e+10\n",
       "2016               4.786630e+10\n",
       "2017               4.856371e+10\n",
       "2018               4.966840e+10\n",
       "2019               4.842571e+10"
      ]
     },
     "metadata": {},
     "output_type": "display_data"
    }
   ],
   "source": [
    "dinamicks = pd.pivot_table(mkrf_movies, \n",
    "               index=[\"film_release_year\"], \n",
    "               values=[\"box_office\"], \n",
    "               aggfunc='sum')\n",
    "display(dinamicks)"
   ]
  },
  {
   "cell_type": "code",
   "execution_count": 50,
   "metadata": {},
   "outputs": [
    {
     "data": {
      "image/png": "[encoded data removed]",
      "text/plain": [
       "<Figure size 432x288 with 1 Axes>"
      ]
     },
     "metadata": {
      "needs_background": "light"
     },
     "output_type": "display_data"
    }
   ],
   "source": [
    "plt.bar(dinamicks.index, dinamicks['box_office'])\n",
    "plt.xlabel('Год релиза')\n",
    "plt.ylabel('Сборы в кассе')\n",
    "plt.title('Сборы в кассе по годам релиза')\n",
    "plt.show()"
   ]
  },
  {
   "cell_type": "markdown",
   "metadata": {},
   "source": [
    "**Исходя из предоставленных данных, можно сделать следующие выводы о динамике проката по годам:**\n",
    "- С 2014 года произошел резкий скачок в сумме сборов в кассе, который продолжался до 2019 года.\n",
    "- В период с 2015 по 2019 год сумма сборов в кассе значительно выросла и достигла своего пика в 2018 году, после чего начала незначительно снижаться.\n",
    "- Минимальная сумма сборов была в 2010 году, составляя 2.43 миллиона рублей.\n",
    "- Максимальная сумма сборов была в 2018 году, составляя 49.68 миллиардов рублей.\n",
    "- Таким образом, можно сказать, что в данных представлен тренд на постепенный рост суммы сборов в кассе с 2010 года до 2018 года, после чего наблюдается незначительное снижение в 2019 году."
   ]
  },
  {
   "cell_type": "markdown",
   "metadata": {
    "id": "G-7qS-N-gFyY"
   },
   "source": [
    "- С помощью сводной таблицы посчитаем среднюю и медианную сумму сборов для каждого года."
   ]
  },
  {
   "cell_type": "code",
   "execution_count": 51,
   "metadata": {
    "id": "jmp-rgg9gFyY"
   },
   "outputs": [
    {
     "data": {
      "text/html": [
       "<div>\n",
       "<style scoped>\n",
       "    .dataframe tbody tr th:only-of-type {\n",
       "        vertical-align: middle;\n",
       "    }\n",
       "\n",
       "    .dataframe tbody tr th {\n",
       "        vertical-align: top;\n",
       "    }\n",
       "\n",
       "    .dataframe thead tr th {\n",
       "        text-align: left;\n",
       "    }\n",
       "\n",
       "    .dataframe thead tr:last-of-type th {\n",
       "        text-align: right;\n",
       "    }\n",
       "</style>\n",
       "<table border=\"1\" class=\"dataframe\">\n",
       "  <thead>\n",
       "    <tr>\n",
       "      <th></th>\n",
       "      <th>mean</th>\n",
       "      <th>median</th>\n",
       "    </tr>\n",
       "    <tr>\n",
       "      <th></th>\n",
       "      <th>box_office</th>\n",
       "      <th>box_office</th>\n",
       "    </tr>\n",
       "    <tr>\n",
       "      <th>film_release_year</th>\n",
       "      <th></th>\n",
       "      <th></th>\n",
       "    </tr>\n",
       "  </thead>\n",
       "  <tbody>\n",
       "    <tr>\n",
       "      <th>2010</th>\n",
       "      <td>2.313004e+04</td>\n",
       "      <td>1700.000</td>\n",
       "    </tr>\n",
       "    <tr>\n",
       "      <th>2011</th>\n",
       "      <td>1.293832e+05</td>\n",
       "      <td>3000.000</td>\n",
       "    </tr>\n",
       "    <tr>\n",
       "      <th>2012</th>\n",
       "      <td>5.433924e+04</td>\n",
       "      <td>5660.000</td>\n",
       "    </tr>\n",
       "    <tr>\n",
       "      <th>2013</th>\n",
       "      <td>1.619549e+05</td>\n",
       "      <td>3522.500</td>\n",
       "    </tr>\n",
       "    <tr>\n",
       "      <th>2014</th>\n",
       "      <td>2.668442e+07</td>\n",
       "      <td>18160.000</td>\n",
       "    </tr>\n",
       "    <tr>\n",
       "      <th>2015</th>\n",
       "      <td>8.494057e+07</td>\n",
       "      <td>4920933.000</td>\n",
       "    </tr>\n",
       "    <tr>\n",
       "      <th>2016</th>\n",
       "      <td>9.100057e+07</td>\n",
       "      <td>3846679.410</td>\n",
       "    </tr>\n",
       "    <tr>\n",
       "      <th>2017</th>\n",
       "      <td>1.360328e+08</td>\n",
       "      <td>9968340.000</td>\n",
       "    </tr>\n",
       "    <tr>\n",
       "      <th>2018</th>\n",
       "      <td>1.045651e+08</td>\n",
       "      <td>8891102.210</td>\n",
       "    </tr>\n",
       "    <tr>\n",
       "      <th>2019</th>\n",
       "      <td>9.136926e+07</td>\n",
       "      <td>4627798.345</td>\n",
       "    </tr>\n",
       "  </tbody>\n",
       "</table>\n",
       "</div>"
      ],
      "text/plain": [
       "                           mean       median\n",
       "                     box_office   box_office\n",
       "film_release_year                           \n",
       "2010               2.313004e+04     1700.000\n",
       "2011               1.293832e+05     3000.000\n",
       "2012               5.433924e+04     5660.000\n",
       "2013               1.619549e+05     3522.500\n",
       "2014               2.668442e+07    18160.000\n",
       "2015               8.494057e+07  4920933.000\n",
       "2016               9.100057e+07  3846679.410\n",
       "2017               1.360328e+08  9968340.000\n",
       "2018               1.045651e+08  8891102.210\n",
       "2019               9.136926e+07  4627798.345"
      ]
     },
     "metadata": {},
     "output_type": "display_data"
    }
   ],
   "source": [
    "dinamicks = pd.pivot_table(mkrf_movies, \n",
    "               index=[\"film_release_year\"], \n",
    "               values=[\"box_office\"], \n",
    "               aggfunc=['mean', 'median'])\n",
    "display(dinamicks)"
   ]
  },
  {
   "cell_type": "code",
   "execution_count": 52,
   "metadata": {},
   "outputs": [
    {
     "data": {
      "image/png": "[encoded data removed]",
      "text/plain": [
       "<Figure size 432x288 with 1 Axes>"
      ]
     },
     "metadata": {
      "needs_background": "light"
     },
     "output_type": "display_data"
    }
   ],
   "source": [
    "fig, ax = plt.subplots()\n",
    "years = dinamicks.index.get_level_values(0)\n",
    "mean_box_office = dinamicks[('mean', 'box_office')]\n",
    "median_box_office = dinamicks[('median', 'box_office')]\n",
    "ax.plot(years, mean_box_office, label='Среднее значение')\n",
    "ax.plot(years, median_box_office, label='Медианное значение')\n",
    "ax.set_xlabel('Год выпуска фильма')\n",
    "ax.set_ylabel('Сборы в кассе')\n",
    "ax.set_title('Средние и медианные сборы фильмов по годам')\n",
    "ax.legend()\n",
    "plt.show()"
   ]
  },
  {
   "cell_type": "markdown",
   "metadata": {},
   "source": [
    "**Видно, что данные о сборах в кассе фильмов имеют значительный разброс, что подтверждается разницей между средним и медианным значением. Это указывает на наличие некоторых фильмов с крайне высокими сборами в сравнении с остальными. Однако, в идустрии кино такой разброс является нормой.**\n",
    "\n",
    "**Когда рассматривается общая тенденция, можно заметить, что год с наибольшими сборами в кассе был 2017 год. Это подтверждается и средним значением, и медианой.**\n",
    "\n",
    "**Таким образом, можно сделать вывод, что в киноиндустрии существуют фильмы, которые достигают огромных сборов, а некоторые годы выделяются особенно высокими показателями.**"
   ]
  },
  {
   "cell_type": "markdown",
   "metadata": {
    "id": "Ok89WFwJgFyZ"
   },
   "source": [
    "- Определим, влияет ли возрастное ограничение аудитории («6+», «12+», «16+», «18+» и т. д.) на сборы фильма в прокате в период с 2015 по 2019 год? Фильмы с каким возрастным ограничением собрали больше всего денег в прокате? Меняется ли картина в зависимости от года? Если да, предположим, с чем это может быть связано."
   ]
  },
  {
   "cell_type": "code",
   "execution_count": 53,
   "metadata": {
    "id": "jsSbEqfjgFya"
   },
   "outputs": [
    {
     "data": {
      "text/html": [
       "<div>\n",
       "<style scoped>\n",
       "    .dataframe tbody tr th:only-of-type {\n",
       "        vertical-align: middle;\n",
       "    }\n",
       "\n",
       "    .dataframe tbody tr th {\n",
       "        vertical-align: top;\n",
       "    }\n",
       "\n",
       "    .dataframe thead th {\n",
       "        text-align: right;\n",
       "    }\n",
       "</style>\n",
       "<table border=\"1\" class=\"dataframe\">\n",
       "  <thead>\n",
       "    <tr style=\"text-align: right;\">\n",
       "      <th></th>\n",
       "      <th>box_office</th>\n",
       "    </tr>\n",
       "    <tr>\n",
       "      <th>age_restriction</th>\n",
       "      <th></th>\n",
       "    </tr>\n",
       "  </thead>\n",
       "  <tbody>\n",
       "    <tr>\n",
       "      <th>«0+» - для любой зрительской аудитории</th>\n",
       "      <td>8.090774e+08</td>\n",
       "    </tr>\n",
       "    <tr>\n",
       "      <th>«12+» - для детей старше 12 лет</th>\n",
       "      <td>6.061945e+10</td>\n",
       "    </tr>\n",
       "    <tr>\n",
       "      <th>«16+» - для детей старше 16 лет</th>\n",
       "      <td>7.603473e+10</td>\n",
       "    </tr>\n",
       "    <tr>\n",
       "      <th>«18+» - запрещено для детей</th>\n",
       "      <td>4.075962e+10</td>\n",
       "    </tr>\n",
       "    <tr>\n",
       "      <th>«6+» - для детей старше 6 лет</th>\n",
       "      <td>5.579861e+10</td>\n",
       "    </tr>\n",
       "  </tbody>\n",
       "</table>\n",
       "</div>"
      ],
      "text/plain": [
       "                                          box_office\n",
       "age_restriction                                     \n",
       "«0+» - для любой зрительской аудитории  8.090774e+08\n",
       "«12+» - для детей старше 12 лет         6.061945e+10\n",
       "«16+» - для детей старше 16 лет         7.603473e+10\n",
       "«18+» - запрещено для детей             4.075962e+10\n",
       "«6+» - для детей старше 6 лет           5.579861e+10"
      ]
     },
     "metadata": {},
     "output_type": "display_data"
    }
   ],
   "source": [
    "age = pd.pivot_table(mkrf_movies.query('2015 <= film_release_year'), \n",
    "               index=[\"age_restriction\"], \n",
    "               values=[\"box_office\"], \n",
    "               aggfunc=['sum'])\n",
    "age.columns = age.columns.droplevel()\n",
    "display(age)"
   ]
  },
  {
   "cell_type": "code",
   "execution_count": 54,
   "metadata": {},
   "outputs": [
    {
     "data": {
      "image/png": "[encoded data removed]",
      "text/plain": [
       "<Figure size 720x432 with 1 Axes>"
      ]
     },
     "metadata": {
      "needs_background": "light"
     },
     "output_type": "display_data"
    }
   ],
   "source": [
    "plt.figure(figsize=(10, 6))\n",
    "plt.bar(age.index, age['box_office'])\n",
    "plt.title('Сборы фильмов в прокате по возрастным ограничениям (2015-2019)')\n",
    "plt.xlabel('Возрастное ограничение')\n",
    "plt.ylabel('Сборы в прокате')\n",
    "plt.xticks(rotation=90) \n",
    "plt.show()"
   ]
  },
  {
   "cell_type": "markdown",
   "metadata": {},
   "source": [
    "В период с 2015 по 2019 год больше всего собрали денег в прокате фильмы с ограничением «16+» - для детей старше 16 лет."
   ]
  },
  {
   "cell_type": "markdown",
   "metadata": {},
   "source": [
    "_**Посмотрим меняется ли картина в зависимости от года:**_"
   ]
  },
  {
   "cell_type": "code",
   "execution_count": 55,
   "metadata": {},
   "outputs": [
    {
     "data": {
      "text/html": [
       "<div>\n",
       "<style scoped>\n",
       "    .dataframe tbody tr th:only-of-type {\n",
       "        vertical-align: middle;\n",
       "    }\n",
       "\n",
       "    .dataframe tbody tr th {\n",
       "        vertical-align: top;\n",
       "    }\n",
       "\n",
       "    .dataframe thead th {\n",
       "        text-align: right;\n",
       "    }\n",
       "</style>\n",
       "<table border=\"1\" class=\"dataframe\">\n",
       "  <thead>\n",
       "    <tr style=\"text-align: right;\">\n",
       "      <th></th>\n",
       "      <th>Film Release Year</th>\n",
       "      <th>Age Restriction</th>\n",
       "      <th>Box Office</th>\n",
       "    </tr>\n",
       "  </thead>\n",
       "  <tbody>\n",
       "    <tr>\n",
       "      <th>0</th>\n",
       "      <td>2015</td>\n",
       "      <td>«0+» - для любой зрительской аудитории</td>\n",
       "      <td>3.790546e+08</td>\n",
       "    </tr>\n",
       "    <tr>\n",
       "      <th>1</th>\n",
       "      <td>2015</td>\n",
       "      <td>«12+» - для детей старше 12 лет</td>\n",
       "      <td>1.361608e+10</td>\n",
       "    </tr>\n",
       "    <tr>\n",
       "      <th>2</th>\n",
       "      <td>2015</td>\n",
       "      <td>«16+» - для детей старше 16 лет</td>\n",
       "      <td>1.136812e+10</td>\n",
       "    </tr>\n",
       "    <tr>\n",
       "      <th>3</th>\n",
       "      <td>2015</td>\n",
       "      <td>«18+» - запрещено для детей</td>\n",
       "      <td>5.432308e+09</td>\n",
       "    </tr>\n",
       "    <tr>\n",
       "      <th>4</th>\n",
       "      <td>2015</td>\n",
       "      <td>«6+» - для детей старше 6 лет</td>\n",
       "      <td>8.701799e+09</td>\n",
       "    </tr>\n",
       "    <tr>\n",
       "      <th>5</th>\n",
       "      <td>2016</td>\n",
       "      <td>«0+» - для любой зрительской аудитории</td>\n",
       "      <td>1.502288e+08</td>\n",
       "    </tr>\n",
       "    <tr>\n",
       "      <th>6</th>\n",
       "      <td>2016</td>\n",
       "      <td>«12+» - для детей старше 12 лет</td>\n",
       "      <td>1.220445e+10</td>\n",
       "    </tr>\n",
       "    <tr>\n",
       "      <th>7</th>\n",
       "      <td>2016</td>\n",
       "      <td>«16+» - для детей старше 16 лет</td>\n",
       "      <td>1.666455e+10</td>\n",
       "    </tr>\n",
       "    <tr>\n",
       "      <th>8</th>\n",
       "      <td>2016</td>\n",
       "      <td>«18+» - запрещено для детей</td>\n",
       "      <td>6.793930e+09</td>\n",
       "    </tr>\n",
       "    <tr>\n",
       "      <th>9</th>\n",
       "      <td>2016</td>\n",
       "      <td>«6+» - для детей старше 6 лет</td>\n",
       "      <td>1.205315e+10</td>\n",
       "    </tr>\n",
       "    <tr>\n",
       "      <th>10</th>\n",
       "      <td>2017</td>\n",
       "      <td>«0+» - для любой зрительской аудитории</td>\n",
       "      <td>2.295989e+08</td>\n",
       "    </tr>\n",
       "    <tr>\n",
       "      <th>11</th>\n",
       "      <td>2017</td>\n",
       "      <td>«12+» - для детей старше 12 лет</td>\n",
       "      <td>7.851428e+09</td>\n",
       "    </tr>\n",
       "    <tr>\n",
       "      <th>12</th>\n",
       "      <td>2017</td>\n",
       "      <td>«16+» - для детей старше 16 лет</td>\n",
       "      <td>1.874504e+10</td>\n",
       "    </tr>\n",
       "    <tr>\n",
       "      <th>13</th>\n",
       "      <td>2017</td>\n",
       "      <td>«18+» - запрещено для детей</td>\n",
       "      <td>9.651496e+09</td>\n",
       "    </tr>\n",
       "    <tr>\n",
       "      <th>14</th>\n",
       "      <td>2017</td>\n",
       "      <td>«6+» - для детей старше 6 лет</td>\n",
       "      <td>1.208614e+10</td>\n",
       "    </tr>\n",
       "    <tr>\n",
       "      <th>15</th>\n",
       "      <td>2018</td>\n",
       "      <td>«0+» - для любой зрительской аудитории</td>\n",
       "      <td>3.244900e+07</td>\n",
       "    </tr>\n",
       "    <tr>\n",
       "      <th>16</th>\n",
       "      <td>2018</td>\n",
       "      <td>«12+» - для детей старше 12 лет</td>\n",
       "      <td>1.426729e+10</td>\n",
       "    </tr>\n",
       "    <tr>\n",
       "      <th>17</th>\n",
       "      <td>2018</td>\n",
       "      <td>«16+» - для детей старше 16 лет</td>\n",
       "      <td>1.650360e+10</td>\n",
       "    </tr>\n",
       "    <tr>\n",
       "      <th>18</th>\n",
       "      <td>2018</td>\n",
       "      <td>«18+» - запрещено для детей</td>\n",
       "      <td>8.760086e+09</td>\n",
       "    </tr>\n",
       "    <tr>\n",
       "      <th>19</th>\n",
       "      <td>2018</td>\n",
       "      <td>«6+» - для детей старше 6 лет</td>\n",
       "      <td>1.010497e+10</td>\n",
       "    </tr>\n",
       "    <tr>\n",
       "      <th>20</th>\n",
       "      <td>2019</td>\n",
       "      <td>«0+» - для любой зрительской аудитории</td>\n",
       "      <td>1.774607e+07</td>\n",
       "    </tr>\n",
       "    <tr>\n",
       "      <th>21</th>\n",
       "      <td>2019</td>\n",
       "      <td>«12+» - для детей старше 12 лет</td>\n",
       "      <td>1.268020e+10</td>\n",
       "    </tr>\n",
       "    <tr>\n",
       "      <th>22</th>\n",
       "      <td>2019</td>\n",
       "      <td>«16+» - для детей старше 16 лет</td>\n",
       "      <td>1.275342e+10</td>\n",
       "    </tr>\n",
       "    <tr>\n",
       "      <th>23</th>\n",
       "      <td>2019</td>\n",
       "      <td>«18+» - запрещено для детей</td>\n",
       "      <td>1.012180e+10</td>\n",
       "    </tr>\n",
       "    <tr>\n",
       "      <th>24</th>\n",
       "      <td>2019</td>\n",
       "      <td>«6+» - для детей старше 6 лет</td>\n",
       "      <td>1.285255e+10</td>\n",
       "    </tr>\n",
       "  </tbody>\n",
       "</table>\n",
       "</div>"
      ],
      "text/plain": [
       "    Film Release Year                         Age Restriction    Box Office\n",
       "0                2015  «0+» - для любой зрительской аудитории  3.790546e+08\n",
       "1                2015         «12+» - для детей старше 12 лет  1.361608e+10\n",
       "2                2015         «16+» - для детей старше 16 лет  1.136812e+10\n",
       "3                2015             «18+» - запрещено для детей  5.432308e+09\n",
       "4                2015           «6+» - для детей старше 6 лет  8.701799e+09\n",
       "5                2016  «0+» - для любой зрительской аудитории  1.502288e+08\n",
       "6                2016         «12+» - для детей старше 12 лет  1.220445e+10\n",
       "7                2016         «16+» - для детей старше 16 лет  1.666455e+10\n",
       "8                2016             «18+» - запрещено для детей  6.793930e+09\n",
       "9                2016           «6+» - для детей старше 6 лет  1.205315e+10\n",
       "10               2017  «0+» - для любой зрительской аудитории  2.295989e+08\n",
       "11               2017         «12+» - для детей старше 12 лет  7.851428e+09\n",
       "12               2017         «16+» - для детей старше 16 лет  1.874504e+10\n",
       "13               2017             «18+» - запрещено для детей  9.651496e+09\n",
       "14               2017           «6+» - для детей старше 6 лет  1.208614e+10\n",
       "15               2018  «0+» - для любой зрительской аудитории  3.244900e+07\n",
       "16               2018         «12+» - для детей старше 12 лет  1.426729e+10\n",
       "17               2018         «16+» - для детей старше 16 лет  1.650360e+10\n",
       "18               2018             «18+» - запрещено для детей  8.760086e+09\n",
       "19               2018           «6+» - для детей старше 6 лет  1.010497e+10\n",
       "20               2019  «0+» - для любой зрительской аудитории  1.774607e+07\n",
       "21               2019         «12+» - для детей старше 12 лет  1.268020e+10\n",
       "22               2019         «16+» - для детей старше 16 лет  1.275342e+10\n",
       "23               2019             «18+» - запрещено для детей  1.012180e+10\n",
       "24               2019           «6+» - для детей старше 6 лет  1.285255e+10"
      ]
     },
     "metadata": {},
     "output_type": "display_data"
    }
   ],
   "source": [
    "age = pd.pivot_table(mkrf_movies.query('2015 <= film_release_year'), \n",
    "               index=[\"film_release_year\", \"age_restriction\"], \n",
    "               values=[\"box_office\"], \n",
    "               aggfunc=['sum'])\n",
    "\n",
    "age = age.reset_index()  # Сбросим индексы для получения столбцов \"film_release_year\", \"age_restriction\" и \"sum\"\n",
    "age.columns = age.columns.droplevel(0)  # Удаление многоуровневых заголовков столбцов\n",
    "age.columns = ['Film Release Year', 'Age Restriction', 'Box Office']  # Переименование столбцов\n",
    "\n",
    "display(age)"
   ]
  },
  {
   "cell_type": "code",
   "execution_count": 56,
   "metadata": {},
   "outputs": [
    {
     "data": {
      "image/png": "[encoded data removed]",
      "text/plain": [
       "<Figure size 1080x1080 with 1 Axes>"
      ]
     },
     "metadata": {
      "needs_background": "light"
     },
     "output_type": "display_data"
    }
   ],
   "source": [
    "# Построение столбчатого графика\n",
    "plt.figure(figsize=(15, 15))\n",
    "sns.barplot(x='Film Release Year', y='Box Office', hue='Age Restriction', data=age)\n",
    "\n",
    "plt.title('Сумма сборов фильмов')\n",
    "plt.xlabel('Год')\n",
    "plt.ylabel('Сумма сборов по годам')\n",
    "\n",
    "plt.xticks(rotation=90) \n",
    "plt.tight_layout() \n",
    "\n",
    "plt.legend(title='Age Restriction')\n",
    "plt.show()"
   ]
  },
  {
   "cell_type": "markdown",
   "metadata": {},
   "source": [
    "Объяснение того, что фильмы с возрастным ограничением \"16+\" лидируют по сборам практически каждый год, может быть связано с несколькими факторами:\n",
    "\n",
    "Целевая аудитория: Фильмы с возрастным ограничением \"16+\" могут привлекать более широкую и старшую аудиторию, которая, вероятно, готова потратить больше денег на билеты и посещение кинотеатров.\n",
    "\n",
    "Качество контента: Фильмы с возрастным ограничением \"16+\" могут предлагать содержание, которое более привлекательно для зрителей, включая более сложные сюжеты, более высокий уровень интриги и эмоциональную насыщенность, что может привлечь больше зрителей и увеличить сборы.\n",
    "\n",
    "Популярность жанров: Фильмы с возрастным ограничением \"16+\" могут представлять популярные жанры, такие как боевики, триллеры, фантастика, которые имеют большую привлекательность для широкой аудитории и могут привести к большему успеху в кассовых сборах.\n",
    "\n",
    "Относительно 2015 года, когда фильмы с возрастным ограничением \"12+\" были лидерами по сборам, это может быть связано с наличием популярных франшиз, которые выпустили фильмы с таким ограничением. К тому времени фильмы, относящиеся к таким франшизам, уже завоевали популярность среди широкой аудитории и имели предыдущие части или адаптации, что могло привести к большому успеху в сборах.\n",
    "\n",
    "Относительно 2019 года, когда фильмы с возрастным ограничением \"6+\" были лидерами по сборам, это может быть связано с наличием успешных фильмов, ориентированных на семейную аудиторию и детей. Фильмы с возрастным ограничением \"6+\" могут привлекать широкую аудиторию, включая детей и их родителей, что может привести к высоким кассовым сборам.\n",
    "\n",
    "В целом, успех фильмов с определенными возрастными ограничениями может быть связан с комбинацией целевой аудитории, качества контента, популярности жанров и наличием популярных фильмов или франшиз в определенных годах."
   ]
  },
  {
   "cell_type": "markdown",
   "metadata": {
    "id": "l_Kg6Ku4gFya"
   },
   "source": [
    "### Шаг 4. Исследуем фильмы, которые получили государственную поддержку\n",
    "\n",
    "На этом этапе нет конкретных инструкций и заданий — поищите интересные закономерности в данных. Посмотрите, сколько выделяют средств на поддержку кино. Проверьте, хорошо ли окупаются такие фильмы, какой у них рейтинг."
   ]
  },
  {
   "cell_type": "markdown",
   "metadata": {},
   "source": [
    "_**Для исследования фильмов, получивших государственную поддержку выделим их в отдельный DataFrame**_"
   ]
  },
  {
   "cell_type": "code",
   "execution_count": 57,
   "metadata": {
    "id": "W9QKpjUdgFyb"
   },
   "outputs": [
    {
     "data": {
      "text/html": [
       "<div>\n",
       "<style scoped>\n",
       "    .dataframe tbody tr th:only-of-type {\n",
       "        vertical-align: middle;\n",
       "    }\n",
       "\n",
       "    .dataframe tbody tr th {\n",
       "        vertical-align: top;\n",
       "    }\n",
       "\n",
       "    .dataframe thead th {\n",
       "        text-align: right;\n",
       "    }\n",
       "</style>\n",
       "<table border=\"1\" class=\"dataframe\">\n",
       "  <thead>\n",
       "    <tr style=\"text-align: right;\">\n",
       "      <th></th>\n",
       "      <th>title</th>\n",
       "      <th>puNumber</th>\n",
       "      <th>show_start_date</th>\n",
       "      <th>type</th>\n",
       "      <th>film_studio</th>\n",
       "      <th>production_country</th>\n",
       "      <th>director</th>\n",
       "      <th>producer</th>\n",
       "      <th>age_restriction</th>\n",
       "      <th>refundable_support</th>\n",
       "      <th>nonrefundable_support</th>\n",
       "      <th>budget</th>\n",
       "      <th>financing_source</th>\n",
       "      <th>ratings</th>\n",
       "      <th>genres</th>\n",
       "      <th>box_office</th>\n",
       "      <th>film_release_year</th>\n",
       "      <th>general_director</th>\n",
       "      <th>general_genres</th>\n",
       "      <th>share_total_budget</th>\n",
       "    </tr>\n",
       "  </thead>\n",
       "  <tbody>\n",
       "    <tr>\n",
       "      <th>1281</th>\n",
       "      <td>Пока еще жива</td>\n",
       "      <td>111005313.0</td>\n",
       "      <td>2013-10-11 12:00:00</td>\n",
       "      <td>Художественный</td>\n",
       "      <td>АНО содействия развитию кинематографии \"Ангел-...</td>\n",
       "      <td>Россия</td>\n",
       "      <td>А.Атанесян</td>\n",
       "      <td>А.Атанесян, М.Бабаханов, Р.Бутко</td>\n",
       "      <td>«16+» - для детей старше 16 лет</td>\n",
       "      <td>0.0</td>\n",
       "      <td>26500000.0</td>\n",
       "      <td>79411900.0</td>\n",
       "      <td>Министерство культуры</td>\n",
       "      <td>8.1</td>\n",
       "      <td>драма,мелодрама</td>\n",
       "      <td>3.653536e+05</td>\n",
       "      <td>2013</td>\n",
       "      <td>А.Атанесян</td>\n",
       "      <td>драма</td>\n",
       "      <td>0.333703</td>\n",
       "    </tr>\n",
       "    <tr>\n",
       "      <th>1448</th>\n",
       "      <td>Бесславные придурки</td>\n",
       "      <td>111003314.0</td>\n",
       "      <td>2014-03-28 12:00:00</td>\n",
       "      <td>Художественный</td>\n",
       "      <td>ООО \"Компания \"АТК-Студио\"</td>\n",
       "      <td>Россия</td>\n",
       "      <td>А.Якимчук</td>\n",
       "      <td>А.Тютрюмов</td>\n",
       "      <td>«12+» - для детей старше 12 лет</td>\n",
       "      <td>0.0</td>\n",
       "      <td>26000000.0</td>\n",
       "      <td>37142857.0</td>\n",
       "      <td>Министерство культуры</td>\n",
       "      <td>NaN</td>\n",
       "      <td>NaN</td>\n",
       "      <td>2.814000e+04</td>\n",
       "      <td>2014</td>\n",
       "      <td>А.Якимчук</td>\n",
       "      <td>NaN</td>\n",
       "      <td>0.700000</td>\n",
       "    </tr>\n",
       "    <tr>\n",
       "      <th>1498</th>\n",
       "      <td>Невидимки</td>\n",
       "      <td>111004213.0</td>\n",
       "      <td>2013-09-10 12:00:00</td>\n",
       "      <td>Художественный</td>\n",
       "      <td>ООО \"Компания \"РЕАЛ-ДАКОТА\"</td>\n",
       "      <td>Россия</td>\n",
       "      <td>Р.Давлетьяров, С.Комаров</td>\n",
       "      <td>Р.Давлетьяров, А.Котелевский, А.Олейников</td>\n",
       "      <td>«12+» - для детей старше 12 лет</td>\n",
       "      <td>0.0</td>\n",
       "      <td>107847945.0</td>\n",
       "      <td>176023490.0</td>\n",
       "      <td>Фонд кино</td>\n",
       "      <td>5.3</td>\n",
       "      <td>комедия,фантастика</td>\n",
       "      <td>1.995703e+07</td>\n",
       "      <td>2013</td>\n",
       "      <td>Р.Давлетьяров</td>\n",
       "      <td>комедия</td>\n",
       "      <td>0.612691</td>\n",
       "    </tr>\n",
       "    <tr>\n",
       "      <th>1524</th>\n",
       "      <td>БЕРЦЫ</td>\n",
       "      <td>111004314.0</td>\n",
       "      <td>2014-05-05 12:00:00</td>\n",
       "      <td>Художественный</td>\n",
       "      <td>ООО \"Студия \"Пассажир\"</td>\n",
       "      <td>Россия</td>\n",
       "      <td>Е.Миндадзе (псевдоним Катя Шагалова)</td>\n",
       "      <td>Л.Антонова</td>\n",
       "      <td>«16+» - для детей старше 16 лет</td>\n",
       "      <td>0.0</td>\n",
       "      <td>28000000.0</td>\n",
       "      <td>40574140.0</td>\n",
       "      <td>Министерство культуры</td>\n",
       "      <td>4.2</td>\n",
       "      <td>драма</td>\n",
       "      <td>5.591750e+04</td>\n",
       "      <td>2014</td>\n",
       "      <td>Е.Миндадзе (псевдоним Катя Шагалова)</td>\n",
       "      <td>драма</td>\n",
       "      <td>0.690095</td>\n",
       "    </tr>\n",
       "    <tr>\n",
       "      <th>1792</th>\n",
       "      <td>Братья Ч</td>\n",
       "      <td>111004414.0</td>\n",
       "      <td>2014-04-23 12:00:00</td>\n",
       "      <td>Художественный</td>\n",
       "      <td>ООО \"Студия \"Пассажир\"</td>\n",
       "      <td>Россия</td>\n",
       "      <td>М.Угаров</td>\n",
       "      <td>А.Миндадзе, Л.Антонова</td>\n",
       "      <td>«16+» - для детей старше 16 лет</td>\n",
       "      <td>0.0</td>\n",
       "      <td>25000000.0</td>\n",
       "      <td>40015122.0</td>\n",
       "      <td>Министерство культуры</td>\n",
       "      <td>6.4</td>\n",
       "      <td>драма</td>\n",
       "      <td>2.321000e+05</td>\n",
       "      <td>2014</td>\n",
       "      <td>М.Угаров</td>\n",
       "      <td>драма</td>\n",
       "      <td>0.624764</td>\n",
       "    </tr>\n",
       "    <tr>\n",
       "      <th>...</th>\n",
       "      <td>...</td>\n",
       "      <td>...</td>\n",
       "      <td>...</td>\n",
       "      <td>...</td>\n",
       "      <td>...</td>\n",
       "      <td>...</td>\n",
       "      <td>...</td>\n",
       "      <td>...</td>\n",
       "      <td>...</td>\n",
       "      <td>...</td>\n",
       "      <td>...</td>\n",
       "      <td>...</td>\n",
       "      <td>...</td>\n",
       "      <td>...</td>\n",
       "      <td>...</td>\n",
       "      <td>...</td>\n",
       "      <td>...</td>\n",
       "      <td>...</td>\n",
       "      <td>...</td>\n",
       "      <td>...</td>\n",
       "    </tr>\n",
       "    <tr>\n",
       "      <th>7464</th>\n",
       "      <td>Союз спасения</td>\n",
       "      <td>111022019.0</td>\n",
       "      <td>2019-12-26 12:00:00</td>\n",
       "      <td>Художественный</td>\n",
       "      <td>ЗАО \"Дирекция кино\"</td>\n",
       "      <td>Россия</td>\n",
       "      <td>А.Кравчук</td>\n",
       "      <td>А.Максимов, К.Эрнст</td>\n",
       "      <td>«12+» - для детей старше 12 лет</td>\n",
       "      <td>100000000.0</td>\n",
       "      <td>400000000.0</td>\n",
       "      <td>980000000.0</td>\n",
       "      <td>Фонд кино</td>\n",
       "      <td>6.0</td>\n",
       "      <td>история,биография,драма</td>\n",
       "      <td>7.177032e+08</td>\n",
       "      <td>2019</td>\n",
       "      <td>А.Кравчук</td>\n",
       "      <td>история</td>\n",
       "      <td>0.510204</td>\n",
       "    </tr>\n",
       "    <tr>\n",
       "      <th>7466</th>\n",
       "      <td>Иван Царевич и Серый Волк 4</td>\n",
       "      <td>114005019.0</td>\n",
       "      <td>2019-12-20 12:00:00</td>\n",
       "      <td>Анимационный</td>\n",
       "      <td>ООО \"Студия анимационного кино \"Мельница\"</td>\n",
       "      <td>Россия</td>\n",
       "      <td>Д.Шмидт, К.Феоктистов</td>\n",
       "      <td>С.Сельянов, А.Боярский</td>\n",
       "      <td>«6+» - для детей старше 6 лет</td>\n",
       "      <td>100000000.0</td>\n",
       "      <td>0.0</td>\n",
       "      <td>190000000.0</td>\n",
       "      <td>Фонд кино</td>\n",
       "      <td>6.7</td>\n",
       "      <td>мультфильм,приключения,семейный</td>\n",
       "      <td>5.010692e+08</td>\n",
       "      <td>2019</td>\n",
       "      <td>Д.Шмидт</td>\n",
       "      <td>мультфильм</td>\n",
       "      <td>0.526316</td>\n",
       "    </tr>\n",
       "    <tr>\n",
       "      <th>7474</th>\n",
       "      <td>Вторжение</td>\n",
       "      <td>111022519.0</td>\n",
       "      <td>2019-12-23 12:00:00</td>\n",
       "      <td>Художественный</td>\n",
       "      <td>ООО \"Арт Пикчерс Студия\", ООО \"Водород 2011\"</td>\n",
       "      <td>Россия</td>\n",
       "      <td>Ф.Бондарчук</td>\n",
       "      <td>Ф.Бондарчук, М.Врубель, А.Андрющенко, Д.Рудовский</td>\n",
       "      <td>«12+» - для детей старше 12 лет</td>\n",
       "      <td>100000000.0</td>\n",
       "      <td>400000000.0</td>\n",
       "      <td>944000000.0</td>\n",
       "      <td>Фонд кино</td>\n",
       "      <td>5.7</td>\n",
       "      <td>фантастика,боевик</td>\n",
       "      <td>NaN</td>\n",
       "      <td>2019</td>\n",
       "      <td>Ф.Бондарчук</td>\n",
       "      <td>фантастика</td>\n",
       "      <td>0.529661</td>\n",
       "    </tr>\n",
       "    <tr>\n",
       "      <th>7476</th>\n",
       "      <td>Я свободен</td>\n",
       "      <td>111023019.0</td>\n",
       "      <td>2019-12-26 12:00:00</td>\n",
       "      <td>Художественный</td>\n",
       "      <td>АО \"ТПО \"Киностудия им. М.Горького\"</td>\n",
       "      <td>Россия</td>\n",
       "      <td>И.Северов</td>\n",
       "      <td>С.Зернов</td>\n",
       "      <td>«12+» - для детей старше 12 лет</td>\n",
       "      <td>0.0</td>\n",
       "      <td>30000000.0</td>\n",
       "      <td>46154000.0</td>\n",
       "      <td>Министерство культуры</td>\n",
       "      <td>5.9</td>\n",
       "      <td>драма</td>\n",
       "      <td>NaN</td>\n",
       "      <td>2019</td>\n",
       "      <td>И.Северов</td>\n",
       "      <td>драма</td>\n",
       "      <td>0.649998</td>\n",
       "    </tr>\n",
       "    <tr>\n",
       "      <th>7478</th>\n",
       "      <td>(Не)идеальный мужчина</td>\n",
       "      <td>111023119.0</td>\n",
       "      <td>2019-12-24 12:00:00</td>\n",
       "      <td>Художественный</td>\n",
       "      <td>ООО \"Нон-Стоп Продакшн\"</td>\n",
       "      <td>Россия</td>\n",
       "      <td>М.Бальчюнас (псевдоним М.Вайсберг)</td>\n",
       "      <td>С.Мелькумов, А.Роднянский, М.Вайсберг, Р.Минас...</td>\n",
       "      <td>«12+» - для детей старше 12 лет</td>\n",
       "      <td>40000000.0</td>\n",
       "      <td>60000000.0</td>\n",
       "      <td>150147502.0</td>\n",
       "      <td>Фонд кино</td>\n",
       "      <td>4.5</td>\n",
       "      <td>комедия,фантастика,мелодрама</td>\n",
       "      <td>NaN</td>\n",
       "      <td>2019</td>\n",
       "      <td>М.Бальчюнас (псевдоним М.Вайсберг)</td>\n",
       "      <td>комедия</td>\n",
       "      <td>0.666012</td>\n",
       "    </tr>\n",
       "  </tbody>\n",
       "</table>\n",
       "<p>332 rows × 20 columns</p>\n",
       "</div>"
      ],
      "text/plain": [
       "                            title     puNumber     show_start_date  \\\n",
       "1281                Пока еще жива  111005313.0 2013-10-11 12:00:00   \n",
       "1448          Бесславные придурки  111003314.0 2014-03-28 12:00:00   \n",
       "1498                    Невидимки  111004213.0 2013-09-10 12:00:00   \n",
       "1524                        БЕРЦЫ  111004314.0 2014-05-05 12:00:00   \n",
       "1792                     Братья Ч  111004414.0 2014-04-23 12:00:00   \n",
       "...                           ...          ...                 ...   \n",
       "7464                Союз спасения  111022019.0 2019-12-26 12:00:00   \n",
       "7466  Иван Царевич и Серый Волк 4  114005019.0 2019-12-20 12:00:00   \n",
       "7474                    Вторжение  111022519.0 2019-12-23 12:00:00   \n",
       "7476                   Я свободен  111023019.0 2019-12-26 12:00:00   \n",
       "7478        (Не)идеальный мужчина  111023119.0 2019-12-24 12:00:00   \n",
       "\n",
       "                type                                        film_studio  \\\n",
       "1281  Художественный  АНО содействия развитию кинематографии \"Ангел-...   \n",
       "1448  Художественный                         ООО \"Компания \"АТК-Студио\"   \n",
       "1498  Художественный                        ООО \"Компания \"РЕАЛ-ДАКОТА\"   \n",
       "1524  Художественный                             ООО \"Студия \"Пассажир\"   \n",
       "1792  Художественный                             ООО \"Студия \"Пассажир\"   \n",
       "...              ...                                                ...   \n",
       "7464  Художественный                                ЗАО \"Дирекция кино\"   \n",
       "7466    Анимационный          ООО \"Студия анимационного кино \"Мельница\"   \n",
       "7474  Художественный       ООО \"Арт Пикчерс Студия\", ООО \"Водород 2011\"   \n",
       "7476  Художественный                АО \"ТПО \"Киностудия им. М.Горького\"   \n",
       "7478  Художественный                           ООО \"Нон-Стоп Продакшн\"    \n",
       "\n",
       "     production_country                              director  \\\n",
       "1281             Россия                            А.Атанесян   \n",
       "1448             Россия                             А.Якимчук   \n",
       "1498             Россия              Р.Давлетьяров, С.Комаров   \n",
       "1524             Россия  Е.Миндадзе (псевдоним Катя Шагалова)   \n",
       "1792             Россия                              М.Угаров   \n",
       "...                 ...                                   ...   \n",
       "7464             Россия                             А.Кравчук   \n",
       "7466             Россия                 Д.Шмидт, К.Феоктистов   \n",
       "7474             Россия                           Ф.Бондарчук   \n",
       "7476             Россия                             И.Северов   \n",
       "7478             Россия    М.Бальчюнас (псевдоним М.Вайсберг)   \n",
       "\n",
       "                                               producer  \\\n",
       "1281                   А.Атанесян, М.Бабаханов, Р.Бутко   \n",
       "1448                                         А.Тютрюмов   \n",
       "1498          Р.Давлетьяров, А.Котелевский, А.Олейников   \n",
       "1524                                         Л.Антонова   \n",
       "1792                             А.Миндадзе, Л.Антонова   \n",
       "...                                                 ...   \n",
       "7464                                А.Максимов, К.Эрнст   \n",
       "7466                             С.Сельянов, А.Боярский   \n",
       "7474  Ф.Бондарчук, М.Врубель, А.Андрющенко, Д.Рудовский   \n",
       "7476                                           С.Зернов   \n",
       "7478  С.Мелькумов, А.Роднянский, М.Вайсберг, Р.Минас...   \n",
       "\n",
       "                      age_restriction  refundable_support  \\\n",
       "1281  «16+» - для детей старше 16 лет                 0.0   \n",
       "1448  «12+» - для детей старше 12 лет                 0.0   \n",
       "1498  «12+» - для детей старше 12 лет                 0.0   \n",
       "1524  «16+» - для детей старше 16 лет                 0.0   \n",
       "1792  «16+» - для детей старше 16 лет                 0.0   \n",
       "...                               ...                 ...   \n",
       "7464  «12+» - для детей старше 12 лет         100000000.0   \n",
       "7466    «6+» - для детей старше 6 лет         100000000.0   \n",
       "7474  «12+» - для детей старше 12 лет         100000000.0   \n",
       "7476  «12+» - для детей старше 12 лет                 0.0   \n",
       "7478  «12+» - для детей старше 12 лет          40000000.0   \n",
       "\n",
       "      nonrefundable_support       budget       financing_source  ratings  \\\n",
       "1281             26500000.0   79411900.0  Министерство культуры      8.1   \n",
       "1448             26000000.0   37142857.0  Министерство культуры      NaN   \n",
       "1498            107847945.0  176023490.0              Фонд кино      5.3   \n",
       "1524             28000000.0   40574140.0  Министерство культуры      4.2   \n",
       "1792             25000000.0   40015122.0  Министерство культуры      6.4   \n",
       "...                     ...          ...                    ...      ...   \n",
       "7464            400000000.0  980000000.0              Фонд кино      6.0   \n",
       "7466                    0.0  190000000.0              Фонд кино      6.7   \n",
       "7474            400000000.0  944000000.0              Фонд кино      5.7   \n",
       "7476             30000000.0   46154000.0  Министерство культуры      5.9   \n",
       "7478             60000000.0  150147502.0              Фонд кино      4.5   \n",
       "\n",
       "                               genres    box_office  film_release_year  \\\n",
       "1281                  драма,мелодрама  3.653536e+05               2013   \n",
       "1448                              NaN  2.814000e+04               2014   \n",
       "1498               комедия,фантастика  1.995703e+07               2013   \n",
       "1524                            драма  5.591750e+04               2014   \n",
       "1792                            драма  2.321000e+05               2014   \n",
       "...                               ...           ...                ...   \n",
       "7464          история,биография,драма  7.177032e+08               2019   \n",
       "7466  мультфильм,приключения,семейный  5.010692e+08               2019   \n",
       "7474                фантастика,боевик           NaN               2019   \n",
       "7476                            драма           NaN               2019   \n",
       "7478     комедия,фантастика,мелодрама           NaN               2019   \n",
       "\n",
       "                          general_director general_genres  share_total_budget  \n",
       "1281                            А.Атанесян          драма            0.333703  \n",
       "1448                             А.Якимчук            NaN            0.700000  \n",
       "1498                         Р.Давлетьяров        комедия            0.612691  \n",
       "1524  Е.Миндадзе (псевдоним Катя Шагалова)          драма            0.690095  \n",
       "1792                              М.Угаров          драма            0.624764  \n",
       "...                                    ...            ...                 ...  \n",
       "7464                             А.Кравчук        история            0.510204  \n",
       "7466                               Д.Шмидт     мультфильм            0.526316  \n",
       "7474                           Ф.Бондарчук     фантастика            0.529661  \n",
       "7476                             И.Северов          драма            0.649998  \n",
       "7478    М.Бальчюнас (псевдоним М.Вайсберг)        комедия            0.666012  \n",
       "\n",
       "[332 rows x 20 columns]"
      ]
     },
     "metadata": {},
     "output_type": "display_data"
    }
   ],
   "source": [
    "data_copy = mkrf_movies[mkrf_movies['budget'].notna()].copy()\n",
    "display(data_copy)"
   ]
  },
  {
   "cell_type": "markdown",
   "metadata": {},
   "source": [
    "Создадим столбец с доходностью фильма: "
   ]
  },
  {
   "cell_type": "code",
   "execution_count": 58,
   "metadata": {},
   "outputs": [],
   "source": [
    "data_copy['income'] = data_copy['box_office'] - data_copy['budget']"
   ]
  },
  {
   "cell_type": "code",
   "execution_count": 59,
   "metadata": {},
   "outputs": [
    {
     "data": {
      "text/html": [
       "<div>\n",
       "<style scoped>\n",
       "    .dataframe tbody tr th:only-of-type {\n",
       "        vertical-align: middle;\n",
       "    }\n",
       "\n",
       "    .dataframe tbody tr th {\n",
       "        vertical-align: top;\n",
       "    }\n",
       "\n",
       "    .dataframe thead th {\n",
       "        text-align: right;\n",
       "    }\n",
       "</style>\n",
       "<table border=\"1\" class=\"dataframe\">\n",
       "  <thead>\n",
       "    <tr style=\"text-align: right;\">\n",
       "      <th></th>\n",
       "      <th>title</th>\n",
       "      <th>puNumber</th>\n",
       "      <th>show_start_date</th>\n",
       "      <th>type</th>\n",
       "      <th>film_studio</th>\n",
       "      <th>production_country</th>\n",
       "      <th>director</th>\n",
       "      <th>producer</th>\n",
       "      <th>age_restriction</th>\n",
       "      <th>refundable_support</th>\n",
       "      <th>...</th>\n",
       "      <th>budget</th>\n",
       "      <th>financing_source</th>\n",
       "      <th>ratings</th>\n",
       "      <th>genres</th>\n",
       "      <th>box_office</th>\n",
       "      <th>film_release_year</th>\n",
       "      <th>general_director</th>\n",
       "      <th>general_genres</th>\n",
       "      <th>share_total_budget</th>\n",
       "      <th>income</th>\n",
       "    </tr>\n",
       "  </thead>\n",
       "  <tbody>\n",
       "    <tr>\n",
       "      <th>1281</th>\n",
       "      <td>Пока еще жива</td>\n",
       "      <td>111005313.0</td>\n",
       "      <td>2013-10-11 12:00:00</td>\n",
       "      <td>Художественный</td>\n",
       "      <td>АНО содействия развитию кинематографии \"Ангел-...</td>\n",
       "      <td>Россия</td>\n",
       "      <td>А.Атанесян</td>\n",
       "      <td>А.Атанесян, М.Бабаханов, Р.Бутко</td>\n",
       "      <td>«16+» - для детей старше 16 лет</td>\n",
       "      <td>0.0</td>\n",
       "      <td>...</td>\n",
       "      <td>79411900.0</td>\n",
       "      <td>Министерство культуры</td>\n",
       "      <td>8.1</td>\n",
       "      <td>драма,мелодрама</td>\n",
       "      <td>3.653536e+05</td>\n",
       "      <td>2013</td>\n",
       "      <td>А.Атанесян</td>\n",
       "      <td>драма</td>\n",
       "      <td>0.333703</td>\n",
       "      <td>-7.904655e+07</td>\n",
       "    </tr>\n",
       "    <tr>\n",
       "      <th>1448</th>\n",
       "      <td>Бесславные придурки</td>\n",
       "      <td>111003314.0</td>\n",
       "      <td>2014-03-28 12:00:00</td>\n",
       "      <td>Художественный</td>\n",
       "      <td>ООО \"Компания \"АТК-Студио\"</td>\n",
       "      <td>Россия</td>\n",
       "      <td>А.Якимчук</td>\n",
       "      <td>А.Тютрюмов</td>\n",
       "      <td>«12+» - для детей старше 12 лет</td>\n",
       "      <td>0.0</td>\n",
       "      <td>...</td>\n",
       "      <td>37142857.0</td>\n",
       "      <td>Министерство культуры</td>\n",
       "      <td>NaN</td>\n",
       "      <td>NaN</td>\n",
       "      <td>2.814000e+04</td>\n",
       "      <td>2014</td>\n",
       "      <td>А.Якимчук</td>\n",
       "      <td>NaN</td>\n",
       "      <td>0.700000</td>\n",
       "      <td>-3.711472e+07</td>\n",
       "    </tr>\n",
       "    <tr>\n",
       "      <th>1498</th>\n",
       "      <td>Невидимки</td>\n",
       "      <td>111004213.0</td>\n",
       "      <td>2013-09-10 12:00:00</td>\n",
       "      <td>Художественный</td>\n",
       "      <td>ООО \"Компания \"РЕАЛ-ДАКОТА\"</td>\n",
       "      <td>Россия</td>\n",
       "      <td>Р.Давлетьяров, С.Комаров</td>\n",
       "      <td>Р.Давлетьяров, А.Котелевский, А.Олейников</td>\n",
       "      <td>«12+» - для детей старше 12 лет</td>\n",
       "      <td>0.0</td>\n",
       "      <td>...</td>\n",
       "      <td>176023490.0</td>\n",
       "      <td>Фонд кино</td>\n",
       "      <td>5.3</td>\n",
       "      <td>комедия,фантастика</td>\n",
       "      <td>1.995703e+07</td>\n",
       "      <td>2013</td>\n",
       "      <td>Р.Давлетьяров</td>\n",
       "      <td>комедия</td>\n",
       "      <td>0.612691</td>\n",
       "      <td>-1.560665e+08</td>\n",
       "    </tr>\n",
       "    <tr>\n",
       "      <th>1524</th>\n",
       "      <td>БЕРЦЫ</td>\n",
       "      <td>111004314.0</td>\n",
       "      <td>2014-05-05 12:00:00</td>\n",
       "      <td>Художественный</td>\n",
       "      <td>ООО \"Студия \"Пассажир\"</td>\n",
       "      <td>Россия</td>\n",
       "      <td>Е.Миндадзе (псевдоним Катя Шагалова)</td>\n",
       "      <td>Л.Антонова</td>\n",
       "      <td>«16+» - для детей старше 16 лет</td>\n",
       "      <td>0.0</td>\n",
       "      <td>...</td>\n",
       "      <td>40574140.0</td>\n",
       "      <td>Министерство культуры</td>\n",
       "      <td>4.2</td>\n",
       "      <td>драма</td>\n",
       "      <td>5.591750e+04</td>\n",
       "      <td>2014</td>\n",
       "      <td>Е.Миндадзе (псевдоним Катя Шагалова)</td>\n",
       "      <td>драма</td>\n",
       "      <td>0.690095</td>\n",
       "      <td>-4.051822e+07</td>\n",
       "    </tr>\n",
       "    <tr>\n",
       "      <th>1792</th>\n",
       "      <td>Братья Ч</td>\n",
       "      <td>111004414.0</td>\n",
       "      <td>2014-04-23 12:00:00</td>\n",
       "      <td>Художественный</td>\n",
       "      <td>ООО \"Студия \"Пассажир\"</td>\n",
       "      <td>Россия</td>\n",
       "      <td>М.Угаров</td>\n",
       "      <td>А.Миндадзе, Л.Антонова</td>\n",
       "      <td>«16+» - для детей старше 16 лет</td>\n",
       "      <td>0.0</td>\n",
       "      <td>...</td>\n",
       "      <td>40015122.0</td>\n",
       "      <td>Министерство культуры</td>\n",
       "      <td>6.4</td>\n",
       "      <td>драма</td>\n",
       "      <td>2.321000e+05</td>\n",
       "      <td>2014</td>\n",
       "      <td>М.Угаров</td>\n",
       "      <td>драма</td>\n",
       "      <td>0.624764</td>\n",
       "      <td>-3.978302e+07</td>\n",
       "    </tr>\n",
       "    <tr>\n",
       "      <th>...</th>\n",
       "      <td>...</td>\n",
       "      <td>...</td>\n",
       "      <td>...</td>\n",
       "      <td>...</td>\n",
       "      <td>...</td>\n",
       "      <td>...</td>\n",
       "      <td>...</td>\n",
       "      <td>...</td>\n",
       "      <td>...</td>\n",
       "      <td>...</td>\n",
       "      <td>...</td>\n",
       "      <td>...</td>\n",
       "      <td>...</td>\n",
       "      <td>...</td>\n",
       "      <td>...</td>\n",
       "      <td>...</td>\n",
       "      <td>...</td>\n",
       "      <td>...</td>\n",
       "      <td>...</td>\n",
       "      <td>...</td>\n",
       "      <td>...</td>\n",
       "    </tr>\n",
       "    <tr>\n",
       "      <th>7464</th>\n",
       "      <td>Союз спасения</td>\n",
       "      <td>111022019.0</td>\n",
       "      <td>2019-12-26 12:00:00</td>\n",
       "      <td>Художественный</td>\n",
       "      <td>ЗАО \"Дирекция кино\"</td>\n",
       "      <td>Россия</td>\n",
       "      <td>А.Кравчук</td>\n",
       "      <td>А.Максимов, К.Эрнст</td>\n",
       "      <td>«12+» - для детей старше 12 лет</td>\n",
       "      <td>100000000.0</td>\n",
       "      <td>...</td>\n",
       "      <td>980000000.0</td>\n",
       "      <td>Фонд кино</td>\n",
       "      <td>6.0</td>\n",
       "      <td>история,биография,драма</td>\n",
       "      <td>7.177032e+08</td>\n",
       "      <td>2019</td>\n",
       "      <td>А.Кравчук</td>\n",
       "      <td>история</td>\n",
       "      <td>0.510204</td>\n",
       "      <td>-2.622968e+08</td>\n",
       "    </tr>\n",
       "    <tr>\n",
       "      <th>7466</th>\n",
       "      <td>Иван Царевич и Серый Волк 4</td>\n",
       "      <td>114005019.0</td>\n",
       "      <td>2019-12-20 12:00:00</td>\n",
       "      <td>Анимационный</td>\n",
       "      <td>ООО \"Студия анимационного кино \"Мельница\"</td>\n",
       "      <td>Россия</td>\n",
       "      <td>Д.Шмидт, К.Феоктистов</td>\n",
       "      <td>С.Сельянов, А.Боярский</td>\n",
       "      <td>«6+» - для детей старше 6 лет</td>\n",
       "      <td>100000000.0</td>\n",
       "      <td>...</td>\n",
       "      <td>190000000.0</td>\n",
       "      <td>Фонд кино</td>\n",
       "      <td>6.7</td>\n",
       "      <td>мультфильм,приключения,семейный</td>\n",
       "      <td>5.010692e+08</td>\n",
       "      <td>2019</td>\n",
       "      <td>Д.Шмидт</td>\n",
       "      <td>мультфильм</td>\n",
       "      <td>0.526316</td>\n",
       "      <td>3.110692e+08</td>\n",
       "    </tr>\n",
       "    <tr>\n",
       "      <th>7474</th>\n",
       "      <td>Вторжение</td>\n",
       "      <td>111022519.0</td>\n",
       "      <td>2019-12-23 12:00:00</td>\n",
       "      <td>Художественный</td>\n",
       "      <td>ООО \"Арт Пикчерс Студия\", ООО \"Водород 2011\"</td>\n",
       "      <td>Россия</td>\n",
       "      <td>Ф.Бондарчук</td>\n",
       "      <td>Ф.Бондарчук, М.Врубель, А.Андрющенко, Д.Рудовский</td>\n",
       "      <td>«12+» - для детей старше 12 лет</td>\n",
       "      <td>100000000.0</td>\n",
       "      <td>...</td>\n",
       "      <td>944000000.0</td>\n",
       "      <td>Фонд кино</td>\n",
       "      <td>5.7</td>\n",
       "      <td>фантастика,боевик</td>\n",
       "      <td>NaN</td>\n",
       "      <td>2019</td>\n",
       "      <td>Ф.Бондарчук</td>\n",
       "      <td>фантастика</td>\n",
       "      <td>0.529661</td>\n",
       "      <td>NaN</td>\n",
       "    </tr>\n",
       "    <tr>\n",
       "      <th>7476</th>\n",
       "      <td>Я свободен</td>\n",
       "      <td>111023019.0</td>\n",
       "      <td>2019-12-26 12:00:00</td>\n",
       "      <td>Художественный</td>\n",
       "      <td>АО \"ТПО \"Киностудия им. М.Горького\"</td>\n",
       "      <td>Россия</td>\n",
       "      <td>И.Северов</td>\n",
       "      <td>С.Зернов</td>\n",
       "      <td>«12+» - для детей старше 12 лет</td>\n",
       "      <td>0.0</td>\n",
       "      <td>...</td>\n",
       "      <td>46154000.0</td>\n",
       "      <td>Министерство культуры</td>\n",
       "      <td>5.9</td>\n",
       "      <td>драма</td>\n",
       "      <td>NaN</td>\n",
       "      <td>2019</td>\n",
       "      <td>И.Северов</td>\n",
       "      <td>драма</td>\n",
       "      <td>0.649998</td>\n",
       "      <td>NaN</td>\n",
       "    </tr>\n",
       "    <tr>\n",
       "      <th>7478</th>\n",
       "      <td>(Не)идеальный мужчина</td>\n",
       "      <td>111023119.0</td>\n",
       "      <td>2019-12-24 12:00:00</td>\n",
       "      <td>Художественный</td>\n",
       "      <td>ООО \"Нон-Стоп Продакшн\"</td>\n",
       "      <td>Россия</td>\n",
       "      <td>М.Бальчюнас (псевдоним М.Вайсберг)</td>\n",
       "      <td>С.Мелькумов, А.Роднянский, М.Вайсберг, Р.Минас...</td>\n",
       "      <td>«12+» - для детей старше 12 лет</td>\n",
       "      <td>40000000.0</td>\n",
       "      <td>...</td>\n",
       "      <td>150147502.0</td>\n",
       "      <td>Фонд кино</td>\n",
       "      <td>4.5</td>\n",
       "      <td>комедия,фантастика,мелодрама</td>\n",
       "      <td>NaN</td>\n",
       "      <td>2019</td>\n",
       "      <td>М.Бальчюнас (псевдоним М.Вайсберг)</td>\n",
       "      <td>комедия</td>\n",
       "      <td>0.666012</td>\n",
       "      <td>NaN</td>\n",
       "    </tr>\n",
       "  </tbody>\n",
       "</table>\n",
       "<p>332 rows × 21 columns</p>\n",
       "</div>"
      ],
      "text/plain": [
       "                            title     puNumber     show_start_date  \\\n",
       "1281                Пока еще жива  111005313.0 2013-10-11 12:00:00   \n",
       "1448          Бесславные придурки  111003314.0 2014-03-28 12:00:00   \n",
       "1498                    Невидимки  111004213.0 2013-09-10 12:00:00   \n",
       "1524                        БЕРЦЫ  111004314.0 2014-05-05 12:00:00   \n",
       "1792                     Братья Ч  111004414.0 2014-04-23 12:00:00   \n",
       "...                           ...          ...                 ...   \n",
       "7464                Союз спасения  111022019.0 2019-12-26 12:00:00   \n",
       "7466  Иван Царевич и Серый Волк 4  114005019.0 2019-12-20 12:00:00   \n",
       "7474                    Вторжение  111022519.0 2019-12-23 12:00:00   \n",
       "7476                   Я свободен  111023019.0 2019-12-26 12:00:00   \n",
       "7478        (Не)идеальный мужчина  111023119.0 2019-12-24 12:00:00   \n",
       "\n",
       "                type                                        film_studio  \\\n",
       "1281  Художественный  АНО содействия развитию кинематографии \"Ангел-...   \n",
       "1448  Художественный                         ООО \"Компания \"АТК-Студио\"   \n",
       "1498  Художественный                        ООО \"Компания \"РЕАЛ-ДАКОТА\"   \n",
       "1524  Художественный                             ООО \"Студия \"Пассажир\"   \n",
       "1792  Художественный                             ООО \"Студия \"Пассажир\"   \n",
       "...              ...                                                ...   \n",
       "7464  Художественный                                ЗАО \"Дирекция кино\"   \n",
       "7466    Анимационный          ООО \"Студия анимационного кино \"Мельница\"   \n",
       "7474  Художественный       ООО \"Арт Пикчерс Студия\", ООО \"Водород 2011\"   \n",
       "7476  Художественный                АО \"ТПО \"Киностудия им. М.Горького\"   \n",
       "7478  Художественный                           ООО \"Нон-Стоп Продакшн\"    \n",
       "\n",
       "     production_country                              director  \\\n",
       "1281             Россия                            А.Атанесян   \n",
       "1448             Россия                             А.Якимчук   \n",
       "1498             Россия              Р.Давлетьяров, С.Комаров   \n",
       "1524             Россия  Е.Миндадзе (псевдоним Катя Шагалова)   \n",
       "1792             Россия                              М.Угаров   \n",
       "...                 ...                                   ...   \n",
       "7464             Россия                             А.Кравчук   \n",
       "7466             Россия                 Д.Шмидт, К.Феоктистов   \n",
       "7474             Россия                           Ф.Бондарчук   \n",
       "7476             Россия                             И.Северов   \n",
       "7478             Россия    М.Бальчюнас (псевдоним М.Вайсберг)   \n",
       "\n",
       "                                               producer  \\\n",
       "1281                   А.Атанесян, М.Бабаханов, Р.Бутко   \n",
       "1448                                         А.Тютрюмов   \n",
       "1498          Р.Давлетьяров, А.Котелевский, А.Олейников   \n",
       "1524                                         Л.Антонова   \n",
       "1792                             А.Миндадзе, Л.Антонова   \n",
       "...                                                 ...   \n",
       "7464                                А.Максимов, К.Эрнст   \n",
       "7466                             С.Сельянов, А.Боярский   \n",
       "7474  Ф.Бондарчук, М.Врубель, А.Андрющенко, Д.Рудовский   \n",
       "7476                                           С.Зернов   \n",
       "7478  С.Мелькумов, А.Роднянский, М.Вайсберг, Р.Минас...   \n",
       "\n",
       "                      age_restriction  refundable_support  ...       budget  \\\n",
       "1281  «16+» - для детей старше 16 лет                 0.0  ...   79411900.0   \n",
       "1448  «12+» - для детей старше 12 лет                 0.0  ...   37142857.0   \n",
       "1498  «12+» - для детей старше 12 лет                 0.0  ...  176023490.0   \n",
       "1524  «16+» - для детей старше 16 лет                 0.0  ...   40574140.0   \n",
       "1792  «16+» - для детей старше 16 лет                 0.0  ...   40015122.0   \n",
       "...                               ...                 ...  ...          ...   \n",
       "7464  «12+» - для детей старше 12 лет         100000000.0  ...  980000000.0   \n",
       "7466    «6+» - для детей старше 6 лет         100000000.0  ...  190000000.0   \n",
       "7474  «12+» - для детей старше 12 лет         100000000.0  ...  944000000.0   \n",
       "7476  «12+» - для детей старше 12 лет                 0.0  ...   46154000.0   \n",
       "7478  «12+» - для детей старше 12 лет          40000000.0  ...  150147502.0   \n",
       "\n",
       "           financing_source ratings                           genres  \\\n",
       "1281  Министерство культуры     8.1                  драма,мелодрама   \n",
       "1448  Министерство культуры     NaN                              NaN   \n",
       "1498              Фонд кино     5.3               комедия,фантастика   \n",
       "1524  Министерство культуры     4.2                            драма   \n",
       "1792  Министерство культуры     6.4                            драма   \n",
       "...                     ...     ...                              ...   \n",
       "7464              Фонд кино     6.0          история,биография,драма   \n",
       "7466              Фонд кино     6.7  мультфильм,приключения,семейный   \n",
       "7474              Фонд кино     5.7                фантастика,боевик   \n",
       "7476  Министерство культуры     5.9                            драма   \n",
       "7478              Фонд кино     4.5     комедия,фантастика,мелодрама   \n",
       "\n",
       "        box_office  film_release_year                      general_director  \\\n",
       "1281  3.653536e+05               2013                            А.Атанесян   \n",
       "1448  2.814000e+04               2014                             А.Якимчук   \n",
       "1498  1.995703e+07               2013                         Р.Давлетьяров   \n",
       "1524  5.591750e+04               2014  Е.Миндадзе (псевдоним Катя Шагалова)   \n",
       "1792  2.321000e+05               2014                              М.Угаров   \n",
       "...            ...                ...                                   ...   \n",
       "7464  7.177032e+08               2019                             А.Кравчук   \n",
       "7466  5.010692e+08               2019                               Д.Шмидт   \n",
       "7474           NaN               2019                           Ф.Бондарчук   \n",
       "7476           NaN               2019                             И.Северов   \n",
       "7478           NaN               2019    М.Бальчюнас (псевдоним М.Вайсберг)   \n",
       "\n",
       "     general_genres share_total_budget        income  \n",
       "1281          драма           0.333703 -7.904655e+07  \n",
       "1448            NaN           0.700000 -3.711472e+07  \n",
       "1498        комедия           0.612691 -1.560665e+08  \n",
       "1524          драма           0.690095 -4.051822e+07  \n",
       "1792          драма           0.624764 -3.978302e+07  \n",
       "...             ...                ...           ...  \n",
       "7464        история           0.510204 -2.622968e+08  \n",
       "7466     мультфильм           0.526316  3.110692e+08  \n",
       "7474     фантастика           0.529661           NaN  \n",
       "7476          драма           0.649998           NaN  \n",
       "7478        комедия           0.666012           NaN  \n",
       "\n",
       "[332 rows x 21 columns]"
      ]
     },
     "metadata": {},
     "output_type": "display_data"
    }
   ],
   "source": [
    "display(data_copy)"
   ]
  },
  {
   "cell_type": "markdown",
   "metadata": {},
   "source": [
    "Обратим внимание, что столбец budget уже включает в себя полный объём государственной поддержки. Данные в этом столбце указаны только для тех фильмов, которые получили государственную поддержку. "
   ]
  },
  {
   "cell_type": "markdown",
   "metadata": {},
   "source": [
    "_**Посмотрим, сколько выделяют средств на кино с государственной поддержкой:**_"
   ]
  },
  {
   "cell_type": "code",
   "execution_count": 60,
   "metadata": {},
   "outputs": [
    {
     "data": {
      "text/plain": [
       "count    3.320000e+02\n",
       "mean     1.314224e+08\n",
       "std      1.871482e+08\n",
       "min      6.000000e+06\n",
       "25%      4.552480e+07\n",
       "50%      7.119690e+07\n",
       "75%      1.500000e+08\n",
       "max      2.305074e+09\n",
       "Name: budget, dtype: float64"
      ]
     },
     "execution_count": 60,
     "metadata": {},
     "output_type": "execute_result"
    }
   ],
   "source": [
    "data_copy['budget'].describe()"
   ]
  },
  {
   "cell_type": "code",
   "execution_count": 61,
   "metadata": {},
   "outputs": [
    {
     "data": {
      "text/plain": [
       "<AxesSubplot:>"
      ]
     },
     "execution_count": 61,
     "metadata": {},
     "output_type": "execute_result"
    },
    {
     "data": {
      "image/png": "[encoded data removed]",
      "text/plain": [
       "<Figure size 432x288 with 1 Axes>"
      ]
     },
     "metadata": {
      "needs_background": "light"
     },
     "output_type": "display_data"
    }
   ],
   "source": [
    "data_copy['budget'].hist(bins=50) "
   ]
  },
  {
   "cell_type": "markdown",
   "metadata": {},
   "source": [
    "Если судить по медианному значению, то на государственные фильмы приходится 71196900  (семьдесят один миллион рублей) бюджетных средств."
   ]
  },
  {
   "cell_type": "markdown",
   "metadata": {},
   "source": [
    "_**Посмотрим какие сборы у фильмов с государственной поддержкой:**_"
   ]
  },
  {
   "cell_type": "code",
   "execution_count": 62,
   "metadata": {},
   "outputs": [
    {
     "data": {
      "text/plain": [
       "count    3.180000e+02\n",
       "mean     1.324324e+08\n",
       "std      3.348379e+08\n",
       "min      1.550000e+03\n",
       "25%      1.236676e+06\n",
       "50%      1.572007e+07\n",
       "75%      1.063730e+08\n",
       "max      3.073569e+09\n",
       "Name: box_office, dtype: float64"
      ]
     },
     "execution_count": 62,
     "metadata": {},
     "output_type": "execute_result"
    }
   ],
   "source": [
    "data_copy['box_office'].describe()"
   ]
  },
  {
   "cell_type": "markdown",
   "metadata": {},
   "source": [
    "В среднем - 132 миллиона рублей."
   ]
  },
  {
   "cell_type": "markdown",
   "metadata": {},
   "source": [
    "_**Проверим, хорошо ли окупаются такие фильмы в целом:**_\n",
    "\n",
    "\n",
    "Для этого мы выше создали столбец income - показатель доходности фильма."
   ]
  },
  {
   "cell_type": "code",
   "execution_count": 63,
   "metadata": {},
   "outputs": [
    {
     "data": {
      "text/plain": [
       "count    3.180000e+02\n",
       "mean     4.256980e+05\n",
       "std      3.159104e+08\n",
       "min     -1.971477e+09\n",
       "25%     -7.069443e+07\n",
       "50%     -4.068082e+07\n",
       "75%     -2.362182e+06\n",
       "max      2.913569e+09\n",
       "Name: income, dtype: float64"
      ]
     },
     "execution_count": 63,
     "metadata": {},
     "output_type": "execute_result"
    }
   ],
   "source": [
    "data_copy['income'].describe()"
   ]
  },
  {
   "cell_type": "markdown",
   "metadata": {},
   "source": [
    "Если судить по среднему значению фильмы имеют  прибыль в 425 тысяч рублей, но по описанию данных так же видно, что больше 75% фильмов убыточно. Это можно объяснить тем, что есть фильмы, которые имеют огромную кассу сборов и перебивают убытки остальных."
   ]
  },
  {
   "cell_type": "markdown",
   "metadata": {},
   "source": [
    "_**Посмотрим на \"лидера\" и \"антилидера\" проката за бюджетные средства:**_"
   ]
  },
  {
   "cell_type": "code",
   "execution_count": 64,
   "metadata": {},
   "outputs": [
    {
     "data": {
      "text/plain": [
       "2913568690.79"
      ]
     },
     "execution_count": 64,
     "metadata": {},
     "output_type": "execute_result"
    }
   ],
   "source": [
    "data_copy['income'].max()"
   ]
  },
  {
   "cell_type": "code",
   "execution_count": 65,
   "metadata": {},
   "outputs": [
    {
     "data": {
      "text/html": [
       "<div>\n",
       "<style scoped>\n",
       "    .dataframe tbody tr th:only-of-type {\n",
       "        vertical-align: middle;\n",
       "    }\n",
       "\n",
       "    .dataframe tbody tr th {\n",
       "        vertical-align: top;\n",
       "    }\n",
       "\n",
       "    .dataframe thead th {\n",
       "        text-align: right;\n",
       "    }\n",
       "</style>\n",
       "<table border=\"1\" class=\"dataframe\">\n",
       "  <thead>\n",
       "    <tr style=\"text-align: right;\">\n",
       "      <th></th>\n",
       "      <th>title</th>\n",
       "      <th>puNumber</th>\n",
       "      <th>show_start_date</th>\n",
       "      <th>type</th>\n",
       "      <th>film_studio</th>\n",
       "      <th>production_country</th>\n",
       "      <th>director</th>\n",
       "      <th>producer</th>\n",
       "      <th>age_restriction</th>\n",
       "      <th>refundable_support</th>\n",
       "      <th>...</th>\n",
       "      <th>budget</th>\n",
       "      <th>financing_source</th>\n",
       "      <th>ratings</th>\n",
       "      <th>genres</th>\n",
       "      <th>box_office</th>\n",
       "      <th>film_release_year</th>\n",
       "      <th>general_director</th>\n",
       "      <th>general_genres</th>\n",
       "      <th>share_total_budget</th>\n",
       "      <th>income</th>\n",
       "    </tr>\n",
       "  </thead>\n",
       "  <tbody>\n",
       "    <tr>\n",
       "      <th>7456</th>\n",
       "      <td>Холоп</td>\n",
       "      <td>111021719.0</td>\n",
       "      <td>2019-12-19 12:00:00</td>\n",
       "      <td>Художественный</td>\n",
       "      <td>ООО \"МЕМ-МЕДИА\" по заказу АО \"ВБД Груп\"</td>\n",
       "      <td>Россия</td>\n",
       "      <td>К.Шипенко</td>\n",
       "      <td>Э.Илоян, Д.Жалинский, В.Дусмухаметов, Т.Бадзие...</td>\n",
       "      <td>«12+» - для детей старше 12 лет</td>\n",
       "      <td>25000000.0</td>\n",
       "      <td>...</td>\n",
       "      <td>160000000.0</td>\n",
       "      <td>Фонд кино</td>\n",
       "      <td>6.8</td>\n",
       "      <td>комедия</td>\n",
       "      <td>3.073569e+09</td>\n",
       "      <td>2019</td>\n",
       "      <td>К.Шипенко</td>\n",
       "      <td>комедия</td>\n",
       "      <td>0.375</td>\n",
       "      <td>2.913569e+09</td>\n",
       "    </tr>\n",
       "  </tbody>\n",
       "</table>\n",
       "<p>1 rows × 21 columns</p>\n",
       "</div>"
      ],
      "text/plain": [
       "      title     puNumber     show_start_date            type  \\\n",
       "7456  Холоп  111021719.0 2019-12-19 12:00:00  Художественный   \n",
       "\n",
       "                                  film_studio production_country   director  \\\n",
       "7456  ООО \"МЕМ-МЕДИА\" по заказу АО \"ВБД Груп\"             Россия  К.Шипенко   \n",
       "\n",
       "                                               producer  \\\n",
       "7456  Э.Илоян, Д.Жалинский, В.Дусмухаметов, Т.Бадзие...   \n",
       "\n",
       "                      age_restriction  refundable_support  ...       budget  \\\n",
       "7456  «12+» - для детей старше 12 лет          25000000.0  ...  160000000.0   \n",
       "\n",
       "      financing_source ratings   genres    box_office  film_release_year  \\\n",
       "7456         Фонд кино     6.8  комедия  3.073569e+09               2019   \n",
       "\n",
       "      general_director general_genres share_total_budget        income  \n",
       "7456         К.Шипенко        комедия              0.375  2.913569e+09  \n",
       "\n",
       "[1 rows x 21 columns]"
      ]
     },
     "execution_count": 65,
     "metadata": {},
     "output_type": "execute_result"
    }
   ],
   "source": [
    "data_copy[data_copy['income'] == 2913568690.79]"
   ]
  },
  {
   "cell_type": "markdown",
   "metadata": {},
   "source": [
    "Фильм \"Холоп\" очевидно является лидером проката, собрав в прокате почти 3 миллиарда рублей выручкой. "
   ]
  },
  {
   "cell_type": "code",
   "execution_count": 66,
   "metadata": {},
   "outputs": [
    {
     "data": {
      "text/plain": [
       "-1971477243.41"
      ]
     },
     "execution_count": 66,
     "metadata": {},
     "output_type": "execute_result"
    }
   ],
   "source": [
    "data_copy['income'].min()"
   ]
  },
  {
   "cell_type": "code",
   "execution_count": 67,
   "metadata": {},
   "outputs": [
    {
     "data": {
      "text/html": [
       "<div>\n",
       "<style scoped>\n",
       "    .dataframe tbody tr th:only-of-type {\n",
       "        vertical-align: middle;\n",
       "    }\n",
       "\n",
       "    .dataframe tbody tr th {\n",
       "        vertical-align: top;\n",
       "    }\n",
       "\n",
       "    .dataframe thead th {\n",
       "        text-align: right;\n",
       "    }\n",
       "</style>\n",
       "<table border=\"1\" class=\"dataframe\">\n",
       "  <thead>\n",
       "    <tr style=\"text-align: right;\">\n",
       "      <th></th>\n",
       "      <th>title</th>\n",
       "      <th>puNumber</th>\n",
       "      <th>show_start_date</th>\n",
       "      <th>type</th>\n",
       "      <th>film_studio</th>\n",
       "      <th>production_country</th>\n",
       "      <th>director</th>\n",
       "      <th>producer</th>\n",
       "      <th>age_restriction</th>\n",
       "      <th>refundable_support</th>\n",
       "      <th>...</th>\n",
       "      <th>budget</th>\n",
       "      <th>financing_source</th>\n",
       "      <th>ratings</th>\n",
       "      <th>genres</th>\n",
       "      <th>box_office</th>\n",
       "      <th>film_release_year</th>\n",
       "      <th>general_director</th>\n",
       "      <th>general_genres</th>\n",
       "      <th>share_total_budget</th>\n",
       "      <th>income</th>\n",
       "    </tr>\n",
       "  </thead>\n",
       "  <tbody>\n",
       "    <tr>\n",
       "      <th>7114</th>\n",
       "      <td>Тайна Печати Дракона</td>\n",
       "      <td>111012819.0</td>\n",
       "      <td>2019-09-12 12:00:00</td>\n",
       "      <td>Художественный</td>\n",
       "      <td>ООО \"Кинокомпания \"СТВ\"; ООО \"РФГ Корп\"; ООО \"...</td>\n",
       "      <td>Россия-Китай</td>\n",
       "      <td>О.Степченко</td>\n",
       "      <td>С.Сельянов, А.Петрухин</td>\n",
       "      <td>«6+» - для детей старше 6 лет</td>\n",
       "      <td>180000000.0</td>\n",
       "      <td>...</td>\n",
       "      <td>2.305074e+09</td>\n",
       "      <td>Фонд кино</td>\n",
       "      <td>5.8</td>\n",
       "      <td>приключения,фэнтези</td>\n",
       "      <td>3.335971e+08</td>\n",
       "      <td>2019</td>\n",
       "      <td>О.Степченко</td>\n",
       "      <td>приключения</td>\n",
       "      <td>0.117133</td>\n",
       "      <td>-1.971477e+09</td>\n",
       "    </tr>\n",
       "  </tbody>\n",
       "</table>\n",
       "<p>1 rows × 21 columns</p>\n",
       "</div>"
      ],
      "text/plain": [
       "                     title     puNumber     show_start_date            type  \\\n",
       "7114  Тайна Печати Дракона  111012819.0 2019-09-12 12:00:00  Художественный   \n",
       "\n",
       "                                            film_studio production_country  \\\n",
       "7114  ООО \"Кинокомпания \"СТВ\"; ООО \"РФГ Корп\"; ООО \"...       Россия-Китай   \n",
       "\n",
       "         director                producer                age_restriction  \\\n",
       "7114  О.Степченко  С.Сельянов, А.Петрухин  «6+» - для детей старше 6 лет   \n",
       "\n",
       "      refundable_support  ...        budget  financing_source ratings  \\\n",
       "7114         180000000.0  ...  2.305074e+09         Фонд кино     5.8   \n",
       "\n",
       "                   genres    box_office  film_release_year  general_director  \\\n",
       "7114  приключения,фэнтези  3.335971e+08               2019       О.Степченко   \n",
       "\n",
       "     general_genres share_total_budget        income  \n",
       "7114    приключения           0.117133 -1.971477e+09  \n",
       "\n",
       "[1 rows x 21 columns]"
      ]
     },
     "execution_count": 67,
     "metadata": {},
     "output_type": "execute_result"
    }
   ],
   "source": [
    "data_copy[data_copy['income'] == -1971477243.41]"
   ]
  },
  {
   "cell_type": "markdown",
   "metadata": {},
   "source": [
    "А вот полный \"провал\" в прокате у фильма \"Тайна Печати Дракона\", он убыточный почти на 2 миллиарда рублей.  "
   ]
  },
  {
   "cell_type": "markdown",
   "metadata": {},
   "source": [
    "_**Посмотрим какой рейтинг у фильмов с государственной поддержкой:**_"
   ]
  },
  {
   "cell_type": "code",
   "execution_count": 68,
   "metadata": {},
   "outputs": [
    {
     "data": {
      "text/plain": [
       "count    316.000000\n",
       "mean       6.020886\n",
       "std        1.148943\n",
       "min        1.000000\n",
       "25%        5.300000\n",
       "50%        6.200000\n",
       "75%        6.700000\n",
       "max        9.400000\n",
       "Name: ratings, dtype: float64"
      ]
     },
     "execution_count": 68,
     "metadata": {},
     "output_type": "execute_result"
    }
   ],
   "source": [
    "data_copy['ratings'].describe()"
   ]
  },
  {
   "cell_type": "markdown",
   "metadata": {},
   "source": [
    "Медианное значение почти совпадает со средним. Можно сказать, что такие фильмы у пользователей заслуживают твердой 6, это неплохой показатель для подобных фильмов. "
   ]
  },
  {
   "cell_type": "code",
   "execution_count": 69,
   "metadata": {},
   "outputs": [
    {
     "data": {
      "text/html": [
       "<div>\n",
       "<style scoped>\n",
       "    .dataframe tbody tr th:only-of-type {\n",
       "        vertical-align: middle;\n",
       "    }\n",
       "\n",
       "    .dataframe tbody tr th {\n",
       "        vertical-align: top;\n",
       "    }\n",
       "\n",
       "    .dataframe thead th {\n",
       "        text-align: right;\n",
       "    }\n",
       "</style>\n",
       "<table border=\"1\" class=\"dataframe\">\n",
       "  <thead>\n",
       "    <tr style=\"text-align: right;\">\n",
       "      <th></th>\n",
       "      <th>title</th>\n",
       "      <th>puNumber</th>\n",
       "      <th>show_start_date</th>\n",
       "      <th>type</th>\n",
       "      <th>film_studio</th>\n",
       "      <th>production_country</th>\n",
       "      <th>director</th>\n",
       "      <th>producer</th>\n",
       "      <th>age_restriction</th>\n",
       "      <th>refundable_support</th>\n",
       "      <th>...</th>\n",
       "      <th>budget</th>\n",
       "      <th>financing_source</th>\n",
       "      <th>ratings</th>\n",
       "      <th>genres</th>\n",
       "      <th>box_office</th>\n",
       "      <th>film_release_year</th>\n",
       "      <th>general_director</th>\n",
       "      <th>general_genres</th>\n",
       "      <th>share_total_budget</th>\n",
       "      <th>income</th>\n",
       "    </tr>\n",
       "  </thead>\n",
       "  <tbody>\n",
       "    <tr>\n",
       "      <th>3515</th>\n",
       "      <td>Взломать блогеров</td>\n",
       "      <td>111016616.0</td>\n",
       "      <td>2016-10-28 12:00:00</td>\n",
       "      <td>Художественный</td>\n",
       "      <td>ООО \"ТаББаК\"</td>\n",
       "      <td>Россия</td>\n",
       "      <td>М.Свешников</td>\n",
       "      <td>Т.Бекмамбетов</td>\n",
       "      <td>«6+» - для детей старше 6 лет</td>\n",
       "      <td>0.0</td>\n",
       "      <td>...</td>\n",
       "      <td>36016269.0</td>\n",
       "      <td>Фонд кино</td>\n",
       "      <td>1.0</td>\n",
       "      <td>комедия,мультфильм,фантастика</td>\n",
       "      <td>7323648.0</td>\n",
       "      <td>2016</td>\n",
       "      <td>М.Свешников</td>\n",
       "      <td>комедия</td>\n",
       "      <td>0.694131</td>\n",
       "      <td>-28692621.0</td>\n",
       "    </tr>\n",
       "  </tbody>\n",
       "</table>\n",
       "<p>1 rows × 21 columns</p>\n",
       "</div>"
      ],
      "text/plain": [
       "                  title     puNumber     show_start_date            type  \\\n",
       "3515  Взломать блогеров  111016616.0 2016-10-28 12:00:00  Художественный   \n",
       "\n",
       "       film_studio production_country     director       producer  \\\n",
       "3515  ООО \"ТаББаК\"             Россия  М.Свешников  Т.Бекмамбетов   \n",
       "\n",
       "                    age_restriction  refundable_support  ...      budget  \\\n",
       "3515  «6+» - для детей старше 6 лет                 0.0  ...  36016269.0   \n",
       "\n",
       "      financing_source ratings                         genres box_office  \\\n",
       "3515         Фонд кино     1.0  комедия,мультфильм,фантастика  7323648.0   \n",
       "\n",
       "      film_release_year  general_director general_genres share_total_budget  \\\n",
       "3515               2016       М.Свешников        комедия           0.694131   \n",
       "\n",
       "          income  \n",
       "3515 -28692621.0  \n",
       "\n",
       "[1 rows x 21 columns]"
      ]
     },
     "execution_count": 69,
     "metadata": {},
     "output_type": "execute_result"
    }
   ],
   "source": [
    "data_copy[data_copy['ratings'] == 1.0]"
   ]
  },
  {
   "cell_type": "markdown",
   "metadata": {},
   "source": [
    "Самую низкую оценку имеет фильм - \"Взломать блогеров\", принесший еще и убытков на 28 миллионов рублей. "
   ]
  },
  {
   "cell_type": "code",
   "execution_count": 70,
   "metadata": {},
   "outputs": [
    {
     "data": {
      "text/html": [
       "<div>\n",
       "<style scoped>\n",
       "    .dataframe tbody tr th:only-of-type {\n",
       "        vertical-align: middle;\n",
       "    }\n",
       "\n",
       "    .dataframe tbody tr th {\n",
       "        vertical-align: top;\n",
       "    }\n",
       "\n",
       "    .dataframe thead th {\n",
       "        text-align: right;\n",
       "    }\n",
       "</style>\n",
       "<table border=\"1\" class=\"dataframe\">\n",
       "  <thead>\n",
       "    <tr style=\"text-align: right;\">\n",
       "      <th></th>\n",
       "      <th>title</th>\n",
       "      <th>puNumber</th>\n",
       "      <th>show_start_date</th>\n",
       "      <th>type</th>\n",
       "      <th>film_studio</th>\n",
       "      <th>production_country</th>\n",
       "      <th>director</th>\n",
       "      <th>producer</th>\n",
       "      <th>age_restriction</th>\n",
       "      <th>refundable_support</th>\n",
       "      <th>...</th>\n",
       "      <th>budget</th>\n",
       "      <th>financing_source</th>\n",
       "      <th>ratings</th>\n",
       "      <th>genres</th>\n",
       "      <th>box_office</th>\n",
       "      <th>film_release_year</th>\n",
       "      <th>general_director</th>\n",
       "      <th>general_genres</th>\n",
       "      <th>share_total_budget</th>\n",
       "      <th>income</th>\n",
       "    </tr>\n",
       "  </thead>\n",
       "  <tbody>\n",
       "    <tr>\n",
       "      <th>2146</th>\n",
       "      <td>Главный</td>\n",
       "      <td>111003415.0</td>\n",
       "      <td>2015-03-27 12:00:00</td>\n",
       "      <td>Художественный</td>\n",
       "      <td>ООО \"Киностудия \"МАСТЕР\"</td>\n",
       "      <td>Россия</td>\n",
       "      <td>Ю.Кара</td>\n",
       "      <td>Ю.Кара</td>\n",
       "      <td>«6+» - для детей старше 6 лет</td>\n",
       "      <td>0.0</td>\n",
       "      <td>...</td>\n",
       "      <td>40000000.0</td>\n",
       "      <td>Министерство культуры</td>\n",
       "      <td>9.4</td>\n",
       "      <td>фантастика,боевик,комедия</td>\n",
       "      <td>334750.0</td>\n",
       "      <td>2015</td>\n",
       "      <td>Ю.Кара</td>\n",
       "      <td>фантастика</td>\n",
       "      <td>0.25</td>\n",
       "      <td>-39665250.0</td>\n",
       "    </tr>\n",
       "  </tbody>\n",
       "</table>\n",
       "<p>1 rows × 21 columns</p>\n",
       "</div>"
      ],
      "text/plain": [
       "        title     puNumber     show_start_date            type  \\\n",
       "2146  Главный  111003415.0 2015-03-27 12:00:00  Художественный   \n",
       "\n",
       "                   film_studio production_country director producer  \\\n",
       "2146  ООО \"Киностудия \"МАСТЕР\"             Россия   Ю.Кара   Ю.Кара   \n",
       "\n",
       "                    age_restriction  refundable_support  ...      budget  \\\n",
       "2146  «6+» - для детей старше 6 лет                 0.0  ...  40000000.0   \n",
       "\n",
       "           financing_source ratings                     genres box_office  \\\n",
       "2146  Министерство культуры     9.4  фантастика,боевик,комедия   334750.0   \n",
       "\n",
       "      film_release_year  general_director general_genres share_total_budget  \\\n",
       "2146               2015            Ю.Кара     фантастика               0.25   \n",
       "\n",
       "          income  \n",
       "2146 -39665250.0  \n",
       "\n",
       "[1 rows x 21 columns]"
      ]
     },
     "execution_count": 70,
     "metadata": {},
     "output_type": "execute_result"
    }
   ],
   "source": [
    "data_copy[data_copy['ratings'] == 9.4]"
   ]
  },
  {
   "cell_type": "markdown",
   "metadata": {},
   "source": [
    "А больше всего зрители оценили кинокартину - \"Главный\". На удивление, тоже является убыточным на 39 миллионов(при бюджете в 40 миллионов). Это можно попробовать объяснить тем, что картина осталась \"незамеченной\" в прокате, а оценки ставили только зрители, кто добрался до просмотра и остались только под хорошим впечатлением."
   ]
  },
  {
   "cell_type": "code",
   "execution_count": 71,
   "metadata": {},
   "outputs": [
    {
     "data": {
      "text/html": [
       "<div>\n",
       "<style scoped>\n",
       "    .dataframe tbody tr th:only-of-type {\n",
       "        vertical-align: middle;\n",
       "    }\n",
       "\n",
       "    .dataframe tbody tr th {\n",
       "        vertical-align: top;\n",
       "    }\n",
       "\n",
       "    .dataframe thead th {\n",
       "        text-align: right;\n",
       "    }\n",
       "</style>\n",
       "<table border=\"1\" class=\"dataframe\">\n",
       "  <thead>\n",
       "    <tr style=\"text-align: right;\">\n",
       "      <th></th>\n",
       "      <th>title</th>\n",
       "      <th>puNumber</th>\n",
       "      <th>show_start_date</th>\n",
       "      <th>type</th>\n",
       "      <th>film_studio</th>\n",
       "      <th>production_country</th>\n",
       "      <th>director</th>\n",
       "      <th>producer</th>\n",
       "      <th>age_restriction</th>\n",
       "      <th>refundable_support</th>\n",
       "      <th>nonrefundable_support</th>\n",
       "      <th>budget</th>\n",
       "      <th>financing_source</th>\n",
       "      <th>ratings</th>\n",
       "      <th>genres</th>\n",
       "      <th>box_office</th>\n",
       "      <th>film_release_year</th>\n",
       "      <th>general_director</th>\n",
       "      <th>general_genres</th>\n",
       "      <th>share_total_budget</th>\n",
       "    </tr>\n",
       "  </thead>\n",
       "  <tbody>\n",
       "    <tr>\n",
       "      <th>336</th>\n",
       "      <td>Каникулы строгого режима</td>\n",
       "      <td>111008514.0</td>\n",
       "      <td>2014-08-07 12:00:00</td>\n",
       "      <td>Художественный</td>\n",
       "      <td>ООО \"Кинобазза\" по  заказу ЗАО \"Дирекция Кино\"</td>\n",
       "      <td>Россия</td>\n",
       "      <td>И.Зайцев</td>\n",
       "      <td>А.Максимов, Н.Попов, Д.Файзиев</td>\n",
       "      <td>«12+» - для детей старше 12 лет</td>\n",
       "      <td>NaN</td>\n",
       "      <td>NaN</td>\n",
       "      <td>NaN</td>\n",
       "      <td>NaN</td>\n",
       "      <td>7.1</td>\n",
       "      <td>драма,комедия,приключения</td>\n",
       "      <td>360.0</td>\n",
       "      <td>2014</td>\n",
       "      <td>И.Зайцев</td>\n",
       "      <td>драма</td>\n",
       "      <td>NaN</td>\n",
       "    </tr>\n",
       "    <tr>\n",
       "      <th>462</th>\n",
       "      <td>Август. Восьмого</td>\n",
       "      <td>111000612.0</td>\n",
       "      <td>2012-02-07 12:00:00</td>\n",
       "      <td>Художественный</td>\n",
       "      <td>ЗАО \"ПК \"ГЛАВКИНО\"</td>\n",
       "      <td>Россия</td>\n",
       "      <td>Д.Файзиев</td>\n",
       "      <td>Д.Файзиев, Ф.Бондарчук, И.Бачурин</td>\n",
       "      <td>«12+» - для детей старше 12 лет</td>\n",
       "      <td>NaN</td>\n",
       "      <td>NaN</td>\n",
       "      <td>NaN</td>\n",
       "      <td>NaN</td>\n",
       "      <td>6.1</td>\n",
       "      <td>драма,военный</td>\n",
       "      <td>6775.0</td>\n",
       "      <td>2012</td>\n",
       "      <td>Д.Файзиев</td>\n",
       "      <td>драма</td>\n",
       "      <td>NaN</td>\n",
       "    </tr>\n",
       "    <tr>\n",
       "      <th>463</th>\n",
       "      <td>Тот еще...!</td>\n",
       "      <td>111001612.0</td>\n",
       "      <td>2012-02-20 12:00:00</td>\n",
       "      <td>Художественный</td>\n",
       "      <td>ООО \"Энджой мувиз\"</td>\n",
       "      <td>Россия</td>\n",
       "      <td>С.Андреасян</td>\n",
       "      <td>Г.Малков</td>\n",
       "      <td>«12+» - для детей старше 12 лет</td>\n",
       "      <td>NaN</td>\n",
       "      <td>NaN</td>\n",
       "      <td>NaN</td>\n",
       "      <td>NaN</td>\n",
       "      <td>2.6</td>\n",
       "      <td>фэнтези,комедия,семейный</td>\n",
       "      <td>12779.0</td>\n",
       "      <td>2012</td>\n",
       "      <td>С.Андреасян</td>\n",
       "      <td>фэнтези</td>\n",
       "      <td>NaN</td>\n",
       "    </tr>\n",
       "    <tr>\n",
       "      <th>464</th>\n",
       "      <td>КОКОКО</td>\n",
       "      <td>111003112.0</td>\n",
       "      <td>2012-06-05 12:00:00</td>\n",
       "      <td>Художественный</td>\n",
       "      <td>ООО Кинокомпания \"Глобус-фильм\"</td>\n",
       "      <td>Россия</td>\n",
       "      <td>А.Смирнова</td>\n",
       "      <td>С.Сельянов</td>\n",
       "      <td>«18+» - запрещено для детей</td>\n",
       "      <td>NaN</td>\n",
       "      <td>NaN</td>\n",
       "      <td>NaN</td>\n",
       "      <td>NaN</td>\n",
       "      <td>6.9</td>\n",
       "      <td>драма,комедия</td>\n",
       "      <td>200.0</td>\n",
       "      <td>2012</td>\n",
       "      <td>А.Смирнова</td>\n",
       "      <td>драма</td>\n",
       "      <td>NaN</td>\n",
       "    </tr>\n",
       "    <tr>\n",
       "      <th>469</th>\n",
       "      <td>Разговор</td>\n",
       "      <td>111000712.0</td>\n",
       "      <td>2012-02-07 12:00:00</td>\n",
       "      <td>Художественный</td>\n",
       "      <td>ООО \"Кинокомпания \"КВФильм-Продакшн\", ООО \"Ком...</td>\n",
       "      <td>Россия</td>\n",
       "      <td>В.Иванов, С.Комаров</td>\n",
       "      <td>В.Карев</td>\n",
       "      <td>«16+» - для детей старше 16 лет</td>\n",
       "      <td>NaN</td>\n",
       "      <td>NaN</td>\n",
       "      <td>NaN</td>\n",
       "      <td>NaN</td>\n",
       "      <td>7.6</td>\n",
       "      <td>триллер,драма,детектив</td>\n",
       "      <td>NaN</td>\n",
       "      <td>2012</td>\n",
       "      <td>В.Иванов</td>\n",
       "      <td>триллер</td>\n",
       "      <td>NaN</td>\n",
       "    </tr>\n",
       "    <tr>\n",
       "      <th>...</th>\n",
       "      <td>...</td>\n",
       "      <td>...</td>\n",
       "      <td>...</td>\n",
       "      <td>...</td>\n",
       "      <td>...</td>\n",
       "      <td>...</td>\n",
       "      <td>...</td>\n",
       "      <td>...</td>\n",
       "      <td>...</td>\n",
       "      <td>...</td>\n",
       "      <td>...</td>\n",
       "      <td>...</td>\n",
       "      <td>...</td>\n",
       "      <td>...</td>\n",
       "      <td>...</td>\n",
       "      <td>...</td>\n",
       "      <td>...</td>\n",
       "      <td>...</td>\n",
       "      <td>...</td>\n",
       "      <td>...</td>\n",
       "    </tr>\n",
       "    <tr>\n",
       "      <th>7465</th>\n",
       "      <td>Fair play (Честная игра)</td>\n",
       "      <td>211055919.0</td>\n",
       "      <td>2019-12-17 12:00:00</td>\n",
       "      <td>Художественный</td>\n",
       "      <td>ИП Сигал Екатерина Тенгизовна</td>\n",
       "      <td>Россия</td>\n",
       "      <td>Д.Кудрявцев</td>\n",
       "      <td>Е.Сигал</td>\n",
       "      <td>«16+» - для детей старше 16 лет</td>\n",
       "      <td>NaN</td>\n",
       "      <td>NaN</td>\n",
       "      <td>NaN</td>\n",
       "      <td>NaN</td>\n",
       "      <td>6.3</td>\n",
       "      <td>боевик,триллер,драма</td>\n",
       "      <td>NaN</td>\n",
       "      <td>2019</td>\n",
       "      <td>Д.Кудрявцев</td>\n",
       "      <td>боевик</td>\n",
       "      <td>NaN</td>\n",
       "    </tr>\n",
       "    <tr>\n",
       "      <th>7467</th>\n",
       "      <td>Жёлтый клевер</td>\n",
       "      <td>111022219.0</td>\n",
       "      <td>2019-12-27 12:00:00</td>\n",
       "      <td>Художественный</td>\n",
       "      <td>Соломатина Людмила Леонидовна</td>\n",
       "      <td>Россия</td>\n",
       "      <td>Л.Соломатина (Томилова)</td>\n",
       "      <td>Л.Соломатина (Томилова)</td>\n",
       "      <td>«12+» - для детей старше 12 лет</td>\n",
       "      <td>NaN</td>\n",
       "      <td>NaN</td>\n",
       "      <td>NaN</td>\n",
       "      <td>NaN</td>\n",
       "      <td>NaN</td>\n",
       "      <td>NaN</td>\n",
       "      <td>NaN</td>\n",
       "      <td>2019</td>\n",
       "      <td>Л.Соломатина (Томилова)</td>\n",
       "      <td>NaN</td>\n",
       "      <td>NaN</td>\n",
       "    </tr>\n",
       "    <tr>\n",
       "      <th>7470</th>\n",
       "      <td>Дикие и свободные</td>\n",
       "      <td>112004819.0</td>\n",
       "      <td>2019-12-23 12:00:00</td>\n",
       "      <td>Документальный</td>\n",
       "      <td>АНО \"ТВ-Новости\"</td>\n",
       "      <td>Россия</td>\n",
       "      <td>Н.Карачкова</td>\n",
       "      <td>В.Сенина</td>\n",
       "      <td>«6+» - для детей старше 6 лет</td>\n",
       "      <td>NaN</td>\n",
       "      <td>NaN</td>\n",
       "      <td>NaN</td>\n",
       "      <td>NaN</td>\n",
       "      <td>NaN</td>\n",
       "      <td>NaN</td>\n",
       "      <td>NaN</td>\n",
       "      <td>2019</td>\n",
       "      <td>Н.Карачкова</td>\n",
       "      <td>NaN</td>\n",
       "      <td>NaN</td>\n",
       "    </tr>\n",
       "    <tr>\n",
       "      <th>7475</th>\n",
       "      <td>Папа</td>\n",
       "      <td>111022919.0</td>\n",
       "      <td>2019-12-24 12:00:00</td>\n",
       "      <td>Художественный</td>\n",
       "      <td>ООО \"Киношкола имени Сергея Федоровича Бондарч...</td>\n",
       "      <td>Россия</td>\n",
       "      <td>К.Чувикова</td>\n",
       "      <td>ООО \"Киношкола имени Сергея Федоровича Бондарч...</td>\n",
       "      <td>«18+» - запрещено для детей</td>\n",
       "      <td>NaN</td>\n",
       "      <td>NaN</td>\n",
       "      <td>NaN</td>\n",
       "      <td>NaN</td>\n",
       "      <td>8.2</td>\n",
       "      <td>драма</td>\n",
       "      <td>NaN</td>\n",
       "      <td>2019</td>\n",
       "      <td>К.Чувикова</td>\n",
       "      <td>драма</td>\n",
       "      <td>NaN</td>\n",
       "    </tr>\n",
       "    <tr>\n",
       "      <th>7479</th>\n",
       "      <td>Эколав</td>\n",
       "      <td>111023219.0</td>\n",
       "      <td>2019-12-26 12:00:00</td>\n",
       "      <td>Художественный</td>\n",
       "      <td>ВГИК</td>\n",
       "      <td>Россия</td>\n",
       "      <td>Д.Григорьев</td>\n",
       "      <td>ВГИК</td>\n",
       "      <td>«18+» - запрещено для детей</td>\n",
       "      <td>NaN</td>\n",
       "      <td>NaN</td>\n",
       "      <td>NaN</td>\n",
       "      <td>NaN</td>\n",
       "      <td>NaN</td>\n",
       "      <td>NaN</td>\n",
       "      <td>NaN</td>\n",
       "      <td>2019</td>\n",
       "      <td>Д.Григорьев</td>\n",
       "      <td>NaN</td>\n",
       "      <td>NaN</td>\n",
       "    </tr>\n",
       "  </tbody>\n",
       "</table>\n",
       "<p>1507 rows × 20 columns</p>\n",
       "</div>"
      ],
      "text/plain": [
       "                         title     puNumber     show_start_date  \\\n",
       "336   Каникулы строгого режима  111008514.0 2014-08-07 12:00:00   \n",
       "462           Август. Восьмого  111000612.0 2012-02-07 12:00:00   \n",
       "463                Тот еще...!  111001612.0 2012-02-20 12:00:00   \n",
       "464                     КОКОКО  111003112.0 2012-06-05 12:00:00   \n",
       "469                   Разговор  111000712.0 2012-02-07 12:00:00   \n",
       "...                        ...          ...                 ...   \n",
       "7465  Fair play (Честная игра)  211055919.0 2019-12-17 12:00:00   \n",
       "7467             Жёлтый клевер  111022219.0 2019-12-27 12:00:00   \n",
       "7470         Дикие и свободные  112004819.0 2019-12-23 12:00:00   \n",
       "7475                      Папа  111022919.0 2019-12-24 12:00:00   \n",
       "7479                    Эколав  111023219.0 2019-12-26 12:00:00   \n",
       "\n",
       "                type                                        film_studio  \\\n",
       "336   Художественный     ООО \"Кинобазза\" по  заказу ЗАО \"Дирекция Кино\"   \n",
       "462   Художественный                                 ЗАО \"ПК \"ГЛАВКИНО\"   \n",
       "463   Художественный                                 ООО \"Энджой мувиз\"   \n",
       "464   Художественный                    ООО Кинокомпания \"Глобус-фильм\"   \n",
       "469   Художественный  ООО \"Кинокомпания \"КВФильм-Продакшн\", ООО \"Ком...   \n",
       "...              ...                                                ...   \n",
       "7465  Художественный                      ИП Сигал Екатерина Тенгизовна   \n",
       "7467  Художественный                      Соломатина Людмила Леонидовна   \n",
       "7470  Документальный                                   АНО \"ТВ-Новости\"   \n",
       "7475  Художественный  ООО \"Киношкола имени Сергея Федоровича Бондарч...   \n",
       "7479  Художественный                                               ВГИК   \n",
       "\n",
       "     production_country                 director  \\\n",
       "336              Россия                 И.Зайцев   \n",
       "462              Россия                Д.Файзиев   \n",
       "463              Россия              С.Андреасян   \n",
       "464              Россия               А.Смирнова   \n",
       "469              Россия      В.Иванов, С.Комаров   \n",
       "...                 ...                      ...   \n",
       "7465             Россия              Д.Кудрявцев   \n",
       "7467             Россия  Л.Соломатина (Томилова)   \n",
       "7470             Россия              Н.Карачкова   \n",
       "7475             Россия               К.Чувикова   \n",
       "7479             Россия              Д.Григорьев   \n",
       "\n",
       "                                               producer  \\\n",
       "336                      А.Максимов, Н.Попов, Д.Файзиев   \n",
       "462                   Д.Файзиев, Ф.Бондарчук, И.Бачурин   \n",
       "463                                            Г.Малков   \n",
       "464                                          С.Сельянов   \n",
       "469                                             В.Карев   \n",
       "...                                                 ...   \n",
       "7465                                            Е.Сигал   \n",
       "7467                            Л.Соломатина (Томилова)   \n",
       "7470                                           В.Сенина   \n",
       "7475  ООО \"Киношкола имени Сергея Федоровича Бондарч...   \n",
       "7479                                               ВГИК   \n",
       "\n",
       "                      age_restriction  refundable_support  \\\n",
       "336   «12+» - для детей старше 12 лет                 NaN   \n",
       "462   «12+» - для детей старше 12 лет                 NaN   \n",
       "463   «12+» - для детей старше 12 лет                 NaN   \n",
       "464       «18+» - запрещено для детей                 NaN   \n",
       "469   «16+» - для детей старше 16 лет                 NaN   \n",
       "...                               ...                 ...   \n",
       "7465  «16+» - для детей старше 16 лет                 NaN   \n",
       "7467  «12+» - для детей старше 12 лет                 NaN   \n",
       "7470    «6+» - для детей старше 6 лет                 NaN   \n",
       "7475      «18+» - запрещено для детей                 NaN   \n",
       "7479      «18+» - запрещено для детей                 NaN   \n",
       "\n",
       "      nonrefundable_support  budget financing_source  ratings  \\\n",
       "336                     NaN     NaN              NaN      7.1   \n",
       "462                     NaN     NaN              NaN      6.1   \n",
       "463                     NaN     NaN              NaN      2.6   \n",
       "464                     NaN     NaN              NaN      6.9   \n",
       "469                     NaN     NaN              NaN      7.6   \n",
       "...                     ...     ...              ...      ...   \n",
       "7465                    NaN     NaN              NaN      6.3   \n",
       "7467                    NaN     NaN              NaN      NaN   \n",
       "7470                    NaN     NaN              NaN      NaN   \n",
       "7475                    NaN     NaN              NaN      8.2   \n",
       "7479                    NaN     NaN              NaN      NaN   \n",
       "\n",
       "                         genres  box_office  film_release_year  \\\n",
       "336   драма,комедия,приключения       360.0               2014   \n",
       "462               драма,военный      6775.0               2012   \n",
       "463    фэнтези,комедия,семейный     12779.0               2012   \n",
       "464               драма,комедия       200.0               2012   \n",
       "469      триллер,драма,детектив         NaN               2012   \n",
       "...                         ...         ...                ...   \n",
       "7465       боевик,триллер,драма         NaN               2019   \n",
       "7467                        NaN         NaN               2019   \n",
       "7470                        NaN         NaN               2019   \n",
       "7475                      драма         NaN               2019   \n",
       "7479                        NaN         NaN               2019   \n",
       "\n",
       "             general_director general_genres  share_total_budget  \n",
       "336                  И.Зайцев          драма                 NaN  \n",
       "462                 Д.Файзиев          драма                 NaN  \n",
       "463               С.Андреасян        фэнтези                 NaN  \n",
       "464                А.Смирнова          драма                 NaN  \n",
       "469                  В.Иванов        триллер                 NaN  \n",
       "...                       ...            ...                 ...  \n",
       "7465              Д.Кудрявцев         боевик                 NaN  \n",
       "7467  Л.Соломатина (Томилова)            NaN                 NaN  \n",
       "7470              Н.Карачкова            NaN                 NaN  \n",
       "7475               К.Чувикова          драма                 NaN  \n",
       "7479              Д.Григорьев            NaN                 NaN  \n",
       "\n",
       "[1507 rows x 20 columns]"
      ]
     },
     "metadata": {},
     "output_type": "display_data"
    }
   ],
   "source": [
    "data_copy_non_budget = mkrf_movies[mkrf_movies['budget'].isna() == True].copy()\n",
    "data_copy_non_budget = data_copy_non_budget[data_copy_non_budget['production_country'] == 'Россия']\n",
    "display(data_copy_non_budget)"
   ]
  },
  {
   "cell_type": "markdown",
   "metadata": {},
   "source": [
    "_**Посмотрим какой рейтинг у фильмов без государственной поддержки:**_"
   ]
  },
  {
   "cell_type": "code",
   "execution_count": 72,
   "metadata": {},
   "outputs": [
    {
     "data": {
      "text/plain": [
       "count    997.000000\n",
       "mean       6.178837\n",
       "std        1.437187\n",
       "min        1.100000\n",
       "25%        5.400000\n",
       "50%        6.400000\n",
       "75%        7.200000\n",
       "max        9.900000\n",
       "Name: ratings, dtype: float64"
      ]
     },
     "execution_count": 72,
     "metadata": {},
     "output_type": "execute_result"
    }
   ],
   "source": [
    "data_copy_non_budget['ratings'].describe()"
   ]
  },
  {
   "cell_type": "markdown",
   "metadata": {},
   "source": [
    "**Можно сказать, что рейтинг фильмов без госудерственной поддержки почти не отличается от фильмов с ней.**"
   ]
  },
  {
   "cell_type": "markdown",
   "metadata": {},
   "source": [
    "_**Посмотрим какие сборы у фильмов без государственной поддержки:**_"
   ]
  },
  {
   "cell_type": "code",
   "execution_count": 73,
   "metadata": {},
   "outputs": [
    {
     "data": {
      "text/plain": [
       "count    4.750000e+02\n",
       "mean     2.124166e+07\n",
       "std      1.075253e+08\n",
       "min      0.000000e+00\n",
       "25%      5.380000e+03\n",
       "50%      8.791100e+04\n",
       "75%      2.933461e+06\n",
       "max      1.682680e+09\n",
       "Name: box_office, dtype: float64"
      ]
     },
     "execution_count": 73,
     "metadata": {},
     "output_type": "execute_result"
    }
   ],
   "source": [
    "data_copy_non_budget['box_office'].describe()"
   ]
  },
  {
   "cell_type": "markdown",
   "metadata": {},
   "source": [
    "Даже если будем так же судить по среднему значению - то это чуть больше 21 миллиона рублей. Что в разы меньше сборов чем у фильмов с государственной поддержкой. Но мы не знаем бюджета этих фильмов, поэтому невозможно оценить окупаемость данной категории фильмов и сравнить их."
   ]
  },
  {
   "cell_type": "markdown",
   "metadata": {
    "id": "V2gYwMcPgFyd"
   },
   "source": [
    "### Шаг 5. Напишите общий вывод"
   ]
  },
  {
   "cell_type": "markdown",
   "metadata": {
    "id": "AYRg3dzXgFye"
   },
   "source": [
    "- Исправили типы данных у некоторых столбцов для правильного отображения и корректными операциями над ними.\n",
    "\n",
    "- Изучили пропуски в DataFrame.  Объяснили, почему заполнили пропуски определённым образом или почему не стали этого делать.\n",
    "\n",
    "- Проверили, есть ли в данных дубликаты. Описали причины, которые могли повлиять на появление дублей.\n",
    "\n",
    "- Изучили категориальные значения. Посмотрели, какая общая проблема встречается почти во всех категориальных столбцах, исправили проблемные значения.\n",
    "\n",
    "- Проверили количественные значения. Проверили в столбцах подозрительные данные. Исправили фильмы с нулевым общим бюджетом так, чтобы он состоял из двух частей: возвратных и невозвратных средств государственной поддержки.\n",
    "\n",
    "\n",
    "\n",
    "**Провели исследовательский анализ данных и пришли к следующим выводам:**\n",
    "- Года 2014, 2016, 2018 и 2019 имеют наибольшее количество выпущенных фильмов среди представленных данных. Это может свидетельствовать о пике активности в кинематографической индустрии в этих годах или о наличии факторов, стимулирующих выпуск фильмов.\n",
    "- 2010 год имеет самое высокое количество выпущенных фильмов среди всех представленных данных (985 фильмов).\n",
    "- С 2014 года произошел резкий скачок в сумме сборов в кассе, который продолжался до 2019 года.\n",
    "- В период с 2015 по 2019 год сумма сборов в кассе значительно выросла и достигла своего пика в 2018 году, после чего начала незначительно снижаться.\n",
    "- Минимальная сумма сборов была в 2010 году, составляя 2.43 миллиона рублей.\n",
    "- Максимальная сумма сборов была в 2018 году, составляя 49.68 миллиардов рублей.\n",
    "- В киноиндустрии существуют фильмы, которые достигают огромных сборов, а некоторые годы выделяются особенно высокими показателями.\n",
    "- Успех фильмов с определенными возрастными ограничениями может быть связан с комбинацией целевой аудитории, качества контента, популярности жанров и наличием популярных фильмов или франшиз в определенных годах.\n",
    "\n",
    "\n",
    "\n",
    "**Исследовали фильмы с государственной поддержкой и пришли к следующим выводам:**\n",
    "- Если судить по медианному значению, то на государственные фильмы приходится 71196900 (семьдесят один миллион рублей) бюджетных средств.\n",
    "- Если судить по среднему значению фильмы имеют прибыль в 425 тысяч рублей, но по описанию данных так же видно, что больше 75% фильмов убыточно. Это можно объяснить тем, что есть фильмы, которые имеют огромную кассу сборов и перебивают убытки остальных.\n",
    "- Фильм \"Холоп\" очевидно является лидером проката, собрав в прокате почти 3 миллиарда рублей выручкой.\n",
    "- А вот полный \"провал\" в прокате у фильма \"Тайна Печати Дракона\", он убыточный почти на 2 миллиарда рублей.\n",
    "- Можно сказать, что  фильмы у пользователей заслуживают твердых 6 баллов в оценке рейтинга, это неплохой показатель для подобных фильмов.\n",
    "- Также пришли к выводу, что не всегда хороший рейтинг говорит об окупаемости фильма. \n",
    "- Можно сказать, что рейтинг фильмов без госудерственной поддержки почти не отличается от фильмов с ней."
   ]
  }
 ],
 "metadata": {
  "ExecuteTimeLog": [
   {
    "duration": 537,
    "start_time": "2021-07-07T10:12:08.634Z"
   },
   {
    "duration": 206,
    "start_time": "2021-07-07T10:12:30.191Z"
   },
   {
    "duration": 227,
    "start_time": "2021-07-07T10:12:33.078Z"
   },
   {
    "duration": 153,
    "start_time": "2021-07-07T10:13:42.146Z"
   },
   {
    "duration": 233,
    "start_time": "2021-07-07T10:30:09.252Z"
   },
   {
    "duration": 19,
    "start_time": "2021-07-07T10:30:15.577Z"
   },
   {
    "duration": 18,
    "start_time": "2021-07-07T10:30:57.348Z"
   },
   {
    "duration": 19,
    "start_time": "2021-07-07T10:31:17.452Z"
   },
   {
    "duration": 21,
    "start_time": "2021-07-07T10:31:32.227Z"
   },
   {
    "duration": 27,
    "start_time": "2021-07-07T10:32:06.588Z"
   },
   {
    "duration": 23,
    "start_time": "2021-07-07T10:32:43.645Z"
   },
   {
    "duration": 24,
    "start_time": "2021-07-07T10:33:06.948Z"
   },
   {
    "duration": 7,
    "start_time": "2021-07-07T10:33:28.558Z"
   },
   {
    "duration": 23,
    "start_time": "2021-07-07T10:33:43.761Z"
   },
   {
    "duration": 28,
    "start_time": "2021-07-07T10:34:13.466Z"
   },
   {
    "duration": 23,
    "start_time": "2021-07-07T10:35:56.187Z"
   },
   {
    "duration": 6,
    "start_time": "2021-07-07T10:36:48.182Z"
   },
   {
    "duration": 14,
    "start_time": "2021-07-07T10:37:49.641Z"
   },
   {
    "duration": 6,
    "start_time": "2021-07-07T10:38:06.694Z"
   },
   {
    "duration": 6,
    "start_time": "2021-07-07T10:38:13.493Z"
   },
   {
    "duration": 19,
    "start_time": "2021-07-07T10:38:44.056Z"
   },
   {
    "duration": 186,
    "start_time": "2021-07-07T10:48:35.618Z"
   },
   {
    "duration": 24,
    "start_time": "2021-07-07T10:48:51.498Z"
   },
   {
    "duration": 20,
    "start_time": "2021-07-07T10:48:59.415Z"
   },
   {
    "duration": 20,
    "start_time": "2021-07-07T10:53:02.195Z"
   },
   {
    "duration": 188,
    "start_time": "2021-07-07T10:54:40.486Z"
   },
   {
    "duration": 115,
    "start_time": "2021-07-07T10:54:52.552Z"
   },
   {
    "duration": 214,
    "start_time": "2021-07-07T10:54:56.354Z"
   },
   {
    "duration": 47,
    "start_time": "2021-07-07T10:54:58.282Z"
   },
   {
    "duration": 217,
    "start_time": "2021-07-07T10:59:16.075Z"
   },
   {
    "duration": 51,
    "start_time": "2021-07-07T10:59:16.243Z"
   },
   {
    "duration": 578,
    "start_time": "2021-07-07T10:59:18.774Z"
   },
   {
    "duration": 161,
    "start_time": "2021-07-07T10:59:21.238Z"
   },
   {
    "duration": 59,
    "start_time": "2021-07-07T10:59:21.453Z"
   },
   {
    "duration": 3,
    "start_time": "2021-07-07T11:02:10.786Z"
   },
   {
    "duration": 13,
    "start_time": "2021-07-07T11:07:07.722Z"
   },
   {
    "duration": 26,
    "start_time": "2021-07-07T11:07:17.958Z"
   },
   {
    "duration": 22,
    "start_time": "2021-07-07T11:08:17.939Z"
   },
   {
    "duration": 212,
    "start_time": "2021-07-07T11:08:19.665Z"
   },
   {
    "duration": 21,
    "start_time": "2021-07-07T11:08:29.945Z"
   },
   {
    "duration": 31,
    "start_time": "2021-07-07T11:08:38.899Z"
   },
   {
    "duration": 23,
    "start_time": "2021-07-07T11:08:54.527Z"
   },
   {
    "duration": 8,
    "start_time": "2021-07-07T11:18:55.974Z"
   },
   {
    "duration": 7,
    "start_time": "2021-07-07T11:19:03.639Z"
   },
   {
    "duration": 7,
    "start_time": "2021-07-07T11:19:06.444Z"
   },
   {
    "duration": 578,
    "start_time": "2021-07-07T12:09:59.576Z"
   },
   {
    "duration": 195,
    "start_time": "2021-07-07T12:10:00.156Z"
   },
   {
    "duration": 115,
    "start_time": "2021-07-07T12:10:00.353Z"
   },
   {
    "duration": 3,
    "start_time": "2021-07-07T12:10:00.470Z"
   },
   {
    "duration": 32,
    "start_time": "2021-07-07T12:10:00.474Z"
   },
   {
    "duration": 23,
    "start_time": "2021-07-07T12:10:00.508Z"
   },
   {
    "duration": 19,
    "start_time": "2021-07-07T12:10:00.533Z"
   },
   {
    "duration": 44,
    "start_time": "2021-07-07T12:10:00.553Z"
   },
   {
    "duration": 7,
    "start_time": "2021-07-07T12:10:00.600Z"
   },
   {
    "duration": 7,
    "start_time": "2021-07-07T12:19:45.761Z"
   },
   {
    "duration": 21,
    "start_time": "2021-07-07T12:21:35.482Z"
   },
   {
    "duration": 21,
    "start_time": "2021-07-07T12:29:23.569Z"
   },
   {
    "duration": 525,
    "start_time": "2021-07-07T12:29:44.542Z"
   },
   {
    "duration": 214,
    "start_time": "2021-07-07T12:29:45.069Z"
   },
   {
    "duration": 92,
    "start_time": "2021-07-07T12:29:45.285Z"
   },
   {
    "duration": 3,
    "start_time": "2021-07-07T12:29:45.379Z"
   },
   {
    "duration": 28,
    "start_time": "2021-07-07T12:29:45.384Z"
   },
   {
    "duration": 23,
    "start_time": "2021-07-07T12:29:45.413Z"
   },
   {
    "duration": 21,
    "start_time": "2021-07-07T12:29:45.437Z"
   },
   {
    "duration": 41,
    "start_time": "2021-07-07T12:29:45.460Z"
   },
   {
    "duration": 7,
    "start_time": "2021-07-07T12:29:45.502Z"
   },
   {
    "duration": 20,
    "start_time": "2021-07-07T12:29:45.511Z"
   },
   {
    "duration": 12,
    "start_time": "2021-07-07T12:34:02.800Z"
   },
   {
    "duration": 7,
    "start_time": "2021-07-07T12:35:10.479Z"
   },
   {
    "duration": 8,
    "start_time": "2021-07-07T12:35:22.440Z"
   },
   {
    "duration": 6,
    "start_time": "2021-07-07T12:35:35.649Z"
   },
   {
    "duration": 6,
    "start_time": "2021-07-07T12:35:43.107Z"
   },
   {
    "duration": 22,
    "start_time": "2021-07-07T12:38:03.029Z"
   },
   {
    "duration": 10,
    "start_time": "2021-07-07T12:38:06.592Z"
   },
   {
    "duration": 563,
    "start_time": "2021-07-07T12:38:46.493Z"
   },
   {
    "duration": 265,
    "start_time": "2021-07-07T12:38:47.058Z"
   },
   {
    "duration": 94,
    "start_time": "2021-07-07T12:38:47.325Z"
   },
   {
    "duration": 3,
    "start_time": "2021-07-07T12:38:47.422Z"
   },
   {
    "duration": 30,
    "start_time": "2021-07-07T12:38:47.427Z"
   },
   {
    "duration": 16,
    "start_time": "2021-07-07T12:38:53.305Z"
   },
   {
    "duration": 10,
    "start_time": "2021-07-07T12:38:53.499Z"
   },
   {
    "duration": 8,
    "start_time": "2021-07-07T12:39:48.161Z"
   },
   {
    "duration": 27,
    "start_time": "2021-07-07T12:41:17.629Z"
   },
   {
    "duration": 17,
    "start_time": "2021-07-07T12:41:17.867Z"
   },
   {
    "duration": 21,
    "start_time": "2021-07-07T12:41:19.310Z"
   },
   {
    "duration": 7,
    "start_time": "2021-07-07T12:41:19.544Z"
   },
   {
    "duration": 20,
    "start_time": "2021-07-07T12:41:20.504Z"
   },
   {
    "duration": 554,
    "start_time": "2021-07-07T12:56:23.696Z"
   },
   {
    "duration": 200,
    "start_time": "2021-07-07T12:56:25.234Z"
   },
   {
    "duration": 119,
    "start_time": "2021-07-07T12:56:25.480Z"
   },
   {
    "duration": 4,
    "start_time": "2021-07-07T12:56:25.762Z"
   },
   {
    "duration": 26,
    "start_time": "2021-07-07T12:56:27.172Z"
   },
   {
    "duration": 12,
    "start_time": "2021-07-07T12:56:29.051Z"
   },
   {
    "duration": 10,
    "start_time": "2021-07-07T12:56:29.291Z"
   },
   {
    "duration": 8,
    "start_time": "2021-07-07T12:56:29.623Z"
   },
   {
    "duration": 28,
    "start_time": "2021-07-07T12:56:32.137Z"
   },
   {
    "duration": 19,
    "start_time": "2021-07-07T12:56:39.785Z"
   },
   {
    "duration": 20,
    "start_time": "2021-07-07T12:56:44.297Z"
   },
   {
    "duration": 7,
    "start_time": "2021-07-07T12:56:45.392Z"
   },
   {
    "duration": 23,
    "start_time": "2021-07-07T12:56:46.615Z"
   },
   {
    "duration": 4,
    "start_time": "2021-07-07T12:57:06.625Z"
   },
   {
    "duration": 32,
    "start_time": "2021-07-07T12:57:36.690Z"
   },
   {
    "duration": 18,
    "start_time": "2021-07-07T12:58:00.149Z"
   },
   {
    "duration": 15,
    "start_time": "2021-07-07T12:59:16.793Z"
   },
   {
    "duration": 7,
    "start_time": "2021-07-07T13:19:22.624Z"
   },
   {
    "duration": 6,
    "start_time": "2021-07-07T14:17:33.527Z"
   },
   {
    "duration": 9,
    "start_time": "2021-07-07T14:17:48.409Z"
   },
   {
    "duration": 8,
    "start_time": "2021-07-07T14:20:13.060Z"
   },
   {
    "duration": 8,
    "start_time": "2021-07-07T14:20:37.957Z"
   },
   {
    "duration": 8,
    "start_time": "2021-07-07T14:20:47.470Z"
   },
   {
    "duration": 9,
    "start_time": "2021-07-07T14:20:54.503Z"
   },
   {
    "duration": 10,
    "start_time": "2021-07-07T14:28:57.763Z"
   },
   {
    "duration": 3,
    "start_time": "2021-07-07T14:30:23.377Z"
   },
   {
    "duration": 3,
    "start_time": "2021-07-07T14:30:36.489Z"
   },
   {
    "duration": 103,
    "start_time": "2021-07-07T14:30:52.351Z"
   },
   {
    "duration": 8,
    "start_time": "2021-07-07T14:30:54.763Z"
   },
   {
    "duration": 8,
    "start_time": "2021-07-07T14:31:29.301Z"
   },
   {
    "duration": 13,
    "start_time": "2021-07-07T14:31:44.516Z"
   },
   {
    "duration": 7,
    "start_time": "2021-07-07T14:33:10.972Z"
   },
   {
    "duration": 11,
    "start_time": "2021-07-07T14:33:27.780Z"
   },
   {
    "duration": 8,
    "start_time": "2021-07-07T14:34:44.588Z"
   },
   {
    "duration": 57,
    "start_time": "2021-07-07T14:35:59.042Z"
   },
   {
    "duration": 3,
    "start_time": "2021-07-07T14:36:28.168Z"
   },
   {
    "duration": 5,
    "start_time": "2021-07-07T14:36:46.254Z"
   },
   {
    "duration": 4,
    "start_time": "2021-07-07T14:36:52.714Z"
   },
   {
    "duration": 3,
    "start_time": "2021-07-07T14:36:56.612Z"
   },
   {
    "duration": 4,
    "start_time": "2021-07-07T14:36:57.049Z"
   },
   {
    "duration": 3,
    "start_time": "2021-07-07T14:39:21.214Z"
   },
   {
    "duration": 7,
    "start_time": "2021-07-07T14:39:52.406Z"
   },
   {
    "duration": 11,
    "start_time": "2021-07-07T14:39:58.576Z"
   },
   {
    "duration": 9,
    "start_time": "2021-07-07T14:40:26.301Z"
   },
   {
    "duration": 10,
    "start_time": "2021-07-07T14:40:31.704Z"
   },
   {
    "duration": 11,
    "start_time": "2021-07-07T14:40:36.249Z"
   },
   {
    "duration": 10,
    "start_time": "2021-07-07T14:40:39.783Z"
   },
   {
    "duration": 9,
    "start_time": "2021-07-07T14:40:48.558Z"
   },
   {
    "duration": 10,
    "start_time": "2021-07-07T14:40:57.143Z"
   },
   {
    "duration": 9,
    "start_time": "2021-07-07T14:41:06.074Z"
   },
   {
    "duration": 4324,
    "start_time": "2021-07-07T14:41:22.004Z"
   },
   {
    "duration": 11,
    "start_time": "2021-07-07T14:41:33.392Z"
   },
   {
    "duration": 9,
    "start_time": "2021-07-07T14:41:39.288Z"
   },
   {
    "duration": 569,
    "start_time": "2021-07-07T14:42:14.387Z"
   },
   {
    "duration": 197,
    "start_time": "2021-07-07T14:42:14.959Z"
   },
   {
    "duration": 84,
    "start_time": "2021-07-07T14:42:16.052Z"
   },
   {
    "duration": 4,
    "start_time": "2021-07-07T14:42:16.900Z"
   },
   {
    "duration": 27,
    "start_time": "2021-07-07T14:42:19.898Z"
   },
   {
    "duration": 12,
    "start_time": "2021-07-07T14:42:21.577Z"
   },
   {
    "duration": 9,
    "start_time": "2021-07-07T14:42:21.813Z"
   },
   {
    "duration": 9,
    "start_time": "2021-07-07T14:42:22.569Z"
   },
   {
    "duration": 29,
    "start_time": "2021-07-07T14:42:25.837Z"
   },
   {
    "duration": 20,
    "start_time": "2021-07-07T14:42:27.003Z"
   },
   {
    "duration": 21,
    "start_time": "2021-07-07T14:42:28.767Z"
   },
   {
    "duration": 7,
    "start_time": "2021-07-07T14:42:29.838Z"
   },
   {
    "duration": 4,
    "start_time": "2021-07-07T14:43:25.493Z"
   },
   {
    "duration": 7,
    "start_time": "2021-07-07T14:43:26.573Z"
   },
   {
    "duration": 10,
    "start_time": "2021-07-07T14:43:31.639Z"
   },
   {
    "duration": 9,
    "start_time": "2021-07-07T14:43:32.046Z"
   },
   {
    "duration": 10,
    "start_time": "2021-07-07T14:43:33.301Z"
   },
   {
    "duration": 12,
    "start_time": "2021-07-07T14:43:33.658Z"
   },
   {
    "duration": 8,
    "start_time": "2021-07-07T14:43:34.552Z"
   },
   {
    "duration": 9,
    "start_time": "2021-07-07T14:43:35.058Z"
   },
   {
    "duration": 12,
    "start_time": "2021-07-07T14:43:35.914Z"
   },
   {
    "duration": 17,
    "start_time": "2021-07-07T14:45:34.368Z"
   },
   {
    "duration": 512,
    "start_time": "2021-07-07T14:51:58.236Z"
   },
   {
    "duration": 223,
    "start_time": "2021-07-07T14:51:58.750Z"
   },
   {
    "duration": 93,
    "start_time": "2021-07-07T14:51:58.977Z"
   },
   {
    "duration": 4,
    "start_time": "2021-07-07T14:51:59.071Z"
   },
   {
    "duration": 37,
    "start_time": "2021-07-07T14:51:59.077Z"
   },
   {
    "duration": 18,
    "start_time": "2021-07-07T14:51:59.116Z"
   },
   {
    "duration": 10,
    "start_time": "2021-07-07T14:51:59.137Z"
   },
   {
    "duration": 8,
    "start_time": "2021-07-07T14:51:59.149Z"
   },
   {
    "duration": 54,
    "start_time": "2021-07-07T14:51:59.158Z"
   },
   {
    "duration": 18,
    "start_time": "2021-07-07T14:51:59.213Z"
   },
   {
    "duration": 22,
    "start_time": "2021-07-07T14:51:59.232Z"
   },
   {
    "duration": 36,
    "start_time": "2021-07-07T14:51:59.255Z"
   },
   {
    "duration": 7,
    "start_time": "2021-07-07T14:51:59.293Z"
   },
   {
    "duration": 10,
    "start_time": "2021-07-07T14:51:59.302Z"
   },
   {
    "duration": 9,
    "start_time": "2021-07-07T14:51:59.313Z"
   },
   {
    "duration": 11,
    "start_time": "2021-07-07T14:51:59.324Z"
   },
   {
    "duration": 8,
    "start_time": "2021-07-07T14:51:59.337Z"
   },
   {
    "duration": 46,
    "start_time": "2021-07-07T14:51:59.347Z"
   },
   {
    "duration": 22,
    "start_time": "2021-07-07T14:51:59.395Z"
   },
   {
    "duration": 24,
    "start_time": "2021-07-07T14:57:32.911Z"
   },
   {
    "duration": 7,
    "start_time": "2021-07-07T14:58:22.070Z"
   },
   {
    "duration": 4,
    "start_time": "2021-07-07T14:59:11.239Z"
   },
   {
    "duration": 25,
    "start_time": "2021-07-07T15:07:22.208Z"
   },
   {
    "duration": 16,
    "start_time": "2021-07-07T15:08:25.560Z"
   },
   {
    "duration": 15,
    "start_time": "2021-07-07T15:08:40.647Z"
   },
   {
    "duration": 14,
    "start_time": "2021-07-07T15:08:46.669Z"
   },
   {
    "duration": 533,
    "start_time": "2021-07-07T15:18:07.440Z"
   },
   {
    "duration": 173,
    "start_time": "2021-07-07T15:18:07.974Z"
   },
   {
    "duration": 84,
    "start_time": "2021-07-07T15:18:08.149Z"
   },
   {
    "duration": 3,
    "start_time": "2021-07-07T15:18:08.235Z"
   },
   {
    "duration": 30,
    "start_time": "2021-07-07T15:18:08.240Z"
   },
   {
    "duration": 22,
    "start_time": "2021-07-07T15:18:08.272Z"
   },
   {
    "duration": 11,
    "start_time": "2021-07-07T15:18:08.295Z"
   },
   {
    "duration": 11,
    "start_time": "2021-07-07T15:18:08.309Z"
   },
   {
    "duration": 40,
    "start_time": "2021-07-07T15:18:08.322Z"
   },
   {
    "duration": 42,
    "start_time": "2021-07-07T15:18:08.364Z"
   },
   {
    "duration": 22,
    "start_time": "2021-07-07T15:18:08.408Z"
   },
   {
    "duration": 5,
    "start_time": "2021-07-07T15:18:08.432Z"
   },
   {
    "duration": 13,
    "start_time": "2021-07-07T15:18:08.439Z"
   },
   {
    "duration": 9,
    "start_time": "2021-07-07T15:18:08.454Z"
   },
   {
    "duration": 32,
    "start_time": "2021-07-07T15:18:08.465Z"
   },
   {
    "duration": 10,
    "start_time": "2021-07-07T15:18:08.501Z"
   },
   {
    "duration": 7,
    "start_time": "2021-07-07T15:18:08.513Z"
   },
   {
    "duration": 11,
    "start_time": "2021-07-07T15:18:08.521Z"
   },
   {
    "duration": 17,
    "start_time": "2021-07-07T15:18:08.534Z"
   },
   {
    "duration": 44,
    "start_time": "2021-07-07T15:18:08.553Z"
   },
   {
    "duration": 22,
    "start_time": "2021-07-07T15:18:08.599Z"
   },
   {
    "duration": 61,
    "start_time": "2021-07-07T15:18:08.622Z"
   },
   {
    "duration": 7,
    "start_time": "2021-07-07T15:18:39.457Z"
   },
   {
    "duration": 5,
    "start_time": "2021-07-07T16:05:17.020Z"
   },
   {
    "duration": 5,
    "start_time": "2021-07-07T16:51:28.794Z"
   },
   {
    "duration": 546,
    "start_time": "2021-07-07T16:52:26.306Z"
   },
   {
    "duration": 203,
    "start_time": "2021-07-07T16:52:27.523Z"
   },
   {
    "duration": 85,
    "start_time": "2021-07-07T16:52:27.736Z"
   },
   {
    "duration": 4,
    "start_time": "2021-07-07T16:52:27.899Z"
   },
   {
    "duration": 25,
    "start_time": "2021-07-07T16:52:28.674Z"
   },
   {
    "duration": 8,
    "start_time": "2021-07-07T16:52:32.956Z"
   },
   {
    "duration": 18,
    "start_time": "2021-07-07T16:52:35.616Z"
   },
   {
    "duration": 6,
    "start_time": "2021-07-07T16:52:36.913Z"
   },
   {
    "duration": 11,
    "start_time": "2021-07-07T16:52:40.258Z"
   },
   {
    "duration": 10,
    "start_time": "2021-07-07T16:52:46.251Z"
   },
   {
    "duration": 8,
    "start_time": "2021-07-07T16:52:47.182Z"
   },
   {
    "duration": 27,
    "start_time": "2021-07-07T16:53:20.391Z"
   },
   {
    "duration": 20,
    "start_time": "2021-07-07T16:53:22.022Z"
   },
   {
    "duration": 23,
    "start_time": "2021-07-07T16:53:23.690Z"
   },
   {
    "duration": 8,
    "start_time": "2021-07-07T16:53:24.261Z"
   },
   {
    "duration": 4,
    "start_time": "2021-07-07T16:53:38.733Z"
   },
   {
    "duration": 7,
    "start_time": "2021-07-07T16:53:40.445Z"
   },
   {
    "duration": 11,
    "start_time": "2021-07-07T16:53:41.348Z"
   },
   {
    "duration": 13,
    "start_time": "2021-07-07T16:53:45.250Z"
   },
   {
    "duration": 12,
    "start_time": "2021-07-07T16:53:45.467Z"
   },
   {
    "duration": 4,
    "start_time": "2021-07-07T16:55:32.704Z"
   },
   {
    "duration": 12,
    "start_time": "2021-07-07T16:55:49.012Z"
   },
   {
    "duration": 18,
    "start_time": "2021-07-07T16:55:49.547Z"
   },
   {
    "duration": 611,
    "start_time": "2021-07-07T16:58:35.156Z"
   },
   {
    "duration": 200,
    "start_time": "2021-07-07T16:58:35.770Z"
   },
   {
    "duration": 86,
    "start_time": "2021-07-07T16:58:35.972Z"
   },
   {
    "duration": 3,
    "start_time": "2021-07-07T16:58:36.060Z"
   },
   {
    "duration": 27,
    "start_time": "2021-07-07T16:58:36.065Z"
   },
   {
    "duration": 8,
    "start_time": "2021-07-07T16:58:36.094Z"
   },
   {
    "duration": 17,
    "start_time": "2021-07-07T16:58:36.103Z"
   },
   {
    "duration": 5,
    "start_time": "2021-07-07T16:58:36.123Z"
   },
   {
    "duration": 11,
    "start_time": "2021-07-07T16:58:36.130Z"
   },
   {
    "duration": 7,
    "start_time": "2021-07-07T16:58:36.143Z"
   },
   {
    "duration": 37,
    "start_time": "2021-07-07T16:58:36.152Z"
   },
   {
    "duration": 27,
    "start_time": "2021-07-07T16:58:36.191Z"
   },
   {
    "duration": 19,
    "start_time": "2021-07-07T16:58:36.219Z"
   },
   {
    "duration": 49,
    "start_time": "2021-07-07T16:58:36.240Z"
   },
   {
    "duration": 6,
    "start_time": "2021-07-07T16:58:36.291Z"
   },
   {
    "duration": 3,
    "start_time": "2021-07-07T16:58:36.299Z"
   },
   {
    "duration": 13,
    "start_time": "2021-07-07T16:58:36.304Z"
   },
   {
    "duration": 10,
    "start_time": "2021-07-07T16:58:36.319Z"
   },
   {
    "duration": 10,
    "start_time": "2021-07-07T16:58:36.331Z"
   },
   {
    "duration": 44,
    "start_time": "2021-07-07T16:58:36.343Z"
   },
   {
    "duration": 4,
    "start_time": "2021-07-07T16:58:36.388Z"
   },
   {
    "duration": 13,
    "start_time": "2021-07-07T16:58:36.394Z"
   },
   {
    "duration": 16,
    "start_time": "2021-07-07T16:58:36.410Z"
   },
   {
    "duration": 8,
    "start_time": "2021-07-07T17:02:31.629Z"
   },
   {
    "duration": 8,
    "start_time": "2021-07-07T17:02:34.308Z"
   },
   {
    "duration": 6,
    "start_time": "2021-07-07T17:05:13.483Z"
   },
   {
    "duration": 17,
    "start_time": "2021-07-07T17:05:20.606Z"
   },
   {
    "duration": 7,
    "start_time": "2021-07-07T17:05:34.638Z"
   },
   {
    "duration": 3,
    "start_time": "2021-07-07T17:06:31.883Z"
   },
   {
    "duration": 570,
    "start_time": "2021-07-07T17:06:37.165Z"
   },
   {
    "duration": 174,
    "start_time": "2021-07-07T17:06:37.737Z"
   },
   {
    "duration": 47,
    "start_time": "2021-07-07T17:06:37.913Z"
   },
   {
    "duration": 3,
    "start_time": "2021-07-07T17:06:37.962Z"
   },
   {
    "duration": 27,
    "start_time": "2021-07-07T17:06:37.967Z"
   },
   {
    "duration": 7,
    "start_time": "2021-07-07T17:06:37.996Z"
   },
   {
    "duration": 16,
    "start_time": "2021-07-07T17:06:38.005Z"
   },
   {
    "duration": 6,
    "start_time": "2021-07-07T17:06:38.024Z"
   },
   {
    "duration": 12,
    "start_time": "2021-07-07T17:06:38.031Z"
   },
   {
    "duration": 41,
    "start_time": "2021-07-07T17:06:38.045Z"
   },
   {
    "duration": 8,
    "start_time": "2021-07-07T17:06:38.088Z"
   },
   {
    "duration": 26,
    "start_time": "2021-07-07T17:06:38.098Z"
   },
   {
    "duration": 17,
    "start_time": "2021-07-07T17:06:38.126Z"
   },
   {
    "duration": 43,
    "start_time": "2021-07-07T17:06:38.144Z"
   },
   {
    "duration": 6,
    "start_time": "2021-07-07T17:06:38.188Z"
   },
   {
    "duration": 5,
    "start_time": "2021-07-07T17:06:38.195Z"
   },
   {
    "duration": 9,
    "start_time": "2021-07-07T17:06:38.201Z"
   },
   {
    "duration": 12,
    "start_time": "2021-07-07T17:06:38.212Z"
   },
   {
    "duration": 11,
    "start_time": "2021-07-07T17:06:38.226Z"
   },
   {
    "duration": 47,
    "start_time": "2021-07-07T17:06:38.239Z"
   },
   {
    "duration": 4,
    "start_time": "2021-07-07T17:06:38.288Z"
   },
   {
    "duration": 13,
    "start_time": "2021-07-07T17:06:38.293Z"
   },
   {
    "duration": 5,
    "start_time": "2021-07-07T17:06:38.309Z"
   },
   {
    "duration": 18,
    "start_time": "2021-07-07T17:06:38.325Z"
   },
   {
    "duration": 20,
    "start_time": "2021-07-07T17:07:02.805Z"
   },
   {
    "duration": 19,
    "start_time": "2021-07-07T17:07:08.527Z"
   },
   {
    "duration": 19,
    "start_time": "2021-07-07T17:07:12.758Z"
   },
   {
    "duration": 22,
    "start_time": "2021-07-07T17:07:17.497Z"
   },
   {
    "duration": 19,
    "start_time": "2021-07-07T17:07:19.645Z"
   },
   {
    "duration": 10,
    "start_time": "2021-07-07T17:07:34.239Z"
   },
   {
    "duration": 17,
    "start_time": "2021-07-07T17:07:54.144Z"
   },
   {
    "duration": 14,
    "start_time": "2021-07-07T17:08:14.357Z"
   },
   {
    "duration": 616,
    "start_time": "2021-07-07T17:08:45.254Z"
   },
   {
    "duration": 178,
    "start_time": "2021-07-07T17:08:45.872Z"
   },
   {
    "duration": 60,
    "start_time": "2021-07-07T17:08:46.054Z"
   },
   {
    "duration": 3,
    "start_time": "2021-07-07T17:08:46.116Z"
   },
   {
    "duration": 26,
    "start_time": "2021-07-07T17:08:46.121Z"
   },
   {
    "duration": 7,
    "start_time": "2021-07-07T17:08:46.149Z"
   },
   {
    "duration": 17,
    "start_time": "2021-07-07T17:08:46.158Z"
   },
   {
    "duration": 14,
    "start_time": "2021-07-07T17:08:46.176Z"
   },
   {
    "duration": 17,
    "start_time": "2021-07-07T17:08:46.193Z"
   },
   {
    "duration": 9,
    "start_time": "2021-07-07T17:08:46.211Z"
   },
   {
    "duration": 21,
    "start_time": "2021-07-07T17:08:46.221Z"
   },
   {
    "duration": 49,
    "start_time": "2021-07-07T17:08:46.244Z"
   },
   {
    "duration": 24,
    "start_time": "2021-07-07T17:08:46.295Z"
   },
   {
    "duration": 22,
    "start_time": "2021-07-07T17:08:46.321Z"
   },
   {
    "duration": 6,
    "start_time": "2021-07-07T17:08:46.345Z"
   },
   {
    "duration": 5,
    "start_time": "2021-07-07T17:08:46.353Z"
   },
   {
    "duration": 13,
    "start_time": "2021-07-07T17:08:46.386Z"
   },
   {
    "duration": 12,
    "start_time": "2021-07-07T17:08:46.402Z"
   },
   {
    "duration": 10,
    "start_time": "2021-07-07T17:08:46.415Z"
   },
   {
    "duration": 7,
    "start_time": "2021-07-07T17:08:46.427Z"
   },
   {
    "duration": 8,
    "start_time": "2021-07-07T17:08:46.435Z"
   },
   {
    "duration": 68,
    "start_time": "2021-07-07T17:08:46.446Z"
   },
   {
    "duration": 13,
    "start_time": "2021-07-07T17:08:46.516Z"
   },
   {
    "duration": 78,
    "start_time": "2021-07-07T17:08:46.530Z"
   },
   {
    "duration": 40,
    "start_time": "2021-07-07T17:09:08.185Z"
   },
   {
    "duration": 16,
    "start_time": "2021-07-07T17:09:19.324Z"
   },
   {
    "duration": 21,
    "start_time": "2021-07-07T17:09:23.290Z"
   },
   {
    "duration": 13,
    "start_time": "2021-07-07T17:09:54.812Z"
   },
   {
    "duration": 13,
    "start_time": "2021-07-07T17:10:02.039Z"
   },
   {
    "duration": 10,
    "start_time": "2021-07-07T17:10:29.632Z"
   },
   {
    "duration": 13,
    "start_time": "2021-07-07T17:10:52.372Z"
   },
   {
    "duration": 13,
    "start_time": "2021-07-07T17:11:17.270Z"
   },
   {
    "duration": 13,
    "start_time": "2021-07-07T17:14:59.284Z"
   },
   {
    "duration": 547,
    "start_time": "2021-07-07T17:18:52.403Z"
   },
   {
    "duration": 163,
    "start_time": "2021-07-07T17:18:52.952Z"
   },
   {
    "duration": 44,
    "start_time": "2021-07-07T17:18:53.117Z"
   },
   {
    "duration": 3,
    "start_time": "2021-07-07T17:18:53.162Z"
   },
   {
    "duration": 26,
    "start_time": "2021-07-07T17:18:53.167Z"
   },
   {
    "duration": 6,
    "start_time": "2021-07-07T17:18:53.195Z"
   },
   {
    "duration": 15,
    "start_time": "2021-07-07T17:18:53.203Z"
   },
   {
    "duration": 5,
    "start_time": "2021-07-07T17:18:53.220Z"
   },
   {
    "duration": 11,
    "start_time": "2021-07-07T17:18:53.228Z"
   },
   {
    "duration": 9,
    "start_time": "2021-07-07T17:18:53.241Z"
   },
   {
    "duration": 41,
    "start_time": "2021-07-07T17:18:53.252Z"
   },
   {
    "duration": 33,
    "start_time": "2021-07-07T17:18:53.295Z"
   },
   {
    "duration": 19,
    "start_time": "2021-07-07T17:18:53.330Z"
   },
   {
    "duration": 49,
    "start_time": "2021-07-07T17:18:53.350Z"
   },
   {
    "duration": 5,
    "start_time": "2021-07-07T17:18:53.401Z"
   },
   {
    "duration": 5,
    "start_time": "2021-07-07T17:18:53.408Z"
   },
   {
    "duration": 11,
    "start_time": "2021-07-07T17:18:53.414Z"
   },
   {
    "duration": 9,
    "start_time": "2021-07-07T17:18:53.427Z"
   },
   {
    "duration": 10,
    "start_time": "2021-07-07T17:18:53.437Z"
   },
   {
    "duration": 39,
    "start_time": "2021-07-07T17:18:53.448Z"
   },
   {
    "duration": 26,
    "start_time": "2021-07-07T17:18:55.799Z"
   },
   {
    "duration": 598,
    "start_time": "2021-07-07T17:20:17.862Z"
   },
   {
    "duration": 161,
    "start_time": "2021-07-07T17:20:18.462Z"
   },
   {
    "duration": 45,
    "start_time": "2021-07-07T17:20:18.626Z"
   },
   {
    "duration": 4,
    "start_time": "2021-07-07T17:20:18.673Z"
   },
   {
    "duration": 38,
    "start_time": "2021-07-07T17:20:26.877Z"
   },
   {
    "duration": 7,
    "start_time": "2021-07-07T17:20:37.405Z"
   },
   {
    "duration": 19,
    "start_time": "2021-07-07T17:20:51.534Z"
   },
   {
    "duration": 5,
    "start_time": "2021-07-07T17:20:57.228Z"
   },
   {
    "duration": 7,
    "start_time": "2021-07-07T17:21:08.235Z"
   },
   {
    "duration": 19,
    "start_time": "2021-07-07T17:21:42.158Z"
   },
   {
    "duration": 14,
    "start_time": "2021-07-07T17:21:50.225Z"
   },
   {
    "duration": 22,
    "start_time": "2021-07-07T17:22:54.104Z"
   },
   {
    "duration": 5,
    "start_time": "2021-07-07T17:22:56.371Z"
   },
   {
    "duration": 14,
    "start_time": "2021-07-07T17:22:58.316Z"
   },
   {
    "duration": 5,
    "start_time": "2021-07-07T17:22:58.493Z"
   },
   {
    "duration": 35,
    "start_time": "2021-07-07T17:22:59.666Z"
   },
   {
    "duration": 6,
    "start_time": "2021-07-07T17:23:02.410Z"
   },
   {
    "duration": 611,
    "start_time": "2021-07-07T17:24:59.664Z"
   },
   {
    "duration": 178,
    "start_time": "2021-07-07T17:25:01.945Z"
   },
   {
    "duration": 47,
    "start_time": "2021-07-07T17:25:02.125Z"
   },
   {
    "duration": 2,
    "start_time": "2021-07-07T17:25:07.903Z"
   },
   {
    "duration": 254,
    "start_time": "2021-07-07T17:25:08.232Z"
   },
   {
    "duration": 182,
    "start_time": "2021-07-07T17:25:08.671Z"
   },
   {
    "duration": 6,
    "start_time": "2021-07-07T17:25:13.104Z"
   },
   {
    "duration": 36,
    "start_time": "2021-07-07T17:25:13.662Z"
   },
   {
    "duration": 7,
    "start_time": "2021-07-07T17:25:14.528Z"
   },
   {
    "duration": 24,
    "start_time": "2021-07-07T17:25:27.982Z"
   },
   {
    "duration": 3,
    "start_time": "2021-07-07T17:25:48.982Z"
   },
   {
    "duration": 165,
    "start_time": "2021-07-07T17:25:48.987Z"
   },
   {
    "duration": 50,
    "start_time": "2021-07-07T17:25:49.154Z"
   },
   {
    "duration": 4,
    "start_time": "2021-07-07T17:25:49.206Z"
   },
   {
    "duration": 26,
    "start_time": "2021-07-07T17:25:49.212Z"
   },
   {
    "duration": 7,
    "start_time": "2021-07-07T17:25:49.240Z"
   },
   {
    "duration": 16,
    "start_time": "2021-07-07T17:25:49.249Z"
   },
   {
    "duration": 22,
    "start_time": "2021-07-07T17:25:49.266Z"
   },
   {
    "duration": 16,
    "start_time": "2021-07-07T17:25:49.291Z"
   },
   {
    "duration": 9,
    "start_time": "2021-07-07T17:25:49.309Z"
   },
   {
    "duration": 7,
    "start_time": "2021-07-07T17:25:49.319Z"
   },
   {
    "duration": 28,
    "start_time": "2021-07-07T17:25:49.328Z"
   },
   {
    "duration": 44,
    "start_time": "2021-07-07T17:25:49.357Z"
   },
   {
    "duration": 22,
    "start_time": "2021-07-07T17:25:49.403Z"
   },
   {
    "duration": 7,
    "start_time": "2021-07-07T17:25:49.427Z"
   },
   {
    "duration": 3,
    "start_time": "2021-07-07T17:25:49.436Z"
   },
   {
    "duration": 44,
    "start_time": "2021-07-07T17:25:49.441Z"
   },
   {
    "duration": 12,
    "start_time": "2021-07-07T17:25:49.488Z"
   },
   {
    "duration": 13,
    "start_time": "2021-07-07T17:25:49.502Z"
   },
   {
    "duration": 10,
    "start_time": "2021-07-07T17:25:49.516Z"
   },
   {
    "duration": 62,
    "start_time": "2021-07-07T17:25:49.527Z"
   },
   {
    "duration": 26,
    "start_time": "2021-07-07T17:26:51.809Z"
   },
   {
    "duration": 26,
    "start_time": "2021-07-07T17:26:55.759Z"
   },
   {
    "duration": 26,
    "start_time": "2021-07-07T17:27:04.501Z"
   },
   {
    "duration": 25,
    "start_time": "2021-07-07T17:28:24.859Z"
   },
   {
    "duration": 21,
    "start_time": "2021-07-07T17:28:55.250Z"
   },
   {
    "duration": 21,
    "start_time": "2021-07-07T17:28:58.885Z"
   },
   {
    "duration": 7,
    "start_time": "2021-07-07T17:45:40.972Z"
   },
   {
    "duration": 13,
    "start_time": "2021-07-07T17:45:42.529Z"
   },
   {
    "duration": 27,
    "start_time": "2021-07-07T17:45:51.026Z"
   },
   {
    "duration": 518,
    "start_time": "2021-07-07T17:46:15.532Z"
   },
   {
    "duration": 235,
    "start_time": "2021-07-07T17:46:16.053Z"
   },
   {
    "duration": 80,
    "start_time": "2021-07-07T17:46:16.292Z"
   },
   {
    "duration": 5,
    "start_time": "2021-07-07T17:46:16.373Z"
   },
   {
    "duration": 26,
    "start_time": "2021-07-07T17:46:16.380Z"
   },
   {
    "duration": 7,
    "start_time": "2021-07-07T17:46:16.408Z"
   },
   {
    "duration": 16,
    "start_time": "2021-07-07T17:46:16.418Z"
   },
   {
    "duration": 5,
    "start_time": "2021-07-07T17:46:16.436Z"
   },
   {
    "duration": 13,
    "start_time": "2021-07-07T17:46:16.442Z"
   },
   {
    "duration": 35,
    "start_time": "2021-07-07T17:46:16.456Z"
   },
   {
    "duration": 8,
    "start_time": "2021-07-07T17:46:16.493Z"
   },
   {
    "duration": 28,
    "start_time": "2021-07-07T17:46:16.502Z"
   },
   {
    "duration": 17,
    "start_time": "2021-07-07T17:46:16.532Z"
   },
   {
    "duration": 44,
    "start_time": "2021-07-07T17:46:16.551Z"
   },
   {
    "duration": 6,
    "start_time": "2021-07-07T17:46:16.597Z"
   },
   {
    "duration": 4,
    "start_time": "2021-07-07T17:46:16.605Z"
   },
   {
    "duration": 9,
    "start_time": "2021-07-07T17:46:16.610Z"
   },
   {
    "duration": 9,
    "start_time": "2021-07-07T17:46:16.621Z"
   },
   {
    "duration": 10,
    "start_time": "2021-07-07T17:46:16.632Z"
   },
   {
    "duration": 43,
    "start_time": "2021-07-07T17:46:16.644Z"
   },
   {
    "duration": 26,
    "start_time": "2021-07-07T17:46:16.689Z"
   },
   {
    "duration": 19,
    "start_time": "2021-07-07T17:46:16.718Z"
   },
   {
    "duration": 8,
    "start_time": "2021-07-07T17:46:16.738Z"
   },
   {
    "duration": 43,
    "start_time": "2021-07-07T17:46:16.747Z"
   },
   {
    "duration": 19,
    "start_time": "2021-07-07T17:46:16.791Z"
   },
   {
    "duration": 9,
    "start_time": "2021-07-07T17:46:16.812Z"
   },
   {
    "duration": 60,
    "start_time": "2021-07-07T17:46:16.822Z"
   },
   {
    "duration": -8,
    "start_time": "2021-07-07T17:46:16.892Z"
   },
   {
    "duration": 12,
    "start_time": "2021-07-07T17:48:47.707Z"
   },
   {
    "duration": 553,
    "start_time": "2021-07-07T18:10:09.350Z"
   },
   {
    "duration": 230,
    "start_time": "2021-07-07T18:10:09.905Z"
   },
   {
    "duration": 97,
    "start_time": "2021-07-07T18:10:10.137Z"
   },
   {
    "duration": 5,
    "start_time": "2021-07-07T18:10:10.236Z"
   },
   {
    "duration": 29,
    "start_time": "2021-07-07T18:10:10.242Z"
   },
   {
    "duration": 7,
    "start_time": "2021-07-07T18:10:10.272Z"
   },
   {
    "duration": 15,
    "start_time": "2021-07-07T18:10:10.281Z"
   },
   {
    "duration": 4,
    "start_time": "2021-07-07T18:10:10.299Z"
   },
   {
    "duration": 14,
    "start_time": "2021-07-07T18:10:10.305Z"
   },
   {
    "duration": 8,
    "start_time": "2021-07-07T18:10:10.321Z"
   },
   {
    "duration": 8,
    "start_time": "2021-07-07T18:10:10.331Z"
   },
   {
    "duration": 56,
    "start_time": "2021-07-07T18:10:10.341Z"
   },
   {
    "duration": 19,
    "start_time": "2021-07-07T18:10:10.399Z"
   },
   {
    "duration": 23,
    "start_time": "2021-07-07T18:10:10.419Z"
   },
   {
    "duration": 6,
    "start_time": "2021-07-07T18:10:10.444Z"
   },
   {
    "duration": 9,
    "start_time": "2021-07-07T18:10:10.451Z"
   },
   {
    "duration": 30,
    "start_time": "2021-07-07T18:10:10.462Z"
   },
   {
    "duration": 9,
    "start_time": "2021-07-07T18:10:10.494Z"
   },
   {
    "duration": 14,
    "start_time": "2021-07-07T18:10:10.505Z"
   },
   {
    "duration": 7,
    "start_time": "2021-07-07T18:10:10.521Z"
   },
   {
    "duration": 26,
    "start_time": "2021-07-07T18:10:10.530Z"
   },
   {
    "duration": 44,
    "start_time": "2021-07-07T18:10:10.558Z"
   },
   {
    "duration": 7,
    "start_time": "2021-07-07T18:10:10.605Z"
   },
   {
    "duration": 11,
    "start_time": "2021-07-07T18:10:10.614Z"
   },
   {
    "duration": 19,
    "start_time": "2021-07-07T18:10:10.626Z"
   },
   {
    "duration": 44,
    "start_time": "2021-07-07T18:10:10.646Z"
   },
   {
    "duration": 516,
    "start_time": "2021-07-07T18:14:00.826Z"
   },
   {
    "duration": 230,
    "start_time": "2021-07-07T18:14:01.344Z"
   },
   {
    "duration": 105,
    "start_time": "2021-07-07T18:14:01.576Z"
   },
   {
    "duration": 5,
    "start_time": "2021-07-07T18:14:01.683Z"
   },
   {
    "duration": 46,
    "start_time": "2021-07-07T18:14:01.690Z"
   },
   {
    "duration": 7,
    "start_time": "2021-07-07T18:14:01.738Z"
   },
   {
    "duration": 20,
    "start_time": "2021-07-07T18:14:01.747Z"
   },
   {
    "duration": 16,
    "start_time": "2021-07-07T18:14:01.769Z"
   },
   {
    "duration": 14,
    "start_time": "2021-07-07T18:14:01.787Z"
   },
   {
    "duration": 15,
    "start_time": "2021-07-07T18:14:01.803Z"
   },
   {
    "duration": 12,
    "start_time": "2021-07-07T18:14:01.820Z"
   },
   {
    "duration": 35,
    "start_time": "2021-07-07T18:14:01.833Z"
   },
   {
    "duration": 31,
    "start_time": "2021-07-07T18:14:01.869Z"
   },
   {
    "duration": 37,
    "start_time": "2021-07-07T18:14:01.902Z"
   },
   {
    "duration": 8,
    "start_time": "2021-07-07T18:14:01.942Z"
   },
   {
    "duration": 16,
    "start_time": "2021-07-07T18:14:01.952Z"
   },
   {
    "duration": 13,
    "start_time": "2021-07-07T18:14:01.970Z"
   },
   {
    "duration": 32,
    "start_time": "2021-07-07T18:14:01.985Z"
   },
   {
    "duration": 11,
    "start_time": "2021-07-07T18:14:02.019Z"
   },
   {
    "duration": 22,
    "start_time": "2021-07-07T18:14:02.031Z"
   },
   {
    "duration": 27,
    "start_time": "2021-07-07T18:14:02.055Z"
   },
   {
    "duration": 18,
    "start_time": "2021-07-07T18:14:02.084Z"
   },
   {
    "duration": 18,
    "start_time": "2021-07-07T18:14:02.106Z"
   },
   {
    "duration": 11,
    "start_time": "2021-07-07T18:14:02.126Z"
   },
   {
    "duration": 21,
    "start_time": "2021-07-07T18:14:02.138Z"
   },
   {
    "duration": 32,
    "start_time": "2021-07-07T18:14:02.161Z"
   },
   {
    "duration": 28,
    "start_time": "2021-07-07T18:14:44.295Z"
   },
   {
    "duration": 6,
    "start_time": "2021-07-07T18:15:05.834Z"
   },
   {
    "duration": 511,
    "start_time": "2021-07-07T18:15:41.541Z"
   },
   {
    "duration": 183,
    "start_time": "2021-07-07T18:15:42.054Z"
   },
   {
    "duration": 50,
    "start_time": "2021-07-07T18:15:42.239Z"
   },
   {
    "duration": 5,
    "start_time": "2021-07-07T18:15:42.291Z"
   },
   {
    "duration": 48,
    "start_time": "2021-07-07T18:15:42.297Z"
   },
   {
    "duration": 8,
    "start_time": "2021-07-07T18:15:42.346Z"
   },
   {
    "duration": 17,
    "start_time": "2021-07-07T18:15:42.356Z"
   },
   {
    "duration": 15,
    "start_time": "2021-07-07T18:15:42.375Z"
   },
   {
    "duration": 12,
    "start_time": "2021-07-07T18:15:42.392Z"
   },
   {
    "duration": 7,
    "start_time": "2021-07-07T18:15:42.406Z"
   },
   {
    "duration": 7,
    "start_time": "2021-07-07T18:15:42.415Z"
   },
   {
    "duration": 29,
    "start_time": "2021-07-07T18:15:42.423Z"
   },
   {
    "duration": 43,
    "start_time": "2021-07-07T18:15:42.453Z"
   },
   {
    "duration": 18,
    "start_time": "2021-07-07T18:15:42.497Z"
   },
   {
    "duration": 6,
    "start_time": "2021-07-07T18:15:42.516Z"
   },
   {
    "duration": 3,
    "start_time": "2021-07-07T18:15:42.523Z"
   },
   {
    "duration": 18,
    "start_time": "2021-07-07T18:15:42.528Z"
   },
   {
    "duration": 10,
    "start_time": "2021-07-07T18:15:42.547Z"
   },
   {
    "duration": 36,
    "start_time": "2021-07-07T18:15:42.559Z"
   },
   {
    "duration": 8,
    "start_time": "2021-07-07T18:15:42.597Z"
   },
   {
    "duration": 28,
    "start_time": "2021-07-07T18:15:42.606Z"
   },
   {
    "duration": 52,
    "start_time": "2021-07-07T18:15:42.635Z"
   },
   {
    "duration": 7,
    "start_time": "2021-07-07T18:15:42.690Z"
   },
   {
    "duration": 10,
    "start_time": "2021-07-07T18:15:42.699Z"
   },
   {
    "duration": 19,
    "start_time": "2021-07-07T18:15:42.711Z"
   },
   {
    "duration": 9,
    "start_time": "2021-07-07T18:15:42.732Z"
   },
   {
    "duration": 5,
    "start_time": "2021-07-07T18:15:42.743Z"
   },
   {
    "duration": 1450,
    "start_time": "2021-07-07T18:15:51.984Z"
   },
   {
    "duration": 161,
    "start_time": "2021-07-07T18:15:53.435Z"
   },
   {
    "duration": 124,
    "start_time": "2021-07-07T18:15:53.598Z"
   },
   {
    "duration": 5,
    "start_time": "2021-07-07T18:15:53.724Z"
   },
   {
    "duration": 34,
    "start_time": "2021-07-07T18:15:53.730Z"
   },
   {
    "duration": 7,
    "start_time": "2021-07-07T18:15:53.765Z"
   },
   {
    "duration": 15,
    "start_time": "2021-07-07T18:15:53.773Z"
   },
   {
    "duration": 5,
    "start_time": "2021-07-07T18:15:53.791Z"
   },
   {
    "duration": 19,
    "start_time": "2021-07-07T18:15:53.798Z"
   },
   {
    "duration": 9,
    "start_time": "2021-07-07T18:15:53.818Z"
   },
   {
    "duration": 19,
    "start_time": "2021-07-07T18:15:53.828Z"
   },
   {
    "duration": 27,
    "start_time": "2021-07-07T18:15:53.848Z"
   },
   {
    "duration": 16,
    "start_time": "2021-07-07T18:15:53.884Z"
   },
   {
    "duration": 29,
    "start_time": "2021-07-07T18:15:53.901Z"
   },
   {
    "duration": 5,
    "start_time": "2021-07-07T18:15:53.932Z"
   },
   {
    "duration": 15,
    "start_time": "2021-07-07T18:15:53.939Z"
   },
   {
    "duration": 13,
    "start_time": "2021-07-07T18:15:53.956Z"
   },
   {
    "duration": 20,
    "start_time": "2021-07-07T18:15:53.971Z"
   },
   {
    "duration": 14,
    "start_time": "2021-07-07T18:15:53.992Z"
   },
   {
    "duration": 9,
    "start_time": "2021-07-07T18:15:54.009Z"
   },
   {
    "duration": 28,
    "start_time": "2021-07-07T18:15:54.020Z"
   },
   {
    "duration": 50,
    "start_time": "2021-07-07T18:15:54.051Z"
   },
   {
    "duration": 8,
    "start_time": "2021-07-07T18:15:54.105Z"
   },
   {
    "duration": 11,
    "start_time": "2021-07-07T18:15:54.115Z"
   },
   {
    "duration": 20,
    "start_time": "2021-07-07T18:15:54.128Z"
   },
   {
    "duration": 13,
    "start_time": "2021-07-07T18:15:54.184Z"
   },
   {
    "duration": 7,
    "start_time": "2021-07-07T18:15:54.199Z"
   },
   {
    "duration": 7,
    "start_time": "2021-07-07T18:17:08.042Z"
   },
   {
    "duration": 8,
    "start_time": "2021-07-07T18:17:21.008Z"
   },
   {
    "duration": 7,
    "start_time": "2021-07-07T18:17:29.003Z"
   },
   {
    "duration": 8,
    "start_time": "2021-07-07T18:17:32.492Z"
   },
   {
    "duration": 9,
    "start_time": "2021-07-07T18:17:41.758Z"
   },
   {
    "duration": 255,
    "start_time": "2021-07-07T18:20:20.897Z"
   },
   {
    "duration": 173,
    "start_time": "2021-07-07T18:20:26.636Z"
   },
   {
    "duration": 7,
    "start_time": "2021-07-07T18:21:47.164Z"
   },
   {
    "duration": 254,
    "start_time": "2021-07-07T18:23:08.703Z"
   },
   {
    "duration": 21,
    "start_time": "2021-07-07T18:23:22.506Z"
   },
   {
    "duration": 315,
    "start_time": "2021-07-07T18:25:54.801Z"
   },
   {
    "duration": 34,
    "start_time": "2021-07-07T18:26:51.817Z"
   },
   {
    "duration": 327,
    "start_time": "2021-07-07T18:26:56.147Z"
   },
   {
    "duration": 342,
    "start_time": "2021-07-07T18:27:15.887Z"
   },
   {
    "duration": 302,
    "start_time": "2021-07-07T18:28:18.569Z"
   },
   {
    "duration": 226,
    "start_time": "2021-07-07T18:29:20.879Z"
   },
   {
    "duration": 207,
    "start_time": "2021-07-07T18:29:58.114Z"
   },
   {
    "duration": 140,
    "start_time": "2021-07-07T18:32:04.372Z"
   },
   {
    "duration": 158,
    "start_time": "2021-07-07T18:32:32.508Z"
   },
   {
    "duration": 145,
    "start_time": "2021-07-07T18:32:41.365Z"
   },
   {
    "duration": 132,
    "start_time": "2021-07-07T18:32:45.199Z"
   },
   {
    "duration": 11,
    "start_time": "2021-07-07T18:35:24.679Z"
   },
   {
    "duration": 268,
    "start_time": "2021-07-07T18:36:16.145Z"
   },
   {
    "duration": 227,
    "start_time": "2021-07-07T18:37:04.918Z"
   },
   {
    "duration": 3,
    "start_time": "2021-07-07T18:37:33.012Z"
   },
   {
    "duration": 671,
    "start_time": "2021-07-07T18:37:38.295Z"
   },
   {
    "duration": 54,
    "start_time": "2021-07-07T18:37:53.406Z"
   },
   {
    "duration": 631,
    "start_time": "2021-07-07T18:37:56.463Z"
   },
   {
    "duration": 19,
    "start_time": "2021-07-07T18:39:40.535Z"
   },
   {
    "duration": 20,
    "start_time": "2021-07-07T18:40:12.236Z"
   },
   {
    "duration": 633,
    "start_time": "2021-07-07T18:42:00.398Z"
   },
   {
    "duration": 218,
    "start_time": "2021-07-07T18:42:01.033Z"
   },
   {
    "duration": 49,
    "start_time": "2021-07-07T18:42:01.253Z"
   },
   {
    "duration": 5,
    "start_time": "2021-07-07T18:42:01.303Z"
   },
   {
    "duration": 27,
    "start_time": "2021-07-07T18:42:01.310Z"
   },
   {
    "duration": 8,
    "start_time": "2021-07-07T18:42:01.339Z"
   },
   {
    "duration": 20,
    "start_time": "2021-07-07T18:42:01.348Z"
   },
   {
    "duration": 6,
    "start_time": "2021-07-07T18:42:01.386Z"
   },
   {
    "duration": 16,
    "start_time": "2021-07-07T18:42:01.394Z"
   },
   {
    "duration": 9,
    "start_time": "2021-07-07T18:42:01.411Z"
   },
   {
    "duration": 11,
    "start_time": "2021-07-07T18:42:01.421Z"
   },
   {
    "duration": 31,
    "start_time": "2021-07-07T18:42:01.434Z"
   },
   {
    "duration": 18,
    "start_time": "2021-07-07T18:42:01.485Z"
   },
   {
    "duration": 23,
    "start_time": "2021-07-07T18:42:01.505Z"
   },
   {
    "duration": 6,
    "start_time": "2021-07-07T18:42:01.530Z"
   },
   {
    "duration": 10,
    "start_time": "2021-07-07T18:42:01.538Z"
   },
   {
    "duration": 13,
    "start_time": "2021-07-07T18:42:01.550Z"
   },
   {
    "duration": 24,
    "start_time": "2021-07-07T18:42:01.564Z"
   },
   {
    "duration": 20,
    "start_time": "2021-07-07T18:42:01.590Z"
   },
   {
    "duration": 8,
    "start_time": "2021-07-07T18:42:01.611Z"
   },
   {
    "duration": 31,
    "start_time": "2021-07-07T18:42:01.620Z"
   },
   {
    "duration": 39,
    "start_time": "2021-07-07T18:42:01.653Z"
   },
   {
    "duration": 8,
    "start_time": "2021-07-07T18:42:01.696Z"
   },
   {
    "duration": 13,
    "start_time": "2021-07-07T18:42:01.705Z"
   },
   {
    "duration": 20,
    "start_time": "2021-07-07T18:42:01.720Z"
   },
   {
    "duration": 12,
    "start_time": "2021-07-07T18:42:01.741Z"
   },
   {
    "duration": 35,
    "start_time": "2021-07-07T18:42:01.755Z"
   },
   {
    "duration": 14,
    "start_time": "2021-07-07T18:42:01.792Z"
   },
   {
    "duration": 188,
    "start_time": "2021-07-07T18:42:01.808Z"
   },
   {
    "duration": 19,
    "start_time": "2021-07-07T18:42:01.998Z"
   },
   {
    "duration": 175,
    "start_time": "2021-07-07T18:42:02.019Z"
   },
   {
    "duration": 134,
    "start_time": "2021-07-07T18:42:02.196Z"
   },
   {
    "duration": 10,
    "start_time": "2021-07-07T18:42:02.331Z"
   },
   {
    "duration": 19,
    "start_time": "2021-07-07T18:42:02.343Z"
   },
   {
    "duration": 628,
    "start_time": "2021-07-07T18:46:30.701Z"
   },
   {
    "duration": 183,
    "start_time": "2021-07-07T18:46:31.331Z"
   },
   {
    "duration": 48,
    "start_time": "2021-07-07T18:46:31.516Z"
   },
   {
    "duration": 5,
    "start_time": "2021-07-07T18:46:31.566Z"
   },
   {
    "duration": 28,
    "start_time": "2021-07-07T18:46:31.572Z"
   },
   {
    "duration": 8,
    "start_time": "2021-07-07T18:46:31.602Z"
   },
   {
    "duration": 19,
    "start_time": "2021-07-07T18:46:31.611Z"
   },
   {
    "duration": 6,
    "start_time": "2021-07-07T18:46:31.633Z"
   },
   {
    "duration": 17,
    "start_time": "2021-07-07T18:46:31.642Z"
   },
   {
    "duration": 10,
    "start_time": "2021-07-07T18:46:31.684Z"
   },
   {
    "duration": 9,
    "start_time": "2021-07-07T18:46:31.695Z"
   },
   {
    "duration": 28,
    "start_time": "2021-07-07T18:46:31.705Z"
   },
   {
    "duration": 18,
    "start_time": "2021-07-07T18:46:31.735Z"
   },
   {
    "duration": 48,
    "start_time": "2021-07-07T18:46:31.755Z"
   },
   {
    "duration": 6,
    "start_time": "2021-07-07T18:46:31.804Z"
   },
   {
    "duration": 4,
    "start_time": "2021-07-07T18:46:31.812Z"
   },
   {
    "duration": 9,
    "start_time": "2021-07-07T18:46:31.817Z"
   },
   {
    "duration": 10,
    "start_time": "2021-07-07T18:46:31.827Z"
   },
   {
    "duration": 12,
    "start_time": "2021-07-07T18:46:31.838Z"
   },
   {
    "duration": 39,
    "start_time": "2021-07-07T18:46:31.851Z"
   },
   {
    "duration": 24,
    "start_time": "2021-07-07T18:46:31.892Z"
   },
   {
    "duration": 15,
    "start_time": "2021-07-07T18:46:31.918Z"
   },
   {
    "duration": 7,
    "start_time": "2021-07-07T18:46:31.936Z"
   },
   {
    "duration": 8,
    "start_time": "2021-07-07T18:46:31.944Z"
   },
   {
    "duration": 19,
    "start_time": "2021-07-07T18:46:31.984Z"
   },
   {
    "duration": 10,
    "start_time": "2021-07-07T18:46:32.004Z"
   },
   {
    "duration": 5,
    "start_time": "2021-07-07T18:46:32.016Z"
   },
   {
    "duration": 9,
    "start_time": "2021-07-07T18:46:32.023Z"
   },
   {
    "duration": 199,
    "start_time": "2021-07-07T18:46:32.033Z"
   },
   {
    "duration": 19,
    "start_time": "2021-07-07T18:46:32.234Z"
   },
   {
    "duration": 159,
    "start_time": "2021-07-07T18:46:32.255Z"
   },
   {
    "duration": 134,
    "start_time": "2021-07-07T18:46:32.416Z"
   },
   {
    "duration": 10,
    "start_time": "2021-07-07T18:46:32.552Z"
   },
   {
    "duration": 34,
    "start_time": "2021-07-07T18:46:32.563Z"
   },
   {
    "duration": 1039,
    "start_time": "2021-07-08T08:41:09.419Z"
   },
   {
    "duration": 333,
    "start_time": "2021-07-08T08:41:10.459Z"
   },
   {
    "duration": 173,
    "start_time": "2021-07-08T08:41:10.794Z"
   },
   {
    "duration": 5,
    "start_time": "2021-07-08T08:41:10.968Z"
   },
   {
    "duration": 25,
    "start_time": "2021-07-08T08:41:10.975Z"
   },
   {
    "duration": 9,
    "start_time": "2021-07-08T08:41:11.002Z"
   },
   {
    "duration": 18,
    "start_time": "2021-07-08T08:41:11.013Z"
   },
   {
    "duration": 6,
    "start_time": "2021-07-08T08:41:11.033Z"
   },
   {
    "duration": 44,
    "start_time": "2021-07-08T08:41:11.042Z"
   },
   {
    "duration": 10,
    "start_time": "2021-07-08T08:41:11.088Z"
   },
   {
    "duration": 9,
    "start_time": "2021-07-08T08:41:11.100Z"
   },
   {
    "duration": 27,
    "start_time": "2021-07-08T08:41:11.111Z"
   },
   {
    "duration": 46,
    "start_time": "2021-07-08T08:41:11.140Z"
   },
   {
    "duration": 17,
    "start_time": "2021-07-08T08:41:11.187Z"
   },
   {
    "duration": 6,
    "start_time": "2021-07-08T08:41:11.206Z"
   },
   {
    "duration": 5,
    "start_time": "2021-07-08T08:41:11.213Z"
   },
   {
    "duration": 10,
    "start_time": "2021-07-08T08:41:11.219Z"
   },
   {
    "duration": 9,
    "start_time": "2021-07-08T08:41:11.230Z"
   },
   {
    "duration": 45,
    "start_time": "2021-07-08T08:41:11.241Z"
   },
   {
    "duration": 7,
    "start_time": "2021-07-08T08:41:11.287Z"
   },
   {
    "duration": 24,
    "start_time": "2021-07-08T08:41:11.296Z"
   },
   {
    "duration": 16,
    "start_time": "2021-07-08T08:41:11.322Z"
   },
   {
    "duration": 7,
    "start_time": "2021-07-08T08:41:11.341Z"
   },
   {
    "duration": 41,
    "start_time": "2021-07-08T08:41:11.349Z"
   },
   {
    "duration": 17,
    "start_time": "2021-07-08T08:41:11.391Z"
   },
   {
    "duration": 9,
    "start_time": "2021-07-08T08:41:11.410Z"
   },
   {
    "duration": 5,
    "start_time": "2021-07-08T08:41:11.421Z"
   },
   {
    "duration": 6,
    "start_time": "2021-07-08T08:41:11.428Z"
   },
   {
    "duration": 198,
    "start_time": "2021-07-08T08:41:11.435Z"
   },
   {
    "duration": 18,
    "start_time": "2021-07-08T08:41:11.635Z"
   },
   {
    "duration": 155,
    "start_time": "2021-07-08T08:41:11.655Z"
   },
   {
    "duration": 138,
    "start_time": "2021-07-08T08:41:11.811Z"
   },
   {
    "duration": 10,
    "start_time": "2021-07-08T08:41:11.950Z"
   },
   {
    "duration": 29,
    "start_time": "2021-07-08T08:41:11.961Z"
   },
   {
    "duration": 171,
    "start_time": "2021-07-08T08:47:44.522Z"
   },
   {
    "duration": 124,
    "start_time": "2021-07-08T08:47:46.872Z"
   },
   {
    "duration": 191,
    "start_time": "2021-07-08T08:47:58.148Z"
   },
   {
    "duration": 191,
    "start_time": "2021-07-08T08:48:07.412Z"
   },
   {
    "duration": 261,
    "start_time": "2021-07-08T08:48:10.385Z"
   },
   {
    "duration": 255,
    "start_time": "2021-07-08T08:48:14.494Z"
   },
   {
    "duration": 219,
    "start_time": "2021-07-08T08:48:22.752Z"
   },
   {
    "duration": 173,
    "start_time": "2021-07-08T08:49:06.395Z"
   },
   {
    "duration": 180,
    "start_time": "2021-07-08T08:49:21.011Z"
   },
   {
    "duration": 6,
    "start_time": "2021-07-08T08:50:31.697Z"
   },
   {
    "duration": 10,
    "start_time": "2021-07-08T08:50:47.394Z"
   },
   {
    "duration": 11,
    "start_time": "2021-07-08T08:53:49.332Z"
   },
   {
    "duration": 171,
    "start_time": "2021-07-08T08:54:28.408Z"
   },
   {
    "duration": 636,
    "start_time": "2021-07-08T09:02:48.385Z"
   },
   {
    "duration": 227,
    "start_time": "2021-07-08T09:02:49.023Z"
   },
   {
    "duration": 104,
    "start_time": "2021-07-08T09:02:49.252Z"
   },
   {
    "duration": 5,
    "start_time": "2021-07-08T09:02:49.358Z"
   },
   {
    "duration": 27,
    "start_time": "2021-07-08T09:02:49.365Z"
   },
   {
    "duration": 8,
    "start_time": "2021-07-08T09:02:49.394Z"
   },
   {
    "duration": 18,
    "start_time": "2021-07-08T09:02:49.404Z"
   },
   {
    "duration": 6,
    "start_time": "2021-07-08T09:02:49.424Z"
   },
   {
    "duration": 11,
    "start_time": "2021-07-08T09:02:49.433Z"
   },
   {
    "duration": 13,
    "start_time": "2021-07-08T09:02:49.485Z"
   },
   {
    "duration": 9,
    "start_time": "2021-07-08T09:02:49.500Z"
   },
   {
    "duration": 38,
    "start_time": "2021-07-08T09:02:49.511Z"
   },
   {
    "duration": 42,
    "start_time": "2021-07-08T09:02:49.551Z"
   },
   {
    "duration": 21,
    "start_time": "2021-07-08T09:02:49.594Z"
   },
   {
    "duration": 6,
    "start_time": "2021-07-08T09:02:49.616Z"
   },
   {
    "duration": 3,
    "start_time": "2021-07-08T09:02:49.623Z"
   },
   {
    "duration": 9,
    "start_time": "2021-07-08T09:02:49.628Z"
   },
   {
    "duration": 52,
    "start_time": "2021-07-08T09:02:49.638Z"
   },
   {
    "duration": 11,
    "start_time": "2021-07-08T09:02:49.692Z"
   },
   {
    "duration": 8,
    "start_time": "2021-07-08T09:02:49.704Z"
   },
   {
    "duration": 27,
    "start_time": "2021-07-08T09:02:49.713Z"
   },
   {
    "duration": 59,
    "start_time": "2021-07-08T09:02:49.741Z"
   },
   {
    "duration": 8,
    "start_time": "2021-07-08T09:02:49.803Z"
   },
   {
    "duration": 14,
    "start_time": "2021-07-08T09:02:49.813Z"
   },
   {
    "duration": 20,
    "start_time": "2021-07-08T09:02:49.829Z"
   },
   {
    "duration": 44,
    "start_time": "2021-07-08T09:02:49.851Z"
   },
   {
    "duration": 14,
    "start_time": "2021-07-08T09:02:49.896Z"
   },
   {
    "duration": 221,
    "start_time": "2021-07-08T09:02:49.912Z"
   },
   {
    "duration": 6,
    "start_time": "2021-07-08T09:02:50.134Z"
   },
   {
    "duration": 206,
    "start_time": "2021-07-08T09:02:50.142Z"
   },
   {
    "duration": 19,
    "start_time": "2021-07-08T09:02:50.350Z"
   },
   {
    "duration": 21,
    "start_time": "2021-07-08T09:02:50.370Z"
   },
   {
    "duration": 20,
    "start_time": "2021-07-08T09:02:50.393Z"
   },
   {
    "duration": 5,
    "start_time": "2021-07-08T09:02:50.414Z"
   },
   {
    "duration": 5,
    "start_time": "2021-07-08T09:03:34.173Z"
   },
   {
    "duration": 6,
    "start_time": "2021-07-08T09:04:49.062Z"
   },
   {
    "duration": 9,
    "start_time": "2021-07-08T09:04:50.118Z"
   },
   {
    "duration": 14,
    "start_time": "2021-07-08T09:04:58.512Z"
   },
   {
    "duration": 9,
    "start_time": "2021-07-08T09:05:10.988Z"
   },
   {
    "duration": 11,
    "start_time": "2021-07-08T09:05:11.743Z"
   },
   {
    "duration": 7,
    "start_time": "2021-07-08T09:05:25.677Z"
   },
   {
    "duration": 13,
    "start_time": "2021-07-08T09:05:47.189Z"
   },
   {
    "duration": 13,
    "start_time": "2021-07-08T09:05:54.755Z"
   },
   {
    "duration": 4,
    "start_time": "2021-07-08T09:06:29.189Z"
   },
   {
    "duration": 244,
    "start_time": "2021-07-08T09:06:29.195Z"
   },
   {
    "duration": 91,
    "start_time": "2021-07-08T09:06:29.441Z"
   },
   {
    "duration": 4,
    "start_time": "2021-07-08T09:06:29.534Z"
   },
   {
    "duration": 28,
    "start_time": "2021-07-08T09:06:29.540Z"
   },
   {
    "duration": 6,
    "start_time": "2021-07-08T09:06:29.570Z"
   },
   {
    "duration": 18,
    "start_time": "2021-07-08T09:06:29.578Z"
   },
   {
    "duration": 5,
    "start_time": "2021-07-08T09:06:29.597Z"
   },
   {
    "duration": 13,
    "start_time": "2021-07-08T09:06:29.605Z"
   },
   {
    "duration": 8,
    "start_time": "2021-07-08T09:06:29.620Z"
   },
   {
    "duration": 7,
    "start_time": "2021-07-08T09:06:29.630Z"
   },
   {
    "duration": 63,
    "start_time": "2021-07-08T09:06:29.639Z"
   },
   {
    "duration": 17,
    "start_time": "2021-07-08T09:06:29.704Z"
   },
   {
    "duration": 20,
    "start_time": "2021-07-08T09:06:29.723Z"
   },
   {
    "duration": 6,
    "start_time": "2021-07-08T09:06:29.745Z"
   },
   {
    "duration": 3,
    "start_time": "2021-07-08T09:06:29.752Z"
   },
   {
    "duration": 7,
    "start_time": "2021-07-08T09:06:29.785Z"
   },
   {
    "duration": 11,
    "start_time": "2021-07-08T09:06:29.794Z"
   },
   {
    "duration": 15,
    "start_time": "2021-07-08T09:06:29.807Z"
   },
   {
    "duration": 8,
    "start_time": "2021-07-08T09:06:29.823Z"
   },
   {
    "duration": 70,
    "start_time": "2021-07-08T09:06:29.832Z"
   },
   {
    "duration": 17,
    "start_time": "2021-07-08T09:06:29.903Z"
   },
   {
    "duration": 9,
    "start_time": "2021-07-08T09:06:29.921Z"
   },
   {
    "duration": 9,
    "start_time": "2021-07-08T09:06:29.932Z"
   },
   {
    "duration": 57,
    "start_time": "2021-07-08T09:06:29.942Z"
   },
   {
    "duration": 11,
    "start_time": "2021-07-08T09:06:30.001Z"
   },
   {
    "duration": 19,
    "start_time": "2021-07-08T09:06:30.016Z"
   },
   {
    "duration": 217,
    "start_time": "2021-07-08T09:06:30.037Z"
   },
   {
    "duration": 6,
    "start_time": "2021-07-08T09:06:30.255Z"
   },
   {
    "duration": 205,
    "start_time": "2021-07-08T09:06:30.263Z"
   },
   {
    "duration": 27,
    "start_time": "2021-07-08T09:06:30.470Z"
   },
   {
    "duration": 11,
    "start_time": "2021-07-08T09:06:30.500Z"
   },
   {
    "duration": 31,
    "start_time": "2021-07-08T09:06:30.513Z"
   },
   {
    "duration": 18,
    "start_time": "2021-07-08T09:06:30.546Z"
   },
   {
    "duration": 11,
    "start_time": "2021-07-08T09:06:30.566Z"
   },
   {
    "duration": 19,
    "start_time": "2021-07-08T09:06:30.579Z"
   },
   {
    "duration": 20,
    "start_time": "2021-07-08T09:06:49.466Z"
   },
   {
    "duration": 9,
    "start_time": "2021-07-08T09:06:51.994Z"
   },
   {
    "duration": 20,
    "start_time": "2021-07-08T09:06:52.273Z"
   },
   {
    "duration": 246,
    "start_time": "2021-07-08T09:10:21.272Z"
   },
   {
    "duration": 84,
    "start_time": "2021-07-08T09:10:21.436Z"
   },
   {
    "duration": 7,
    "start_time": "2021-07-08T09:10:37.608Z"
   },
   {
    "duration": 189,
    "start_time": "2021-07-08T09:10:38.573Z"
   },
   {
    "duration": 185,
    "start_time": "2021-07-08T09:10:53.181Z"
   },
   {
    "duration": 11,
    "start_time": "2021-07-08T09:10:59.549Z"
   },
   {
    "duration": 42,
    "start_time": "2021-07-08T09:10:59.709Z"
   },
   {
    "duration": 12,
    "start_time": "2021-07-08T09:11:02.857Z"
   },
   {
    "duration": 28,
    "start_time": "2021-07-08T09:11:10.062Z"
   },
   {
    "duration": 249,
    "start_time": "2021-07-08T09:11:37.388Z"
   },
   {
    "duration": 232,
    "start_time": "2021-07-08T09:11:49.485Z"
   },
   {
    "duration": 453,
    "start_time": "2021-07-08T09:12:01.546Z"
   },
   {
    "duration": 440,
    "start_time": "2021-07-08T09:12:12.347Z"
   },
   {
    "duration": 213,
    "start_time": "2021-07-08T09:13:32.196Z"
   },
   {
    "duration": 172,
    "start_time": "2021-07-08T09:14:07.400Z"
   },
   {
    "duration": 185,
    "start_time": "2021-07-08T09:14:14.905Z"
   },
   {
    "duration": 209,
    "start_time": "2021-07-08T09:14:40.109Z"
   },
   {
    "duration": 201,
    "start_time": "2021-07-08T09:14:54.506Z"
   },
   {
    "duration": 622,
    "start_time": "2021-07-08T09:18:14.497Z"
   },
   {
    "duration": 220,
    "start_time": "2021-07-08T09:18:15.121Z"
   },
   {
    "duration": 79,
    "start_time": "2021-07-08T09:18:15.343Z"
   },
   {
    "duration": 4,
    "start_time": "2021-07-08T09:18:15.425Z"
   },
   {
    "duration": 24,
    "start_time": "2021-07-08T09:18:15.431Z"
   },
   {
    "duration": 8,
    "start_time": "2021-07-08T09:18:15.457Z"
   },
   {
    "duration": 16,
    "start_time": "2021-07-08T09:18:15.466Z"
   },
   {
    "duration": 5,
    "start_time": "2021-07-08T09:18:15.484Z"
   },
   {
    "duration": 10,
    "start_time": "2021-07-08T09:18:15.493Z"
   },
   {
    "duration": 8,
    "start_time": "2021-07-08T09:18:15.504Z"
   },
   {
    "duration": 7,
    "start_time": "2021-07-08T09:18:15.513Z"
   },
   {
    "duration": 26,
    "start_time": "2021-07-08T09:18:15.522Z"
   },
   {
    "duration": 49,
    "start_time": "2021-07-08T09:18:15.550Z"
   },
   {
    "duration": 21,
    "start_time": "2021-07-08T09:18:15.601Z"
   },
   {
    "duration": 8,
    "start_time": "2021-07-08T09:18:15.624Z"
   },
   {
    "duration": 3,
    "start_time": "2021-07-08T09:18:15.634Z"
   },
   {
    "duration": 8,
    "start_time": "2021-07-08T09:18:15.639Z"
   },
   {
    "duration": 45,
    "start_time": "2021-07-08T09:18:15.649Z"
   },
   {
    "duration": 13,
    "start_time": "2021-07-08T09:18:15.696Z"
   },
   {
    "duration": 10,
    "start_time": "2021-07-08T09:18:15.711Z"
   },
   {
    "duration": 64,
    "start_time": "2021-07-08T09:18:15.722Z"
   },
   {
    "duration": 19,
    "start_time": "2021-07-08T09:18:15.788Z"
   },
   {
    "duration": 9,
    "start_time": "2021-07-08T09:18:15.809Z"
   },
   {
    "duration": 9,
    "start_time": "2021-07-08T09:18:15.820Z"
   },
   {
    "duration": 18,
    "start_time": "2021-07-08T09:18:15.831Z"
   },
   {
    "duration": 43,
    "start_time": "2021-07-08T09:18:15.851Z"
   },
   {
    "duration": 12,
    "start_time": "2021-07-08T09:18:15.897Z"
   },
   {
    "duration": 219,
    "start_time": "2021-07-08T09:18:15.911Z"
   },
   {
    "duration": 8,
    "start_time": "2021-07-08T09:18:16.132Z"
   },
   {
    "duration": 199,
    "start_time": "2021-07-08T09:18:16.141Z"
   },
   {
    "duration": 18,
    "start_time": "2021-07-08T09:18:16.341Z"
   },
   {
    "duration": 24,
    "start_time": "2021-07-08T09:18:16.361Z"
   },
   {
    "duration": 24,
    "start_time": "2021-07-08T09:18:16.387Z"
   },
   {
    "duration": 211,
    "start_time": "2021-07-08T09:18:16.413Z"
   },
   {
    "duration": 18,
    "start_time": "2021-07-08T09:18:16.626Z"
   },
   {
    "duration": 596,
    "start_time": "2021-07-08T10:06:33.623Z"
   },
   {
    "duration": 181,
    "start_time": "2021-07-08T10:06:34.221Z"
   },
   {
    "duration": 176,
    "start_time": "2021-07-08T10:06:34.635Z"
   },
   {
    "duration": 239,
    "start_time": "2021-07-08T10:06:55.572Z"
   },
   {
    "duration": 6,
    "start_time": "2021-07-08T10:06:57.687Z"
   },
   {
    "duration": 4,
    "start_time": "2021-07-08T10:07:03.956Z"
   },
   {
    "duration": 4,
    "start_time": "2021-07-08T10:07:10.376Z"
   },
   {
    "duration": 4,
    "start_time": "2021-07-08T10:17:19.889Z"
   },
   {
    "duration": 3,
    "start_time": "2021-07-08T10:19:19.407Z"
   },
   {
    "duration": 197,
    "start_time": "2021-07-08T10:19:19.412Z"
   },
   {
    "duration": 127,
    "start_time": "2021-07-08T10:19:19.611Z"
   },
   {
    "duration": 4,
    "start_time": "2021-07-08T10:19:19.740Z"
   },
   {
    "duration": 27,
    "start_time": "2021-07-08T10:19:19.746Z"
   },
   {
    "duration": 7,
    "start_time": "2021-07-08T10:19:19.775Z"
   },
   {
    "duration": 30,
    "start_time": "2021-07-08T10:19:19.784Z"
   },
   {
    "duration": 7,
    "start_time": "2021-07-08T10:19:19.817Z"
   },
   {
    "duration": 26,
    "start_time": "2021-07-08T10:19:19.826Z"
   },
   {
    "duration": 18,
    "start_time": "2021-07-08T10:19:19.854Z"
   },
   {
    "duration": 14,
    "start_time": "2021-07-08T10:19:19.874Z"
   },
   {
    "duration": 48,
    "start_time": "2021-07-08T10:19:19.890Z"
   },
   {
    "duration": 17,
    "start_time": "2021-07-08T10:19:19.940Z"
   },
   {
    "duration": 38,
    "start_time": "2021-07-08T10:19:19.959Z"
   },
   {
    "duration": 8,
    "start_time": "2021-07-08T10:19:19.999Z"
   },
   {
    "duration": 15,
    "start_time": "2021-07-08T10:19:20.009Z"
   },
   {
    "duration": 22,
    "start_time": "2021-07-08T10:19:20.026Z"
   },
   {
    "duration": 10,
    "start_time": "2021-07-08T10:19:20.050Z"
   },
   {
    "duration": 10,
    "start_time": "2021-07-08T10:19:20.062Z"
   },
   {
    "duration": 20,
    "start_time": "2021-07-08T10:19:20.073Z"
   },
   {
    "duration": 29,
    "start_time": "2021-07-08T10:19:20.095Z"
   },
   {
    "duration": 17,
    "start_time": "2021-07-08T10:19:20.126Z"
   },
   {
    "duration": 40,
    "start_time": "2021-07-08T10:19:20.146Z"
   },
   {
    "duration": 15,
    "start_time": "2021-07-08T10:19:20.189Z"
   },
   {
    "duration": 19,
    "start_time": "2021-07-08T10:19:20.206Z"
   },
   {
    "duration": 10,
    "start_time": "2021-07-08T10:19:20.226Z"
   },
   {
    "duration": 11,
    "start_time": "2021-07-08T10:19:20.238Z"
   },
   {
    "duration": 297,
    "start_time": "2021-07-08T10:19:20.250Z"
   },
   {
    "duration": 6,
    "start_time": "2021-07-08T10:19:20.549Z"
   },
   {
    "duration": 191,
    "start_time": "2021-07-08T10:19:20.557Z"
   },
   {
    "duration": 19,
    "start_time": "2021-07-08T10:19:20.750Z"
   },
   {
    "duration": 20,
    "start_time": "2021-07-08T10:19:20.771Z"
   },
   {
    "duration": 15,
    "start_time": "2021-07-08T10:19:20.793Z"
   },
   {
    "duration": 222,
    "start_time": "2021-07-08T10:19:20.809Z"
   },
   {
    "duration": 20,
    "start_time": "2021-07-08T10:19:21.033Z"
   },
   {
    "duration": 27,
    "start_time": "2021-07-08T10:45:04.055Z"
   },
   {
    "duration": 8,
    "start_time": "2021-07-08T10:45:08.478Z"
   },
   {
    "duration": 8,
    "start_time": "2021-07-08T10:45:31.982Z"
   },
   {
    "duration": 10,
    "start_time": "2021-07-08T10:46:01.221Z"
   },
   {
    "duration": 17,
    "start_time": "2021-07-08T10:46:40.011Z"
   },
   {
    "duration": 193,
    "start_time": "2021-07-08T10:48:19.471Z"
   },
   {
    "duration": 225,
    "start_time": "2021-07-08T10:49:26.480Z"
   },
   {
    "duration": 204,
    "start_time": "2021-07-08T10:49:59.992Z"
   },
   {
    "duration": 435,
    "start_time": "2021-07-08T10:50:06.779Z"
   },
   {
    "duration": 199,
    "start_time": "2021-07-08T10:50:14.891Z"
   },
   {
    "duration": 204,
    "start_time": "2021-07-08T10:50:18.501Z"
   },
   {
    "duration": 244,
    "start_time": "2021-07-08T10:50:23.359Z"
   },
   {
    "duration": 192,
    "start_time": "2021-07-08T10:50:29.135Z"
   },
   {
    "duration": 218,
    "start_time": "2021-07-08T10:50:33.092Z"
   },
   {
    "duration": 207,
    "start_time": "2021-07-08T10:52:45.381Z"
   },
   {
    "duration": 5,
    "start_time": "2021-07-08T10:53:34.641Z"
   },
   {
    "duration": 196,
    "start_time": "2021-07-08T10:53:41.478Z"
   },
   {
    "duration": 43,
    "start_time": "2021-07-08T10:53:50.335Z"
   },
   {
    "duration": 32,
    "start_time": "2021-07-08T10:53:55.294Z"
   },
   {
    "duration": 55,
    "start_time": "2021-07-08T10:54:09.675Z"
   },
   {
    "duration": 16,
    "start_time": "2021-07-08T10:54:12.260Z"
   },
   {
    "duration": 15,
    "start_time": "2021-07-08T10:54:49.150Z"
   },
   {
    "duration": 20,
    "start_time": "2021-07-08T10:56:07.596Z"
   },
   {
    "duration": 16,
    "start_time": "2021-07-08T10:58:26.276Z"
   },
   {
    "duration": 22,
    "start_time": "2021-07-08T10:59:00.486Z"
   },
   {
    "duration": 18,
    "start_time": "2021-07-08T11:02:09.653Z"
   },
   {
    "duration": 10,
    "start_time": "2021-07-08T11:03:44.331Z"
   },
   {
    "duration": 10,
    "start_time": "2021-07-08T11:03:54.055Z"
   },
   {
    "duration": 12,
    "start_time": "2021-07-08T11:04:41.967Z"
   },
   {
    "duration": 24,
    "start_time": "2021-07-08T11:07:30.732Z"
   },
   {
    "duration": 6,
    "start_time": "2021-07-08T11:07:37.364Z"
   },
   {
    "duration": 16,
    "start_time": "2021-07-08T11:08:01.819Z"
   },
   {
    "duration": 17,
    "start_time": "2021-07-08T11:09:47.488Z"
   },
   {
    "duration": 246,
    "start_time": "2021-07-08T11:10:00.830Z"
   },
   {
    "duration": 18,
    "start_time": "2021-07-08T11:13:55.195Z"
   },
   {
    "duration": 204,
    "start_time": "2021-07-08T11:14:04.951Z"
   },
   {
    "duration": 19,
    "start_time": "2021-07-08T11:15:10.613Z"
   },
   {
    "duration": 680,
    "start_time": "2021-07-08T11:16:25.793Z"
   },
   {
    "duration": 451,
    "start_time": "2021-07-08T11:16:40.313Z"
   },
   {
    "duration": 469,
    "start_time": "2021-07-08T11:17:21.286Z"
   },
   {
    "duration": 20,
    "start_time": "2021-07-08T11:19:12.554Z"
   },
   {
    "duration": 35,
    "start_time": "2021-07-08T11:20:05.484Z"
   },
   {
    "duration": 53,
    "start_time": "2021-07-08T11:21:40.050Z"
   },
   {
    "duration": 13,
    "start_time": "2021-07-08T11:22:26.059Z"
   },
   {
    "duration": 19,
    "start_time": "2021-07-08T11:22:47.419Z"
   },
   {
    "duration": 25,
    "start_time": "2021-07-08T11:23:19.958Z"
   },
   {
    "duration": 29,
    "start_time": "2021-07-08T11:23:25.415Z"
   },
   {
    "duration": 10,
    "start_time": "2021-07-08T11:24:45.138Z"
   },
   {
    "duration": 19,
    "start_time": "2021-07-08T11:24:54.498Z"
   },
   {
    "duration": 12,
    "start_time": "2021-07-08T11:25:32.225Z"
   },
   {
    "duration": 19,
    "start_time": "2021-07-08T11:25:37.092Z"
   },
   {
    "duration": 17,
    "start_time": "2021-07-08T11:25:58.116Z"
   },
   {
    "duration": 15,
    "start_time": "2021-07-08T11:26:02.258Z"
   },
   {
    "duration": 8,
    "start_time": "2021-07-08T11:26:59.682Z"
   },
   {
    "duration": 184,
    "start_time": "2021-07-08T11:27:21.894Z"
   },
   {
    "duration": 8,
    "start_time": "2021-07-08T11:27:23.824Z"
   },
   {
    "duration": 202,
    "start_time": "2021-07-08T11:27:23.962Z"
   },
   {
    "duration": 360,
    "start_time": "2021-07-08T11:28:33.215Z"
   },
   {
    "duration": 231,
    "start_time": "2021-07-08T11:32:05.542Z"
   },
   {
    "duration": 607,
    "start_time": "2021-07-08T11:36:27.854Z"
   },
   {
    "duration": 241,
    "start_time": "2021-07-08T11:36:28.463Z"
   },
   {
    "duration": 67,
    "start_time": "2021-07-08T11:36:28.709Z"
   },
   {
    "duration": 5,
    "start_time": "2021-07-08T11:36:28.778Z"
   },
   {
    "duration": 32,
    "start_time": "2021-07-08T11:36:28.784Z"
   },
   {
    "duration": 11,
    "start_time": "2021-07-08T11:36:28.819Z"
   },
   {
    "duration": 20,
    "start_time": "2021-07-08T11:36:28.834Z"
   },
   {
    "duration": 36,
    "start_time": "2021-07-08T11:36:28.857Z"
   },
   {
    "duration": 16,
    "start_time": "2021-07-08T11:36:28.895Z"
   },
   {
    "duration": 14,
    "start_time": "2021-07-08T11:36:28.913Z"
   },
   {
    "duration": 9,
    "start_time": "2021-07-08T11:36:28.930Z"
   },
   {
    "duration": 55,
    "start_time": "2021-07-08T11:36:28.941Z"
   },
   {
    "duration": 27,
    "start_time": "2021-07-08T11:36:28.999Z"
   },
   {
    "duration": 30,
    "start_time": "2021-07-08T11:36:29.028Z"
   },
   {
    "duration": 31,
    "start_time": "2021-07-08T11:36:29.060Z"
   },
   {
    "duration": 3,
    "start_time": "2021-07-08T11:36:29.093Z"
   },
   {
    "duration": 12,
    "start_time": "2021-07-08T11:36:29.099Z"
   },
   {
    "duration": 11,
    "start_time": "2021-07-08T11:36:29.112Z"
   },
   {
    "duration": 12,
    "start_time": "2021-07-08T11:36:29.125Z"
   },
   {
    "duration": 9,
    "start_time": "2021-07-08T11:36:29.139Z"
   },
   {
    "duration": 31,
    "start_time": "2021-07-08T11:36:29.191Z"
   },
   {
    "duration": 17,
    "start_time": "2021-07-08T11:36:29.226Z"
   },
   {
    "duration": 7,
    "start_time": "2021-07-08T11:36:29.245Z"
   },
   {
    "duration": 10,
    "start_time": "2021-07-08T11:36:29.254Z"
   },
   {
    "duration": 30,
    "start_time": "2021-07-08T11:36:29.292Z"
   },
   {
    "duration": 11,
    "start_time": "2021-07-08T11:36:29.324Z"
   },
   {
    "duration": 11,
    "start_time": "2021-07-08T11:36:29.337Z"
   },
   {
    "duration": 230,
    "start_time": "2021-07-08T11:36:29.349Z"
   },
   {
    "duration": 13,
    "start_time": "2021-07-08T11:36:29.588Z"
   },
   {
    "duration": 205,
    "start_time": "2021-07-08T11:36:29.603Z"
   },
   {
    "duration": 20,
    "start_time": "2021-07-08T11:36:29.810Z"
   },
   {
    "duration": 9,
    "start_time": "2021-07-08T11:36:29.832Z"
   },
   {
    "duration": 16,
    "start_time": "2021-07-08T11:36:29.843Z"
   },
   {
    "duration": 283,
    "start_time": "2021-07-08T11:36:29.861Z"
   },
   {
    "duration": 50,
    "start_time": "2021-07-08T11:36:30.146Z"
   },
   {
    "duration": 14,
    "start_time": "2021-07-08T11:36:30.198Z"
   },
   {
    "duration": 11,
    "start_time": "2021-07-08T11:36:30.214Z"
   },
   {
    "duration": 245,
    "start_time": "2021-07-08T11:36:30.227Z"
   },
   {
    "duration": 439,
    "start_time": "2021-07-08T11:36:30.474Z"
   },
   {
    "duration": 210,
    "start_time": "2021-07-08T11:36:30.915Z"
   },
   {
    "duration": 15,
    "start_time": "2021-07-08T11:36:31.127Z"
   },
   {
    "duration": 17,
    "start_time": "2021-07-08T11:38:20.451Z"
   },
   {
    "duration": 642,
    "start_time": "2021-07-08T11:46:17.881Z"
   },
   {
    "duration": 210,
    "start_time": "2021-07-08T11:46:18.525Z"
   },
   {
    "duration": 104,
    "start_time": "2021-07-08T11:46:18.741Z"
   },
   {
    "duration": 8,
    "start_time": "2021-07-08T11:46:18.847Z"
   },
   {
    "duration": 25,
    "start_time": "2021-07-08T11:46:18.857Z"
   },
   {
    "duration": 14,
    "start_time": "2021-07-08T11:46:18.884Z"
   },
   {
    "duration": 22,
    "start_time": "2021-07-08T11:46:18.900Z"
   },
   {
    "duration": 5,
    "start_time": "2021-07-08T11:46:18.924Z"
   },
   {
    "duration": 13,
    "start_time": "2021-07-08T11:46:18.931Z"
   },
   {
    "duration": 45,
    "start_time": "2021-07-08T11:46:18.946Z"
   },
   {
    "duration": 12,
    "start_time": "2021-07-08T11:46:18.993Z"
   },
   {
    "duration": 38,
    "start_time": "2021-07-08T11:46:19.006Z"
   },
   {
    "duration": 50,
    "start_time": "2021-07-08T11:46:19.046Z"
   },
   {
    "duration": 29,
    "start_time": "2021-07-08T11:46:19.099Z"
   },
   {
    "duration": 7,
    "start_time": "2021-07-08T11:46:19.130Z"
   },
   {
    "duration": 3,
    "start_time": "2021-07-08T11:46:19.139Z"
   },
   {
    "duration": 11,
    "start_time": "2021-07-08T11:46:19.144Z"
   },
   {
    "duration": 40,
    "start_time": "2021-07-08T11:46:19.157Z"
   },
   {
    "duration": 15,
    "start_time": "2021-07-08T11:46:19.199Z"
   },
   {
    "duration": 10,
    "start_time": "2021-07-08T11:46:19.217Z"
   },
   {
    "duration": 68,
    "start_time": "2021-07-08T11:46:19.230Z"
   },
   {
    "duration": 17,
    "start_time": "2021-07-08T11:46:19.301Z"
   },
   {
    "duration": 7,
    "start_time": "2021-07-08T11:46:19.321Z"
   },
   {
    "duration": 11,
    "start_time": "2021-07-08T11:46:19.330Z"
   },
   {
    "duration": 59,
    "start_time": "2021-07-08T11:46:19.343Z"
   },
   {
    "duration": 17,
    "start_time": "2021-07-08T11:46:19.405Z"
   },
   {
    "duration": 16,
    "start_time": "2021-07-08T11:46:19.424Z"
   },
   {
    "duration": 252,
    "start_time": "2021-07-08T11:46:19.443Z"
   },
   {
    "duration": 9,
    "start_time": "2021-07-08T11:46:19.697Z"
   },
   {
    "duration": 224,
    "start_time": "2021-07-08T11:46:19.708Z"
   },
   {
    "duration": 21,
    "start_time": "2021-07-08T11:46:19.934Z"
   },
   {
    "duration": 9,
    "start_time": "2021-07-08T11:46:19.956Z"
   },
   {
    "duration": 32,
    "start_time": "2021-07-08T11:46:19.967Z"
   },
   {
    "duration": 288,
    "start_time": "2021-07-08T11:46:20.004Z"
   },
   {
    "duration": 23,
    "start_time": "2021-07-08T11:46:20.300Z"
   },
   {
    "duration": 11,
    "start_time": "2021-07-08T11:46:20.325Z"
   },
   {
    "duration": 11,
    "start_time": "2021-07-08T11:46:20.339Z"
   },
   {
    "duration": 259,
    "start_time": "2021-07-08T11:46:20.352Z"
   },
   {
    "duration": 438,
    "start_time": "2021-07-08T11:46:20.613Z"
   },
   {
    "duration": 207,
    "start_time": "2021-07-08T11:46:21.054Z"
   },
   {
    "duration": 27,
    "start_time": "2021-07-08T11:46:21.262Z"
   },
   {
    "duration": 19,
    "start_time": "2021-07-08T11:46:21.291Z"
   },
   {
    "duration": 820,
    "start_time": "2021-07-08T11:49:01.655Z"
   },
   {
    "duration": 372,
    "start_time": "2021-07-08T11:49:02.478Z"
   },
   {
    "duration": 98,
    "start_time": "2021-07-08T11:49:02.853Z"
   },
   {
    "duration": 6,
    "start_time": "2021-07-08T11:49:02.953Z"
   },
   {
    "duration": 39,
    "start_time": "2021-07-08T11:49:02.960Z"
   },
   {
    "duration": 9,
    "start_time": "2021-07-08T11:49:03.003Z"
   },
   {
    "duration": 23,
    "start_time": "2021-07-08T11:49:03.014Z"
   },
   {
    "duration": 6,
    "start_time": "2021-07-08T11:49:03.041Z"
   },
   {
    "duration": 20,
    "start_time": "2021-07-08T11:49:03.049Z"
   },
   {
    "duration": 18,
    "start_time": "2021-07-08T11:49:03.084Z"
   },
   {
    "duration": 14,
    "start_time": "2021-07-08T11:49:03.104Z"
   },
   {
    "duration": 39,
    "start_time": "2021-07-08T11:49:03.119Z"
   },
   {
    "duration": 38,
    "start_time": "2021-07-08T11:49:03.160Z"
   },
   {
    "duration": 26,
    "start_time": "2021-07-08T11:49:03.200Z"
   },
   {
    "duration": 7,
    "start_time": "2021-07-08T11:49:03.227Z"
   },
   {
    "duration": 4,
    "start_time": "2021-07-08T11:49:03.236Z"
   },
   {
    "duration": 15,
    "start_time": "2021-07-08T11:49:03.243Z"
   },
   {
    "duration": 21,
    "start_time": "2021-07-08T11:49:03.285Z"
   },
   {
    "duration": 17,
    "start_time": "2021-07-08T11:49:03.309Z"
   },
   {
    "duration": 10,
    "start_time": "2021-07-08T11:49:03.328Z"
   },
   {
    "duration": 65,
    "start_time": "2021-07-08T11:49:03.340Z"
   },
   {
    "duration": 18,
    "start_time": "2021-07-08T11:49:03.407Z"
   },
   {
    "duration": 8,
    "start_time": "2021-07-08T11:49:03.428Z"
   },
   {
    "duration": 15,
    "start_time": "2021-07-08T11:49:03.438Z"
   },
   {
    "duration": 40,
    "start_time": "2021-07-08T11:49:03.455Z"
   },
   {
    "duration": 12,
    "start_time": "2021-07-08T11:49:03.497Z"
   },
   {
    "duration": 29,
    "start_time": "2021-07-08T11:49:03.511Z"
   },
   {
    "duration": 285,
    "start_time": "2021-07-08T11:49:03.542Z"
   },
   {
    "duration": 8,
    "start_time": "2021-07-08T11:49:03.829Z"
   },
   {
    "duration": 227,
    "start_time": "2021-07-08T11:49:03.838Z"
   },
   {
    "duration": 40,
    "start_time": "2021-07-08T11:49:04.066Z"
   },
   {
    "duration": 10,
    "start_time": "2021-07-08T11:49:04.108Z"
   },
   {
    "duration": 26,
    "start_time": "2021-07-08T11:49:04.121Z"
   },
   {
    "duration": 290,
    "start_time": "2021-07-08T11:49:04.149Z"
   },
   {
    "duration": 26,
    "start_time": "2021-07-08T11:49:04.441Z"
   },
   {
    "duration": 31,
    "start_time": "2021-07-08T11:49:04.470Z"
   },
   {
    "duration": 14,
    "start_time": "2021-07-08T11:49:04.503Z"
   },
   {
    "duration": 259,
    "start_time": "2021-07-08T11:49:04.521Z"
   },
   {
    "duration": 480,
    "start_time": "2021-07-08T11:49:04.782Z"
   },
   {
    "duration": 225,
    "start_time": "2021-07-08T11:49:05.264Z"
   },
   {
    "duration": 22,
    "start_time": "2021-07-08T11:49:05.491Z"
   },
   {
    "duration": 24,
    "start_time": "2021-07-08T11:49:05.515Z"
   },
   {
    "duration": 634,
    "start_time": "2021-07-08T11:52:24.960Z"
   },
   {
    "duration": 199,
    "start_time": "2021-07-08T11:52:25.599Z"
   },
   {
    "duration": 106,
    "start_time": "2021-07-08T11:52:25.803Z"
   },
   {
    "duration": 7,
    "start_time": "2021-07-08T11:52:25.911Z"
   },
   {
    "duration": 29,
    "start_time": "2021-07-08T11:52:25.920Z"
   },
   {
    "duration": 7,
    "start_time": "2021-07-08T11:52:25.951Z"
   },
   {
    "duration": 26,
    "start_time": "2021-07-08T11:52:25.961Z"
   },
   {
    "duration": 11,
    "start_time": "2021-07-08T11:52:25.990Z"
   },
   {
    "duration": 29,
    "start_time": "2021-07-08T11:52:26.005Z"
   },
   {
    "duration": 9,
    "start_time": "2021-07-08T11:52:26.036Z"
   },
   {
    "duration": 8,
    "start_time": "2021-07-08T11:52:26.047Z"
   },
   {
    "duration": 63,
    "start_time": "2021-07-08T11:52:26.057Z"
   },
   {
    "duration": 17,
    "start_time": "2021-07-08T11:52:26.122Z"
   },
   {
    "duration": 43,
    "start_time": "2021-07-08T11:52:26.142Z"
   },
   {
    "duration": 17,
    "start_time": "2021-07-08T11:52:26.187Z"
   },
   {
    "duration": 5,
    "start_time": "2021-07-08T11:52:26.206Z"
   },
   {
    "duration": 12,
    "start_time": "2021-07-08T11:52:26.212Z"
   },
   {
    "duration": 11,
    "start_time": "2021-07-08T11:52:26.226Z"
   },
   {
    "duration": 12,
    "start_time": "2021-07-08T11:52:26.238Z"
   },
   {
    "duration": 38,
    "start_time": "2021-07-08T11:52:26.252Z"
   },
   {
    "duration": 40,
    "start_time": "2021-07-08T11:52:26.292Z"
   },
   {
    "duration": 17,
    "start_time": "2021-07-08T11:52:26.336Z"
   },
   {
    "duration": 39,
    "start_time": "2021-07-08T11:52:26.355Z"
   },
   {
    "duration": 11,
    "start_time": "2021-07-08T11:52:26.395Z"
   },
   {
    "duration": 23,
    "start_time": "2021-07-08T11:52:26.408Z"
   },
   {
    "duration": 12,
    "start_time": "2021-07-08T11:52:26.432Z"
   },
   {
    "duration": 41,
    "start_time": "2021-07-08T11:52:26.446Z"
   },
   {
    "duration": 215,
    "start_time": "2021-07-08T11:52:26.493Z"
   },
   {
    "duration": 8,
    "start_time": "2021-07-08T11:52:26.710Z"
   },
   {
    "duration": 228,
    "start_time": "2021-07-08T11:52:26.720Z"
   },
   {
    "duration": 18,
    "start_time": "2021-07-08T11:52:26.950Z"
   },
   {
    "duration": 35,
    "start_time": "2021-07-08T11:52:26.969Z"
   },
   {
    "duration": 23,
    "start_time": "2021-07-08T11:52:27.006Z"
   },
   {
    "duration": 258,
    "start_time": "2021-07-08T11:52:27.030Z"
   },
   {
    "duration": 24,
    "start_time": "2021-07-08T11:52:27.290Z"
   },
   {
    "duration": 12,
    "start_time": "2021-07-08T11:52:27.316Z"
   },
   {
    "duration": 10,
    "start_time": "2021-07-08T11:52:27.329Z"
   },
   {
    "duration": 298,
    "start_time": "2021-07-08T11:52:27.341Z"
   },
   {
    "duration": 436,
    "start_time": "2021-07-08T11:52:27.641Z"
   },
   {
    "duration": 216,
    "start_time": "2021-07-08T11:52:28.079Z"
   },
   {
    "duration": 20,
    "start_time": "2021-07-08T11:52:28.297Z"
   },
   {
    "duration": 17,
    "start_time": "2021-07-08T11:52:28.319Z"
   },
   {
    "duration": 419,
    "start_time": "2023-07-05T11:44:08.680Z"
   },
   {
    "duration": 180,
    "start_time": "2023-07-05T11:44:52.281Z"
   },
   {
    "duration": 116,
    "start_time": "2023-07-05T11:44:59.155Z"
   },
   {
    "duration": 368,
    "start_time": "2023-07-05T11:46:07.861Z"
   },
   {
    "duration": 113,
    "start_time": "2023-07-05T11:46:26.228Z"
   },
   {
    "duration": 180,
    "start_time": "2023-07-05T11:48:06.422Z"
   },
   {
    "duration": 120,
    "start_time": "2023-07-05T11:48:22.163Z"
   },
   {
    "duration": 52,
    "start_time": "2023-07-05T11:48:27.326Z"
   },
   {
    "duration": 9,
    "start_time": "2023-07-05T11:52:25.112Z"
   },
   {
    "duration": 22,
    "start_time": "2023-07-05T11:52:38.663Z"
   },
   {
    "duration": 149,
    "start_time": "2023-07-05T12:06:04.635Z"
   },
   {
    "duration": 124,
    "start_time": "2023-07-05T12:06:44.517Z"
   },
   {
    "duration": 64,
    "start_time": "2023-07-05T12:07:18.432Z"
   },
   {
    "duration": 668,
    "start_time": "2023-07-05T12:12:24.781Z"
   },
   {
    "duration": 10,
    "start_time": "2023-07-05T12:13:00.619Z"
   },
   {
    "duration": 6,
    "start_time": "2023-07-05T12:13:41.120Z"
   },
   {
    "duration": 4,
    "start_time": "2023-07-05T12:14:02.283Z"
   },
   {
    "duration": 6,
    "start_time": "2023-07-05T12:14:13.281Z"
   },
   {
    "duration": 102,
    "start_time": "2023-07-05T12:16:43.519Z"
   },
   {
    "duration": 5,
    "start_time": "2023-07-05T12:16:48.155Z"
   },
   {
    "duration": 5,
    "start_time": "2023-07-05T12:20:43.367Z"
   },
   {
    "duration": 16,
    "start_time": "2023-07-05T12:22:03.506Z"
   },
   {
    "duration": 7,
    "start_time": "2023-07-05T12:22:37.251Z"
   },
   {
    "duration": 9,
    "start_time": "2023-07-05T12:22:55.137Z"
   },
   {
    "duration": 650,
    "start_time": "2023-07-05T12:22:59.937Z"
   },
   {
    "duration": 10,
    "start_time": "2023-07-05T12:29:28.071Z"
   },
   {
    "duration": 8,
    "start_time": "2023-07-05T12:29:49.604Z"
   },
   {
    "duration": 3,
    "start_time": "2023-07-05T12:29:51.872Z"
   },
   {
    "duration": 15,
    "start_time": "2023-07-05T12:31:19.290Z"
   },
   {
    "duration": 31,
    "start_time": "2023-07-05T12:31:29.236Z"
   },
   {
    "duration": 25,
    "start_time": "2023-07-05T12:33:34.073Z"
   },
   {
    "duration": 28,
    "start_time": "2023-07-05T12:33:49.283Z"
   },
   {
    "duration": 41,
    "start_time": "2023-07-05T12:34:22.756Z"
   },
   {
    "duration": 70,
    "start_time": "2023-07-05T12:35:10.738Z"
   },
   {
    "duration": 42,
    "start_time": "2023-07-05T12:35:20.337Z"
   },
   {
    "duration": 21,
    "start_time": "2023-07-05T12:45:15.507Z"
   },
   {
    "duration": 6,
    "start_time": "2023-07-05T12:52:29.020Z"
   },
   {
    "duration": 15,
    "start_time": "2023-07-05T12:55:02.101Z"
   },
   {
    "duration": 6,
    "start_time": "2023-07-05T12:55:15.246Z"
   },
   {
    "duration": 5,
    "start_time": "2023-07-05T12:57:53.709Z"
   },
   {
    "duration": 8,
    "start_time": "2023-07-05T13:01:51.627Z"
   },
   {
    "duration": 6,
    "start_time": "2023-07-05T13:02:02.028Z"
   },
   {
    "duration": 7,
    "start_time": "2023-07-05T13:02:09.825Z"
   },
   {
    "duration": 40,
    "start_time": "2023-07-05T13:03:42.236Z"
   },
   {
    "duration": 16,
    "start_time": "2023-07-05T13:03:49.225Z"
   },
   {
    "duration": 10,
    "start_time": "2023-07-05T13:03:52.019Z"
   },
   {
    "duration": 5,
    "start_time": "2023-07-05T13:03:54.081Z"
   },
   {
    "duration": 5,
    "start_time": "2023-07-05T13:04:05.664Z"
   },
   {
    "duration": 114,
    "start_time": "2023-07-05T13:04:12.262Z"
   },
   {
    "duration": 60,
    "start_time": "2023-07-05T13:04:15.494Z"
   },
   {
    "duration": 567,
    "start_time": "2023-07-05T13:04:18.643Z"
   },
   {
    "duration": 7,
    "start_time": "2023-07-05T13:04:23.826Z"
   },
   {
    "duration": 42,
    "start_time": "2023-07-05T13:04:26.196Z"
   },
   {
    "duration": 15,
    "start_time": "2023-07-05T13:04:30.812Z"
   },
   {
    "duration": 15,
    "start_time": "2023-07-05T13:04:35.997Z"
   },
   {
    "duration": 6,
    "start_time": "2023-07-05T13:04:39.220Z"
   },
   {
    "duration": 11,
    "start_time": "2023-07-05T13:19:33.347Z"
   },
   {
    "duration": 17,
    "start_time": "2023-07-05T13:19:47.054Z"
   },
   {
    "duration": 5,
    "start_time": "2023-07-05T13:19:59.389Z"
   },
   {
    "duration": 11,
    "start_time": "2023-07-05T13:20:57.995Z"
   },
   {
    "duration": 9,
    "start_time": "2023-07-05T13:21:31.327Z"
   },
   {
    "duration": 4,
    "start_time": "2023-07-05T13:21:38.996Z"
   },
   {
    "duration": 429,
    "start_time": "2023-07-09T13:52:09.187Z"
   },
   {
    "duration": 236,
    "start_time": "2023-07-09T13:52:09.618Z"
   },
   {
    "duration": 89,
    "start_time": "2023-07-09T13:52:09.855Z"
   },
   {
    "duration": 1678,
    "start_time": "2023-07-09T13:52:09.945Z"
   },
   {
    "duration": 0,
    "start_time": "2023-07-09T13:52:11.625Z"
   },
   {
    "duration": 0,
    "start_time": "2023-07-09T13:52:11.627Z"
   },
   {
    "duration": 0,
    "start_time": "2023-07-09T13:52:11.629Z"
   },
   {
    "duration": 0,
    "start_time": "2023-07-09T13:52:11.630Z"
   },
   {
    "duration": 0,
    "start_time": "2023-07-09T13:52:11.632Z"
   },
   {
    "duration": 0,
    "start_time": "2023-07-09T13:52:11.633Z"
   },
   {
    "duration": 0,
    "start_time": "2023-07-09T13:52:11.634Z"
   },
   {
    "duration": 0,
    "start_time": "2023-07-09T13:52:11.636Z"
   },
   {
    "duration": 12,
    "start_time": "2023-07-09T13:56:54.138Z"
   },
   {
    "duration": 55,
    "start_time": "2023-07-09T13:59:29.143Z"
   },
   {
    "duration": 21,
    "start_time": "2023-07-09T14:05:08.039Z"
   },
   {
    "duration": 11,
    "start_time": "2023-07-09T14:05:19.745Z"
   },
   {
    "duration": 11,
    "start_time": "2023-07-09T14:05:30.123Z"
   },
   {
    "duration": 12,
    "start_time": "2023-07-09T14:05:56.387Z"
   },
   {
    "duration": 8,
    "start_time": "2023-07-09T14:14:11.058Z"
   },
   {
    "duration": 9,
    "start_time": "2023-07-09T14:14:20.395Z"
   },
   {
    "duration": 10,
    "start_time": "2023-07-09T14:15:10.110Z"
   },
   {
    "duration": 10,
    "start_time": "2023-07-09T14:15:25.829Z"
   },
   {
    "duration": 8,
    "start_time": "2023-07-09T14:15:37.685Z"
   },
   {
    "duration": 9,
    "start_time": "2023-07-09T14:15:43.261Z"
   },
   {
    "duration": 22,
    "start_time": "2023-07-09T14:16:23.592Z"
   },
   {
    "duration": 15,
    "start_time": "2023-07-09T14:26:46.148Z"
   },
   {
    "duration": 5,
    "start_time": "2023-07-09T14:30:46.883Z"
   },
   {
    "duration": 16,
    "start_time": "2023-07-09T14:30:51.504Z"
   },
   {
    "duration": 15,
    "start_time": "2023-07-09T14:31:00.130Z"
   },
   {
    "duration": 5,
    "start_time": "2023-07-09T14:31:07.148Z"
   },
   {
    "duration": 15,
    "start_time": "2023-07-09T14:31:10.088Z"
   },
   {
    "duration": 5,
    "start_time": "2023-07-09T14:31:47.631Z"
   },
   {
    "duration": 16,
    "start_time": "2023-07-09T14:31:54.647Z"
   },
   {
    "duration": 7,
    "start_time": "2023-07-09T14:32:08.213Z"
   },
   {
    "duration": 4,
    "start_time": "2023-07-09T14:32:18.902Z"
   },
   {
    "duration": 19,
    "start_time": "2023-07-09T14:32:21.431Z"
   },
   {
    "duration": 5,
    "start_time": "2023-07-09T14:34:31.634Z"
   },
   {
    "duration": 9,
    "start_time": "2023-07-09T14:34:34.049Z"
   },
   {
    "duration": 8,
    "start_time": "2023-07-09T14:34:50.950Z"
   },
   {
    "duration": 6,
    "start_time": "2023-07-09T14:35:20.201Z"
   },
   {
    "duration": 10,
    "start_time": "2023-07-09T14:35:41.483Z"
   },
   {
    "duration": 7,
    "start_time": "2023-07-09T14:43:03.845Z"
   },
   {
    "duration": 21,
    "start_time": "2023-07-09T14:43:10.849Z"
   },
   {
    "duration": 6,
    "start_time": "2023-07-09T14:44:32.669Z"
   },
   {
    "duration": 6,
    "start_time": "2023-07-09T14:46:47.380Z"
   },
   {
    "duration": 13,
    "start_time": "2023-07-09T14:47:53.812Z"
   },
   {
    "duration": 59,
    "start_time": "2023-07-09T14:48:47.418Z"
   },
   {
    "duration": 21,
    "start_time": "2023-07-09T14:56:32.491Z"
   },
   {
    "duration": 22,
    "start_time": "2023-07-09T14:56:42.677Z"
   },
   {
    "duration": 16,
    "start_time": "2023-07-09T14:57:56.717Z"
   },
   {
    "duration": 13,
    "start_time": "2023-07-09T15:04:51.420Z"
   },
   {
    "duration": 16,
    "start_time": "2023-07-09T15:05:38.985Z"
   },
   {
    "duration": 17,
    "start_time": "2023-07-09T15:06:03.683Z"
   },
   {
    "duration": 17,
    "start_time": "2023-07-09T15:06:51.357Z"
   },
   {
    "duration": 16,
    "start_time": "2023-07-09T15:07:10.119Z"
   },
   {
    "duration": 101,
    "start_time": "2023-07-09T15:07:49.338Z"
   },
   {
    "duration": 59,
    "start_time": "2023-07-09T15:07:54.489Z"
   },
   {
    "duration": 23,
    "start_time": "2023-07-09T15:08:01.366Z"
   },
   {
    "duration": 16,
    "start_time": "2023-07-09T15:08:08.006Z"
   },
   {
    "duration": 16,
    "start_time": "2023-07-09T15:08:43.363Z"
   },
   {
    "duration": 16,
    "start_time": "2023-07-09T15:09:13.152Z"
   },
   {
    "duration": 16,
    "start_time": "2023-07-09T15:09:56.341Z"
   },
   {
    "duration": 15,
    "start_time": "2023-07-09T15:10:05.238Z"
   },
   {
    "duration": 15,
    "start_time": "2023-07-09T15:10:10.238Z"
   },
   {
    "duration": 15,
    "start_time": "2023-07-09T15:10:34.325Z"
   },
   {
    "duration": 146,
    "start_time": "2023-07-09T15:11:30.689Z"
   },
   {
    "duration": 14,
    "start_time": "2023-07-09T15:17:15.643Z"
   },
   {
    "duration": 13,
    "start_time": "2023-07-09T15:18:16.592Z"
   },
   {
    "duration": 5,
    "start_time": "2023-07-09T15:18:19.105Z"
   },
   {
    "duration": 4,
    "start_time": "2023-07-09T15:18:23.372Z"
   },
   {
    "duration": 538,
    "start_time": "2023-07-09T15:18:25.206Z"
   },
   {
    "duration": 4,
    "start_time": "2023-07-09T15:18:31.342Z"
   },
   {
    "duration": 399,
    "start_time": "2023-07-09T15:18:37.506Z"
   },
   {
    "duration": 113,
    "start_time": "2023-07-09T15:18:37.907Z"
   },
   {
    "duration": 53,
    "start_time": "2023-07-09T15:18:38.022Z"
   },
   {
    "duration": 576,
    "start_time": "2023-07-09T15:18:38.077Z"
   },
   {
    "duration": 0,
    "start_time": "2023-07-09T15:18:38.655Z"
   },
   {
    "duration": 0,
    "start_time": "2023-07-09T15:18:38.657Z"
   },
   {
    "duration": 0,
    "start_time": "2023-07-09T15:18:38.658Z"
   },
   {
    "duration": 0,
    "start_time": "2023-07-09T15:18:38.660Z"
   },
   {
    "duration": 0,
    "start_time": "2023-07-09T15:18:38.661Z"
   },
   {
    "duration": 0,
    "start_time": "2023-07-09T15:18:38.662Z"
   },
   {
    "duration": 0,
    "start_time": "2023-07-09T15:18:38.663Z"
   },
   {
    "duration": 0,
    "start_time": "2023-07-09T15:18:38.664Z"
   },
   {
    "duration": 0,
    "start_time": "2023-07-09T15:18:38.665Z"
   },
   {
    "duration": 0,
    "start_time": "2023-07-09T15:18:38.666Z"
   },
   {
    "duration": 0,
    "start_time": "2023-07-09T15:18:38.667Z"
   },
   {
    "duration": 0,
    "start_time": "2023-07-09T15:18:38.668Z"
   },
   {
    "duration": 0,
    "start_time": "2023-07-09T15:18:38.669Z"
   },
   {
    "duration": 0,
    "start_time": "2023-07-09T15:18:38.670Z"
   },
   {
    "duration": 0,
    "start_time": "2023-07-09T15:18:38.671Z"
   },
   {
    "duration": 0,
    "start_time": "2023-07-09T15:18:38.672Z"
   },
   {
    "duration": 0,
    "start_time": "2023-07-09T15:18:38.673Z"
   },
   {
    "duration": 0,
    "start_time": "2023-07-09T15:18:38.674Z"
   },
   {
    "duration": 0,
    "start_time": "2023-07-09T15:18:38.675Z"
   },
   {
    "duration": 1,
    "start_time": "2023-07-09T15:18:38.676Z"
   },
   {
    "duration": 0,
    "start_time": "2023-07-09T15:18:38.677Z"
   },
   {
    "duration": 14,
    "start_time": "2023-07-09T15:18:52.286Z"
   },
   {
    "duration": 5,
    "start_time": "2023-07-09T15:18:57.573Z"
   },
   {
    "duration": 5,
    "start_time": "2023-07-09T15:19:03.455Z"
   },
   {
    "duration": 559,
    "start_time": "2023-07-09T15:19:06.489Z"
   },
   {
    "duration": 11,
    "start_time": "2023-07-09T15:19:20.941Z"
   },
   {
    "duration": 13,
    "start_time": "2023-07-09T15:19:22.375Z"
   },
   {
    "duration": 13,
    "start_time": "2023-07-09T15:19:25.925Z"
   },
   {
    "duration": 9,
    "start_time": "2023-07-09T15:19:28.248Z"
   },
   {
    "duration": 21,
    "start_time": "2023-07-09T15:19:35.439Z"
   },
   {
    "duration": 16,
    "start_time": "2023-07-09T15:19:39.405Z"
   },
   {
    "duration": 5,
    "start_time": "2023-07-09T15:19:42.206Z"
   },
   {
    "duration": 24,
    "start_time": "2023-07-09T15:19:45.605Z"
   },
   {
    "duration": 14,
    "start_time": "2023-07-09T15:19:48.155Z"
   },
   {
    "duration": 26,
    "start_time": "2023-07-09T15:19:51.240Z"
   },
   {
    "duration": 16,
    "start_time": "2023-07-09T15:19:54.557Z"
   },
   {
    "duration": 16,
    "start_time": "2023-07-09T15:19:57.354Z"
   },
   {
    "duration": 16,
    "start_time": "2023-07-09T15:20:01.589Z"
   },
   {
    "duration": 15,
    "start_time": "2023-07-09T15:20:04.103Z"
   },
   {
    "duration": 21,
    "start_time": "2023-07-09T15:20:06.119Z"
   },
   {
    "duration": 5,
    "start_time": "2023-07-09T15:34:00.798Z"
   },
   {
    "duration": 85,
    "start_time": "2023-07-09T15:34:58.283Z"
   },
   {
    "duration": 8,
    "start_time": "2023-07-09T15:35:16.309Z"
   },
   {
    "duration": 8,
    "start_time": "2023-07-09T15:35:21.683Z"
   },
   {
    "duration": 4,
    "start_time": "2023-07-09T15:35:34.276Z"
   },
   {
    "duration": 7,
    "start_time": "2023-07-09T15:36:03.596Z"
   },
   {
    "duration": 5,
    "start_time": "2023-07-09T15:36:06.496Z"
   },
   {
    "duration": 6,
    "start_time": "2023-07-09T15:36:16.274Z"
   },
   {
    "duration": 358,
    "start_time": "2023-07-09T15:37:12.154Z"
   },
   {
    "duration": 117,
    "start_time": "2023-07-09T15:37:12.514Z"
   },
   {
    "duration": 52,
    "start_time": "2023-07-09T15:37:12.632Z"
   },
   {
    "duration": 505,
    "start_time": "2023-07-09T15:37:12.686Z"
   },
   {
    "duration": 0,
    "start_time": "2023-07-09T15:37:13.194Z"
   },
   {
    "duration": 0,
    "start_time": "2023-07-09T15:37:13.195Z"
   },
   {
    "duration": 0,
    "start_time": "2023-07-09T15:37:13.197Z"
   },
   {
    "duration": 0,
    "start_time": "2023-07-09T15:37:13.199Z"
   },
   {
    "duration": 0,
    "start_time": "2023-07-09T15:37:13.199Z"
   },
   {
    "duration": 0,
    "start_time": "2023-07-09T15:37:13.200Z"
   },
   {
    "duration": 0,
    "start_time": "2023-07-09T15:37:13.202Z"
   },
   {
    "duration": 0,
    "start_time": "2023-07-09T15:37:13.202Z"
   },
   {
    "duration": 0,
    "start_time": "2023-07-09T15:37:13.204Z"
   },
   {
    "duration": 0,
    "start_time": "2023-07-09T15:37:13.205Z"
   },
   {
    "duration": 0,
    "start_time": "2023-07-09T15:37:13.206Z"
   },
   {
    "duration": 0,
    "start_time": "2023-07-09T15:37:13.207Z"
   },
   {
    "duration": 0,
    "start_time": "2023-07-09T15:37:13.208Z"
   },
   {
    "duration": 0,
    "start_time": "2023-07-09T15:37:13.209Z"
   },
   {
    "duration": 0,
    "start_time": "2023-07-09T15:37:13.210Z"
   },
   {
    "duration": 0,
    "start_time": "2023-07-09T15:37:13.211Z"
   },
   {
    "duration": 0,
    "start_time": "2023-07-09T15:37:13.213Z"
   },
   {
    "duration": 0,
    "start_time": "2023-07-09T15:37:13.214Z"
   },
   {
    "duration": 0,
    "start_time": "2023-07-09T15:37:13.215Z"
   },
   {
    "duration": 0,
    "start_time": "2023-07-09T15:37:13.216Z"
   },
   {
    "duration": 0,
    "start_time": "2023-07-09T15:37:13.217Z"
   },
   {
    "duration": 0,
    "start_time": "2023-07-09T15:37:13.219Z"
   },
   {
    "duration": 0,
    "start_time": "2023-07-09T15:37:13.221Z"
   },
   {
    "duration": 17,
    "start_time": "2023-07-09T15:39:10.050Z"
   },
   {
    "duration": 15,
    "start_time": "2023-07-09T15:39:12.646Z"
   },
   {
    "duration": 5,
    "start_time": "2023-07-09T15:39:15.415Z"
   },
   {
    "duration": 12,
    "start_time": "2023-07-09T15:39:17.587Z"
   },
   {
    "duration": 14,
    "start_time": "2023-07-09T15:39:19.267Z"
   },
   {
    "duration": 4,
    "start_time": "2023-07-09T15:39:21.563Z"
   },
   {
    "duration": 13,
    "start_time": "2023-07-09T15:39:30.642Z"
   },
   {
    "duration": 12,
    "start_time": "2023-07-09T15:39:32.861Z"
   },
   {
    "duration": 28,
    "start_time": "2023-07-09T15:39:36.358Z"
   },
   {
    "duration": 18,
    "start_time": "2023-07-09T15:39:39.829Z"
   },
   {
    "duration": 5,
    "start_time": "2023-07-09T15:39:41.897Z"
   },
   {
    "duration": 21,
    "start_time": "2023-07-09T15:39:47.696Z"
   },
   {
    "duration": 15,
    "start_time": "2023-07-09T15:39:49.886Z"
   },
   {
    "duration": 28,
    "start_time": "2023-07-09T15:39:52.598Z"
   },
   {
    "duration": 18,
    "start_time": "2023-07-09T15:39:55.812Z"
   },
   {
    "duration": 18,
    "start_time": "2023-07-09T15:39:58.358Z"
   },
   {
    "duration": 22,
    "start_time": "2023-07-09T15:40:00.896Z"
   },
   {
    "duration": 18,
    "start_time": "2023-07-09T15:40:02.789Z"
   },
   {
    "duration": 16,
    "start_time": "2023-07-09T15:40:04.790Z"
   },
   {
    "duration": 5,
    "start_time": "2023-07-09T15:40:21.159Z"
   },
   {
    "duration": 6,
    "start_time": "2023-07-09T15:40:28.130Z"
   },
   {
    "duration": 10,
    "start_time": "2023-07-09T15:40:42.821Z"
   },
   {
    "duration": 12,
    "start_time": "2023-07-09T15:40:55.128Z"
   },
   {
    "duration": 8,
    "start_time": "2023-07-09T15:41:02.065Z"
   },
   {
    "duration": 7,
    "start_time": "2023-07-09T15:41:13.948Z"
   },
   {
    "duration": 51,
    "start_time": "2023-07-09T15:42:07.461Z"
   },
   {
    "duration": 4,
    "start_time": "2023-07-09T15:42:26.314Z"
   },
   {
    "duration": 8,
    "start_time": "2023-07-09T15:44:42.046Z"
   },
   {
    "duration": 7,
    "start_time": "2023-07-09T15:44:51.696Z"
   },
   {
    "duration": 24,
    "start_time": "2023-07-09T16:02:54.054Z"
   },
   {
    "duration": 8,
    "start_time": "2023-07-09T16:07:46.769Z"
   },
   {
    "duration": 9,
    "start_time": "2023-07-09T16:08:02.200Z"
   },
   {
    "duration": 201,
    "start_time": "2023-07-09T16:08:06.535Z"
   },
   {
    "duration": 7,
    "start_time": "2023-07-09T16:08:10.278Z"
   },
   {
    "duration": 8,
    "start_time": "2023-07-09T16:09:07.305Z"
   },
   {
    "duration": 3,
    "start_time": "2023-07-09T16:09:09.437Z"
   },
   {
    "duration": 175,
    "start_time": "2023-07-09T16:09:11.215Z"
   },
   {
    "duration": 11,
    "start_time": "2023-07-09T16:09:25.820Z"
   },
   {
    "duration": 7,
    "start_time": "2023-07-09T16:09:35.659Z"
   },
   {
    "duration": 10,
    "start_time": "2023-07-09T16:09:48.656Z"
   },
   {
    "duration": 7,
    "start_time": "2023-07-09T16:09:59.037Z"
   },
   {
    "duration": 5,
    "start_time": "2023-07-09T16:16:03.225Z"
   },
   {
    "duration": 19,
    "start_time": "2023-07-09T16:16:20.254Z"
   },
   {
    "duration": 19,
    "start_time": "2023-07-09T16:25:11.566Z"
   },
   {
    "duration": 27,
    "start_time": "2023-07-09T16:25:11.663Z"
   },
   {
    "duration": 2738,
    "start_time": "2023-07-09T16:38:15.003Z"
   },
   {
    "duration": 4,
    "start_time": "2023-07-09T16:38:38.832Z"
   },
   {
    "duration": 8,
    "start_time": "2023-07-09T16:38:57.764Z"
   },
   {
    "duration": 418,
    "start_time": "2023-07-09T16:43:13.207Z"
   },
   {
    "duration": 126,
    "start_time": "2023-07-09T16:43:13.627Z"
   },
   {
    "duration": 53,
    "start_time": "2023-07-09T16:43:13.755Z"
   },
   {
    "duration": 538,
    "start_time": "2023-07-09T16:43:13.810Z"
   },
   {
    "duration": 0,
    "start_time": "2023-07-09T16:43:14.352Z"
   },
   {
    "duration": 0,
    "start_time": "2023-07-09T16:43:14.353Z"
   },
   {
    "duration": 0,
    "start_time": "2023-07-09T16:43:14.354Z"
   },
   {
    "duration": 0,
    "start_time": "2023-07-09T16:43:14.355Z"
   },
   {
    "duration": 0,
    "start_time": "2023-07-09T16:43:14.356Z"
   },
   {
    "duration": 0,
    "start_time": "2023-07-09T16:43:14.358Z"
   },
   {
    "duration": 0,
    "start_time": "2023-07-09T16:43:14.359Z"
   },
   {
    "duration": 0,
    "start_time": "2023-07-09T16:43:14.360Z"
   },
   {
    "duration": 0,
    "start_time": "2023-07-09T16:43:14.361Z"
   },
   {
    "duration": 0,
    "start_time": "2023-07-09T16:43:14.362Z"
   },
   {
    "duration": 0,
    "start_time": "2023-07-09T16:43:14.362Z"
   },
   {
    "duration": 0,
    "start_time": "2023-07-09T16:43:14.363Z"
   },
   {
    "duration": 0,
    "start_time": "2023-07-09T16:43:14.364Z"
   },
   {
    "duration": 0,
    "start_time": "2023-07-09T16:43:14.365Z"
   },
   {
    "duration": 0,
    "start_time": "2023-07-09T16:43:14.366Z"
   },
   {
    "duration": 0,
    "start_time": "2023-07-09T16:43:14.367Z"
   },
   {
    "duration": 0,
    "start_time": "2023-07-09T16:43:14.368Z"
   },
   {
    "duration": 0,
    "start_time": "2023-07-09T16:43:14.369Z"
   },
   {
    "duration": 0,
    "start_time": "2023-07-09T16:43:14.370Z"
   },
   {
    "duration": 0,
    "start_time": "2023-07-09T16:43:14.371Z"
   },
   {
    "duration": 0,
    "start_time": "2023-07-09T16:43:14.372Z"
   },
   {
    "duration": 0,
    "start_time": "2023-07-09T16:43:14.373Z"
   },
   {
    "duration": 0,
    "start_time": "2023-07-09T16:43:14.374Z"
   },
   {
    "duration": 0,
    "start_time": "2023-07-09T16:43:14.375Z"
   },
   {
    "duration": 0,
    "start_time": "2023-07-09T16:43:14.376Z"
   },
   {
    "duration": 0,
    "start_time": "2023-07-09T16:43:14.377Z"
   },
   {
    "duration": 0,
    "start_time": "2023-07-09T16:43:14.378Z"
   },
   {
    "duration": 0,
    "start_time": "2023-07-09T16:43:14.379Z"
   },
   {
    "duration": 0,
    "start_time": "2023-07-09T16:43:14.380Z"
   },
   {
    "duration": 0,
    "start_time": "2023-07-09T16:43:14.381Z"
   },
   {
    "duration": 0,
    "start_time": "2023-07-09T16:43:14.382Z"
   },
   {
    "duration": 0,
    "start_time": "2023-07-09T16:43:14.383Z"
   },
   {
    "duration": 0,
    "start_time": "2023-07-09T16:43:14.383Z"
   },
   {
    "duration": 0,
    "start_time": "2023-07-09T16:43:14.384Z"
   },
   {
    "duration": 0,
    "start_time": "2023-07-09T16:43:14.385Z"
   },
   {
    "duration": 3,
    "start_time": "2023-07-09T16:43:21.565Z"
   },
   {
    "duration": 122,
    "start_time": "2023-07-09T16:43:23.851Z"
   },
   {
    "duration": 65,
    "start_time": "2023-07-09T16:43:27.128Z"
   },
   {
    "duration": 992,
    "start_time": "2023-07-09T16:43:30.180Z"
   },
   {
    "duration": 8,
    "start_time": "2023-07-09T16:43:34.330Z"
   },
   {
    "duration": 41,
    "start_time": "2023-07-09T16:43:35.947Z"
   },
   {
    "duration": 20,
    "start_time": "2023-07-09T16:43:50.431Z"
   },
   {
    "duration": 15,
    "start_time": "2023-07-09T16:43:56.977Z"
   },
   {
    "duration": 5,
    "start_time": "2023-07-09T16:44:03.204Z"
   },
   {
    "duration": 11,
    "start_time": "2023-07-09T16:44:05.664Z"
   },
   {
    "duration": 12,
    "start_time": "2023-07-09T16:44:07.835Z"
   },
   {
    "duration": 4,
    "start_time": "2023-07-09T16:44:09.827Z"
   },
   {
    "duration": 13,
    "start_time": "2023-07-09T16:44:12.172Z"
   },
   {
    "duration": 11,
    "start_time": "2023-07-09T16:44:17.849Z"
   },
   {
    "duration": 19,
    "start_time": "2023-07-09T16:44:35.902Z"
   },
   {
    "duration": 14,
    "start_time": "2023-07-09T16:44:39.395Z"
   },
   {
    "duration": 32,
    "start_time": "2023-07-09T16:44:43.244Z"
   },
   {
    "duration": 18,
    "start_time": "2023-07-09T16:44:46.515Z"
   },
   {
    "duration": 17,
    "start_time": "2023-07-09T16:44:48.930Z"
   },
   {
    "duration": 18,
    "start_time": "2023-07-09T16:44:50.781Z"
   },
   {
    "duration": 18,
    "start_time": "2023-07-09T16:44:52.882Z"
   },
   {
    "duration": 17,
    "start_time": "2023-07-09T16:44:54.981Z"
   },
   {
    "duration": 4,
    "start_time": "2023-07-09T16:45:03.280Z"
   },
   {
    "duration": 6,
    "start_time": "2023-07-09T16:45:06.647Z"
   },
   {
    "duration": 6,
    "start_time": "2023-07-09T16:45:09.247Z"
   },
   {
    "duration": 5,
    "start_time": "2023-07-09T16:45:11.649Z"
   },
   {
    "duration": 8,
    "start_time": "2023-07-09T16:45:14.314Z"
   },
   {
    "duration": 27,
    "start_time": "2023-07-09T16:45:23.450Z"
   },
   {
    "duration": 3,
    "start_time": "2023-07-09T16:45:31.264Z"
   },
   {
    "duration": 171,
    "start_time": "2023-07-09T16:45:35.134Z"
   },
   {
    "duration": 6,
    "start_time": "2023-07-09T16:45:37.230Z"
   },
   {
    "duration": 26,
    "start_time": "2023-07-09T16:45:40.378Z"
   },
   {
    "duration": 27,
    "start_time": "2023-07-09T16:45:45.451Z"
   },
   {
    "duration": 18,
    "start_time": "2023-07-09T16:45:47.946Z"
   },
   {
    "duration": 5,
    "start_time": "2023-07-09T16:45:54.732Z"
   },
   {
    "duration": 9,
    "start_time": "2023-07-09T16:45:56.667Z"
   },
   {
    "duration": 11,
    "start_time": "2023-07-09T16:52:38.453Z"
   },
   {
    "duration": 6,
    "start_time": "2023-07-09T16:52:54.746Z"
   },
   {
    "duration": 358,
    "start_time": "2023-07-09T16:55:18.354Z"
   },
   {
    "duration": 2,
    "start_time": "2023-07-09T16:55:21.158Z"
   },
   {
    "duration": 19,
    "start_time": "2023-07-09T16:56:05.702Z"
   },
   {
    "duration": 313,
    "start_time": "2023-07-09T16:56:11.352Z"
   },
   {
    "duration": 177,
    "start_time": "2023-07-09T16:59:06.551Z"
   },
   {
    "duration": 142,
    "start_time": "2023-07-09T17:01:43.793Z"
   },
   {
    "duration": 9,
    "start_time": "2023-07-09T17:02:02.503Z"
   },
   {
    "duration": 7,
    "start_time": "2023-07-09T17:03:00.335Z"
   },
   {
    "duration": 8,
    "start_time": "2023-07-09T17:19:31.692Z"
   },
   {
    "duration": 14,
    "start_time": "2023-07-09T17:20:22.766Z"
   },
   {
    "duration": 13,
    "start_time": "2023-07-09T17:24:21.208Z"
   },
   {
    "duration": 9,
    "start_time": "2023-07-09T17:25:29.335Z"
   },
   {
    "duration": 8,
    "start_time": "2023-07-09T17:27:33.218Z"
   },
   {
    "duration": 60,
    "start_time": "2023-07-10T16:13:21.803Z"
   },
   {
    "duration": 902,
    "start_time": "2023-07-10T16:13:35.055Z"
   },
   {
    "duration": 258,
    "start_time": "2023-07-10T16:13:37.409Z"
   },
   {
    "duration": 155,
    "start_time": "2023-07-10T16:13:41.749Z"
   },
   {
    "duration": 1262,
    "start_time": "2023-07-10T16:13:44.683Z"
   },
   {
    "duration": 10,
    "start_time": "2023-07-10T16:13:48.967Z"
   },
   {
    "duration": 46,
    "start_time": "2023-07-10T16:13:52.459Z"
   },
   {
    "duration": 17,
    "start_time": "2023-07-10T16:14:01.201Z"
   },
   {
    "duration": 22,
    "start_time": "2023-07-10T16:14:05.749Z"
   },
   {
    "duration": 137,
    "start_time": "2023-07-10T16:14:05.774Z"
   },
   {
    "duration": 13,
    "start_time": "2023-07-10T16:14:08.498Z"
   },
   {
    "duration": 14,
    "start_time": "2023-07-10T16:14:09.981Z"
   },
   {
    "duration": 5,
    "start_time": "2023-07-10T16:14:11.980Z"
   },
   {
    "duration": 15,
    "start_time": "2023-07-10T16:14:14.367Z"
   },
   {
    "duration": 14,
    "start_time": "2023-07-10T16:14:18.081Z"
   },
   {
    "duration": 29,
    "start_time": "2023-07-10T16:14:21.929Z"
   },
   {
    "duration": 27,
    "start_time": "2023-07-10T16:14:25.790Z"
   },
   {
    "duration": 5,
    "start_time": "2023-07-10T16:14:28.349Z"
   },
   {
    "duration": 23,
    "start_time": "2023-07-10T16:14:32.250Z"
   },
   {
    "duration": 20,
    "start_time": "2023-07-10T16:14:34.416Z"
   },
   {
    "duration": 35,
    "start_time": "2023-07-10T16:14:37.749Z"
   },
   {
    "duration": 28,
    "start_time": "2023-07-10T16:14:40.284Z"
   },
   {
    "duration": 20,
    "start_time": "2023-07-10T16:14:42.366Z"
   },
   {
    "duration": 27,
    "start_time": "2023-07-10T16:14:44.119Z"
   },
   {
    "duration": 18,
    "start_time": "2023-07-10T16:14:45.317Z"
   },
   {
    "duration": 19,
    "start_time": "2023-07-10T16:14:47.158Z"
   },
   {
    "duration": 6,
    "start_time": "2023-07-10T16:14:50.436Z"
   },
   {
    "duration": 7,
    "start_time": "2023-07-10T16:14:55.279Z"
   },
   {
    "duration": 8,
    "start_time": "2023-07-10T16:14:56.640Z"
   },
   {
    "duration": 6,
    "start_time": "2023-07-10T16:14:59.114Z"
   },
   {
    "duration": 8,
    "start_time": "2023-07-10T16:15:01.736Z"
   },
   {
    "duration": 30,
    "start_time": "2023-07-10T16:15:06.735Z"
   },
   {
    "duration": 4,
    "start_time": "2023-07-10T16:15:10.382Z"
   },
   {
    "duration": 143,
    "start_time": "2023-07-10T16:15:12.015Z"
   },
   {
    "duration": 7,
    "start_time": "2023-07-10T16:15:14.151Z"
   },
   {
    "duration": 23,
    "start_time": "2023-07-10T16:15:49.354Z"
   },
   {
    "duration": 31,
    "start_time": "2023-07-10T16:15:52.051Z"
   },
   {
    "duration": 6,
    "start_time": "2023-07-10T16:15:55.432Z"
   },
   {
    "duration": 11,
    "start_time": "2023-07-10T16:15:58.904Z"
   },
   {
    "duration": 10,
    "start_time": "2023-07-10T16:16:33.234Z"
   },
   {
    "duration": 209,
    "start_time": "2023-07-10T16:16:35.688Z"
   },
   {
    "duration": 12,
    "start_time": "2023-07-10T16:16:38.590Z"
   },
   {
    "duration": 10,
    "start_time": "2023-07-10T16:16:40.951Z"
   },
   {
    "duration": 16,
    "start_time": "2023-07-10T16:16:53.070Z"
   },
   {
    "duration": 17,
    "start_time": "2023-07-10T16:19:17.785Z"
   },
   {
    "duration": 214,
    "start_time": "2023-07-10T16:19:33.000Z"
   },
   {
    "duration": 314,
    "start_time": "2023-07-10T16:20:09.400Z"
   },
   {
    "duration": 10,
    "start_time": "2023-07-10T16:20:26.455Z"
   },
   {
    "duration": 15,
    "start_time": "2023-07-10T16:20:35.133Z"
   },
   {
    "duration": 18,
    "start_time": "2023-07-10T16:21:29.835Z"
   },
   {
    "duration": 151,
    "start_time": "2023-07-10T16:23:12.325Z"
   },
   {
    "duration": 159,
    "start_time": "2023-07-10T16:24:21.850Z"
   },
   {
    "duration": 165,
    "start_time": "2023-07-10T16:24:35.770Z"
   },
   {
    "duration": 140,
    "start_time": "2023-07-10T16:24:53.250Z"
   },
   {
    "duration": 139,
    "start_time": "2023-07-10T16:26:26.634Z"
   },
   {
    "duration": 145,
    "start_time": "2023-07-10T16:27:08.685Z"
   },
   {
    "duration": 86,
    "start_time": "2023-07-10T16:34:14.068Z"
   },
   {
    "duration": 30,
    "start_time": "2023-07-10T16:34:29.319Z"
   },
   {
    "duration": 22,
    "start_time": "2023-07-10T16:34:48.662Z"
   },
   {
    "duration": 205,
    "start_time": "2023-07-10T16:36:54.368Z"
   },
   {
    "duration": 205,
    "start_time": "2023-07-10T16:37:25.267Z"
   },
   {
    "duration": 17,
    "start_time": "2023-07-10T16:53:22.038Z"
   },
   {
    "duration": 169,
    "start_time": "2023-07-10T16:55:05.472Z"
   },
   {
    "duration": 35,
    "start_time": "2023-07-10T16:55:52.507Z"
   },
   {
    "duration": 26,
    "start_time": "2023-07-10T16:56:11.038Z"
   },
   {
    "duration": 24,
    "start_time": "2023-07-10T17:03:11.306Z"
   },
   {
    "duration": 279,
    "start_time": "2023-07-10T17:05:55.738Z"
   },
   {
    "duration": 8,
    "start_time": "2023-07-10T17:07:49.546Z"
   },
   {
    "duration": 13,
    "start_time": "2023-07-10T17:08:02.023Z"
   },
   {
    "duration": 28,
    "start_time": "2023-07-10T17:08:36.858Z"
   },
   {
    "duration": 379,
    "start_time": "2023-07-10T17:09:33.049Z"
   },
   {
    "duration": 381,
    "start_time": "2023-07-10T17:12:04.876Z"
   },
   {
    "duration": 323,
    "start_time": "2023-07-10T17:12:38.424Z"
   },
   {
    "duration": 198,
    "start_time": "2023-07-10T17:12:48.583Z"
   },
   {
    "duration": 362,
    "start_time": "2023-07-10T17:12:55.808Z"
   },
   {
    "duration": 1040,
    "start_time": "2023-07-10T17:13:48.660Z"
   },
   {
    "duration": 496,
    "start_time": "2023-07-10T17:14:36.191Z"
   },
   {
    "duration": 14,
    "start_time": "2023-07-10T17:16:06.961Z"
   },
   {
    "duration": 9,
    "start_time": "2023-07-10T17:16:26.410Z"
   },
   {
    "duration": 9,
    "start_time": "2023-07-10T17:16:30.159Z"
   },
   {
    "duration": 13,
    "start_time": "2023-07-10T17:16:38.825Z"
   },
   {
    "duration": 650,
    "start_time": "2023-07-10T17:17:32.200Z"
   },
   {
    "duration": 603,
    "start_time": "2023-07-10T17:17:43.195Z"
   },
   {
    "duration": 564,
    "start_time": "2023-07-10T17:17:57.723Z"
   },
   {
    "duration": 586,
    "start_time": "2023-07-10T17:18:58.690Z"
   },
   {
    "duration": 54,
    "start_time": "2023-07-16T10:51:25.249Z"
   },
   {
    "duration": 1444,
    "start_time": "2023-07-16T10:51:37.759Z"
   },
   {
    "duration": 295,
    "start_time": "2023-07-16T10:51:39.206Z"
   },
   {
    "duration": 102,
    "start_time": "2023-07-16T10:51:39.503Z"
   },
   {
    "duration": 755,
    "start_time": "2023-07-16T10:51:39.607Z"
   },
   {
    "duration": 0,
    "start_time": "2023-07-16T10:51:40.366Z"
   },
   {
    "duration": 0,
    "start_time": "2023-07-16T10:51:40.367Z"
   },
   {
    "duration": 0,
    "start_time": "2023-07-16T10:51:40.368Z"
   },
   {
    "duration": 0,
    "start_time": "2023-07-16T10:51:40.369Z"
   },
   {
    "duration": 0,
    "start_time": "2023-07-16T10:51:40.371Z"
   },
   {
    "duration": 0,
    "start_time": "2023-07-16T10:51:40.372Z"
   },
   {
    "duration": 0,
    "start_time": "2023-07-16T10:51:40.374Z"
   },
   {
    "duration": 0,
    "start_time": "2023-07-16T10:51:40.374Z"
   },
   {
    "duration": 0,
    "start_time": "2023-07-16T10:51:40.376Z"
   },
   {
    "duration": 0,
    "start_time": "2023-07-16T10:51:40.377Z"
   },
   {
    "duration": 0,
    "start_time": "2023-07-16T10:51:40.378Z"
   },
   {
    "duration": 0,
    "start_time": "2023-07-16T10:51:40.379Z"
   },
   {
    "duration": 0,
    "start_time": "2023-07-16T10:51:40.380Z"
   },
   {
    "duration": 0,
    "start_time": "2023-07-16T10:51:40.381Z"
   },
   {
    "duration": 0,
    "start_time": "2023-07-16T10:51:40.382Z"
   },
   {
    "duration": 0,
    "start_time": "2023-07-16T10:51:40.383Z"
   },
   {
    "duration": 0,
    "start_time": "2023-07-16T10:51:40.384Z"
   },
   {
    "duration": 0,
    "start_time": "2023-07-16T10:51:40.385Z"
   },
   {
    "duration": 0,
    "start_time": "2023-07-16T10:51:40.386Z"
   },
   {
    "duration": 0,
    "start_time": "2023-07-16T10:51:40.387Z"
   },
   {
    "duration": 0,
    "start_time": "2023-07-16T10:51:40.388Z"
   },
   {
    "duration": 0,
    "start_time": "2023-07-16T10:51:40.390Z"
   },
   {
    "duration": 0,
    "start_time": "2023-07-16T10:51:40.391Z"
   },
   {
    "duration": 0,
    "start_time": "2023-07-16T10:51:40.392Z"
   },
   {
    "duration": 0,
    "start_time": "2023-07-16T10:51:40.394Z"
   },
   {
    "duration": 0,
    "start_time": "2023-07-16T10:51:40.395Z"
   },
   {
    "duration": 0,
    "start_time": "2023-07-16T10:51:40.397Z"
   },
   {
    "duration": 0,
    "start_time": "2023-07-16T10:51:40.399Z"
   },
   {
    "duration": 0,
    "start_time": "2023-07-16T10:51:40.401Z"
   },
   {
    "duration": 0,
    "start_time": "2023-07-16T10:51:40.402Z"
   },
   {
    "duration": 0,
    "start_time": "2023-07-16T10:51:40.403Z"
   },
   {
    "duration": 0,
    "start_time": "2023-07-16T10:51:40.460Z"
   },
   {
    "duration": 0,
    "start_time": "2023-07-16T10:51:40.461Z"
   },
   {
    "duration": 0,
    "start_time": "2023-07-16T10:51:40.462Z"
   },
   {
    "duration": 0,
    "start_time": "2023-07-16T10:51:40.463Z"
   },
   {
    "duration": 0,
    "start_time": "2023-07-16T10:51:40.464Z"
   },
   {
    "duration": 0,
    "start_time": "2023-07-16T10:51:40.466Z"
   },
   {
    "duration": 0,
    "start_time": "2023-07-16T10:51:40.467Z"
   },
   {
    "duration": 0,
    "start_time": "2023-07-16T10:51:40.468Z"
   },
   {
    "duration": 0,
    "start_time": "2023-07-16T10:51:40.470Z"
   },
   {
    "duration": 0,
    "start_time": "2023-07-16T10:51:40.471Z"
   },
   {
    "duration": 0,
    "start_time": "2023-07-16T10:51:40.472Z"
   },
   {
    "duration": 0,
    "start_time": "2023-07-16T10:51:40.473Z"
   },
   {
    "duration": 0,
    "start_time": "2023-07-16T10:51:40.474Z"
   },
   {
    "duration": 0,
    "start_time": "2023-07-16T10:51:40.475Z"
   },
   {
    "duration": 0,
    "start_time": "2023-07-16T10:51:40.476Z"
   },
   {
    "duration": 11,
    "start_time": "2023-07-16T10:53:16.221Z"
   },
   {
    "duration": 43,
    "start_time": "2023-07-16T10:53:18.403Z"
   },
   {
    "duration": 21,
    "start_time": "2023-07-16T10:53:21.753Z"
   },
   {
    "duration": 21,
    "start_time": "2023-07-16T10:53:24.346Z"
   },
   {
    "duration": 6,
    "start_time": "2023-07-16T10:53:26.769Z"
   },
   {
    "duration": 12,
    "start_time": "2023-07-16T10:53:30.350Z"
   },
   {
    "duration": 12,
    "start_time": "2023-07-16T10:53:31.013Z"
   },
   {
    "duration": 6,
    "start_time": "2023-07-16T10:53:31.904Z"
   },
   {
    "duration": 16,
    "start_time": "2023-07-16T10:53:34.816Z"
   },
   {
    "duration": 14,
    "start_time": "2023-07-16T10:53:37.110Z"
   },
   {
    "duration": 38,
    "start_time": "2023-07-16T10:53:41.824Z"
   },
   {
    "duration": 19,
    "start_time": "2023-07-16T10:53:45.459Z"
   },
   {
    "duration": 5,
    "start_time": "2023-07-16T10:53:47.949Z"
   },
   {
    "duration": 21,
    "start_time": "2023-07-16T10:53:51.519Z"
   },
   {
    "duration": 14,
    "start_time": "2023-07-16T10:53:53.800Z"
   },
   {
    "duration": 42,
    "start_time": "2023-07-16T10:53:56.403Z"
   },
   {
    "duration": 20,
    "start_time": "2023-07-16T10:53:59.750Z"
   },
   {
    "duration": 19,
    "start_time": "2023-07-16T10:54:02.992Z"
   },
   {
    "duration": 21,
    "start_time": "2023-07-16T10:54:05.305Z"
   },
   {
    "duration": 19,
    "start_time": "2023-07-16T10:54:07.472Z"
   },
   {
    "duration": 29,
    "start_time": "2023-07-16T10:54:09.762Z"
   },
   {
    "duration": 7,
    "start_time": "2023-07-16T10:54:12.699Z"
   },
   {
    "duration": 6,
    "start_time": "2023-07-16T10:54:14.746Z"
   },
   {
    "duration": 10,
    "start_time": "2023-07-16T10:54:16.496Z"
   },
   {
    "duration": 7,
    "start_time": "2023-07-16T10:54:18.607Z"
   },
   {
    "duration": 9,
    "start_time": "2023-07-16T10:54:21.057Z"
   },
   {
    "duration": 28,
    "start_time": "2023-07-16T10:54:26.349Z"
   },
   {
    "duration": 4,
    "start_time": "2023-07-16T10:54:29.653Z"
   },
   {
    "duration": 153,
    "start_time": "2023-07-16T10:54:31.566Z"
   },
   {
    "duration": 7,
    "start_time": "2023-07-16T10:54:33.408Z"
   },
   {
    "duration": 32,
    "start_time": "2023-07-16T10:54:35.466Z"
   },
   {
    "duration": 32,
    "start_time": "2023-07-16T10:54:38.458Z"
   },
   {
    "duration": 17,
    "start_time": "2023-07-16T10:54:40.468Z"
   },
   {
    "duration": 5,
    "start_time": "2023-07-16T10:54:43.556Z"
   },
   {
    "duration": 11,
    "start_time": "2023-07-16T10:54:45.517Z"
   },
   {
    "duration": 6,
    "start_time": "2023-07-16T10:54:48.622Z"
   },
   {
    "duration": 152,
    "start_time": "2023-07-16T10:54:50.554Z"
   },
   {
    "duration": 15,
    "start_time": "2023-07-16T10:54:54.166Z"
   },
   {
    "duration": 13,
    "start_time": "2023-07-16T10:54:58.068Z"
   },
   {
    "duration": 144,
    "start_time": "2023-07-16T10:55:00.049Z"
   },
   {
    "duration": 22,
    "start_time": "2023-07-16T10:55:02.445Z"
   },
   {
    "duration": 222,
    "start_time": "2023-07-16T10:55:04.954Z"
   },
   {
    "duration": 21,
    "start_time": "2023-07-16T10:55:07.514Z"
   },
   {
    "duration": 30,
    "start_time": "2023-07-16T10:55:09.718Z"
   },
   {
    "duration": 589,
    "start_time": "2023-07-16T10:55:12.071Z"
   },
   {
    "duration": 49,
    "start_time": "2023-07-16T10:55:17.558Z"
   },
   {
    "duration": 12,
    "start_time": "2023-07-16T10:56:02.771Z"
   },
   {
    "duration": 7,
    "start_time": "2023-07-16T10:57:10.423Z"
   },
   {
    "duration": 11,
    "start_time": "2023-07-16T10:57:17.750Z"
   },
   {
    "duration": 35,
    "start_time": "2023-07-16T10:57:22.222Z"
   },
   {
    "duration": 99,
    "start_time": "2023-07-16T11:09:23.336Z"
   },
   {
    "duration": 5,
    "start_time": "2023-07-16T11:10:24.590Z"
   },
   {
    "duration": 5,
    "start_time": "2023-07-16T11:12:26.916Z"
   },
   {
    "duration": 141,
    "start_time": "2023-07-16T11:12:46.396Z"
   },
   {
    "duration": 46,
    "start_time": "2023-07-16T11:16:23.542Z"
   },
   {
    "duration": 40,
    "start_time": "2023-07-16T11:22:28.252Z"
   },
   {
    "duration": 10,
    "start_time": "2023-07-16T11:22:57.644Z"
   },
   {
    "duration": 6,
    "start_time": "2023-07-16T11:26:07.734Z"
   },
   {
    "duration": 4,
    "start_time": "2023-07-16T11:26:10.500Z"
   },
   {
    "duration": 47,
    "start_time": "2023-07-16T11:26:15.256Z"
   },
   {
    "duration": 49,
    "start_time": "2023-07-16T11:26:39.558Z"
   },
   {
    "duration": 9,
    "start_time": "2023-07-16T11:28:43.219Z"
   },
   {
    "duration": 12,
    "start_time": "2023-07-16T11:36:19.859Z"
   },
   {
    "duration": 17,
    "start_time": "2023-07-16T11:43:15.369Z"
   },
   {
    "duration": 5,
    "start_time": "2023-07-16T11:44:11.034Z"
   },
   {
    "duration": 25,
    "start_time": "2023-07-16T11:44:47.534Z"
   },
   {
    "duration": 6,
    "start_time": "2023-07-16T11:46:46.249Z"
   },
   {
    "duration": 28,
    "start_time": "2023-07-16T11:47:02.748Z"
   },
   {
    "duration": 9,
    "start_time": "2023-07-16T11:52:32.743Z"
   },
   {
    "duration": 7,
    "start_time": "2023-07-16T11:54:43.200Z"
   },
   {
    "duration": 29,
    "start_time": "2023-07-16T11:54:56.803Z"
   },
   {
    "duration": 83,
    "start_time": "2023-07-16T11:56:57.403Z"
   },
   {
    "duration": 29,
    "start_time": "2023-07-16T11:57:15.704Z"
   },
   {
    "duration": 1389,
    "start_time": "2023-07-16T15:49:01.411Z"
   },
   {
    "duration": 225,
    "start_time": "2023-07-16T15:49:02.802Z"
   },
   {
    "duration": 134,
    "start_time": "2023-07-16T15:49:03.029Z"
   },
   {
    "duration": 909,
    "start_time": "2023-07-16T15:49:03.165Z"
   },
   {
    "duration": 0,
    "start_time": "2023-07-16T15:49:04.078Z"
   },
   {
    "duration": 0,
    "start_time": "2023-07-16T15:49:04.080Z"
   },
   {
    "duration": 0,
    "start_time": "2023-07-16T15:49:04.082Z"
   },
   {
    "duration": 0,
    "start_time": "2023-07-16T15:49:04.083Z"
   },
   {
    "duration": 0,
    "start_time": "2023-07-16T15:49:04.085Z"
   },
   {
    "duration": 0,
    "start_time": "2023-07-16T15:49:04.086Z"
   },
   {
    "duration": 0,
    "start_time": "2023-07-16T15:49:04.088Z"
   },
   {
    "duration": 0,
    "start_time": "2023-07-16T15:49:04.090Z"
   },
   {
    "duration": 0,
    "start_time": "2023-07-16T15:49:04.091Z"
   },
   {
    "duration": 0,
    "start_time": "2023-07-16T15:49:04.093Z"
   },
   {
    "duration": 0,
    "start_time": "2023-07-16T15:49:04.094Z"
   },
   {
    "duration": 0,
    "start_time": "2023-07-16T15:49:04.096Z"
   },
   {
    "duration": 0,
    "start_time": "2023-07-16T15:49:04.098Z"
   },
   {
    "duration": 0,
    "start_time": "2023-07-16T15:49:04.099Z"
   },
   {
    "duration": 0,
    "start_time": "2023-07-16T15:49:04.101Z"
   },
   {
    "duration": 0,
    "start_time": "2023-07-16T15:49:04.102Z"
   },
   {
    "duration": 0,
    "start_time": "2023-07-16T15:49:04.104Z"
   },
   {
    "duration": 1,
    "start_time": "2023-07-16T15:49:04.105Z"
   },
   {
    "duration": 0,
    "start_time": "2023-07-16T15:49:04.107Z"
   },
   {
    "duration": 0,
    "start_time": "2023-07-16T15:49:04.109Z"
   },
   {
    "duration": 0,
    "start_time": "2023-07-16T15:49:04.110Z"
   },
   {
    "duration": 0,
    "start_time": "2023-07-16T15:49:04.111Z"
   },
   {
    "duration": 0,
    "start_time": "2023-07-16T15:49:04.113Z"
   },
   {
    "duration": 0,
    "start_time": "2023-07-16T15:49:04.153Z"
   },
   {
    "duration": 0,
    "start_time": "2023-07-16T15:49:04.155Z"
   },
   {
    "duration": 0,
    "start_time": "2023-07-16T15:49:04.156Z"
   },
   {
    "duration": 0,
    "start_time": "2023-07-16T15:49:04.158Z"
   },
   {
    "duration": 0,
    "start_time": "2023-07-16T15:49:04.159Z"
   },
   {
    "duration": 0,
    "start_time": "2023-07-16T15:49:04.161Z"
   },
   {
    "duration": 0,
    "start_time": "2023-07-16T15:49:04.162Z"
   },
   {
    "duration": 0,
    "start_time": "2023-07-16T15:49:04.164Z"
   },
   {
    "duration": 0,
    "start_time": "2023-07-16T15:49:04.165Z"
   },
   {
    "duration": 0,
    "start_time": "2023-07-16T15:49:04.167Z"
   },
   {
    "duration": 0,
    "start_time": "2023-07-16T15:49:04.168Z"
   },
   {
    "duration": 0,
    "start_time": "2023-07-16T15:49:04.170Z"
   },
   {
    "duration": 0,
    "start_time": "2023-07-16T15:49:04.172Z"
   },
   {
    "duration": 0,
    "start_time": "2023-07-16T15:49:04.173Z"
   },
   {
    "duration": 0,
    "start_time": "2023-07-16T15:49:04.175Z"
   },
   {
    "duration": 0,
    "start_time": "2023-07-16T15:49:04.176Z"
   },
   {
    "duration": 0,
    "start_time": "2023-07-16T15:49:04.178Z"
   },
   {
    "duration": 0,
    "start_time": "2023-07-16T15:49:04.179Z"
   },
   {
    "duration": 0,
    "start_time": "2023-07-16T15:49:04.181Z"
   },
   {
    "duration": 0,
    "start_time": "2023-07-16T15:49:04.182Z"
   },
   {
    "duration": 0,
    "start_time": "2023-07-16T15:49:04.184Z"
   },
   {
    "duration": 0,
    "start_time": "2023-07-16T15:49:04.185Z"
   },
   {
    "duration": 0,
    "start_time": "2023-07-16T15:49:04.187Z"
   },
   {
    "duration": 0,
    "start_time": "2023-07-16T15:49:04.188Z"
   },
   {
    "duration": 0,
    "start_time": "2023-07-16T15:49:04.189Z"
   },
   {
    "duration": 0,
    "start_time": "2023-07-16T15:49:04.253Z"
   },
   {
    "duration": 0,
    "start_time": "2023-07-16T15:49:04.255Z"
   },
   {
    "duration": 0,
    "start_time": "2023-07-16T15:49:04.256Z"
   },
   {
    "duration": 0,
    "start_time": "2023-07-16T15:49:04.258Z"
   },
   {
    "duration": 0,
    "start_time": "2023-07-16T15:49:04.259Z"
   },
   {
    "duration": 0,
    "start_time": "2023-07-16T15:49:04.261Z"
   },
   {
    "duration": 0,
    "start_time": "2023-07-16T15:49:04.262Z"
   },
   {
    "duration": 0,
    "start_time": "2023-07-16T15:49:04.264Z"
   },
   {
    "duration": 0,
    "start_time": "2023-07-16T15:49:04.266Z"
   },
   {
    "duration": 8,
    "start_time": "2023-07-16T15:52:33.833Z"
   },
   {
    "duration": 71,
    "start_time": "2023-07-16T15:52:33.843Z"
   },
   {
    "duration": 14,
    "start_time": "2023-07-16T15:52:33.915Z"
   },
   {
    "duration": 26,
    "start_time": "2023-07-16T15:52:33.931Z"
   },
   {
    "duration": 6,
    "start_time": "2023-07-16T15:52:33.959Z"
   },
   {
    "duration": 23,
    "start_time": "2023-07-16T15:52:33.966Z"
   },
   {
    "duration": 17,
    "start_time": "2023-07-16T15:52:33.991Z"
   },
   {
    "duration": 8,
    "start_time": "2023-07-16T15:52:34.009Z"
   },
   {
    "duration": 35,
    "start_time": "2023-07-16T15:52:34.019Z"
   },
   {
    "duration": 16,
    "start_time": "2023-07-16T15:52:34.056Z"
   },
   {
    "duration": 36,
    "start_time": "2023-07-16T15:52:34.074Z"
   },
   {
    "duration": 20,
    "start_time": "2023-07-16T15:52:34.111Z"
   },
   {
    "duration": 15,
    "start_time": "2023-07-16T15:52:34.132Z"
   },
   {
    "duration": 41,
    "start_time": "2023-07-16T15:52:34.150Z"
   },
   {
    "duration": 12,
    "start_time": "2023-07-16T15:52:34.192Z"
   },
   {
    "duration": 41,
    "start_time": "2023-07-16T15:52:34.206Z"
   },
   {
    "duration": 16,
    "start_time": "2023-07-16T15:52:34.249Z"
   },
   {
    "duration": 45,
    "start_time": "2023-07-16T15:52:34.266Z"
   },
   {
    "duration": 59,
    "start_time": "2023-07-16T15:52:34.313Z"
   },
   {
    "duration": 32,
    "start_time": "2023-07-16T15:52:34.374Z"
   },
   {
    "duration": 24,
    "start_time": "2023-07-16T15:52:34.408Z"
   },
   {
    "duration": 16,
    "start_time": "2023-07-16T15:52:34.434Z"
   },
   {
    "duration": 13,
    "start_time": "2023-07-16T15:52:34.451Z"
   },
   {
    "duration": 22,
    "start_time": "2023-07-16T15:52:34.466Z"
   },
   {
    "duration": 18,
    "start_time": "2023-07-16T15:52:34.490Z"
   },
   {
    "duration": 18,
    "start_time": "2023-07-16T15:52:34.510Z"
   },
   {
    "duration": 47,
    "start_time": "2023-07-16T15:52:34.529Z"
   },
   {
    "duration": 41,
    "start_time": "2023-07-16T15:52:34.577Z"
   },
   {
    "duration": 163,
    "start_time": "2023-07-16T15:52:34.620Z"
   },
   {
    "duration": 7,
    "start_time": "2023-07-16T15:52:34.785Z"
   },
   {
    "duration": 30,
    "start_time": "2023-07-16T15:52:34.794Z"
   },
   {
    "duration": 38,
    "start_time": "2023-07-16T15:52:34.825Z"
   },
   {
    "duration": 23,
    "start_time": "2023-07-16T15:52:34.865Z"
   },
   {
    "duration": 34,
    "start_time": "2023-07-16T15:52:34.890Z"
   },
   {
    "duration": 16,
    "start_time": "2023-07-16T15:52:34.926Z"
   },
   {
    "duration": 12,
    "start_time": "2023-07-16T15:52:34.943Z"
   },
   {
    "duration": 154,
    "start_time": "2023-07-16T15:52:34.956Z"
   },
   {
    "duration": 13,
    "start_time": "2023-07-16T15:52:35.112Z"
   },
   {
    "duration": 27,
    "start_time": "2023-07-16T15:52:35.126Z"
   },
   {
    "duration": 142,
    "start_time": "2023-07-16T15:52:35.155Z"
   },
   {
    "duration": 25,
    "start_time": "2023-07-16T15:52:35.302Z"
   },
   {
    "duration": 188,
    "start_time": "2023-07-16T15:52:35.328Z"
   },
   {
    "duration": 20,
    "start_time": "2023-07-16T15:52:35.518Z"
   },
   {
    "duration": 23,
    "start_time": "2023-07-16T15:52:35.552Z"
   },
   {
    "duration": 547,
    "start_time": "2023-07-16T15:52:35.577Z"
   },
   {
    "duration": 47,
    "start_time": "2023-07-16T15:52:36.126Z"
   },
   {
    "duration": 12,
    "start_time": "2023-07-16T15:52:36.175Z"
   },
   {
    "duration": 51,
    "start_time": "2023-07-16T15:52:36.189Z"
   },
   {
    "duration": 9,
    "start_time": "2023-07-16T15:52:36.242Z"
   },
   {
    "duration": 18,
    "start_time": "2023-07-16T15:52:36.253Z"
   },
   {
    "duration": 33,
    "start_time": "2023-07-16T15:52:36.273Z"
   },
   {
    "duration": 40,
    "start_time": "2023-07-16T15:52:36.308Z"
   },
   {
    "duration": 20,
    "start_time": "2023-07-16T15:52:36.350Z"
   },
   {
    "duration": 104,
    "start_time": "2023-07-16T15:52:36.372Z"
   },
   {
    "duration": 21,
    "start_time": "2023-07-16T15:52:36.478Z"
   },
   {
    "duration": 33,
    "start_time": "2023-07-16T15:52:36.501Z"
   },
   {
    "duration": 35,
    "start_time": "2023-07-16T15:52:36.535Z"
   },
   {
    "duration": 11,
    "start_time": "2023-07-16T15:56:48.632Z"
   },
   {
    "duration": 20,
    "start_time": "2023-07-16T16:00:42.014Z"
   },
   {
    "duration": 116,
    "start_time": "2023-07-16T16:01:31.607Z"
   },
   {
    "duration": 73,
    "start_time": "2023-07-16T16:06:47.503Z"
   },
   {
    "duration": 1922,
    "start_time": "2023-07-18T10:13:25.801Z"
   },
   {
    "duration": 348,
    "start_time": "2023-07-18T10:13:30.826Z"
   },
   {
    "duration": 114,
    "start_time": "2023-07-18T10:13:36.642Z"
   },
   {
    "duration": 10,
    "start_time": "2023-07-18T10:13:41.150Z"
   },
   {
    "duration": 46,
    "start_time": "2023-07-18T10:13:45.856Z"
   },
   {
    "duration": 16,
    "start_time": "2023-07-18T10:13:58.086Z"
   },
   {
    "duration": 16,
    "start_time": "2023-07-18T10:14:07.201Z"
   },
   {
    "duration": 6,
    "start_time": "2023-07-18T10:14:09.453Z"
   },
   {
    "duration": 40,
    "start_time": "2023-07-18T10:19:47.845Z"
   },
   {
    "duration": 11,
    "start_time": "2023-07-18T10:19:50.042Z"
   },
   {
    "duration": 103,
    "start_time": "2023-07-18T10:21:17.851Z"
   },
   {
    "duration": 13,
    "start_time": "2023-07-18T10:21:28.375Z"
   },
   {
    "duration": 1215,
    "start_time": "2023-07-18T10:22:46.605Z"
   },
   {
    "duration": 125,
    "start_time": "2023-07-18T10:22:47.823Z"
   },
   {
    "duration": 63,
    "start_time": "2023-07-18T10:22:47.950Z"
   },
   {
    "duration": 10,
    "start_time": "2023-07-18T10:22:48.016Z"
   },
   {
    "duration": 72,
    "start_time": "2023-07-18T10:22:48.028Z"
   },
   {
    "duration": 16,
    "start_time": "2023-07-18T10:22:48.102Z"
   },
   {
    "duration": 26,
    "start_time": "2023-07-18T10:22:48.119Z"
   },
   {
    "duration": 18,
    "start_time": "2023-07-18T10:22:48.159Z"
   },
   {
    "duration": 38,
    "start_time": "2023-07-18T10:22:48.178Z"
   },
   {
    "duration": 13,
    "start_time": "2023-07-18T10:22:48.218Z"
   },
   {
    "duration": 31,
    "start_time": "2023-07-18T10:22:48.233Z"
   },
   {
    "duration": 16,
    "start_time": "2023-07-18T10:22:48.265Z"
   },
   {
    "duration": 41,
    "start_time": "2023-07-18T10:22:48.283Z"
   },
   {
    "duration": 21,
    "start_time": "2023-07-18T10:22:48.326Z"
   },
   {
    "duration": 42,
    "start_time": "2023-07-18T10:22:48.349Z"
   },
   {
    "duration": 49,
    "start_time": "2023-07-18T10:22:48.393Z"
   },
   {
    "duration": 22,
    "start_time": "2023-07-18T10:22:48.444Z"
   },
   {
    "duration": 26,
    "start_time": "2023-07-18T10:22:48.469Z"
   },
   {
    "duration": 32,
    "start_time": "2023-07-18T10:22:48.497Z"
   },
   {
    "duration": 18,
    "start_time": "2023-07-18T10:22:48.531Z"
   },
   {
    "duration": 36,
    "start_time": "2023-07-18T10:22:48.550Z"
   },
   {
    "duration": 17,
    "start_time": "2023-07-18T10:22:48.588Z"
   },
   {
    "duration": 49,
    "start_time": "2023-07-18T10:22:48.607Z"
   },
   {
    "duration": 35,
    "start_time": "2023-07-18T10:22:48.658Z"
   },
   {
    "duration": 33,
    "start_time": "2023-07-18T10:22:48.694Z"
   },
   {
    "duration": 26,
    "start_time": "2023-07-18T10:22:48.728Z"
   },
   {
    "duration": 21,
    "start_time": "2023-07-18T10:22:48.756Z"
   },
   {
    "duration": 27,
    "start_time": "2023-07-18T10:22:48.781Z"
   },
   {
    "duration": 19,
    "start_time": "2023-07-18T10:22:48.810Z"
   },
   {
    "duration": 42,
    "start_time": "2023-07-18T10:22:48.831Z"
   },
   {
    "duration": 35,
    "start_time": "2023-07-18T10:22:48.875Z"
   },
   {
    "duration": 38,
    "start_time": "2023-07-18T10:22:48.912Z"
   },
   {
    "duration": 29,
    "start_time": "2023-07-18T10:22:48.952Z"
   },
   {
    "duration": 143,
    "start_time": "2023-07-18T10:22:48.984Z"
   },
   {
    "duration": 7,
    "start_time": "2023-07-18T10:22:49.129Z"
   },
   {
    "duration": 57,
    "start_time": "2023-07-18T10:22:49.137Z"
   },
   {
    "duration": 44,
    "start_time": "2023-07-18T10:22:49.196Z"
   },
   {
    "duration": 26,
    "start_time": "2023-07-18T10:22:49.241Z"
   },
   {
    "duration": 4,
    "start_time": "2023-07-18T10:22:49.273Z"
   },
   {
    "duration": 17,
    "start_time": "2023-07-18T10:22:49.279Z"
   },
   {
    "duration": 24,
    "start_time": "2023-07-18T10:22:49.298Z"
   },
   {
    "duration": 22,
    "start_time": "2023-07-18T10:22:49.324Z"
   },
   {
    "duration": 167,
    "start_time": "2023-07-18T10:22:49.348Z"
   },
   {
    "duration": 13,
    "start_time": "2023-07-18T10:22:49.517Z"
   },
   {
    "duration": 42,
    "start_time": "2023-07-18T10:22:49.531Z"
   },
   {
    "duration": 151,
    "start_time": "2023-07-18T10:22:49.576Z"
   },
   {
    "duration": 34,
    "start_time": "2023-07-18T10:22:49.728Z"
   },
   {
    "duration": 182,
    "start_time": "2023-07-18T10:22:49.769Z"
   },
   {
    "duration": 29,
    "start_time": "2023-07-18T10:22:49.953Z"
   },
   {
    "duration": 27,
    "start_time": "2023-07-18T10:22:49.984Z"
   },
   {
    "duration": 581,
    "start_time": "2023-07-18T10:22:50.012Z"
   },
   {
    "duration": 35,
    "start_time": "2023-07-18T10:22:50.595Z"
   },
   {
    "duration": 4,
    "start_time": "2023-07-18T10:22:50.632Z"
   },
   {
    "duration": 83,
    "start_time": "2023-07-18T10:22:50.638Z"
   },
   {
    "duration": 11,
    "start_time": "2023-07-18T10:22:50.723Z"
   },
   {
    "duration": 45,
    "start_time": "2023-07-18T10:22:50.736Z"
   },
   {
    "duration": 30,
    "start_time": "2023-07-18T10:22:50.783Z"
   },
   {
    "duration": 57,
    "start_time": "2023-07-18T10:22:50.815Z"
   },
   {
    "duration": 25,
    "start_time": "2023-07-18T10:22:50.875Z"
   },
   {
    "duration": 136,
    "start_time": "2023-07-18T10:22:50.902Z"
   },
   {
    "duration": 21,
    "start_time": "2023-07-18T10:22:51.040Z"
   },
   {
    "duration": 39,
    "start_time": "2023-07-18T10:22:51.062Z"
   },
   {
    "duration": 38,
    "start_time": "2023-07-18T10:22:51.103Z"
   },
   {
    "duration": 4,
    "start_time": "2023-07-18T10:23:45.104Z"
   },
   {
    "duration": 1321,
    "start_time": "2023-07-18T10:24:30.300Z"
   },
   {
    "duration": 130,
    "start_time": "2023-07-18T10:24:31.623Z"
   },
   {
    "duration": 57,
    "start_time": "2023-07-18T10:24:31.754Z"
   },
   {
    "duration": 65,
    "start_time": "2023-07-18T10:24:31.813Z"
   },
   {
    "duration": 96,
    "start_time": "2023-07-18T10:24:31.880Z"
   },
   {
    "duration": 18,
    "start_time": "2023-07-18T10:24:31.977Z"
   },
   {
    "duration": 32,
    "start_time": "2023-07-18T10:24:31.997Z"
   },
   {
    "duration": 30,
    "start_time": "2023-07-18T10:24:32.031Z"
   },
   {
    "duration": 47,
    "start_time": "2023-07-18T10:24:32.062Z"
   },
   {
    "duration": 42,
    "start_time": "2023-07-18T10:24:32.111Z"
   },
   {
    "duration": 45,
    "start_time": "2023-07-18T10:24:32.155Z"
   },
   {
    "duration": 16,
    "start_time": "2023-07-18T10:24:32.202Z"
   },
   {
    "duration": 51,
    "start_time": "2023-07-18T10:24:32.221Z"
   },
   {
    "duration": 20,
    "start_time": "2023-07-18T10:24:32.276Z"
   },
   {
    "duration": 55,
    "start_time": "2023-07-18T10:24:32.298Z"
   },
   {
    "duration": 26,
    "start_time": "2023-07-18T10:24:32.355Z"
   },
   {
    "duration": 22,
    "start_time": "2023-07-18T10:24:32.383Z"
   },
   {
    "duration": 27,
    "start_time": "2023-07-18T10:24:32.407Z"
   },
   {
    "duration": 28,
    "start_time": "2023-07-18T10:24:32.437Z"
   },
   {
    "duration": 19,
    "start_time": "2023-07-18T10:24:32.467Z"
   },
   {
    "duration": 52,
    "start_time": "2023-07-18T10:24:32.488Z"
   },
   {
    "duration": 41,
    "start_time": "2023-07-18T10:24:32.541Z"
   },
   {
    "duration": 143,
    "start_time": "2023-07-18T10:24:32.584Z"
   },
   {
    "duration": 40,
    "start_time": "2023-07-18T10:24:32.729Z"
   },
   {
    "duration": 19,
    "start_time": "2023-07-18T10:24:32.773Z"
   },
   {
    "duration": 27,
    "start_time": "2023-07-18T10:24:32.795Z"
   },
   {
    "duration": 20,
    "start_time": "2023-07-18T10:24:32.824Z"
   },
   {
    "duration": 24,
    "start_time": "2023-07-18T10:24:32.848Z"
   },
   {
    "duration": 18,
    "start_time": "2023-07-18T10:24:32.874Z"
   },
   {
    "duration": 24,
    "start_time": "2023-07-18T10:24:32.894Z"
   },
   {
    "duration": 18,
    "start_time": "2023-07-18T10:24:32.920Z"
   },
   {
    "duration": 45,
    "start_time": "2023-07-18T10:24:32.940Z"
   },
   {
    "duration": 10,
    "start_time": "2023-07-18T10:24:32.987Z"
   },
   {
    "duration": 185,
    "start_time": "2023-07-18T10:24:32.998Z"
   },
   {
    "duration": 7,
    "start_time": "2023-07-18T10:24:33.185Z"
   },
   {
    "duration": 28,
    "start_time": "2023-07-18T10:24:33.194Z"
   },
   {
    "duration": 54,
    "start_time": "2023-07-18T10:24:33.224Z"
   },
   {
    "duration": 33,
    "start_time": "2023-07-18T10:24:33.280Z"
   },
   {
    "duration": 12,
    "start_time": "2023-07-18T10:24:33.315Z"
   },
   {
    "duration": 18,
    "start_time": "2023-07-18T10:24:33.329Z"
   },
   {
    "duration": 28,
    "start_time": "2023-07-18T10:24:33.349Z"
   },
   {
    "duration": 15,
    "start_time": "2023-07-18T10:24:33.379Z"
   },
   {
    "duration": 171,
    "start_time": "2023-07-18T10:24:33.396Z"
   },
   {
    "duration": 13,
    "start_time": "2023-07-18T10:24:33.570Z"
   },
   {
    "duration": 23,
    "start_time": "2023-07-18T10:24:33.585Z"
   },
   {
    "duration": 170,
    "start_time": "2023-07-18T10:24:33.609Z"
   },
   {
    "duration": 23,
    "start_time": "2023-07-18T10:24:33.781Z"
   },
   {
    "duration": 216,
    "start_time": "2023-07-18T10:24:33.806Z"
   },
   {
    "duration": 36,
    "start_time": "2023-07-18T10:24:34.025Z"
   },
   {
    "duration": 53,
    "start_time": "2023-07-18T10:24:34.064Z"
   },
   {
    "duration": 618,
    "start_time": "2023-07-18T10:24:34.119Z"
   },
   {
    "duration": 46,
    "start_time": "2023-07-18T10:24:34.739Z"
   },
   {
    "duration": 5,
    "start_time": "2023-07-18T10:24:34.787Z"
   },
   {
    "duration": 80,
    "start_time": "2023-07-18T10:24:34.793Z"
   },
   {
    "duration": 9,
    "start_time": "2023-07-18T10:24:34.875Z"
   },
   {
    "duration": 30,
    "start_time": "2023-07-18T10:24:34.886Z"
   },
   {
    "duration": 9,
    "start_time": "2023-07-18T10:24:34.918Z"
   },
   {
    "duration": 45,
    "start_time": "2023-07-18T10:24:34.929Z"
   },
   {
    "duration": 6,
    "start_time": "2023-07-18T10:24:34.976Z"
   },
   {
    "duration": 113,
    "start_time": "2023-07-18T10:24:34.984Z"
   },
   {
    "duration": 26,
    "start_time": "2023-07-18T10:24:35.099Z"
   },
   {
    "duration": 40,
    "start_time": "2023-07-18T10:24:35.127Z"
   },
   {
    "duration": 33,
    "start_time": "2023-07-18T10:24:35.168Z"
   },
   {
    "duration": 7,
    "start_time": "2023-07-18T10:26:08.821Z"
   },
   {
    "duration": 106,
    "start_time": "2023-07-18T10:40:41.592Z"
   },
   {
    "duration": 4,
    "start_time": "2023-07-18T10:42:41.070Z"
   },
   {
    "duration": 11,
    "start_time": "2023-07-18T10:42:45.296Z"
   },
   {
    "duration": 7,
    "start_time": "2023-07-18T10:42:49.374Z"
   },
   {
    "duration": 6,
    "start_time": "2023-07-18T10:45:50.650Z"
   },
   {
    "duration": 10,
    "start_time": "2023-07-18T10:45:53.092Z"
   },
   {
    "duration": 5,
    "start_time": "2023-07-18T10:45:57.176Z"
   },
   {
    "duration": 1280,
    "start_time": "2023-07-18T10:50:00.126Z"
   },
   {
    "duration": 127,
    "start_time": "2023-07-18T10:50:01.408Z"
   },
   {
    "duration": 56,
    "start_time": "2023-07-18T10:50:01.536Z"
   },
   {
    "duration": 10,
    "start_time": "2023-07-18T10:50:01.594Z"
   },
   {
    "duration": 97,
    "start_time": "2023-07-18T10:50:01.607Z"
   },
   {
    "duration": 28,
    "start_time": "2023-07-18T10:50:01.705Z"
   },
   {
    "duration": 38,
    "start_time": "2023-07-18T10:50:01.735Z"
   },
   {
    "duration": 43,
    "start_time": "2023-07-18T10:50:01.775Z"
   },
   {
    "duration": 29,
    "start_time": "2023-07-18T10:50:01.820Z"
   },
   {
    "duration": 163,
    "start_time": "2023-07-18T10:50:01.851Z"
   },
   {
    "duration": 59,
    "start_time": "2023-07-18T10:50:02.016Z"
   },
   {
    "duration": 47,
    "start_time": "2023-07-18T10:50:02.077Z"
   },
   {
    "duration": 53,
    "start_time": "2023-07-18T10:50:02.126Z"
   },
   {
    "duration": 60,
    "start_time": "2023-07-18T10:50:02.183Z"
   },
   {
    "duration": 43,
    "start_time": "2023-07-18T10:50:02.245Z"
   },
   {
    "duration": 26,
    "start_time": "2023-07-18T10:50:02.291Z"
   },
   {
    "duration": 44,
    "start_time": "2023-07-18T10:50:02.319Z"
   },
   {
    "duration": 52,
    "start_time": "2023-07-18T10:50:02.364Z"
   },
   {
    "duration": 57,
    "start_time": "2023-07-18T10:50:02.419Z"
   },
   {
    "duration": 41,
    "start_time": "2023-07-18T10:50:02.477Z"
   },
   {
    "duration": 55,
    "start_time": "2023-07-18T10:50:02.519Z"
   },
   {
    "duration": 50,
    "start_time": "2023-07-18T10:50:02.576Z"
   },
   {
    "duration": 52,
    "start_time": "2023-07-18T10:50:02.628Z"
   },
   {
    "duration": 74,
    "start_time": "2023-07-18T10:50:02.682Z"
   },
   {
    "duration": 52,
    "start_time": "2023-07-18T10:50:02.758Z"
   },
   {
    "duration": 61,
    "start_time": "2023-07-18T10:50:02.812Z"
   },
   {
    "duration": 36,
    "start_time": "2023-07-18T10:50:02.875Z"
   },
   {
    "duration": 64,
    "start_time": "2023-07-18T10:50:02.913Z"
   },
   {
    "duration": 39,
    "start_time": "2023-07-18T10:50:02.979Z"
   },
   {
    "duration": 24,
    "start_time": "2023-07-18T10:50:03.020Z"
   },
   {
    "duration": 32,
    "start_time": "2023-07-18T10:50:03.046Z"
   },
   {
    "duration": 39,
    "start_time": "2023-07-18T10:50:03.080Z"
   },
   {
    "duration": 28,
    "start_time": "2023-07-18T10:50:03.121Z"
   },
   {
    "duration": 50,
    "start_time": "2023-07-18T10:50:03.151Z"
   },
   {
    "duration": 50,
    "start_time": "2023-07-18T10:50:03.202Z"
   },
   {
    "duration": 195,
    "start_time": "2023-07-18T10:50:03.253Z"
   },
   {
    "duration": 6,
    "start_time": "2023-07-18T10:50:03.449Z"
   },
   {
    "duration": 39,
    "start_time": "2023-07-18T10:50:03.464Z"
   },
   {
    "duration": 136,
    "start_time": "2023-07-18T10:50:03.505Z"
   },
   {
    "duration": 0,
    "start_time": "2023-07-18T10:50:03.643Z"
   },
   {
    "duration": 0,
    "start_time": "2023-07-18T10:50:03.645Z"
   },
   {
    "duration": 0,
    "start_time": "2023-07-18T10:50:03.646Z"
   },
   {
    "duration": 1,
    "start_time": "2023-07-18T10:50:03.647Z"
   },
   {
    "duration": 0,
    "start_time": "2023-07-18T10:50:03.649Z"
   },
   {
    "duration": 0,
    "start_time": "2023-07-18T10:50:03.651Z"
   },
   {
    "duration": 0,
    "start_time": "2023-07-18T10:50:03.652Z"
   },
   {
    "duration": 0,
    "start_time": "2023-07-18T10:50:03.654Z"
   },
   {
    "duration": 0,
    "start_time": "2023-07-18T10:50:03.655Z"
   },
   {
    "duration": 0,
    "start_time": "2023-07-18T10:50:03.656Z"
   },
   {
    "duration": 0,
    "start_time": "2023-07-18T10:50:03.657Z"
   },
   {
    "duration": 0,
    "start_time": "2023-07-18T10:50:03.658Z"
   },
   {
    "duration": 0,
    "start_time": "2023-07-18T10:50:03.667Z"
   },
   {
    "duration": 0,
    "start_time": "2023-07-18T10:50:03.668Z"
   },
   {
    "duration": 0,
    "start_time": "2023-07-18T10:50:03.669Z"
   },
   {
    "duration": 0,
    "start_time": "2023-07-18T10:50:03.669Z"
   },
   {
    "duration": 0,
    "start_time": "2023-07-18T10:50:03.670Z"
   },
   {
    "duration": 0,
    "start_time": "2023-07-18T10:50:03.671Z"
   },
   {
    "duration": 0,
    "start_time": "2023-07-18T10:50:03.671Z"
   },
   {
    "duration": 0,
    "start_time": "2023-07-18T10:50:03.672Z"
   },
   {
    "duration": 0,
    "start_time": "2023-07-18T10:50:03.672Z"
   },
   {
    "duration": 0,
    "start_time": "2023-07-18T10:50:03.673Z"
   },
   {
    "duration": 0,
    "start_time": "2023-07-18T10:50:03.673Z"
   },
   {
    "duration": 0,
    "start_time": "2023-07-18T10:50:03.674Z"
   },
   {
    "duration": 0,
    "start_time": "2023-07-18T10:50:03.675Z"
   },
   {
    "duration": 0,
    "start_time": "2023-07-18T10:50:03.675Z"
   },
   {
    "duration": 1239,
    "start_time": "2023-07-18T10:50:41.958Z"
   },
   {
    "duration": 117,
    "start_time": "2023-07-18T10:50:43.199Z"
   },
   {
    "duration": 54,
    "start_time": "2023-07-18T10:50:43.318Z"
   },
   {
    "duration": 8,
    "start_time": "2023-07-18T10:50:43.374Z"
   },
   {
    "duration": 42,
    "start_time": "2023-07-18T10:50:43.384Z"
   },
   {
    "duration": 13,
    "start_time": "2023-07-18T10:50:43.428Z"
   },
   {
    "duration": 18,
    "start_time": "2023-07-18T10:50:43.459Z"
   },
   {
    "duration": 9,
    "start_time": "2023-07-18T10:50:43.479Z"
   },
   {
    "duration": 15,
    "start_time": "2023-07-18T10:50:43.489Z"
   },
   {
    "duration": 16,
    "start_time": "2023-07-18T10:50:43.505Z"
   },
   {
    "duration": 62,
    "start_time": "2023-07-18T10:50:43.522Z"
   },
   {
    "duration": 34,
    "start_time": "2023-07-18T10:50:43.586Z"
   },
   {
    "duration": 10,
    "start_time": "2023-07-18T10:50:43.622Z"
   },
   {
    "duration": 4,
    "start_time": "2023-07-18T10:50:43.636Z"
   },
   {
    "duration": 27,
    "start_time": "2023-07-18T10:50:43.642Z"
   },
   {
    "duration": 10,
    "start_time": "2023-07-18T10:50:43.671Z"
   },
   {
    "duration": 35,
    "start_time": "2023-07-18T10:50:43.682Z"
   },
   {
    "duration": 15,
    "start_time": "2023-07-18T10:50:43.719Z"
   },
   {
    "duration": 27,
    "start_time": "2023-07-18T10:50:43.736Z"
   },
   {
    "duration": 37,
    "start_time": "2023-07-18T10:50:43.773Z"
   },
   {
    "duration": 31,
    "start_time": "2023-07-18T10:50:43.812Z"
   },
   {
    "duration": 24,
    "start_time": "2023-07-18T10:50:43.844Z"
   },
   {
    "duration": 32,
    "start_time": "2023-07-18T10:50:43.873Z"
   },
   {
    "duration": 23,
    "start_time": "2023-07-18T10:50:43.907Z"
   },
   {
    "duration": 19,
    "start_time": "2023-07-18T10:50:43.931Z"
   },
   {
    "duration": 23,
    "start_time": "2023-07-18T10:50:43.961Z"
   },
   {
    "duration": 19,
    "start_time": "2023-07-18T10:50:43.986Z"
   },
   {
    "duration": 34,
    "start_time": "2023-07-18T10:50:44.007Z"
   },
   {
    "duration": 18,
    "start_time": "2023-07-18T10:50:44.044Z"
   },
   {
    "duration": 13,
    "start_time": "2023-07-18T10:50:44.067Z"
   },
   {
    "duration": 12,
    "start_time": "2023-07-18T10:50:44.084Z"
   },
   {
    "duration": 14,
    "start_time": "2023-07-18T10:50:44.098Z"
   },
   {
    "duration": 10,
    "start_time": "2023-07-18T10:50:44.113Z"
   },
   {
    "duration": 62,
    "start_time": "2023-07-18T10:50:44.125Z"
   },
   {
    "duration": 4,
    "start_time": "2023-07-18T10:50:44.189Z"
   },
   {
    "duration": 198,
    "start_time": "2023-07-18T10:50:44.196Z"
   },
   {
    "duration": 7,
    "start_time": "2023-07-18T10:50:44.396Z"
   },
   {
    "duration": 41,
    "start_time": "2023-07-18T10:50:44.405Z"
   },
   {
    "duration": 32,
    "start_time": "2023-07-18T10:50:44.448Z"
   },
   {
    "duration": 20,
    "start_time": "2023-07-18T10:50:44.482Z"
   },
   {
    "duration": 7,
    "start_time": "2023-07-18T10:50:44.506Z"
   },
   {
    "duration": 14,
    "start_time": "2023-07-18T10:50:44.515Z"
   },
   {
    "duration": 46,
    "start_time": "2023-07-18T10:50:44.531Z"
   },
   {
    "duration": 6,
    "start_time": "2023-07-18T10:50:44.579Z"
   },
   {
    "duration": 189,
    "start_time": "2023-07-18T10:50:44.586Z"
   },
   {
    "duration": 12,
    "start_time": "2023-07-18T10:50:44.777Z"
   },
   {
    "duration": 15,
    "start_time": "2023-07-18T10:50:44.790Z"
   },
   {
    "duration": 168,
    "start_time": "2023-07-18T10:50:44.807Z"
   },
   {
    "duration": 23,
    "start_time": "2023-07-18T10:50:44.977Z"
   },
   {
    "duration": 188,
    "start_time": "2023-07-18T10:50:45.003Z"
   },
   {
    "duration": 21,
    "start_time": "2023-07-18T10:50:45.193Z"
   },
   {
    "duration": 47,
    "start_time": "2023-07-18T10:50:45.216Z"
   },
   {
    "duration": 551,
    "start_time": "2023-07-18T10:50:45.269Z"
   },
   {
    "duration": 52,
    "start_time": "2023-07-18T10:50:45.822Z"
   },
   {
    "duration": 5,
    "start_time": "2023-07-18T10:50:45.876Z"
   },
   {
    "duration": 63,
    "start_time": "2023-07-18T10:50:45.883Z"
   },
   {
    "duration": 9,
    "start_time": "2023-07-18T10:50:45.947Z"
   },
   {
    "duration": 27,
    "start_time": "2023-07-18T10:50:45.968Z"
   },
   {
    "duration": 17,
    "start_time": "2023-07-18T10:50:45.997Z"
   },
   {
    "duration": 60,
    "start_time": "2023-07-18T10:50:46.016Z"
   },
   {
    "duration": 32,
    "start_time": "2023-07-18T10:50:46.078Z"
   },
   {
    "duration": 126,
    "start_time": "2023-07-18T10:50:46.111Z"
   },
   {
    "duration": 47,
    "start_time": "2023-07-18T10:50:46.239Z"
   },
   {
    "duration": 40,
    "start_time": "2023-07-18T10:50:46.288Z"
   },
   {
    "duration": 32,
    "start_time": "2023-07-18T10:50:46.330Z"
   },
   {
    "duration": 301,
    "start_time": "2023-07-18T10:52:22.358Z"
   },
   {
    "duration": 23,
    "start_time": "2023-07-18T11:05:22.058Z"
   },
   {
    "duration": 17,
    "start_time": "2023-07-18T11:05:42.758Z"
   },
   {
    "duration": 106,
    "start_time": "2023-07-18T11:06:56.571Z"
   },
   {
    "duration": 14,
    "start_time": "2023-07-18T11:07:08.572Z"
   },
   {
    "duration": 15,
    "start_time": "2023-07-18T11:13:55.581Z"
   },
   {
    "duration": 16,
    "start_time": "2023-07-18T11:16:12.381Z"
   },
   {
    "duration": 2158,
    "start_time": "2023-07-18T11:19:11.059Z"
   },
   {
    "duration": 26,
    "start_time": "2023-07-18T11:20:54.550Z"
   },
   {
    "duration": 2019,
    "start_time": "2023-07-18T11:21:08.958Z"
   },
   {
    "duration": 2056,
    "start_time": "2023-07-18T11:21:38.020Z"
   },
   {
    "duration": 203,
    "start_time": "2023-07-18T11:23:01.583Z"
   },
   {
    "duration": 303,
    "start_time": "2023-07-18T11:28:34.370Z"
   },
   {
    "duration": 2285,
    "start_time": "2023-07-18T11:29:44.672Z"
   },
   {
    "duration": 2058,
    "start_time": "2023-07-18T11:30:20.158Z"
   },
   {
    "duration": 2062,
    "start_time": "2023-07-18T11:30:33.773Z"
   },
   {
    "duration": 2087,
    "start_time": "2023-07-18T11:30:45.250Z"
   },
   {
    "duration": 2121,
    "start_time": "2023-07-18T11:31:24.703Z"
   },
   {
    "duration": 23,
    "start_time": "2023-07-18T11:34:02.370Z"
   },
   {
    "duration": 174,
    "start_time": "2023-07-18T11:34:11.971Z"
   },
   {
    "duration": 230,
    "start_time": "2023-07-18T11:34:44.277Z"
   },
   {
    "duration": 197,
    "start_time": "2023-07-18T11:35:16.399Z"
   },
   {
    "duration": 135,
    "start_time": "2023-07-18T11:37:04.104Z"
   },
   {
    "duration": 270,
    "start_time": "2023-07-18T11:40:38.376Z"
   },
   {
    "duration": 237,
    "start_time": "2023-07-18T11:41:08.176Z"
   },
   {
    "duration": 199,
    "start_time": "2023-07-18T11:41:17.676Z"
   },
   {
    "duration": 47,
    "start_time": "2023-07-18T11:53:28.252Z"
   },
   {
    "duration": 9,
    "start_time": "2023-07-18T11:55:07.398Z"
   },
   {
    "duration": 12,
    "start_time": "2023-07-18T11:56:27.284Z"
   },
   {
    "duration": 495,
    "start_time": "2023-07-18T11:56:49.511Z"
   },
   {
    "duration": 45,
    "start_time": "2023-07-18T11:57:19.756Z"
   },
   {
    "duration": 46,
    "start_time": "2023-07-18T11:57:55.955Z"
   },
   {
    "duration": 12,
    "start_time": "2023-07-18T11:58:29.476Z"
   },
   {
    "duration": 29,
    "start_time": "2023-07-18T11:59:46.254Z"
   },
   {
    "duration": 18,
    "start_time": "2023-07-18T11:59:53.178Z"
   },
   {
    "duration": 35,
    "start_time": "2023-07-18T12:00:12.898Z"
   },
   {
    "duration": 9,
    "start_time": "2023-07-18T12:00:26.108Z"
   },
   {
    "duration": 8,
    "start_time": "2023-07-18T12:03:47.925Z"
   },
   {
    "duration": 11,
    "start_time": "2023-07-18T12:11:13.105Z"
   },
   {
    "duration": 119,
    "start_time": "2023-07-18T12:12:21.870Z"
   },
   {
    "duration": 1028,
    "start_time": "2023-07-18T14:39:33.943Z"
   },
   {
    "duration": 110,
    "start_time": "2023-07-18T14:39:34.972Z"
   },
   {
    "duration": 51,
    "start_time": "2023-07-18T14:39:35.083Z"
   },
   {
    "duration": 7,
    "start_time": "2023-07-18T14:39:35.136Z"
   },
   {
    "duration": 105,
    "start_time": "2023-07-18T14:39:35.145Z"
   },
   {
    "duration": 192,
    "start_time": "2023-07-18T14:39:35.251Z"
   },
   {
    "duration": 218,
    "start_time": "2023-07-18T14:39:35.445Z"
   },
   {
    "duration": 176,
    "start_time": "2023-07-18T14:39:35.664Z"
   },
   {
    "duration": 30,
    "start_time": "2023-07-18T14:39:35.842Z"
   },
   {
    "duration": 15,
    "start_time": "2023-07-18T14:39:35.874Z"
   },
   {
    "duration": 26,
    "start_time": "2023-07-18T14:39:35.891Z"
   },
   {
    "duration": 17,
    "start_time": "2023-07-18T14:39:35.919Z"
   },
   {
    "duration": 21,
    "start_time": "2023-07-18T14:39:35.938Z"
   },
   {
    "duration": 26,
    "start_time": "2023-07-18T14:39:35.960Z"
   },
   {
    "duration": 70,
    "start_time": "2023-07-18T14:39:35.987Z"
   },
   {
    "duration": 20,
    "start_time": "2023-07-18T14:39:36.059Z"
   },
   {
    "duration": 33,
    "start_time": "2023-07-18T14:39:36.081Z"
   },
   {
    "duration": 30,
    "start_time": "2023-07-18T14:39:36.116Z"
   },
   {
    "duration": 11,
    "start_time": "2023-07-18T14:39:36.148Z"
   },
   {
    "duration": 18,
    "start_time": "2023-07-18T14:39:36.160Z"
   },
   {
    "duration": 118,
    "start_time": "2023-07-18T14:39:36.180Z"
   },
   {
    "duration": 187,
    "start_time": "2023-07-18T14:39:36.299Z"
   },
   {
    "duration": 35,
    "start_time": "2023-07-18T14:39:36.487Z"
   },
   {
    "duration": 14,
    "start_time": "2023-07-18T14:39:36.523Z"
   },
   {
    "duration": 16,
    "start_time": "2023-07-18T14:39:36.538Z"
   },
   {
    "duration": 12,
    "start_time": "2023-07-18T14:39:36.556Z"
   },
   {
    "duration": 26,
    "start_time": "2023-07-18T14:39:36.569Z"
   },
   {
    "duration": 22,
    "start_time": "2023-07-18T14:39:36.598Z"
   },
   {
    "duration": 12,
    "start_time": "2023-07-18T14:39:36.621Z"
   },
   {
    "duration": 5,
    "start_time": "2023-07-18T14:39:36.634Z"
   },
   {
    "duration": 28,
    "start_time": "2023-07-18T14:39:36.640Z"
   },
   {
    "duration": 9,
    "start_time": "2023-07-18T14:39:36.669Z"
   },
   {
    "duration": 12,
    "start_time": "2023-07-18T14:39:36.679Z"
   },
   {
    "duration": 27,
    "start_time": "2023-07-18T14:39:36.693Z"
   },
   {
    "duration": 2,
    "start_time": "2023-07-18T14:39:36.722Z"
   },
   {
    "duration": 147,
    "start_time": "2023-07-18T14:39:36.726Z"
   },
   {
    "duration": 5,
    "start_time": "2023-07-18T14:39:36.874Z"
   },
   {
    "duration": 30,
    "start_time": "2023-07-18T14:39:36.881Z"
   },
   {
    "duration": 26,
    "start_time": "2023-07-18T14:39:36.913Z"
   },
   {
    "duration": 31,
    "start_time": "2023-07-18T14:39:36.941Z"
   },
   {
    "duration": 13,
    "start_time": "2023-07-18T14:39:36.974Z"
   },
   {
    "duration": 12,
    "start_time": "2023-07-18T14:39:36.988Z"
   },
   {
    "duration": 14,
    "start_time": "2023-07-18T14:39:37.002Z"
   },
   {
    "duration": 26,
    "start_time": "2023-07-18T14:39:37.018Z"
   },
   {
    "duration": 132,
    "start_time": "2023-07-18T14:39:37.046Z"
   },
   {
    "duration": 2,
    "start_time": "2023-07-18T14:39:37.180Z"
   },
   {
    "duration": 40,
    "start_time": "2023-07-18T14:39:37.184Z"
   },
   {
    "duration": 152,
    "start_time": "2023-07-18T14:39:37.226Z"
   },
   {
    "duration": 14,
    "start_time": "2023-07-18T14:39:37.380Z"
   },
   {
    "duration": 126,
    "start_time": "2023-07-18T14:39:37.396Z"
   },
   {
    "duration": 18,
    "start_time": "2023-07-18T14:39:37.523Z"
   },
   {
    "duration": 163,
    "start_time": "2023-07-18T14:39:37.543Z"
   },
   {
    "duration": 19,
    "start_time": "2023-07-18T14:39:37.707Z"
   },
   {
    "duration": 152,
    "start_time": "2023-07-18T14:39:37.728Z"
   },
   {
    "duration": 27,
    "start_time": "2023-07-18T14:39:37.881Z"
   },
   {
    "duration": 508,
    "start_time": "2023-07-18T14:39:37.909Z"
   },
   {
    "duration": 37,
    "start_time": "2023-07-18T14:39:38.418Z"
   },
   {
    "duration": 3,
    "start_time": "2023-07-18T14:39:38.456Z"
   },
   {
    "duration": 54,
    "start_time": "2023-07-18T14:39:38.460Z"
   },
   {
    "duration": 23,
    "start_time": "2023-07-18T14:39:38.516Z"
   },
   {
    "duration": 141,
    "start_time": "2023-07-18T14:39:38.541Z"
   },
   {
    "duration": 7,
    "start_time": "2023-07-18T14:39:38.683Z"
   },
   {
    "duration": 59,
    "start_time": "2023-07-18T14:39:38.692Z"
   },
   {
    "duration": 81,
    "start_time": "2023-07-18T14:39:38.752Z"
   },
   {
    "duration": 35,
    "start_time": "2023-07-18T14:39:38.835Z"
   },
   {
    "duration": 12,
    "start_time": "2023-07-18T14:39:38.871Z"
   },
   {
    "duration": 39,
    "start_time": "2023-07-18T14:39:38.885Z"
   },
   {
    "duration": 12,
    "start_time": "2023-07-18T14:39:38.926Z"
   },
   {
    "duration": 48,
    "start_time": "2023-07-18T14:39:38.940Z"
   },
   {
    "duration": 55,
    "start_time": "2023-07-18T14:39:38.990Z"
   },
   {
    "duration": 50,
    "start_time": "2023-07-18T14:39:39.047Z"
   },
   {
    "duration": 7,
    "start_time": "2023-07-18T14:39:39.099Z"
   },
   {
    "duration": 20,
    "start_time": "2023-07-18T14:39:39.107Z"
   },
   {
    "duration": 97,
    "start_time": "2023-07-18T14:44:24.788Z"
   }
  ],
  "colab": {
   "name": "DA+. Сборный проект 1. Шаблон (1).ipynb",
   "provenance": []
  },
  "kernelspec": {
   "display_name": "Python 3 (ipykernel)",
   "language": "python",
   "name": "python3"
  },
  "language_info": {
   "codemirror_mode": {
    "name": "ipython",
    "version": 3
   },
   "file_extension": ".py",
   "mimetype": "text/x-python",
   "name": "python",
   "nbconvert_exporter": "python",
   "pygments_lexer": "ipython3",
   "version": "3.10.9"
  },
  "toc": {
   "base_numbering": 1,
   "nav_menu": {},
   "number_sections": true,
   "sideBar": true,
   "skip_h1_title": true,
   "title_cell": "Table of Contents",
   "title_sidebar": "Contents",
   "toc_cell": false,
   "toc_position": {
    "height": "calc(100% - 180px)",
    "left": "10px",
    "top": "150px",
    "width": "165px"
   },
   "toc_section_display": true,
   "toc_window_display": true
  }
 },
 "nbformat": 4,
 "nbformat_minor": 1
}
